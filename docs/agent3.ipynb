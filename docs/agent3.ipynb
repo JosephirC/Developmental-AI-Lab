{
 "cells": [
  {
   "cell_type": "markdown",
   "id": "74eb8609-bd0c-4a26-94be-5cf56d9f58cb",
   "metadata": {},
   "source": [
    "[![Open In Colab](https://colab.research.google.com/assets/colab-badge.svg)](https://colab.research.google.com/github/OlivierGeorgeon/Developmental-AI-Lab/blob/master/docs/agent3.ipynb)"
   ]
  },
  {
   "cell_type": "markdown",
   "id": "0bec58b3-e210-4a78-9610-f6615254de29",
   "metadata": {},
   "source": [
    "# THE AGENT WHO TAMED THE TURTLE"
   ]
  },
  {
   "cell_type": "markdown",
   "id": "158ddba6-0466-42c0-9ced-629b34a41c65",
   "metadata": {},
   "source": [
    "In this lab, you will implement the most simple agent that learns to enact interactions that have a positive valence."
   ]
  },
  {
   "cell_type": "markdown",
   "id": "152512a3-ef97-473a-91a7-9a36fe70ba33",
   "metadata": {},
   "source": [
    "# Setup\n",
    "## Import the turtle environment"
   ]
  },
  {
   "cell_type": "code",
   "execution_count": 2,
   "id": "cf88b7d1-a826-48ff-ba4c-941318495e5f",
   "metadata": {},
   "outputs": [
    {
     "name": "stdout",
     "output_type": "stream",
     "text": [
      "Requirement already satisfied: ColabTurtle in /home/alex/anaconda3/envs/p311/lib/python3.11/site-packages (2.1.0)\n"
     ]
    }
   ],
   "source": [
    "!pip3 install ColabTurtle\n",
    "from ColabTurtle.Turtle import *"
   ]
  },
  {
   "cell_type": "markdown",
   "id": "3c493fa3-3725-4832-ae8e-54fe92971c87",
   "metadata": {},
   "source": [
    "## Define the Agent class"
   ]
  },
  {
   "cell_type": "code",
   "execution_count": 3,
   "id": "3f0bf369-48ef-48d7-a92b-3c7ef8dc1daf",
   "metadata": {},
   "outputs": [],
   "source": [
    "class Agent:\n",
    "    def __init__(self, _valences):\n",
    "        \"\"\" Creating our agent \"\"\"\n",
    "        self._valences = _valences\n",
    "        self._action = None\n",
    "        self._predicted_outcome = None\n",
    "\n",
    "    def action(self, _outcome):\n",
    "        \"\"\" tracing the previous cycle \"\"\"\n",
    "        if self._action is not None:\n",
    "            print(f\"Action: {self._action}, Prediction: {self._predicted_outcome}, Outcome: {_outcome}, \" \n",
    "                  f\"Prediction: {self._predicted_outcome == _outcome}, Valence: {self._valences[self._action][_outcome]}\")\n",
    "\n",
    "        \"\"\" Computing the next action to enact \"\"\"\n",
    "        # TODO: Implement the agent's decision mechanism\n",
    "        self._action = 0\n",
    "        # TODO: Implement the agent's anticipation mechanism\n",
    "        self._predicted_outcome = 0\n",
    "        return self._action\n"
   ]
  },
  {
   "cell_type": "markdown",
   "id": "77698bff-5b57-4982-8b61-41b7a6d1286b",
   "metadata": {},
   "source": [
    "## Define the tutle environment class"
   ]
  },
  {
   "cell_type": "markdown",
   "id": "a657998c-4f0c-49b8-acd0-2c0f73590d3f",
   "metadata": {},
   "source": [
    "You don't need to worry about the code of the ColabTurtleEnvironment below.\n",
    "\n",
    "Just know that this environment:\n",
    "* interprets the agent's actions as follows  `0`: move forward, `1`: turn left, `2`: turn right.\n",
    "* returns outcome `1` when the turtle bumps into the border of the window, and `0` otherwise."
   ]
  },
  {
   "cell_type": "code",
   "execution_count": 4,
   "id": "3e9f50cd-19ae-485b-9ef2-53c0e014093d",
   "metadata": {
    "jupyter": {
     "source_hidden": true
    }
   },
   "outputs": [],
   "source": [
    "# @title Initialize the turtle environment\n",
    "\n",
    "BORDER_WIDTH = 20\n",
    "\n",
    "class ColabTurtleEnvironment:\n",
    "\n",
    "    def __init__(self):\n",
    "        \"\"\" Creating the Turtle window \"\"\"\n",
    "        bgcolor(\"lightGray\")\n",
    "        penup()\n",
    "        goto(window_width() / 2, window_height()/2)\n",
    "        face(0)\n",
    "        pendown()\n",
    "        color(\"green\")\n",
    "\n",
    "    def outcome(self, action):\n",
    "        \"\"\" Enacting an action and returning the outcome \"\"\"\n",
    "        _outcome = 0\n",
    "        for i in range(10):\n",
    "            # _outcome = 0\n",
    "            if action == 0:\n",
    "                # move forward\n",
    "                forward(10)\n",
    "            elif action == 1:\n",
    "                # rotate left\n",
    "                left(4)\n",
    "                forward(2)\n",
    "            elif action == 2:\n",
    "                # rotate right\n",
    "                right(4)\n",
    "                forward(2)\n",
    "\n",
    "            # Bump on screen edge and return outcome 1\n",
    "            if xcor() < BORDER_WIDTH:\n",
    "                goto(BORDER_WIDTH, ycor())\n",
    "                _outcome = 1\n",
    "            if xcor() > window_width() - BORDER_WIDTH:\n",
    "                goto(window_width() - BORDER_WIDTH, ycor())\n",
    "                _outcome = 1\n",
    "            if ycor() < BORDER_WIDTH:\n",
    "                goto(xcor(), BORDER_WIDTH)\n",
    "                _outcome = 1\n",
    "            if ycor() > window_height() - BORDER_WIDTH:\n",
    "                goto(xcor(), window_height() -BORDER_WIDTH)\n",
    "                _outcome = 1\n",
    "\n",
    "            # Change color\n",
    "            if _outcome == 0:\n",
    "                color(\"green\")\n",
    "            else:\n",
    "                # Finit l'interaction\n",
    "                color(\"red\")\n",
    "                # if action == 0:\n",
    "                #     break\n",
    "                if action == 1:\n",
    "                    for j in range(10):\n",
    "                        left(4)\n",
    "                elif action == 2:\n",
    "                    for j in range(10):\n",
    "                        right(4)\n",
    "                break\n",
    "\n",
    "        return _outcome"
   ]
  },
  {
   "cell_type": "markdown",
   "id": "64a16db8-1bd6-4e82-9cf6-2b37d996ffe8",
   "metadata": {},
   "source": [
    "## Define the valence of interactions"
   ]
  },
  {
   "cell_type": "code",
   "execution_count": 5,
   "id": "59da5f51-d5db-4cf4-8bd0-036ec11eaad2",
   "metadata": {},
   "outputs": [],
   "source": [
    "valences = [[1, -1], \n",
    "            [-1, -1],\n",
    "            [-1, -1]]"
   ]
  },
  {
   "cell_type": "markdown",
   "id": "b8d25cea-a183-45c5-a624-1345aace245a",
   "metadata": {},
   "source": [
    "The valence table specifies the valence of each interaction. An interaction is a tuple (action, outcome):\n",
    "\n",
    "|| 0 Not bump | 1 Bump|\n",
    "|---|---|---|\n",
    "| 0 Forward| 1 | -1 |\n",
    "| 1 Left | -1 | -1 |\n",
    "| 2 Right| -1 | -1 |"
   ]
  },
  {
   "cell_type": "markdown",
   "id": "f095ec84-3fcd-455c-bb3b-f9a72980048e",
   "metadata": {},
   "source": [
    "## Instantiate the agent"
   ]
  },
  {
   "cell_type": "code",
   "execution_count": 6,
   "id": "180453e4-128a-4f68-bb5f-2d4daf888d86",
   "metadata": {},
   "outputs": [],
   "source": [
    "a = Agent(valences)"
   ]
  },
  {
   "cell_type": "markdown",
   "id": "c16279c4-936b-4f37-a0c9-ca4b77609adf",
   "metadata": {},
   "source": [
    "## Run the simulation "
   ]
  },
  {
   "cell_type": "code",
   "execution_count": 7,
   "id": "17b3c8c8-0cbd-4f64-a97c-61519ad24dd1",
   "metadata": {
    "jupyter": {
     "source_hidden": true
    }
   },
   "outputs": [
    {
     "data": {
      "text/html": [
       "\n",
       "      <svg width=\"800\" height=\"500\">\n",
       "        <rect width=\"100%\" height=\"100%\" fill=\"lightgray\"/>\n",
       "        <line x1=\"400.0\" y1=\"250.0\" x2=\"410.0\" y2=\"250.0\" stroke-linecap=\"round\" style=\"stroke:green;stroke-width:4\"/><line x1=\"410.0\" y1=\"250.0\" x2=\"420.0\" y2=\"250.0\" stroke-linecap=\"round\" style=\"stroke:green;stroke-width:4\"/><line x1=\"420.0\" y1=\"250.0\" x2=\"430.0\" y2=\"250.0\" stroke-linecap=\"round\" style=\"stroke:green;stroke-width:4\"/><line x1=\"430.0\" y1=\"250.0\" x2=\"440.0\" y2=\"250.0\" stroke-linecap=\"round\" style=\"stroke:green;stroke-width:4\"/><line x1=\"440.0\" y1=\"250.0\" x2=\"450.0\" y2=\"250.0\" stroke-linecap=\"round\" style=\"stroke:green;stroke-width:4\"/><line x1=\"450.0\" y1=\"250.0\" x2=\"460.0\" y2=\"250.0\" stroke-linecap=\"round\" style=\"stroke:green;stroke-width:4\"/><line x1=\"460.0\" y1=\"250.0\" x2=\"470.0\" y2=\"250.0\" stroke-linecap=\"round\" style=\"stroke:green;stroke-width:4\"/><line x1=\"470.0\" y1=\"250.0\" x2=\"480.0\" y2=\"250.0\" stroke-linecap=\"round\" style=\"stroke:green;stroke-width:4\"/><line x1=\"480.0\" y1=\"250.0\" x2=\"490.0\" y2=\"250.0\" stroke-linecap=\"round\" style=\"stroke:green;stroke-width:4\"/><line x1=\"490.0\" y1=\"250.0\" x2=\"500.0\" y2=\"250.0\" stroke-linecap=\"round\" style=\"stroke:green;stroke-width:4\"/><line x1=\"500.0\" y1=\"250.0\" x2=\"510.0\" y2=\"250.0\" stroke-linecap=\"round\" style=\"stroke:green;stroke-width:4\"/><line x1=\"510.0\" y1=\"250.0\" x2=\"520.0\" y2=\"250.0\" stroke-linecap=\"round\" style=\"stroke:green;stroke-width:4\"/><line x1=\"520.0\" y1=\"250.0\" x2=\"530.0\" y2=\"250.0\" stroke-linecap=\"round\" style=\"stroke:green;stroke-width:4\"/><line x1=\"530.0\" y1=\"250.0\" x2=\"540.0\" y2=\"250.0\" stroke-linecap=\"round\" style=\"stroke:green;stroke-width:4\"/><line x1=\"540.0\" y1=\"250.0\" x2=\"550.0\" y2=\"250.0\" stroke-linecap=\"round\" style=\"stroke:green;stroke-width:4\"/><line x1=\"550.0\" y1=\"250.0\" x2=\"560.0\" y2=\"250.0\" stroke-linecap=\"round\" style=\"stroke:green;stroke-width:4\"/><line x1=\"560.0\" y1=\"250.0\" x2=\"570.0\" y2=\"250.0\" stroke-linecap=\"round\" style=\"stroke:green;stroke-width:4\"/><line x1=\"570.0\" y1=\"250.0\" x2=\"580.0\" y2=\"250.0\" stroke-linecap=\"round\" style=\"stroke:green;stroke-width:4\"/><line x1=\"580.0\" y1=\"250.0\" x2=\"590.0\" y2=\"250.0\" stroke-linecap=\"round\" style=\"stroke:green;stroke-width:4\"/><line x1=\"590.0\" y1=\"250.0\" x2=\"600.0\" y2=\"250.0\" stroke-linecap=\"round\" style=\"stroke:green;stroke-width:4\"/><line x1=\"600.0\" y1=\"250.0\" x2=\"610.0\" y2=\"250.0\" stroke-linecap=\"round\" style=\"stroke:green;stroke-width:4\"/><line x1=\"610.0\" y1=\"250.0\" x2=\"620.0\" y2=\"250.0\" stroke-linecap=\"round\" style=\"stroke:green;stroke-width:4\"/><line x1=\"620.0\" y1=\"250.0\" x2=\"630.0\" y2=\"250.0\" stroke-linecap=\"round\" style=\"stroke:green;stroke-width:4\"/><line x1=\"630.0\" y1=\"250.0\" x2=\"640.0\" y2=\"250.0\" stroke-linecap=\"round\" style=\"stroke:green;stroke-width:4\"/><line x1=\"640.0\" y1=\"250.0\" x2=\"650.0\" y2=\"250.0\" stroke-linecap=\"round\" style=\"stroke:green;stroke-width:4\"/><line x1=\"650.0\" y1=\"250.0\" x2=\"660.0\" y2=\"250.0\" stroke-linecap=\"round\" style=\"stroke:green;stroke-width:4\"/><line x1=\"660.0\" y1=\"250.0\" x2=\"670.0\" y2=\"250.0\" stroke-linecap=\"round\" style=\"stroke:green;stroke-width:4\"/><line x1=\"670.0\" y1=\"250.0\" x2=\"680.0\" y2=\"250.0\" stroke-linecap=\"round\" style=\"stroke:green;stroke-width:4\"/><line x1=\"680.0\" y1=\"250.0\" x2=\"690.0\" y2=\"250.0\" stroke-linecap=\"round\" style=\"stroke:green;stroke-width:4\"/><line x1=\"690.0\" y1=\"250.0\" x2=\"700.0\" y2=\"250.0\" stroke-linecap=\"round\" style=\"stroke:green;stroke-width:4\"/><line x1=\"700.0\" y1=\"250.0\" x2=\"710.0\" y2=\"250.0\" stroke-linecap=\"round\" style=\"stroke:green;stroke-width:4\"/><line x1=\"710.0\" y1=\"250.0\" x2=\"720.0\" y2=\"250.0\" stroke-linecap=\"round\" style=\"stroke:green;stroke-width:4\"/><line x1=\"720.0\" y1=\"250.0\" x2=\"730.0\" y2=\"250.0\" stroke-linecap=\"round\" style=\"stroke:green;stroke-width:4\"/><line x1=\"730.0\" y1=\"250.0\" x2=\"740.0\" y2=\"250.0\" stroke-linecap=\"round\" style=\"stroke:green;stroke-width:4\"/><line x1=\"740.0\" y1=\"250.0\" x2=\"750.0\" y2=\"250.0\" stroke-linecap=\"round\" style=\"stroke:green;stroke-width:4\"/><line x1=\"750.0\" y1=\"250.0\" x2=\"760.0\" y2=\"250.0\" stroke-linecap=\"round\" style=\"stroke:green;stroke-width:4\"/><line x1=\"760.0\" y1=\"250.0\" x2=\"770.0\" y2=\"250.0\" stroke-linecap=\"round\" style=\"stroke:green;stroke-width:4\"/><line x1=\"770.0\" y1=\"250.0\" x2=\"780.0\" y2=\"250.0\" stroke-linecap=\"round\" style=\"stroke:green;stroke-width:4\"/><line x1=\"780.0\" y1=\"250.0\" x2=\"790.0\" y2=\"250.0\" stroke-linecap=\"round\" style=\"stroke:green;stroke-width:4\"/><line x1=\"790.0\" y1=\"250.0\" x2=\"780\" y2=\"250.0\" stroke-linecap=\"round\" style=\"stroke:green;stroke-width:4\"/><line x1=\"780\" y1=\"250.0\" x2=\"790.0\" y2=\"250.0\" stroke-linecap=\"round\" style=\"stroke:red;stroke-width:4\"/><line x1=\"790.0\" y1=\"250.0\" x2=\"780\" y2=\"250.0\" stroke-linecap=\"round\" style=\"stroke:red;stroke-width:4\"/><line x1=\"780\" y1=\"250.0\" x2=\"790.0\" y2=\"250.0\" stroke-linecap=\"round\" style=\"stroke:red;stroke-width:4\"/><line x1=\"790.0\" y1=\"250.0\" x2=\"780\" y2=\"250.0\" stroke-linecap=\"round\" style=\"stroke:red;stroke-width:4\"/><line x1=\"780\" y1=\"250.0\" x2=\"790.0\" y2=\"250.0\" stroke-linecap=\"round\" style=\"stroke:red;stroke-width:4\"/><line x1=\"790.0\" y1=\"250.0\" x2=\"780\" y2=\"250.0\" stroke-linecap=\"round\" style=\"stroke:red;stroke-width:4\"/><line x1=\"780\" y1=\"250.0\" x2=\"790.0\" y2=\"250.0\" stroke-linecap=\"round\" style=\"stroke:red;stroke-width:4\"/><line x1=\"790.0\" y1=\"250.0\" x2=\"780\" y2=\"250.0\" stroke-linecap=\"round\" style=\"stroke:red;stroke-width:4\"/><line x1=\"780\" y1=\"250.0\" x2=\"790.0\" y2=\"250.0\" stroke-linecap=\"round\" style=\"stroke:red;stroke-width:4\"/><line x1=\"790.0\" y1=\"250.0\" x2=\"780\" y2=\"250.0\" stroke-linecap=\"round\" style=\"stroke:red;stroke-width:4\"/><line x1=\"780\" y1=\"250.0\" x2=\"790.0\" y2=\"250.0\" stroke-linecap=\"round\" style=\"stroke:red;stroke-width:4\"/><line x1=\"790.0\" y1=\"250.0\" x2=\"780\" y2=\"250.0\" stroke-linecap=\"round\" style=\"stroke:red;stroke-width:4\"/>\n",
       "        <g visibility=visible transform=\"rotate(90,780,250.0) translate(762, 232.0)\">\n",
       "<path style=\" stroke:none;fill-rule:evenodd;fill:red;fill-opacity:1;\" d=\"M 18.214844 0.632812 C 16.109375 1.800781 15.011719 4.074219 15.074219 7.132812 L 15.085938 7.652344 L 14.785156 7.496094 C 13.476562 6.824219 11.957031 6.671875 10.40625 7.066406 C 8.46875 7.550781 6.515625 9.15625 4.394531 11.992188 C 3.0625 13.777344 2.679688 14.636719 3.042969 15.027344 L 3.15625 15.152344 L 3.519531 15.152344 C 4.238281 15.152344 4.828125 14.886719 8.1875 13.039062 C 9.386719 12.378906 10.371094 11.839844 10.378906 11.839844 C 10.386719 11.839844 10.355469 11.929688 10.304688 12.035156 C 9.832031 13.09375 9.257812 14.820312 8.96875 16.078125 C 7.914062 20.652344 8.617188 24.53125 11.070312 27.660156 C 11.351562 28.015625 11.363281 27.914062 10.972656 28.382812 C 8.925781 30.84375 7.945312 33.28125 8.238281 35.1875 C 8.289062 35.527344 8.28125 35.523438 8.917969 35.523438 C 10.941406 35.523438 13.074219 34.207031 15.136719 31.6875 C 15.359375 31.417969 15.328125 31.425781 15.5625 31.574219 C 16.292969 32.042969 18.023438 32.964844 18.175781 32.964844 C 18.335938 32.964844 19.941406 32.210938 20.828125 31.71875 C 20.996094 31.625 21.136719 31.554688 21.136719 31.558594 C 21.203125 31.664062 21.898438 32.414062 22.222656 32.730469 C 23.835938 34.300781 25.5625 35.132812 27.582031 35.300781 C 27.90625 35.328125 27.9375 35.308594 28.007812 34.984375 C 28.382812 33.242188 27.625 30.925781 25.863281 28.425781 L 25.542969 27.96875 L 25.699219 27.785156 C 28.945312 23.960938 29.132812 18.699219 26.257812 11.96875 L 26.207031 11.84375 L 27.945312 12.703125 C 31.53125 14.476562 32.316406 14.800781 33.03125 14.800781 C 33.976562 14.800781 33.78125 13.9375 32.472656 12.292969 C 28.519531 7.355469 25.394531 5.925781 21.921875 7.472656 L 21.558594 7.636719 L 21.578125 7.542969 C 21.699219 6.992188 21.761719 5.742188 21.699219 5.164062 C 21.496094 3.296875 20.664062 1.964844 19.003906 0.855469 C 18.480469 0.503906 18.457031 0.5 18.214844 0.632812\"/>\n",
       "</g>\n",
       "      </svg>\n",
       "    "
      ],
      "text/plain": [
       "<IPython.core.display.HTML object>"
      ]
     },
     "metadata": {},
     "output_type": "display_data"
    },
    {
     "name": "stdout",
     "output_type": "stream",
     "text": [
      "Action: 0, Prediction: 0, Outcome: 0, Prediction: True, Valence: 1\n",
      "Action: 0, Prediction: 0, Outcome: 0, Prediction: True, Valence: 1\n",
      "Action: 0, Prediction: 0, Outcome: 0, Prediction: True, Valence: 1\n",
      "Action: 0, Prediction: 0, Outcome: 1, Prediction: False, Valence: -1\n",
      "Action: 0, Prediction: 0, Outcome: 1, Prediction: False, Valence: -1\n",
      "Action: 0, Prediction: 0, Outcome: 1, Prediction: False, Valence: -1\n",
      "Action: 0, Prediction: 0, Outcome: 1, Prediction: False, Valence: -1\n",
      "Action: 0, Prediction: 0, Outcome: 1, Prediction: False, Valence: -1\n",
      "Action: 0, Prediction: 0, Outcome: 1, Prediction: False, Valence: -1\n"
     ]
    }
   ],
   "source": [
    "# @title Run the simulation\n",
    "\n",
    "initializeTurtle()\n",
    "\n",
    "# Parameterize the rendering\n",
    "bgcolor(\"lightGray\")\n",
    "penup()\n",
    "goto(window_width() / 2, window_height()/2)\n",
    "face(0)\n",
    "pendown()\n",
    "color(\"green\")\n",
    "speed(10)\n",
    "\n",
    "e = ColabTurtleEnvironment()\n",
    "\n",
    "outcome = 0\n",
    "for i in range(10):\n",
    "    action = a.action(outcome)\n",
    "    outcome = e.outcome(action)"
   ]
  },
  {
   "cell_type": "markdown",
   "id": "febad285-e8e5-4c24-a46e-e9519a27581c",
   "metadata": {},
   "source": [
    "Observe the turtle moving in a straigt line until it bumps into the border of the window"
   ]
  },
  {
   "cell_type": "markdown",
   "id": "3019f138-a218-44b2-964a-8095fbe891a7",
   "metadata": {},
   "source": [
    "# PRELIMINARY EXERCISE"
   ]
  },
  {
   "cell_type": "markdown",
   "id": "f9daa278-434e-43ce-8520-8fabef69cd83",
   "metadata": {},
   "source": [
    "Copy Agent2 that you designed in your previous assignment to this notebook. \n",
    "\n",
    "Observe how your Agent2 behaves in this environment "
   ]
  },
  {
   "cell_type": "markdown",
   "id": "0d50d96e-4f12-4531-a122-9d13d8bd8639",
   "metadata": {},
   "source": [
    "# ASSIGNMENT"
   ]
  },
  {
   "cell_type": "markdown",
   "id": "199faee9-a546-4d86-8e09-484bf2212523",
   "metadata": {},
   "source": [
    "Implement Agent3 by modifying your previous Agent2 such that it can select 3 possible actions: `0`, `1`, or `2`.\n",
    "\n",
    "Choose the valences of interactions so that the agent does not remain stuck in a corner of the environment. "
   ]
  },
  {
   "cell_type": "markdown",
   "id": "c82b9a28-121c-4379-8701-1d49ad197b8d",
   "metadata": {},
   "source": [
    "## Create Agent3 by overriding the class Agent or your previous class Agent2"
   ]
  },
  {
   "cell_type": "code",
   "execution_count": 25,
   "id": "85b966d4-aca5-4a08-8413-d4906fdbbae8",
   "metadata": {},
   "outputs": [],
   "source": [
    "import random\n",
    "\n",
    "class Agent3(Agent):\n",
    "    def __init__(self, _valences):\n",
    "        super().__init__(_valences)\n",
    "        self.memory = dict()\n",
    "        self._compteur = 0\n",
    "        self._best_action = None\n",
    "        self._tab_best_action = list()\n",
    "        self._test_action =list()\n",
    "        for i in range(len(_valences)):\n",
    "            self._test_action.append(False)\n",
    "        \n",
    "        \n",
    "    \n",
    "    def action(self, _outcome):\n",
    "        \"\"\" tracing the previous cycle \"\"\"\n",
    "        if self._action is not None:\n",
    "            print(f\"Action: {self._action}, Prediction: {self._predicted_outcome}, Outcome: {_outcome}, \"\n",
    "                  f\"Prediction: {self._predicted_outcome == _outcome}, Valence: {self._valences[self._action][_outcome]}\")\n",
    "        else :\n",
    "            self._action = 0\n",
    "            self._test_action[self._action] = True\n",
    "            self._predicted_outcome = 0\n",
    "            self._compteur += 0\n",
    "            self._best_action = 0\n",
    "            self._best_outcome = _outcome\n",
    "            return self._action\n",
    "        self._tab_best_action = list()\n",
    "        if self._predicted_outcome == outcome:\n",
    "            self._compteur += 1\n",
    "        else:\n",
    "            self._compteur = 0\n",
    "        if self._predicted_outcome != _outcome or self.action not in self.memory:\n",
    "            self.memory[self._action] = _outcome\n",
    "            self._predicted_outcome = _outcome\n",
    "            \n",
    "        if self._best_action is None:\n",
    "            self._best_action = self._action\n",
    "        else :\n",
    "            for i in self.memory:\n",
    "                if self._valences[self._best_action][self.memory[self._best_action]] < self._valences[i][self.memory[i]]:\n",
    "                    self._best_action = i\n",
    "                elif self._valences[self._best_action][self.memory[self._best_action]] == self._valences[i][self.memory[i]]:\n",
    "                    self._tab_best_action.append(i)\n",
    "            \n",
    "        if len(self._tab_best_action) > 0:\n",
    "            self._action = self._tab_best_action[random.randint(0,len(self._tab_best_action)-1)]\n",
    "        \n",
    "        if self._compteur == 4:\n",
    "            for i in range(len(self._test_action)):\n",
    "                find = False\n",
    "                if self._test_action[i] == False:\n",
    "                    self._action = i\n",
    "                    self._test_action[i] = True\n",
    "                    self._compteur = 0\n",
    "                    find = True\n",
    "                    break\n",
    "            if find == False:\n",
    "                self._action = random.randint(0,len(self._valences)-1)\n",
    "                self._compteur = 0\n",
    "        \n",
    "        \"\"\" Computing the next action to enact \"\"\"\n",
    "        if self._action not in self.memory:\n",
    "            self._predicted_outcome = 0\n",
    "        else:\n",
    "            self._predicted_outcome = self.memory[self._action]\n",
    "            \n",
    "        return self._action"
   ]
  },
  {
   "cell_type": "markdown",
   "id": "5777dcc2-a3f4-4cfe-bc94-ea1ca1843b7c",
   "metadata": {},
   "source": [
    "## Choose the valence table"
   ]
  },
  {
   "cell_type": "markdown",
   "id": "82b6d2b2-d815-4440-9669-846f317a61d6",
   "metadata": {},
   "source": [
    "Replace the `valences` table by your choice in the code below"
   ]
  },
  {
   "cell_type": "code",
   "execution_count": 15,
   "id": "0f6d0d8f-42bc-4277-bc27-53e604393b49",
   "metadata": {},
   "outputs": [],
   "source": [
    "valences = [[1, -1],\n",
    "            [-1, 1],\n",
    "            [1, -1]]"
   ]
  },
  {
   "cell_type": "markdown",
   "id": "a07b3f5c-f48c-45ad-bf1d-4a703bac64af",
   "metadata": {},
   "source": [
    "## Test your agent in the TurtleEnvironment"
   ]
  },
  {
   "cell_type": "code",
   "execution_count": 26,
   "id": "d8025780-7d39-442d-9600-b40641e6d6c4",
   "metadata": {},
   "outputs": [
    {
     "data": {
      "text/html": [
       "\n",
       "      <svg width=\"800\" height=\"500\">\n",
       "        <rect width=\"100%\" height=\"100%\" fill=\"lightgray\"/>\n",
       "        <line x1=\"400.0\" y1=\"250.0\" x2=\"410.0\" y2=\"250.0\" stroke-linecap=\"round\" style=\"stroke:green;stroke-width:4\"/><line x1=\"410.0\" y1=\"250.0\" x2=\"420.0\" y2=\"250.0\" stroke-linecap=\"round\" style=\"stroke:green;stroke-width:4\"/><line x1=\"420.0\" y1=\"250.0\" x2=\"430.0\" y2=\"250.0\" stroke-linecap=\"round\" style=\"stroke:green;stroke-width:4\"/><line x1=\"430.0\" y1=\"250.0\" x2=\"440.0\" y2=\"250.0\" stroke-linecap=\"round\" style=\"stroke:green;stroke-width:4\"/><line x1=\"440.0\" y1=\"250.0\" x2=\"450.0\" y2=\"250.0\" stroke-linecap=\"round\" style=\"stroke:green;stroke-width:4\"/><line x1=\"450.0\" y1=\"250.0\" x2=\"460.0\" y2=\"250.0\" stroke-linecap=\"round\" style=\"stroke:green;stroke-width:4\"/><line x1=\"460.0\" y1=\"250.0\" x2=\"470.0\" y2=\"250.0\" stroke-linecap=\"round\" style=\"stroke:green;stroke-width:4\"/><line x1=\"470.0\" y1=\"250.0\" x2=\"480.0\" y2=\"250.0\" stroke-linecap=\"round\" style=\"stroke:green;stroke-width:4\"/><line x1=\"480.0\" y1=\"250.0\" x2=\"490.0\" y2=\"250.0\" stroke-linecap=\"round\" style=\"stroke:green;stroke-width:4\"/><line x1=\"490.0\" y1=\"250.0\" x2=\"500.0\" y2=\"250.0\" stroke-linecap=\"round\" style=\"stroke:green;stroke-width:4\"/><line x1=\"500.0\" y1=\"250.0\" x2=\"510.0\" y2=\"250.0\" stroke-linecap=\"round\" style=\"stroke:green;stroke-width:4\"/><line x1=\"510.0\" y1=\"250.0\" x2=\"520.0\" y2=\"250.0\" stroke-linecap=\"round\" style=\"stroke:green;stroke-width:4\"/><line x1=\"520.0\" y1=\"250.0\" x2=\"530.0\" y2=\"250.0\" stroke-linecap=\"round\" style=\"stroke:green;stroke-width:4\"/><line x1=\"530.0\" y1=\"250.0\" x2=\"540.0\" y2=\"250.0\" stroke-linecap=\"round\" style=\"stroke:green;stroke-width:4\"/><line x1=\"540.0\" y1=\"250.0\" x2=\"550.0\" y2=\"250.0\" stroke-linecap=\"round\" style=\"stroke:green;stroke-width:4\"/><line x1=\"550.0\" y1=\"250.0\" x2=\"560.0\" y2=\"250.0\" stroke-linecap=\"round\" style=\"stroke:green;stroke-width:4\"/><line x1=\"560.0\" y1=\"250.0\" x2=\"570.0\" y2=\"250.0\" stroke-linecap=\"round\" style=\"stroke:green;stroke-width:4\"/><line x1=\"570.0\" y1=\"250.0\" x2=\"580.0\" y2=\"250.0\" stroke-linecap=\"round\" style=\"stroke:green;stroke-width:4\"/><line x1=\"580.0\" y1=\"250.0\" x2=\"590.0\" y2=\"250.0\" stroke-linecap=\"round\" style=\"stroke:green;stroke-width:4\"/><line x1=\"590.0\" y1=\"250.0\" x2=\"600.0\" y2=\"250.0\" stroke-linecap=\"round\" style=\"stroke:green;stroke-width:4\"/><line x1=\"600.0\" y1=\"250.0\" x2=\"610.0\" y2=\"250.0\" stroke-linecap=\"round\" style=\"stroke:green;stroke-width:4\"/><line x1=\"610.0\" y1=\"250.0\" x2=\"620.0\" y2=\"250.0\" stroke-linecap=\"round\" style=\"stroke:green;stroke-width:4\"/><line x1=\"620.0\" y1=\"250.0\" x2=\"630.0\" y2=\"250.0\" stroke-linecap=\"round\" style=\"stroke:green;stroke-width:4\"/><line x1=\"630.0\" y1=\"250.0\" x2=\"640.0\" y2=\"250.0\" stroke-linecap=\"round\" style=\"stroke:green;stroke-width:4\"/><line x1=\"640.0\" y1=\"250.0\" x2=\"650.0\" y2=\"250.0\" stroke-linecap=\"round\" style=\"stroke:green;stroke-width:4\"/><line x1=\"650.0\" y1=\"250.0\" x2=\"660.0\" y2=\"250.0\" stroke-linecap=\"round\" style=\"stroke:green;stroke-width:4\"/><line x1=\"660.0\" y1=\"250.0\" x2=\"670.0\" y2=\"250.0\" stroke-linecap=\"round\" style=\"stroke:green;stroke-width:4\"/><line x1=\"670.0\" y1=\"250.0\" x2=\"680.0\" y2=\"250.0\" stroke-linecap=\"round\" style=\"stroke:green;stroke-width:4\"/><line x1=\"680.0\" y1=\"250.0\" x2=\"690.0\" y2=\"250.0\" stroke-linecap=\"round\" style=\"stroke:green;stroke-width:4\"/><line x1=\"690.0\" y1=\"250.0\" x2=\"700.0\" y2=\"250.0\" stroke-linecap=\"round\" style=\"stroke:green;stroke-width:4\"/><line x1=\"700.0\" y1=\"250.0\" x2=\"710.0\" y2=\"250.0\" stroke-linecap=\"round\" style=\"stroke:green;stroke-width:4\"/><line x1=\"710.0\" y1=\"250.0\" x2=\"720.0\" y2=\"250.0\" stroke-linecap=\"round\" style=\"stroke:green;stroke-width:4\"/><line x1=\"720.0\" y1=\"250.0\" x2=\"730.0\" y2=\"250.0\" stroke-linecap=\"round\" style=\"stroke:green;stroke-width:4\"/><line x1=\"730.0\" y1=\"250.0\" x2=\"740.0\" y2=\"250.0\" stroke-linecap=\"round\" style=\"stroke:green;stroke-width:4\"/><line x1=\"740.0\" y1=\"250.0\" x2=\"750.0\" y2=\"250.0\" stroke-linecap=\"round\" style=\"stroke:green;stroke-width:4\"/><line x1=\"750.0\" y1=\"250.0\" x2=\"760.0\" y2=\"250.0\" stroke-linecap=\"round\" style=\"stroke:green;stroke-width:4\"/><line x1=\"760.0\" y1=\"250.0\" x2=\"770.0\" y2=\"250.0\" stroke-linecap=\"round\" style=\"stroke:green;stroke-width:4\"/><line x1=\"770.0\" y1=\"250.0\" x2=\"780.0\" y2=\"250.0\" stroke-linecap=\"round\" style=\"stroke:green;stroke-width:4\"/><line x1=\"780.0\" y1=\"250.0\" x2=\"790.0\" y2=\"250.0\" stroke-linecap=\"round\" style=\"stroke:green;stroke-width:4\"/><line x1=\"790.0\" y1=\"250.0\" x2=\"780\" y2=\"250.0\" stroke-linecap=\"round\" style=\"stroke:green;stroke-width:4\"/><line x1=\"780\" y1=\"250.0\" x2=\"790.0\" y2=\"250.0\" stroke-linecap=\"round\" style=\"stroke:red;stroke-width:4\"/><line x1=\"790.0\" y1=\"250.0\" x2=\"780\" y2=\"250.0\" stroke-linecap=\"round\" style=\"stroke:red;stroke-width:4\"/><line x1=\"780\" y1=\"250.0\" x2=\"790.0\" y2=\"250.0\" stroke-linecap=\"round\" style=\"stroke:red;stroke-width:4\"/><line x1=\"790.0\" y1=\"250.0\" x2=\"780\" y2=\"250.0\" stroke-linecap=\"round\" style=\"stroke:red;stroke-width:4\"/><line x1=\"780\" y1=\"250.0\" x2=\"790.0\" y2=\"250.0\" stroke-linecap=\"round\" style=\"stroke:red;stroke-width:4\"/><line x1=\"790.0\" y1=\"250.0\" x2=\"780\" y2=\"250.0\" stroke-linecap=\"round\" style=\"stroke:red;stroke-width:4\"/><line x1=\"780\" y1=\"250.0\" x2=\"790.0\" y2=\"250.0\" stroke-linecap=\"round\" style=\"stroke:red;stroke-width:4\"/><line x1=\"790.0\" y1=\"250.0\" x2=\"780\" y2=\"250.0\" stroke-linecap=\"round\" style=\"stroke:red;stroke-width:4\"/><line x1=\"780\" y1=\"250.0\" x2=\"781.995\" y2=\"249.86\" stroke-linecap=\"round\" style=\"stroke:red;stroke-width:4\"/><line x1=\"781.995\" y1=\"249.86\" x2=\"780\" y2=\"249.86\" stroke-linecap=\"round\" style=\"stroke:red;stroke-width:4\"/><line x1=\"780\" y1=\"249.86\" x2=\"787.193\" y2=\"242.913\" stroke-linecap=\"round\" style=\"stroke:red;stroke-width:4\"/><line x1=\"787.193\" y1=\"242.913\" x2=\"780\" y2=\"242.913\" stroke-linecap=\"round\" style=\"stroke:red;stroke-width:4\"/><line x1=\"780\" y1=\"242.913\" x2=\"781.338\" y2=\"241.427\" stroke-linecap=\"round\" style=\"stroke:red;stroke-width:4\"/><line x1=\"781.338\" y1=\"241.427\" x2=\"780\" y2=\"241.427\" stroke-linecap=\"round\" style=\"stroke:red;stroke-width:4\"/><line x1=\"780\" y1=\"241.427\" x2=\"779.93\" y2=\"239.428\" stroke-linecap=\"round\" style=\"stroke:red;stroke-width:4\"/><line x1=\"779.93\" y1=\"239.428\" x2=\"779.721\" y2=\"237.439\" stroke-linecap=\"round\" style=\"stroke:green;stroke-width:4\"/><line x1=\"779.721\" y1=\"237.439\" x2=\"779.374\" y2=\"235.469\" stroke-linecap=\"round\" style=\"stroke:green;stroke-width:4\"/><line x1=\"779.374\" y1=\"235.469\" x2=\"778.89\" y2=\"233.528\" stroke-linecap=\"round\" style=\"stroke:green;stroke-width:4\"/><line x1=\"778.89\" y1=\"233.528\" x2=\"778.272\" y2=\"231.626\" stroke-linecap=\"round\" style=\"stroke:green;stroke-width:4\"/><line x1=\"778.272\" y1=\"231.626\" x2=\"777.523\" y2=\"229.772\" stroke-linecap=\"round\" style=\"stroke:green;stroke-width:4\"/><line x1=\"777.523\" y1=\"229.772\" x2=\"776.646\" y2=\"227.974\" stroke-linecap=\"round\" style=\"stroke:green;stroke-width:4\"/><line x1=\"776.646\" y1=\"227.974\" x2=\"775.646\" y2=\"226.242\" stroke-linecap=\"round\" style=\"stroke:green;stroke-width:4\"/><line x1=\"775.646\" y1=\"226.242\" x2=\"774.528\" y2=\"224.584\" stroke-linecap=\"round\" style=\"stroke:green;stroke-width:4\"/><line x1=\"774.528\" y1=\"224.584\" x2=\"773.297\" y2=\"223.008\" stroke-linecap=\"round\" style=\"stroke:green;stroke-width:4\"/><line x1=\"773.297\" y1=\"223.008\" x2=\"767.14\" y2=\"215.128\" stroke-linecap=\"round\" style=\"stroke:green;stroke-width:4\"/><line x1=\"767.14\" y1=\"215.128\" x2=\"760.983\" y2=\"207.248\" stroke-linecap=\"round\" style=\"stroke:green;stroke-width:4\"/><line x1=\"760.983\" y1=\"207.248\" x2=\"754.826\" y2=\"199.368\" stroke-linecap=\"round\" style=\"stroke:green;stroke-width:4\"/><line x1=\"754.826\" y1=\"199.368\" x2=\"748.669\" y2=\"191.488\" stroke-linecap=\"round\" style=\"stroke:green;stroke-width:4\"/><line x1=\"748.669\" y1=\"191.488\" x2=\"742.512\" y2=\"183.608\" stroke-linecap=\"round\" style=\"stroke:green;stroke-width:4\"/><line x1=\"742.512\" y1=\"183.608\" x2=\"736.355\" y2=\"175.728\" stroke-linecap=\"round\" style=\"stroke:green;stroke-width:4\"/><line x1=\"736.355\" y1=\"175.728\" x2=\"730.198\" y2=\"167.848\" stroke-linecap=\"round\" style=\"stroke:green;stroke-width:4\"/><line x1=\"730.198\" y1=\"167.848\" x2=\"724.041\" y2=\"159.968\" stroke-linecap=\"round\" style=\"stroke:green;stroke-width:4\"/><line x1=\"724.041\" y1=\"159.968\" x2=\"717.884\" y2=\"152.088\" stroke-linecap=\"round\" style=\"stroke:green;stroke-width:4\"/><line x1=\"717.884\" y1=\"152.088\" x2=\"711.727\" y2=\"144.208\" stroke-linecap=\"round\" style=\"stroke:green;stroke-width:4\"/><line x1=\"711.727\" y1=\"144.208\" x2=\"705.57\" y2=\"136.328\" stroke-linecap=\"round\" style=\"stroke:green;stroke-width:4\"/><line x1=\"705.57\" y1=\"136.328\" x2=\"699.413\" y2=\"128.448\" stroke-linecap=\"round\" style=\"stroke:green;stroke-width:4\"/><line x1=\"699.413\" y1=\"128.448\" x2=\"693.256\" y2=\"120.568\" stroke-linecap=\"round\" style=\"stroke:green;stroke-width:4\"/><line x1=\"693.256\" y1=\"120.568\" x2=\"687.099\" y2=\"112.688\" stroke-linecap=\"round\" style=\"stroke:green;stroke-width:4\"/><line x1=\"687.099\" y1=\"112.688\" x2=\"680.942\" y2=\"104.808\" stroke-linecap=\"round\" style=\"stroke:green;stroke-width:4\"/><line x1=\"680.942\" y1=\"104.808\" x2=\"674.785\" y2=\"96.928\" stroke-linecap=\"round\" style=\"stroke:green;stroke-width:4\"/><line x1=\"674.785\" y1=\"96.928\" x2=\"668.628\" y2=\"89.048\" stroke-linecap=\"round\" style=\"stroke:green;stroke-width:4\"/><line x1=\"668.628\" y1=\"89.048\" x2=\"662.471\" y2=\"81.168\" stroke-linecap=\"round\" style=\"stroke:green;stroke-width:4\"/><line x1=\"662.471\" y1=\"81.168\" x2=\"656.314\" y2=\"73.288\" stroke-linecap=\"round\" style=\"stroke:green;stroke-width:4\"/><line x1=\"656.314\" y1=\"73.288\" x2=\"650.157\" y2=\"65.408\" stroke-linecap=\"round\" style=\"stroke:green;stroke-width:4\"/><line x1=\"650.157\" y1=\"65.408\" x2=\"644.0\" y2=\"57.528\" stroke-linecap=\"round\" style=\"stroke:green;stroke-width:4\"/><line x1=\"644.0\" y1=\"57.528\" x2=\"637.843\" y2=\"49.648\" stroke-linecap=\"round\" style=\"stroke:green;stroke-width:4\"/><line x1=\"637.843\" y1=\"49.648\" x2=\"631.686\" y2=\"41.768\" stroke-linecap=\"round\" style=\"stroke:green;stroke-width:4\"/><line x1=\"631.686\" y1=\"41.768\" x2=\"625.529\" y2=\"33.888\" stroke-linecap=\"round\" style=\"stroke:green;stroke-width:4\"/><line x1=\"625.529\" y1=\"33.888\" x2=\"619.372\" y2=\"26.008\" stroke-linecap=\"round\" style=\"stroke:green;stroke-width:4\"/><line x1=\"619.372\" y1=\"26.008\" x2=\"613.215\" y2=\"18.128\" stroke-linecap=\"round\" style=\"stroke:green;stroke-width:4\"/><line x1=\"613.215\" y1=\"18.128\" x2=\"613.215\" y2=\"20\" stroke-linecap=\"round\" style=\"stroke:green;stroke-width:4\"/><line x1=\"613.215\" y1=\"20\" x2=\"607.058\" y2=\"12.12\" stroke-linecap=\"round\" style=\"stroke:red;stroke-width:4\"/><line x1=\"607.058\" y1=\"12.12\" x2=\"607.058\" y2=\"20\" stroke-linecap=\"round\" style=\"stroke:red;stroke-width:4\"/><line x1=\"607.058\" y1=\"20\" x2=\"605.72\" y2=\"18.514\" stroke-linecap=\"round\" style=\"stroke:red;stroke-width:4\"/><line x1=\"605.72\" y1=\"18.514\" x2=\"605.72\" y2=\"20\" stroke-linecap=\"round\" style=\"stroke:red;stroke-width:4\"/><line x1=\"605.72\" y1=\"20\" x2=\"595.817\" y2=\"18.608\" stroke-linecap=\"round\" style=\"stroke:red;stroke-width:4\"/><line x1=\"595.817\" y1=\"18.608\" x2=\"595.817\" y2=\"20\" stroke-linecap=\"round\" style=\"stroke:red;stroke-width:4\"/><line x1=\"595.817\" y1=\"20\" x2=\"593.822\" y2=\"19.86\" stroke-linecap=\"round\" style=\"stroke:red;stroke-width:4\"/><line x1=\"593.822\" y1=\"19.86\" x2=\"593.822\" y2=\"20\" stroke-linecap=\"round\" style=\"stroke:red;stroke-width:4\"/><line x1=\"593.822\" y1=\"20\" x2=\"592.29\" y2=\"21.286\" stroke-linecap=\"round\" style=\"stroke:red;stroke-width:4\"/><line x1=\"592.29\" y1=\"21.286\" x2=\"590.851\" y2=\"22.675\" stroke-linecap=\"round\" style=\"stroke:green;stroke-width:4\"/><line x1=\"590.851\" y1=\"22.675\" x2=\"589.513\" y2=\"24.161\" stroke-linecap=\"round\" style=\"stroke:green;stroke-width:4\"/><line x1=\"589.513\" y1=\"24.161\" x2=\"588.282\" y2=\"25.737\" stroke-linecap=\"round\" style=\"stroke:green;stroke-width:4\"/><line x1=\"588.282\" y1=\"25.737\" x2=\"587.164\" y2=\"27.395\" stroke-linecap=\"round\" style=\"stroke:green;stroke-width:4\"/><line x1=\"587.164\" y1=\"27.395\" x2=\"586.164\" y2=\"29.127\" stroke-linecap=\"round\" style=\"stroke:green;stroke-width:4\"/><line x1=\"586.164\" y1=\"29.127\" x2=\"585.287\" y2=\"30.925\" stroke-linecap=\"round\" style=\"stroke:green;stroke-width:4\"/><line x1=\"585.287\" y1=\"30.925\" x2=\"584.538\" y2=\"32.779\" stroke-linecap=\"round\" style=\"stroke:green;stroke-width:4\"/><line x1=\"584.538\" y1=\"32.779\" x2=\"583.92\" y2=\"34.681\" stroke-linecap=\"round\" style=\"stroke:green;stroke-width:4\"/><line x1=\"583.92\" y1=\"34.681\" x2=\"583.436\" y2=\"36.622\" stroke-linecap=\"round\" style=\"stroke:green;stroke-width:4\"/><line x1=\"583.436\" y1=\"36.622\" x2=\"583.089\" y2=\"38.592\" stroke-linecap=\"round\" style=\"stroke:green;stroke-width:4\"/><line x1=\"583.089\" y1=\"38.592\" x2=\"582.88\" y2=\"40.581\" stroke-linecap=\"round\" style=\"stroke:green;stroke-width:4\"/><line x1=\"582.88\" y1=\"40.581\" x2=\"582.81\" y2=\"42.58\" stroke-linecap=\"round\" style=\"stroke:green;stroke-width:4\"/><line x1=\"582.81\" y1=\"42.58\" x2=\"582.88\" y2=\"44.579\" stroke-linecap=\"round\" style=\"stroke:green;stroke-width:4\"/><line x1=\"582.88\" y1=\"44.579\" x2=\"583.089\" y2=\"46.568\" stroke-linecap=\"round\" style=\"stroke:green;stroke-width:4\"/><line x1=\"583.089\" y1=\"46.568\" x2=\"583.436\" y2=\"48.538\" stroke-linecap=\"round\" style=\"stroke:green;stroke-width:4\"/><line x1=\"583.436\" y1=\"48.538\" x2=\"583.92\" y2=\"50.479\" stroke-linecap=\"round\" style=\"stroke:green;stroke-width:4\"/><line x1=\"583.92\" y1=\"50.479\" x2=\"584.538\" y2=\"52.381\" stroke-linecap=\"round\" style=\"stroke:green;stroke-width:4\"/><line x1=\"584.538\" y1=\"52.381\" x2=\"585.287\" y2=\"54.235\" stroke-linecap=\"round\" style=\"stroke:green;stroke-width:4\"/><line x1=\"585.287\" y1=\"54.235\" x2=\"586.164\" y2=\"56.033\" stroke-linecap=\"round\" style=\"stroke:green;stroke-width:4\"/><line x1=\"586.164\" y1=\"56.033\" x2=\"587.164\" y2=\"57.765\" stroke-linecap=\"round\" style=\"stroke:green;stroke-width:4\"/><line x1=\"587.164\" y1=\"57.765\" x2=\"588.282\" y2=\"59.423\" stroke-linecap=\"round\" style=\"stroke:green;stroke-width:4\"/><line x1=\"588.282\" y1=\"59.423\" x2=\"589.513\" y2=\"60.999\" stroke-linecap=\"round\" style=\"stroke:green;stroke-width:4\"/><line x1=\"589.513\" y1=\"60.999\" x2=\"590.851\" y2=\"62.485\" stroke-linecap=\"round\" style=\"stroke:green;stroke-width:4\"/><line x1=\"590.851\" y1=\"62.485\" x2=\"592.29\" y2=\"63.874\" stroke-linecap=\"round\" style=\"stroke:green;stroke-width:4\"/><line x1=\"592.29\" y1=\"63.874\" x2=\"593.822\" y2=\"65.16\" stroke-linecap=\"round\" style=\"stroke:green;stroke-width:4\"/><line x1=\"593.822\" y1=\"65.16\" x2=\"595.44\" y2=\"66.336\" stroke-linecap=\"round\" style=\"stroke:green;stroke-width:4\"/><line x1=\"595.44\" y1=\"66.336\" x2=\"597.136\" y2=\"67.396\" stroke-linecap=\"round\" style=\"stroke:green;stroke-width:4\"/><line x1=\"597.136\" y1=\"67.396\" x2=\"598.902\" y2=\"68.335\" stroke-linecap=\"round\" style=\"stroke:green;stroke-width:4\"/><line x1=\"598.902\" y1=\"68.335\" x2=\"600.729\" y2=\"69.148\" stroke-linecap=\"round\" style=\"stroke:green;stroke-width:4\"/><line x1=\"600.729\" y1=\"69.148\" x2=\"609.864\" y2=\"73.215\" stroke-linecap=\"round\" style=\"stroke:green;stroke-width:4\"/><line x1=\"609.864\" y1=\"73.215\" x2=\"618.999\" y2=\"77.282\" stroke-linecap=\"round\" style=\"stroke:green;stroke-width:4\"/><line x1=\"618.999\" y1=\"77.282\" x2=\"628.134\" y2=\"81.349\" stroke-linecap=\"round\" style=\"stroke:green;stroke-width:4\"/><line x1=\"628.134\" y1=\"81.349\" x2=\"637.269\" y2=\"85.416\" stroke-linecap=\"round\" style=\"stroke:green;stroke-width:4\"/><line x1=\"637.269\" y1=\"85.416\" x2=\"646.404\" y2=\"89.483\" stroke-linecap=\"round\" style=\"stroke:green;stroke-width:4\"/><line x1=\"646.404\" y1=\"89.483\" x2=\"655.539\" y2=\"93.55\" stroke-linecap=\"round\" style=\"stroke:green;stroke-width:4\"/><line x1=\"655.539\" y1=\"93.55\" x2=\"664.674\" y2=\"97.617\" stroke-linecap=\"round\" style=\"stroke:green;stroke-width:4\"/><line x1=\"664.674\" y1=\"97.617\" x2=\"673.809\" y2=\"101.684\" stroke-linecap=\"round\" style=\"stroke:green;stroke-width:4\"/><line x1=\"673.809\" y1=\"101.684\" x2=\"682.944\" y2=\"105.751\" stroke-linecap=\"round\" style=\"stroke:green;stroke-width:4\"/><line x1=\"682.944\" y1=\"105.751\" x2=\"692.079\" y2=\"109.818\" stroke-linecap=\"round\" style=\"stroke:green;stroke-width:4\"/><line x1=\"692.079\" y1=\"109.818\" x2=\"701.214\" y2=\"113.885\" stroke-linecap=\"round\" style=\"stroke:green;stroke-width:4\"/><line x1=\"701.214\" y1=\"113.885\" x2=\"710.349\" y2=\"117.952\" stroke-linecap=\"round\" style=\"stroke:green;stroke-width:4\"/><line x1=\"710.349\" y1=\"117.952\" x2=\"719.484\" y2=\"122.019\" stroke-linecap=\"round\" style=\"stroke:green;stroke-width:4\"/><line x1=\"719.484\" y1=\"122.019\" x2=\"728.619\" y2=\"126.086\" stroke-linecap=\"round\" style=\"stroke:green;stroke-width:4\"/><line x1=\"728.619\" y1=\"126.086\" x2=\"737.754\" y2=\"130.153\" stroke-linecap=\"round\" style=\"stroke:green;stroke-width:4\"/><line x1=\"737.754\" y1=\"130.153\" x2=\"746.889\" y2=\"134.22\" stroke-linecap=\"round\" style=\"stroke:green;stroke-width:4\"/><line x1=\"746.889\" y1=\"134.22\" x2=\"756.024\" y2=\"138.287\" stroke-linecap=\"round\" style=\"stroke:green;stroke-width:4\"/><line x1=\"756.024\" y1=\"138.287\" x2=\"765.159\" y2=\"142.354\" stroke-linecap=\"round\" style=\"stroke:green;stroke-width:4\"/><line x1=\"765.159\" y1=\"142.354\" x2=\"774.294\" y2=\"146.421\" stroke-linecap=\"round\" style=\"stroke:green;stroke-width:4\"/><line x1=\"774.294\" y1=\"146.421\" x2=\"783.429\" y2=\"150.488\" stroke-linecap=\"round\" style=\"stroke:green;stroke-width:4\"/><line x1=\"783.429\" y1=\"150.488\" x2=\"780\" y2=\"150.488\" stroke-linecap=\"round\" style=\"stroke:green;stroke-width:4\"/><line x1=\"780\" y1=\"150.488\" x2=\"781.879\" y2=\"151.172\" stroke-linecap=\"round\" style=\"stroke:red;stroke-width:4\"/><line x1=\"781.879\" y1=\"151.172\" x2=\"780\" y2=\"151.172\" stroke-linecap=\"round\" style=\"stroke:red;stroke-width:4\"/><line x1=\"780\" y1=\"151.172\" x2=\"789.397\" y2=\"147.752\" stroke-linecap=\"round\" style=\"stroke:red;stroke-width:4\"/><line x1=\"789.397\" y1=\"147.752\" x2=\"780\" y2=\"147.752\" stroke-linecap=\"round\" style=\"stroke:red;stroke-width:4\"/><line x1=\"780\" y1=\"147.752\" x2=\"781.827\" y2=\"146.939\" stroke-linecap=\"round\" style=\"stroke:red;stroke-width:4\"/><line x1=\"781.827\" y1=\"146.939\" x2=\"780\" y2=\"146.939\" stroke-linecap=\"round\" style=\"stroke:red;stroke-width:4\"/><line x1=\"780\" y1=\"146.939\" x2=\"780.749\" y2=\"145.085\" stroke-linecap=\"round\" style=\"stroke:red;stroke-width:4\"/><line x1=\"780.749\" y1=\"145.085\" x2=\"780\" y2=\"145.085\" stroke-linecap=\"round\" style=\"stroke:red;stroke-width:4\"/><line x1=\"780\" y1=\"145.085\" x2=\"779.251\" y2=\"143.231\" stroke-linecap=\"round\" style=\"stroke:red;stroke-width:4\"/><line x1=\"779.251\" y1=\"143.231\" x2=\"778.374\" y2=\"141.433\" stroke-linecap=\"round\" style=\"stroke:green;stroke-width:4\"/><line x1=\"778.374\" y1=\"141.433\" x2=\"777.374\" y2=\"139.701\" stroke-linecap=\"round\" style=\"stroke:green;stroke-width:4\"/><line x1=\"777.374\" y1=\"139.701\" x2=\"776.256\" y2=\"138.043\" stroke-linecap=\"round\" style=\"stroke:green;stroke-width:4\"/><line x1=\"776.256\" y1=\"138.043\" x2=\"775.025\" y2=\"136.467\" stroke-linecap=\"round\" style=\"stroke:green;stroke-width:4\"/><line x1=\"775.025\" y1=\"136.467\" x2=\"773.687\" y2=\"134.981\" stroke-linecap=\"round\" style=\"stroke:green;stroke-width:4\"/><line x1=\"773.687\" y1=\"134.981\" x2=\"772.248\" y2=\"133.592\" stroke-linecap=\"round\" style=\"stroke:green;stroke-width:4\"/><line x1=\"772.248\" y1=\"133.592\" x2=\"770.716\" y2=\"132.306\" stroke-linecap=\"round\" style=\"stroke:green;stroke-width:4\"/><line x1=\"770.716\" y1=\"132.306\" x2=\"769.098\" y2=\"131.13\" stroke-linecap=\"round\" style=\"stroke:green;stroke-width:4\"/><line x1=\"769.098\" y1=\"131.13\" x2=\"767.402\" y2=\"130.07\" stroke-linecap=\"round\" style=\"stroke:green;stroke-width:4\"/><line x1=\"767.402\" y1=\"130.07\" x2=\"758.922\" y2=\"124.771\" stroke-linecap=\"round\" style=\"stroke:green;stroke-width:4\"/><line x1=\"758.922\" y1=\"124.771\" x2=\"750.442\" y2=\"119.472\" stroke-linecap=\"round\" style=\"stroke:green;stroke-width:4\"/><line x1=\"750.442\" y1=\"119.472\" x2=\"741.962\" y2=\"114.173\" stroke-linecap=\"round\" style=\"stroke:green;stroke-width:4\"/><line x1=\"741.962\" y1=\"114.173\" x2=\"733.482\" y2=\"108.874\" stroke-linecap=\"round\" style=\"stroke:green;stroke-width:4\"/><line x1=\"733.482\" y1=\"108.874\" x2=\"725.002\" y2=\"103.575\" stroke-linecap=\"round\" style=\"stroke:green;stroke-width:4\"/><line x1=\"725.002\" y1=\"103.575\" x2=\"716.522\" y2=\"98.276\" stroke-linecap=\"round\" style=\"stroke:green;stroke-width:4\"/><line x1=\"716.522\" y1=\"98.276\" x2=\"708.042\" y2=\"92.977\" stroke-linecap=\"round\" style=\"stroke:green;stroke-width:4\"/><line x1=\"708.042\" y1=\"92.977\" x2=\"699.562\" y2=\"87.678\" stroke-linecap=\"round\" style=\"stroke:green;stroke-width:4\"/><line x1=\"699.562\" y1=\"87.678\" x2=\"691.082\" y2=\"82.379\" stroke-linecap=\"round\" style=\"stroke:green;stroke-width:4\"/><line x1=\"691.082\" y1=\"82.379\" x2=\"682.602\" y2=\"77.08\" stroke-linecap=\"round\" style=\"stroke:green;stroke-width:4\"/><line x1=\"682.602\" y1=\"77.08\" x2=\"674.122\" y2=\"71.781\" stroke-linecap=\"round\" style=\"stroke:green;stroke-width:4\"/><line x1=\"674.122\" y1=\"71.781\" x2=\"665.642\" y2=\"66.482\" stroke-linecap=\"round\" style=\"stroke:green;stroke-width:4\"/><line x1=\"665.642\" y1=\"66.482\" x2=\"657.162\" y2=\"61.183\" stroke-linecap=\"round\" style=\"stroke:green;stroke-width:4\"/><line x1=\"657.162\" y1=\"61.183\" x2=\"648.682\" y2=\"55.884\" stroke-linecap=\"round\" style=\"stroke:green;stroke-width:4\"/><line x1=\"648.682\" y1=\"55.884\" x2=\"640.202\" y2=\"50.585\" stroke-linecap=\"round\" style=\"stroke:green;stroke-width:4\"/><line x1=\"640.202\" y1=\"50.585\" x2=\"631.722\" y2=\"45.286\" stroke-linecap=\"round\" style=\"stroke:green;stroke-width:4\"/><line x1=\"631.722\" y1=\"45.286\" x2=\"623.242\" y2=\"39.987\" stroke-linecap=\"round\" style=\"stroke:green;stroke-width:4\"/><line x1=\"623.242\" y1=\"39.987\" x2=\"614.762\" y2=\"34.688\" stroke-linecap=\"round\" style=\"stroke:green;stroke-width:4\"/><line x1=\"614.762\" y1=\"34.688\" x2=\"606.282\" y2=\"29.389\" stroke-linecap=\"round\" style=\"stroke:green;stroke-width:4\"/><line x1=\"606.282\" y1=\"29.389\" x2=\"597.802\" y2=\"24.09\" stroke-linecap=\"round\" style=\"stroke:green;stroke-width:4\"/><line x1=\"597.802\" y1=\"24.09\" x2=\"589.322\" y2=\"18.791\" stroke-linecap=\"round\" style=\"stroke:green;stroke-width:4\"/><line x1=\"589.322\" y1=\"18.791\" x2=\"589.322\" y2=\"20\" stroke-linecap=\"round\" style=\"stroke:green;stroke-width:4\"/><line x1=\"589.322\" y1=\"20\" x2=\"580.842\" y2=\"14.701\" stroke-linecap=\"round\" style=\"stroke:red;stroke-width:4\"/><line x1=\"580.842\" y1=\"14.701\" x2=\"580.842\" y2=\"20\" stroke-linecap=\"round\" style=\"stroke:red;stroke-width:4\"/><line x1=\"580.842\" y1=\"20\" x2=\"572.362\" y2=\"14.701\" stroke-linecap=\"round\" style=\"stroke:red;stroke-width:4\"/><line x1=\"572.362\" y1=\"14.701\" x2=\"572.362\" y2=\"20\" stroke-linecap=\"round\" style=\"stroke:red;stroke-width:4\"/><line x1=\"572.362\" y1=\"20\" x2=\"563.882\" y2=\"14.701\" stroke-linecap=\"round\" style=\"stroke:red;stroke-width:4\"/><line x1=\"563.882\" y1=\"14.701\" x2=\"563.882\" y2=\"20\" stroke-linecap=\"round\" style=\"stroke:red;stroke-width:4\"/><line x1=\"563.882\" y1=\"20\" x2=\"562.116\" y2=\"19.061\" stroke-linecap=\"round\" style=\"stroke:red;stroke-width:4\"/><line x1=\"562.116\" y1=\"19.061\" x2=\"562.116\" y2=\"20\" stroke-linecap=\"round\" style=\"stroke:red;stroke-width:4\"/><line x1=\"562.116\" y1=\"20\" x2=\"552.335\" y2=\"22.079\" stroke-linecap=\"round\" style=\"stroke:red;stroke-width:4\"/><line x1=\"552.335\" y1=\"22.079\" x2=\"542.554\" y2=\"24.158\" stroke-linecap=\"round\" style=\"stroke:green;stroke-width:4\"/><line x1=\"542.554\" y1=\"24.158\" x2=\"532.773\" y2=\"26.237\" stroke-linecap=\"round\" style=\"stroke:green;stroke-width:4\"/><line x1=\"532.773\" y1=\"26.237\" x2=\"522.992\" y2=\"28.316\" stroke-linecap=\"round\" style=\"stroke:green;stroke-width:4\"/><line x1=\"522.992\" y1=\"28.316\" x2=\"513.211\" y2=\"30.395\" stroke-linecap=\"round\" style=\"stroke:green;stroke-width:4\"/><line x1=\"513.211\" y1=\"30.395\" x2=\"503.43\" y2=\"32.474\" stroke-linecap=\"round\" style=\"stroke:green;stroke-width:4\"/><line x1=\"503.43\" y1=\"32.474\" x2=\"493.649\" y2=\"34.553\" stroke-linecap=\"round\" style=\"stroke:green;stroke-width:4\"/><line x1=\"493.649\" y1=\"34.553\" x2=\"483.868\" y2=\"36.632\" stroke-linecap=\"round\" style=\"stroke:green;stroke-width:4\"/><line x1=\"483.868\" y1=\"36.632\" x2=\"474.087\" y2=\"38.711\" stroke-linecap=\"round\" style=\"stroke:green;stroke-width:4\"/><line x1=\"474.087\" y1=\"38.711\" x2=\"464.306\" y2=\"40.79\" stroke-linecap=\"round\" style=\"stroke:green;stroke-width:4\"/><line x1=\"464.306\" y1=\"40.79\" x2=\"454.525\" y2=\"42.869\" stroke-linecap=\"round\" style=\"stroke:green;stroke-width:4\"/><line x1=\"454.525\" y1=\"42.869\" x2=\"444.744\" y2=\"44.948\" stroke-linecap=\"round\" style=\"stroke:green;stroke-width:4\"/><line x1=\"444.744\" y1=\"44.948\" x2=\"434.963\" y2=\"47.027\" stroke-linecap=\"round\" style=\"stroke:green;stroke-width:4\"/><line x1=\"434.963\" y1=\"47.027\" x2=\"425.182\" y2=\"49.106\" stroke-linecap=\"round\" style=\"stroke:green;stroke-width:4\"/><line x1=\"425.182\" y1=\"49.106\" x2=\"415.401\" y2=\"51.185\" stroke-linecap=\"round\" style=\"stroke:green;stroke-width:4\"/><line x1=\"415.401\" y1=\"51.185\" x2=\"405.62\" y2=\"53.264\" stroke-linecap=\"round\" style=\"stroke:green;stroke-width:4\"/><line x1=\"405.62\" y1=\"53.264\" x2=\"395.839\" y2=\"55.343\" stroke-linecap=\"round\" style=\"stroke:green;stroke-width:4\"/><line x1=\"395.839\" y1=\"55.343\" x2=\"386.058\" y2=\"57.422\" stroke-linecap=\"round\" style=\"stroke:green;stroke-width:4\"/><line x1=\"386.058\" y1=\"57.422\" x2=\"376.277\" y2=\"59.501\" stroke-linecap=\"round\" style=\"stroke:green;stroke-width:4\"/><line x1=\"376.277\" y1=\"59.501\" x2=\"366.496\" y2=\"61.58\" stroke-linecap=\"round\" style=\"stroke:green;stroke-width:4\"/><line x1=\"366.496\" y1=\"61.58\" x2=\"356.715\" y2=\"63.659\" stroke-linecap=\"round\" style=\"stroke:green;stroke-width:4\"/><line x1=\"356.715\" y1=\"63.659\" x2=\"346.934\" y2=\"65.738\" stroke-linecap=\"round\" style=\"stroke:green;stroke-width:4\"/><line x1=\"346.934\" y1=\"65.738\" x2=\"337.153\" y2=\"67.817\" stroke-linecap=\"round\" style=\"stroke:green;stroke-width:4\"/><line x1=\"337.153\" y1=\"67.817\" x2=\"327.372\" y2=\"69.896\" stroke-linecap=\"round\" style=\"stroke:green;stroke-width:4\"/><line x1=\"327.372\" y1=\"69.896\" x2=\"317.591\" y2=\"71.975\" stroke-linecap=\"round\" style=\"stroke:green;stroke-width:4\"/><line x1=\"317.591\" y1=\"71.975\" x2=\"307.81\" y2=\"74.054\" stroke-linecap=\"round\" style=\"stroke:green;stroke-width:4\"/><line x1=\"307.81\" y1=\"74.054\" x2=\"298.029\" y2=\"76.133\" stroke-linecap=\"round\" style=\"stroke:green;stroke-width:4\"/><line x1=\"298.029\" y1=\"76.133\" x2=\"288.248\" y2=\"78.212\" stroke-linecap=\"round\" style=\"stroke:green;stroke-width:4\"/><line x1=\"288.248\" y1=\"78.212\" x2=\"278.467\" y2=\"80.291\" stroke-linecap=\"round\" style=\"stroke:green;stroke-width:4\"/><line x1=\"278.467\" y1=\"80.291\" x2=\"268.686\" y2=\"82.37\" stroke-linecap=\"round\" style=\"stroke:green;stroke-width:4\"/><line x1=\"268.686\" y1=\"82.37\" x2=\"266.763\" y2=\"82.921\" stroke-linecap=\"round\" style=\"stroke:green;stroke-width:4\"/><line x1=\"266.763\" y1=\"82.921\" x2=\"264.884\" y2=\"83.605\" stroke-linecap=\"round\" style=\"stroke:green;stroke-width:4\"/><line x1=\"264.884\" y1=\"83.605\" x2=\"263.057\" y2=\"84.418\" stroke-linecap=\"round\" style=\"stroke:green;stroke-width:4\"/><line x1=\"263.057\" y1=\"84.418\" x2=\"261.291\" y2=\"85.357\" stroke-linecap=\"round\" style=\"stroke:green;stroke-width:4\"/><line x1=\"261.291\" y1=\"85.357\" x2=\"259.595\" y2=\"86.417\" stroke-linecap=\"round\" style=\"stroke:green;stroke-width:4\"/><line x1=\"259.595\" y1=\"86.417\" x2=\"257.977\" y2=\"87.593\" stroke-linecap=\"round\" style=\"stroke:green;stroke-width:4\"/><line x1=\"257.977\" y1=\"87.593\" x2=\"256.445\" y2=\"88.879\" stroke-linecap=\"round\" style=\"stroke:green;stroke-width:4\"/><line x1=\"256.445\" y1=\"88.879\" x2=\"255.006\" y2=\"90.268\" stroke-linecap=\"round\" style=\"stroke:green;stroke-width:4\"/><line x1=\"255.006\" y1=\"90.268\" x2=\"253.668\" y2=\"91.754\" stroke-linecap=\"round\" style=\"stroke:green;stroke-width:4\"/><line x1=\"253.668\" y1=\"91.754\" x2=\"252.437\" y2=\"93.33\" stroke-linecap=\"round\" style=\"stroke:green;stroke-width:4\"/><line x1=\"252.437\" y1=\"93.33\" x2=\"251.319\" y2=\"94.988\" stroke-linecap=\"round\" style=\"stroke:green;stroke-width:4\"/><line x1=\"251.319\" y1=\"94.988\" x2=\"250.319\" y2=\"96.72\" stroke-linecap=\"round\" style=\"stroke:green;stroke-width:4\"/><line x1=\"250.319\" y1=\"96.72\" x2=\"249.442\" y2=\"98.518\" stroke-linecap=\"round\" style=\"stroke:green;stroke-width:4\"/><line x1=\"249.442\" y1=\"98.518\" x2=\"248.693\" y2=\"100.372\" stroke-linecap=\"round\" style=\"stroke:green;stroke-width:4\"/><line x1=\"248.693\" y1=\"100.372\" x2=\"248.075\" y2=\"102.274\" stroke-linecap=\"round\" style=\"stroke:green;stroke-width:4\"/><line x1=\"248.075\" y1=\"102.274\" x2=\"247.591\" y2=\"104.215\" stroke-linecap=\"round\" style=\"stroke:green;stroke-width:4\"/><line x1=\"247.591\" y1=\"104.215\" x2=\"247.244\" y2=\"106.185\" stroke-linecap=\"round\" style=\"stroke:green;stroke-width:4\"/><line x1=\"247.244\" y1=\"106.185\" x2=\"247.035\" y2=\"108.174\" stroke-linecap=\"round\" style=\"stroke:green;stroke-width:4\"/><line x1=\"247.035\" y1=\"108.174\" x2=\"246.965\" y2=\"110.173\" stroke-linecap=\"round\" style=\"stroke:green;stroke-width:4\"/><line x1=\"246.965\" y1=\"110.173\" x2=\"247.035\" y2=\"112.172\" stroke-linecap=\"round\" style=\"stroke:green;stroke-width:4\"/><line x1=\"247.035\" y1=\"112.172\" x2=\"247.384\" y2=\"122.166\" stroke-linecap=\"round\" style=\"stroke:green;stroke-width:4\"/><line x1=\"247.384\" y1=\"122.166\" x2=\"247.733\" y2=\"132.16\" stroke-linecap=\"round\" style=\"stroke:green;stroke-width:4\"/><line x1=\"247.733\" y1=\"132.16\" x2=\"248.082\" y2=\"142.154\" stroke-linecap=\"round\" style=\"stroke:green;stroke-width:4\"/><line x1=\"248.082\" y1=\"142.154\" x2=\"248.431\" y2=\"152.148\" stroke-linecap=\"round\" style=\"stroke:green;stroke-width:4\"/><line x1=\"248.431\" y1=\"152.148\" x2=\"248.78\" y2=\"162.142\" stroke-linecap=\"round\" style=\"stroke:green;stroke-width:4\"/><line x1=\"248.78\" y1=\"162.142\" x2=\"249.129\" y2=\"172.136\" stroke-linecap=\"round\" style=\"stroke:green;stroke-width:4\"/><line x1=\"249.129\" y1=\"172.136\" x2=\"249.478\" y2=\"182.13\" stroke-linecap=\"round\" style=\"stroke:green;stroke-width:4\"/><line x1=\"249.478\" y1=\"182.13\" x2=\"249.827\" y2=\"192.124\" stroke-linecap=\"round\" style=\"stroke:green;stroke-width:4\"/><line x1=\"249.827\" y1=\"192.124\" x2=\"250.176\" y2=\"202.118\" stroke-linecap=\"round\" style=\"stroke:green;stroke-width:4\"/><line x1=\"250.176\" y1=\"202.118\" x2=\"250.525\" y2=\"212.112\" stroke-linecap=\"round\" style=\"stroke:green;stroke-width:4\"/><line x1=\"250.525\" y1=\"212.112\" x2=\"250.874\" y2=\"222.106\" stroke-linecap=\"round\" style=\"stroke:green;stroke-width:4\"/><line x1=\"250.874\" y1=\"222.106\" x2=\"251.223\" y2=\"232.1\" stroke-linecap=\"round\" style=\"stroke:green;stroke-width:4\"/><line x1=\"251.223\" y1=\"232.1\" x2=\"251.572\" y2=\"242.094\" stroke-linecap=\"round\" style=\"stroke:green;stroke-width:4\"/><line x1=\"251.572\" y1=\"242.094\" x2=\"251.921\" y2=\"252.088\" stroke-linecap=\"round\" style=\"stroke:green;stroke-width:4\"/><line x1=\"251.921\" y1=\"252.088\" x2=\"252.27\" y2=\"262.082\" stroke-linecap=\"round\" style=\"stroke:green;stroke-width:4\"/><line x1=\"252.27\" y1=\"262.082\" x2=\"252.619\" y2=\"272.076\" stroke-linecap=\"round\" style=\"stroke:green;stroke-width:4\"/><line x1=\"252.619\" y1=\"272.076\" x2=\"252.968\" y2=\"282.07\" stroke-linecap=\"round\" style=\"stroke:green;stroke-width:4\"/><line x1=\"252.968\" y1=\"282.07\" x2=\"253.317\" y2=\"292.064\" stroke-linecap=\"round\" style=\"stroke:green;stroke-width:4\"/><line x1=\"253.317\" y1=\"292.064\" x2=\"253.666\" y2=\"302.058\" stroke-linecap=\"round\" style=\"stroke:green;stroke-width:4\"/><line x1=\"253.666\" y1=\"302.058\" x2=\"254.015\" y2=\"312.052\" stroke-linecap=\"round\" style=\"stroke:green;stroke-width:4\"/><line x1=\"254.015\" y1=\"312.052\" x2=\"254.364\" y2=\"322.046\" stroke-linecap=\"round\" style=\"stroke:green;stroke-width:4\"/><line x1=\"254.364\" y1=\"322.046\" x2=\"254.713\" y2=\"332.04\" stroke-linecap=\"round\" style=\"stroke:green;stroke-width:4\"/><line x1=\"254.713\" y1=\"332.04\" x2=\"255.062\" y2=\"342.034\" stroke-linecap=\"round\" style=\"stroke:green;stroke-width:4\"/><line x1=\"255.062\" y1=\"342.034\" x2=\"255.411\" y2=\"352.028\" stroke-linecap=\"round\" style=\"stroke:green;stroke-width:4\"/><line x1=\"255.411\" y1=\"352.028\" x2=\"255.76\" y2=\"362.022\" stroke-linecap=\"round\" style=\"stroke:green;stroke-width:4\"/><line x1=\"255.76\" y1=\"362.022\" x2=\"256.109\" y2=\"372.016\" stroke-linecap=\"round\" style=\"stroke:green;stroke-width:4\"/><line x1=\"256.109\" y1=\"372.016\" x2=\"256.458\" y2=\"382.01\" stroke-linecap=\"round\" style=\"stroke:green;stroke-width:4\"/><line x1=\"256.458\" y1=\"382.01\" x2=\"256.807\" y2=\"392.004\" stroke-linecap=\"round\" style=\"stroke:green;stroke-width:4\"/><line x1=\"256.807\" y1=\"392.004\" x2=\"257.156\" y2=\"401.998\" stroke-linecap=\"round\" style=\"stroke:green;stroke-width:4\"/><line x1=\"257.156\" y1=\"401.998\" x2=\"257.505\" y2=\"411.992\" stroke-linecap=\"round\" style=\"stroke:green;stroke-width:4\"/><line x1=\"257.505\" y1=\"411.992\" x2=\"257.435\" y2=\"413.991\" stroke-linecap=\"round\" style=\"stroke:green;stroke-width:4\"/><line x1=\"257.435\" y1=\"413.991\" x2=\"257.226\" y2=\"415.98\" stroke-linecap=\"round\" style=\"stroke:green;stroke-width:4\"/><line x1=\"257.226\" y1=\"415.98\" x2=\"256.879\" y2=\"417.95\" stroke-linecap=\"round\" style=\"stroke:green;stroke-width:4\"/><line x1=\"256.879\" y1=\"417.95\" x2=\"256.395\" y2=\"419.891\" stroke-linecap=\"round\" style=\"stroke:green;stroke-width:4\"/><line x1=\"256.395\" y1=\"419.891\" x2=\"255.777\" y2=\"421.793\" stroke-linecap=\"round\" style=\"stroke:green;stroke-width:4\"/><line x1=\"255.777\" y1=\"421.793\" x2=\"255.028\" y2=\"423.647\" stroke-linecap=\"round\" style=\"stroke:green;stroke-width:4\"/><line x1=\"255.028\" y1=\"423.647\" x2=\"254.151\" y2=\"425.445\" stroke-linecap=\"round\" style=\"stroke:green;stroke-width:4\"/><line x1=\"254.151\" y1=\"425.445\" x2=\"253.151\" y2=\"427.177\" stroke-linecap=\"round\" style=\"stroke:green;stroke-width:4\"/><line x1=\"253.151\" y1=\"427.177\" x2=\"252.033\" y2=\"428.835\" stroke-linecap=\"round\" style=\"stroke:green;stroke-width:4\"/><line x1=\"252.033\" y1=\"428.835\" x2=\"250.802\" y2=\"430.411\" stroke-linecap=\"round\" style=\"stroke:green;stroke-width:4\"/><line x1=\"250.802\" y1=\"430.411\" x2=\"244.645\" y2=\"438.291\" stroke-linecap=\"round\" style=\"stroke:green;stroke-width:4\"/><line x1=\"244.645\" y1=\"438.291\" x2=\"238.488\" y2=\"446.171\" stroke-linecap=\"round\" style=\"stroke:green;stroke-width:4\"/><line x1=\"238.488\" y1=\"446.171\" x2=\"232.331\" y2=\"454.051\" stroke-linecap=\"round\" style=\"stroke:green;stroke-width:4\"/><line x1=\"232.331\" y1=\"454.051\" x2=\"226.174\" y2=\"461.931\" stroke-linecap=\"round\" style=\"stroke:green;stroke-width:4\"/><line x1=\"226.174\" y1=\"461.931\" x2=\"220.017\" y2=\"469.811\" stroke-linecap=\"round\" style=\"stroke:green;stroke-width:4\"/><line x1=\"220.017\" y1=\"469.811\" x2=\"213.86\" y2=\"477.691\" stroke-linecap=\"round\" style=\"stroke:green;stroke-width:4\"/><line x1=\"213.86\" y1=\"477.691\" x2=\"207.703\" y2=\"485.571\" stroke-linecap=\"round\" style=\"stroke:green;stroke-width:4\"/><line x1=\"207.703\" y1=\"485.571\" x2=\"207.703\" y2=\"480\" stroke-linecap=\"round\" style=\"stroke:green;stroke-width:4\"/><line x1=\"207.703\" y1=\"480\" x2=\"206.365\" y2=\"481.486\" stroke-linecap=\"round\" style=\"stroke:red;stroke-width:4\"/><line x1=\"206.365\" y1=\"481.486\" x2=\"206.365\" y2=\"480\" stroke-linecap=\"round\" style=\"stroke:red;stroke-width:4\"/><line x1=\"206.365\" y1=\"480\" x2=\"196.462\" y2=\"481.392\" stroke-linecap=\"round\" style=\"stroke:red;stroke-width:4\"/><line x1=\"196.462\" y1=\"481.392\" x2=\"196.462\" y2=\"480\" stroke-linecap=\"round\" style=\"stroke:red;stroke-width:4\"/><line x1=\"196.462\" y1=\"480\" x2=\"194.467\" y2=\"480.14\" stroke-linecap=\"round\" style=\"stroke:red;stroke-width:4\"/><line x1=\"194.467\" y1=\"480.14\" x2=\"194.467\" y2=\"480\" stroke-linecap=\"round\" style=\"stroke:red;stroke-width:4\"/><line x1=\"194.467\" y1=\"480\" x2=\"186.377\" y2=\"474.122\" stroke-linecap=\"round\" style=\"stroke:red;stroke-width:4\"/><line x1=\"186.377\" y1=\"474.122\" x2=\"178.287\" y2=\"468.244\" stroke-linecap=\"round\" style=\"stroke:green;stroke-width:4\"/><line x1=\"178.287\" y1=\"468.244\" x2=\"170.197\" y2=\"462.366\" stroke-linecap=\"round\" style=\"stroke:green;stroke-width:4\"/><line x1=\"170.197\" y1=\"462.366\" x2=\"162.107\" y2=\"456.488\" stroke-linecap=\"round\" style=\"stroke:green;stroke-width:4\"/><line x1=\"162.107\" y1=\"456.488\" x2=\"154.017\" y2=\"450.61\" stroke-linecap=\"round\" style=\"stroke:green;stroke-width:4\"/><line x1=\"154.017\" y1=\"450.61\" x2=\"145.927\" y2=\"444.732\" stroke-linecap=\"round\" style=\"stroke:green;stroke-width:4\"/><line x1=\"145.927\" y1=\"444.732\" x2=\"137.837\" y2=\"438.854\" stroke-linecap=\"round\" style=\"stroke:green;stroke-width:4\"/><line x1=\"137.837\" y1=\"438.854\" x2=\"129.747\" y2=\"432.976\" stroke-linecap=\"round\" style=\"stroke:green;stroke-width:4\"/><line x1=\"129.747\" y1=\"432.976\" x2=\"121.657\" y2=\"427.098\" stroke-linecap=\"round\" style=\"stroke:green;stroke-width:4\"/><line x1=\"121.657\" y1=\"427.098\" x2=\"113.567\" y2=\"421.22\" stroke-linecap=\"round\" style=\"stroke:green;stroke-width:4\"/><line x1=\"113.567\" y1=\"421.22\" x2=\"105.477\" y2=\"415.342\" stroke-linecap=\"round\" style=\"stroke:green;stroke-width:4\"/><line x1=\"105.477\" y1=\"415.342\" x2=\"97.387\" y2=\"409.464\" stroke-linecap=\"round\" style=\"stroke:green;stroke-width:4\"/><line x1=\"97.387\" y1=\"409.464\" x2=\"89.297\" y2=\"403.586\" stroke-linecap=\"round\" style=\"stroke:green;stroke-width:4\"/><line x1=\"89.297\" y1=\"403.586\" x2=\"81.207\" y2=\"397.708\" stroke-linecap=\"round\" style=\"stroke:green;stroke-width:4\"/><line x1=\"81.207\" y1=\"397.708\" x2=\"73.117\" y2=\"391.83\" stroke-linecap=\"round\" style=\"stroke:green;stroke-width:4\"/><line x1=\"73.117\" y1=\"391.83\" x2=\"65.027\" y2=\"385.952\" stroke-linecap=\"round\" style=\"stroke:green;stroke-width:4\"/><line x1=\"65.027\" y1=\"385.952\" x2=\"56.937\" y2=\"380.074\" stroke-linecap=\"round\" style=\"stroke:green;stroke-width:4\"/><line x1=\"56.937\" y1=\"380.074\" x2=\"48.847\" y2=\"374.196\" stroke-linecap=\"round\" style=\"stroke:green;stroke-width:4\"/><line x1=\"48.847\" y1=\"374.196\" x2=\"40.757\" y2=\"368.318\" stroke-linecap=\"round\" style=\"stroke:green;stroke-width:4\"/><line x1=\"40.757\" y1=\"368.318\" x2=\"32.667\" y2=\"362.44\" stroke-linecap=\"round\" style=\"stroke:green;stroke-width:4\"/><line x1=\"32.667\" y1=\"362.44\" x2=\"24.577\" y2=\"356.562\" stroke-linecap=\"round\" style=\"stroke:green;stroke-width:4\"/><line x1=\"24.577\" y1=\"356.562\" x2=\"16.487\" y2=\"350.684\" stroke-linecap=\"round\" style=\"stroke:green;stroke-width:4\"/><line x1=\"16.487\" y1=\"350.684\" x2=\"20\" y2=\"350.684\" stroke-linecap=\"round\" style=\"stroke:green;stroke-width:4\"/><line x1=\"20\" y1=\"350.684\" x2=\"18.304\" y2=\"349.624\" stroke-linecap=\"round\" style=\"stroke:red;stroke-width:4\"/><line x1=\"18.304\" y1=\"349.624\" x2=\"20\" y2=\"349.624\" stroke-linecap=\"round\" style=\"stroke:red;stroke-width:4\"/><line x1=\"20\" y1=\"349.624\" x2=\"10.097\" y2=\"351.016\" stroke-linecap=\"round\" style=\"stroke:red;stroke-width:4\"/><line x1=\"10.097\" y1=\"351.016\" x2=\"20\" y2=\"351.016\" stroke-linecap=\"round\" style=\"stroke:red;stroke-width:4\"/><line x1=\"20\" y1=\"351.016\" x2=\"18.044\" y2=\"351.432\" stroke-linecap=\"round\" style=\"stroke:red;stroke-width:4\"/><line x1=\"18.044\" y1=\"351.432\" x2=\"20\" y2=\"351.432\" stroke-linecap=\"round\" style=\"stroke:red;stroke-width:4\"/><line x1=\"20\" y1=\"351.432\" x2=\"18.882\" y2=\"353.09\" stroke-linecap=\"round\" style=\"stroke:red;stroke-width:4\"/><line x1=\"18.882\" y1=\"353.09\" x2=\"20\" y2=\"353.09\" stroke-linecap=\"round\" style=\"stroke:red;stroke-width:4\"/><line x1=\"20\" y1=\"353.09\" x2=\"20.347\" y2=\"355.06\" stroke-linecap=\"round\" style=\"stroke:red;stroke-width:4\"/><line x1=\"20.347\" y1=\"355.06\" x2=\"20.831\" y2=\"357.001\" stroke-linecap=\"round\" style=\"stroke:green;stroke-width:4\"/><line x1=\"20.831\" y1=\"357.001\" x2=\"21.449\" y2=\"358.903\" stroke-linecap=\"round\" style=\"stroke:green;stroke-width:4\"/><line x1=\"21.449\" y1=\"358.903\" x2=\"22.198\" y2=\"360.757\" stroke-linecap=\"round\" style=\"stroke:green;stroke-width:4\"/><line x1=\"22.198\" y1=\"360.757\" x2=\"23.075\" y2=\"362.555\" stroke-linecap=\"round\" style=\"stroke:green;stroke-width:4\"/><line x1=\"23.075\" y1=\"362.555\" x2=\"24.075\" y2=\"364.287\" stroke-linecap=\"round\" style=\"stroke:green;stroke-width:4\"/><line x1=\"24.075\" y1=\"364.287\" x2=\"25.193\" y2=\"365.945\" stroke-linecap=\"round\" style=\"stroke:green;stroke-width:4\"/><line x1=\"25.193\" y1=\"365.945\" x2=\"26.424\" y2=\"367.521\" stroke-linecap=\"round\" style=\"stroke:green;stroke-width:4\"/><line x1=\"26.424\" y1=\"367.521\" x2=\"27.762\" y2=\"369.007\" stroke-linecap=\"round\" style=\"stroke:green;stroke-width:4\"/><line x1=\"27.762\" y1=\"369.007\" x2=\"29.201\" y2=\"370.396\" stroke-linecap=\"round\" style=\"stroke:green;stroke-width:4\"/><line x1=\"29.201\" y1=\"370.396\" x2=\"30.733\" y2=\"371.682\" stroke-linecap=\"round\" style=\"stroke:green;stroke-width:4\"/><line x1=\"30.733\" y1=\"371.682\" x2=\"32.351\" y2=\"372.858\" stroke-linecap=\"round\" style=\"stroke:green;stroke-width:4\"/><line x1=\"32.351\" y1=\"372.858\" x2=\"34.047\" y2=\"373.918\" stroke-linecap=\"round\" style=\"stroke:green;stroke-width:4\"/><line x1=\"34.047\" y1=\"373.918\" x2=\"35.813\" y2=\"374.857\" stroke-linecap=\"round\" style=\"stroke:green;stroke-width:4\"/><line x1=\"35.813\" y1=\"374.857\" x2=\"37.64\" y2=\"375.67\" stroke-linecap=\"round\" style=\"stroke:green;stroke-width:4\"/><line x1=\"37.64\" y1=\"375.67\" x2=\"39.519\" y2=\"376.354\" stroke-linecap=\"round\" style=\"stroke:green;stroke-width:4\"/><line x1=\"39.519\" y1=\"376.354\" x2=\"41.442\" y2=\"376.905\" stroke-linecap=\"round\" style=\"stroke:green;stroke-width:4\"/><line x1=\"41.442\" y1=\"376.905\" x2=\"43.398\" y2=\"377.321\" stroke-linecap=\"round\" style=\"stroke:green;stroke-width:4\"/><line x1=\"43.398\" y1=\"377.321\" x2=\"45.379\" y2=\"377.599\" stroke-linecap=\"round\" style=\"stroke:green;stroke-width:4\"/><line x1=\"45.379\" y1=\"377.599\" x2=\"47.374\" y2=\"377.739\" stroke-linecap=\"round\" style=\"stroke:green;stroke-width:4\"/><line x1=\"47.374\" y1=\"377.739\" x2=\"49.355\" y2=\"378.017\" stroke-linecap=\"round\" style=\"stroke:green;stroke-width:4\"/><line x1=\"49.355\" y1=\"378.017\" x2=\"51.311\" y2=\"378.433\" stroke-linecap=\"round\" style=\"stroke:green;stroke-width:4\"/><line x1=\"51.311\" y1=\"378.433\" x2=\"53.234\" y2=\"378.984\" stroke-linecap=\"round\" style=\"stroke:green;stroke-width:4\"/><line x1=\"53.234\" y1=\"378.984\" x2=\"55.113\" y2=\"379.668\" stroke-linecap=\"round\" style=\"stroke:green;stroke-width:4\"/><line x1=\"55.113\" y1=\"379.668\" x2=\"56.94\" y2=\"380.481\" stroke-linecap=\"round\" style=\"stroke:green;stroke-width:4\"/><line x1=\"56.94\" y1=\"380.481\" x2=\"58.706\" y2=\"381.42\" stroke-linecap=\"round\" style=\"stroke:green;stroke-width:4\"/><line x1=\"58.706\" y1=\"381.42\" x2=\"60.402\" y2=\"382.48\" stroke-linecap=\"round\" style=\"stroke:green;stroke-width:4\"/><line x1=\"60.402\" y1=\"382.48\" x2=\"62.02\" y2=\"383.656\" stroke-linecap=\"round\" style=\"stroke:green;stroke-width:4\"/><line x1=\"62.02\" y1=\"383.656\" x2=\"63.552\" y2=\"384.942\" stroke-linecap=\"round\" style=\"stroke:green;stroke-width:4\"/><line x1=\"63.552\" y1=\"384.942\" x2=\"64.991\" y2=\"386.331\" stroke-linecap=\"round\" style=\"stroke:green;stroke-width:4\"/><line x1=\"64.991\" y1=\"386.331\" x2=\"66.329\" y2=\"387.817\" stroke-linecap=\"round\" style=\"stroke:green;stroke-width:4\"/><line x1=\"66.329\" y1=\"387.817\" x2=\"67.56\" y2=\"389.393\" stroke-linecap=\"round\" style=\"stroke:green;stroke-width:4\"/><line x1=\"67.56\" y1=\"389.393\" x2=\"68.678\" y2=\"391.051\" stroke-linecap=\"round\" style=\"stroke:green;stroke-width:4\"/><line x1=\"68.678\" y1=\"391.051\" x2=\"69.678\" y2=\"392.783\" stroke-linecap=\"round\" style=\"stroke:green;stroke-width:4\"/><line x1=\"69.678\" y1=\"392.783\" x2=\"70.555\" y2=\"394.581\" stroke-linecap=\"round\" style=\"stroke:green;stroke-width:4\"/><line x1=\"70.555\" y1=\"394.581\" x2=\"71.304\" y2=\"396.435\" stroke-linecap=\"round\" style=\"stroke:green;stroke-width:4\"/><line x1=\"71.304\" y1=\"396.435\" x2=\"71.922\" y2=\"398.337\" stroke-linecap=\"round\" style=\"stroke:green;stroke-width:4\"/><line x1=\"71.922\" y1=\"398.337\" x2=\"72.406\" y2=\"400.278\" stroke-linecap=\"round\" style=\"stroke:green;stroke-width:4\"/><line x1=\"72.406\" y1=\"400.278\" x2=\"72.753\" y2=\"402.248\" stroke-linecap=\"round\" style=\"stroke:green;stroke-width:4\"/><line x1=\"72.753\" y1=\"402.248\" x2=\"72.962\" y2=\"404.237\" stroke-linecap=\"round\" style=\"stroke:green;stroke-width:4\"/><line x1=\"72.962\" y1=\"404.237\" x2=\"74.007\" y2=\"414.182\" stroke-linecap=\"round\" style=\"stroke:green;stroke-width:4\"/><line x1=\"74.007\" y1=\"414.182\" x2=\"75.052\" y2=\"424.127\" stroke-linecap=\"round\" style=\"stroke:green;stroke-width:4\"/><line x1=\"75.052\" y1=\"424.127\" x2=\"76.097\" y2=\"434.072\" stroke-linecap=\"round\" style=\"stroke:green;stroke-width:4\"/><line x1=\"76.097\" y1=\"434.072\" x2=\"77.142\" y2=\"444.017\" stroke-linecap=\"round\" style=\"stroke:green;stroke-width:4\"/><line x1=\"77.142\" y1=\"444.017\" x2=\"78.187\" y2=\"453.962\" stroke-linecap=\"round\" style=\"stroke:green;stroke-width:4\"/><line x1=\"78.187\" y1=\"453.962\" x2=\"79.232\" y2=\"463.907\" stroke-linecap=\"round\" style=\"stroke:green;stroke-width:4\"/><line x1=\"79.232\" y1=\"463.907\" x2=\"80.277\" y2=\"473.852\" stroke-linecap=\"round\" style=\"stroke:green;stroke-width:4\"/><line x1=\"80.277\" y1=\"473.852\" x2=\"81.322\" y2=\"483.797\" stroke-linecap=\"round\" style=\"stroke:green;stroke-width:4\"/><line x1=\"81.322\" y1=\"483.797\" x2=\"81.322\" y2=\"480\" stroke-linecap=\"round\" style=\"stroke:green;stroke-width:4\"/><line x1=\"81.322\" y1=\"480\" x2=\"82.367\" y2=\"489.945\" stroke-linecap=\"round\" style=\"stroke:red;stroke-width:4\"/><line x1=\"82.367\" y1=\"489.945\" x2=\"82.367\" y2=\"480\" stroke-linecap=\"round\" style=\"stroke:red;stroke-width:4\"/><line x1=\"82.367\" y1=\"480\" x2=\"82.437\" y2=\"481.999\" stroke-linecap=\"round\" style=\"stroke:red;stroke-width:4\"/><line x1=\"82.437\" y1=\"481.999\" x2=\"82.437\" y2=\"480\" stroke-linecap=\"round\" style=\"stroke:red;stroke-width:4\"/><line x1=\"82.437\" y1=\"480\" x2=\"81.319\" y2=\"481.658\" stroke-linecap=\"round\" style=\"stroke:red;stroke-width:4\"/><line x1=\"81.319\" y1=\"481.658\" x2=\"81.319\" y2=\"480\" stroke-linecap=\"round\" style=\"stroke:red;stroke-width:4\"/><line x1=\"81.319\" y1=\"480\" x2=\"81.666\" y2=\"481.97\" stroke-linecap=\"round\" style=\"stroke:red;stroke-width:4\"/><line x1=\"81.666\" y1=\"481.97\" x2=\"81.666\" y2=\"480\" stroke-linecap=\"round\" style=\"stroke:red;stroke-width:4\"/><line x1=\"81.666\" y1=\"480\" x2=\"83.284\" y2=\"481.176\" stroke-linecap=\"round\" style=\"stroke:red;stroke-width:4\"/><line x1=\"83.284\" y1=\"481.176\" x2=\"83.284\" y2=\"480\" stroke-linecap=\"round\" style=\"stroke:red;stroke-width:4\"/><line x1=\"83.284\" y1=\"480\" x2=\"85.265\" y2=\"479.722\" stroke-linecap=\"round\" style=\"stroke:red;stroke-width:4\"/><line x1=\"85.265\" y1=\"479.722\" x2=\"87.221\" y2=\"479.306\" stroke-linecap=\"round\" style=\"stroke:green;stroke-width:4\"/><line x1=\"87.221\" y1=\"479.306\" x2=\"89.144\" y2=\"478.755\" stroke-linecap=\"round\" style=\"stroke:green;stroke-width:4\"/><line x1=\"89.144\" y1=\"478.755\" x2=\"91.023\" y2=\"478.071\" stroke-linecap=\"round\" style=\"stroke:green;stroke-width:4\"/><line x1=\"91.023\" y1=\"478.071\" x2=\"92.85\" y2=\"477.258\" stroke-linecap=\"round\" style=\"stroke:green;stroke-width:4\"/><line x1=\"92.85\" y1=\"477.258\" x2=\"94.616\" y2=\"476.319\" stroke-linecap=\"round\" style=\"stroke:green;stroke-width:4\"/><line x1=\"94.616\" y1=\"476.319\" x2=\"96.312\" y2=\"475.259\" stroke-linecap=\"round\" style=\"stroke:green;stroke-width:4\"/><line x1=\"96.312\" y1=\"475.259\" x2=\"97.93\" y2=\"474.083\" stroke-linecap=\"round\" style=\"stroke:green;stroke-width:4\"/><line x1=\"97.93\" y1=\"474.083\" x2=\"99.462\" y2=\"472.797\" stroke-linecap=\"round\" style=\"stroke:green;stroke-width:4\"/><line x1=\"99.462\" y1=\"472.797\" x2=\"100.901\" y2=\"471.408\" stroke-linecap=\"round\" style=\"stroke:green;stroke-width:4\"/><line x1=\"100.901\" y1=\"471.408\" x2=\"108.094\" y2=\"464.461\" stroke-linecap=\"round\" style=\"stroke:green;stroke-width:4\"/><line x1=\"108.094\" y1=\"464.461\" x2=\"115.287\" y2=\"457.514\" stroke-linecap=\"round\" style=\"stroke:green;stroke-width:4\"/><line x1=\"115.287\" y1=\"457.514\" x2=\"122.48\" y2=\"450.567\" stroke-linecap=\"round\" style=\"stroke:green;stroke-width:4\"/><line x1=\"122.48\" y1=\"450.567\" x2=\"129.673\" y2=\"443.62\" stroke-linecap=\"round\" style=\"stroke:green;stroke-width:4\"/><line x1=\"129.673\" y1=\"443.62\" x2=\"136.866\" y2=\"436.673\" stroke-linecap=\"round\" style=\"stroke:green;stroke-width:4\"/><line x1=\"136.866\" y1=\"436.673\" x2=\"144.059\" y2=\"429.726\" stroke-linecap=\"round\" style=\"stroke:green;stroke-width:4\"/><line x1=\"144.059\" y1=\"429.726\" x2=\"151.252\" y2=\"422.779\" stroke-linecap=\"round\" style=\"stroke:green;stroke-width:4\"/><line x1=\"151.252\" y1=\"422.779\" x2=\"158.445\" y2=\"415.832\" stroke-linecap=\"round\" style=\"stroke:green;stroke-width:4\"/><line x1=\"158.445\" y1=\"415.832\" x2=\"165.638\" y2=\"408.885\" stroke-linecap=\"round\" style=\"stroke:green;stroke-width:4\"/><line x1=\"165.638\" y1=\"408.885\" x2=\"172.831\" y2=\"401.938\" stroke-linecap=\"round\" style=\"stroke:green;stroke-width:4\"/><line x1=\"172.831\" y1=\"401.938\" x2=\"180.024\" y2=\"394.991\" stroke-linecap=\"round\" style=\"stroke:green;stroke-width:4\"/><line x1=\"180.024\" y1=\"394.991\" x2=\"187.217\" y2=\"388.044\" stroke-linecap=\"round\" style=\"stroke:green;stroke-width:4\"/><line x1=\"187.217\" y1=\"388.044\" x2=\"194.41\" y2=\"381.097\" stroke-linecap=\"round\" style=\"stroke:green;stroke-width:4\"/><line x1=\"194.41\" y1=\"381.097\" x2=\"201.603\" y2=\"374.15\" stroke-linecap=\"round\" style=\"stroke:green;stroke-width:4\"/><line x1=\"201.603\" y1=\"374.15\" x2=\"208.796\" y2=\"367.203\" stroke-linecap=\"round\" style=\"stroke:green;stroke-width:4\"/><line x1=\"208.796\" y1=\"367.203\" x2=\"215.989\" y2=\"360.256\" stroke-linecap=\"round\" style=\"stroke:green;stroke-width:4\"/><line x1=\"215.989\" y1=\"360.256\" x2=\"223.182\" y2=\"353.309\" stroke-linecap=\"round\" style=\"stroke:green;stroke-width:4\"/><line x1=\"223.182\" y1=\"353.309\" x2=\"230.375\" y2=\"346.362\" stroke-linecap=\"round\" style=\"stroke:green;stroke-width:4\"/><line x1=\"230.375\" y1=\"346.362\" x2=\"237.568\" y2=\"339.415\" stroke-linecap=\"round\" style=\"stroke:green;stroke-width:4\"/><line x1=\"237.568\" y1=\"339.415\" x2=\"244.761\" y2=\"332.468\" stroke-linecap=\"round\" style=\"stroke:green;stroke-width:4\"/><line x1=\"244.761\" y1=\"332.468\" x2=\"251.954\" y2=\"325.521\" stroke-linecap=\"round\" style=\"stroke:green;stroke-width:4\"/><line x1=\"251.954\" y1=\"325.521\" x2=\"259.147\" y2=\"318.574\" stroke-linecap=\"round\" style=\"stroke:green;stroke-width:4\"/><line x1=\"259.147\" y1=\"318.574\" x2=\"266.34\" y2=\"311.627\" stroke-linecap=\"round\" style=\"stroke:green;stroke-width:4\"/><line x1=\"266.34\" y1=\"311.627\" x2=\"273.533\" y2=\"304.68\" stroke-linecap=\"round\" style=\"stroke:green;stroke-width:4\"/><line x1=\"273.533\" y1=\"304.68\" x2=\"280.726\" y2=\"297.733\" stroke-linecap=\"round\" style=\"stroke:green;stroke-width:4\"/><line x1=\"280.726\" y1=\"297.733\" x2=\"287.919\" y2=\"290.786\" stroke-linecap=\"round\" style=\"stroke:green;stroke-width:4\"/><line x1=\"287.919\" y1=\"290.786\" x2=\"295.112\" y2=\"283.839\" stroke-linecap=\"round\" style=\"stroke:green;stroke-width:4\"/><line x1=\"295.112\" y1=\"283.839\" x2=\"302.305\" y2=\"276.892\" stroke-linecap=\"round\" style=\"stroke:green;stroke-width:4\"/><line x1=\"302.305\" y1=\"276.892\" x2=\"309.498\" y2=\"269.945\" stroke-linecap=\"round\" style=\"stroke:green;stroke-width:4\"/><line x1=\"309.498\" y1=\"269.945\" x2=\"316.691\" y2=\"262.998\" stroke-linecap=\"round\" style=\"stroke:green;stroke-width:4\"/><line x1=\"316.691\" y1=\"262.998\" x2=\"323.884\" y2=\"256.051\" stroke-linecap=\"round\" style=\"stroke:green;stroke-width:4\"/><line x1=\"323.884\" y1=\"256.051\" x2=\"331.077\" y2=\"249.104\" stroke-linecap=\"round\" style=\"stroke:green;stroke-width:4\"/><line x1=\"331.077\" y1=\"249.104\" x2=\"338.27\" y2=\"242.157\" stroke-linecap=\"round\" style=\"stroke:green;stroke-width:4\"/><line x1=\"338.27\" y1=\"242.157\" x2=\"345.463\" y2=\"235.21\" stroke-linecap=\"round\" style=\"stroke:green;stroke-width:4\"/><line x1=\"345.463\" y1=\"235.21\" x2=\"352.656\" y2=\"228.263\" stroke-linecap=\"round\" style=\"stroke:green;stroke-width:4\"/><line x1=\"352.656\" y1=\"228.263\" x2=\"359.849\" y2=\"221.316\" stroke-linecap=\"round\" style=\"stroke:green;stroke-width:4\"/><line x1=\"359.849\" y1=\"221.316\" x2=\"367.042\" y2=\"214.369\" stroke-linecap=\"round\" style=\"stroke:green;stroke-width:4\"/><line x1=\"367.042\" y1=\"214.369\" x2=\"374.235\" y2=\"207.422\" stroke-linecap=\"round\" style=\"stroke:green;stroke-width:4\"/><line x1=\"374.235\" y1=\"207.422\" x2=\"381.428\" y2=\"200.475\" stroke-linecap=\"round\" style=\"stroke:green;stroke-width:4\"/><line x1=\"381.428\" y1=\"200.475\" x2=\"388.621\" y2=\"193.528\" stroke-linecap=\"round\" style=\"stroke:green;stroke-width:4\"/><line x1=\"388.621\" y1=\"193.528\" x2=\"395.814\" y2=\"186.581\" stroke-linecap=\"round\" style=\"stroke:green;stroke-width:4\"/><line x1=\"395.814\" y1=\"186.581\" x2=\"403.007\" y2=\"179.634\" stroke-linecap=\"round\" style=\"stroke:green;stroke-width:4\"/><line x1=\"403.007\" y1=\"179.634\" x2=\"410.2\" y2=\"172.687\" stroke-linecap=\"round\" style=\"stroke:green;stroke-width:4\"/><line x1=\"410.2\" y1=\"172.687\" x2=\"417.393\" y2=\"165.74\" stroke-linecap=\"round\" style=\"stroke:green;stroke-width:4\"/><line x1=\"417.393\" y1=\"165.74\" x2=\"424.586\" y2=\"158.793\" stroke-linecap=\"round\" style=\"stroke:green;stroke-width:4\"/><line x1=\"424.586\" y1=\"158.793\" x2=\"431.779\" y2=\"151.846\" stroke-linecap=\"round\" style=\"stroke:green;stroke-width:4\"/><line x1=\"431.779\" y1=\"151.846\" x2=\"438.972\" y2=\"144.899\" stroke-linecap=\"round\" style=\"stroke:green;stroke-width:4\"/><line x1=\"438.972\" y1=\"144.899\" x2=\"446.165\" y2=\"137.952\" stroke-linecap=\"round\" style=\"stroke:green;stroke-width:4\"/><line x1=\"446.165\" y1=\"137.952\" x2=\"453.358\" y2=\"131.005\" stroke-linecap=\"round\" style=\"stroke:green;stroke-width:4\"/><line x1=\"453.358\" y1=\"131.005\" x2=\"460.551\" y2=\"124.058\" stroke-linecap=\"round\" style=\"stroke:green;stroke-width:4\"/><line x1=\"460.551\" y1=\"124.058\" x2=\"462.083\" y2=\"122.772\" stroke-linecap=\"round\" style=\"stroke:green;stroke-width:4\"/><line x1=\"462.083\" y1=\"122.772\" x2=\"463.701\" y2=\"121.596\" stroke-linecap=\"round\" style=\"stroke:green;stroke-width:4\"/><line x1=\"463.701\" y1=\"121.596\" x2=\"465.397\" y2=\"120.536\" stroke-linecap=\"round\" style=\"stroke:green;stroke-width:4\"/><line x1=\"465.397\" y1=\"120.536\" x2=\"467.163\" y2=\"119.597\" stroke-linecap=\"round\" style=\"stroke:green;stroke-width:4\"/><line x1=\"467.163\" y1=\"119.597\" x2=\"468.99\" y2=\"118.784\" stroke-linecap=\"round\" style=\"stroke:green;stroke-width:4\"/><line x1=\"468.99\" y1=\"118.784\" x2=\"470.869\" y2=\"118.1\" stroke-linecap=\"round\" style=\"stroke:green;stroke-width:4\"/><line x1=\"470.869\" y1=\"118.1\" x2=\"472.792\" y2=\"117.549\" stroke-linecap=\"round\" style=\"stroke:green;stroke-width:4\"/><line x1=\"472.792\" y1=\"117.549\" x2=\"474.748\" y2=\"117.133\" stroke-linecap=\"round\" style=\"stroke:green;stroke-width:4\"/><line x1=\"474.748\" y1=\"117.133\" x2=\"476.729\" y2=\"116.855\" stroke-linecap=\"round\" style=\"stroke:green;stroke-width:4\"/><line x1=\"476.729\" y1=\"116.855\" x2=\"478.724\" y2=\"116.715\" stroke-linecap=\"round\" style=\"stroke:green;stroke-width:4\"/><line x1=\"478.724\" y1=\"116.715\" x2=\"488.7\" y2=\"116.017\" stroke-linecap=\"round\" style=\"stroke:green;stroke-width:4\"/><line x1=\"488.7\" y1=\"116.017\" x2=\"498.676\" y2=\"115.319\" stroke-linecap=\"round\" style=\"stroke:green;stroke-width:4\"/><line x1=\"498.676\" y1=\"115.319\" x2=\"508.652\" y2=\"114.621\" stroke-linecap=\"round\" style=\"stroke:green;stroke-width:4\"/><line x1=\"508.652\" y1=\"114.621\" x2=\"518.628\" y2=\"113.923\" stroke-linecap=\"round\" style=\"stroke:green;stroke-width:4\"/><line x1=\"518.628\" y1=\"113.923\" x2=\"528.604\" y2=\"113.225\" stroke-linecap=\"round\" style=\"stroke:green;stroke-width:4\"/><line x1=\"528.604\" y1=\"113.225\" x2=\"538.58\" y2=\"112.527\" stroke-linecap=\"round\" style=\"stroke:green;stroke-width:4\"/><line x1=\"538.58\" y1=\"112.527\" x2=\"548.556\" y2=\"111.829\" stroke-linecap=\"round\" style=\"stroke:green;stroke-width:4\"/><line x1=\"548.556\" y1=\"111.829\" x2=\"558.532\" y2=\"111.131\" stroke-linecap=\"round\" style=\"stroke:green;stroke-width:4\"/><line x1=\"558.532\" y1=\"111.131\" x2=\"568.508\" y2=\"110.433\" stroke-linecap=\"round\" style=\"stroke:green;stroke-width:4\"/><line x1=\"568.508\" y1=\"110.433\" x2=\"578.484\" y2=\"109.735\" stroke-linecap=\"round\" style=\"stroke:green;stroke-width:4\"/><line x1=\"578.484\" y1=\"109.735\" x2=\"588.46\" y2=\"109.037\" stroke-linecap=\"round\" style=\"stroke:green;stroke-width:4\"/><line x1=\"588.46\" y1=\"109.037\" x2=\"598.436\" y2=\"108.339\" stroke-linecap=\"round\" style=\"stroke:green;stroke-width:4\"/><line x1=\"598.436\" y1=\"108.339\" x2=\"608.412\" y2=\"107.641\" stroke-linecap=\"round\" style=\"stroke:green;stroke-width:4\"/><line x1=\"608.412\" y1=\"107.641\" x2=\"618.388\" y2=\"106.943\" stroke-linecap=\"round\" style=\"stroke:green;stroke-width:4\"/><line x1=\"618.388\" y1=\"106.943\" x2=\"628.364\" y2=\"106.245\" stroke-linecap=\"round\" style=\"stroke:green;stroke-width:4\"/><line x1=\"628.364\" y1=\"106.245\" x2=\"638.34\" y2=\"105.547\" stroke-linecap=\"round\" style=\"stroke:green;stroke-width:4\"/><line x1=\"638.34\" y1=\"105.547\" x2=\"648.316\" y2=\"104.849\" stroke-linecap=\"round\" style=\"stroke:green;stroke-width:4\"/><line x1=\"648.316\" y1=\"104.849\" x2=\"658.292\" y2=\"104.151\" stroke-linecap=\"round\" style=\"stroke:green;stroke-width:4\"/><line x1=\"658.292\" y1=\"104.151\" x2=\"668.268\" y2=\"103.453\" stroke-linecap=\"round\" style=\"stroke:green;stroke-width:4\"/><line x1=\"668.268\" y1=\"103.453\" x2=\"678.244\" y2=\"102.755\" stroke-linecap=\"round\" style=\"stroke:green;stroke-width:4\"/><line x1=\"678.244\" y1=\"102.755\" x2=\"688.22\" y2=\"102.057\" stroke-linecap=\"round\" style=\"stroke:green;stroke-width:4\"/><line x1=\"688.22\" y1=\"102.057\" x2=\"698.196\" y2=\"101.359\" stroke-linecap=\"round\" style=\"stroke:green;stroke-width:4\"/><line x1=\"698.196\" y1=\"101.359\" x2=\"708.172\" y2=\"100.661\" stroke-linecap=\"round\" style=\"stroke:green;stroke-width:4\"/><line x1=\"708.172\" y1=\"100.661\" x2=\"718.148\" y2=\"99.963\" stroke-linecap=\"round\" style=\"stroke:green;stroke-width:4\"/><line x1=\"718.148\" y1=\"99.963\" x2=\"728.124\" y2=\"99.265\" stroke-linecap=\"round\" style=\"stroke:green;stroke-width:4\"/><line x1=\"728.124\" y1=\"99.265\" x2=\"738.1\" y2=\"98.567\" stroke-linecap=\"round\" style=\"stroke:green;stroke-width:4\"/><line x1=\"738.1\" y1=\"98.567\" x2=\"748.076\" y2=\"97.869\" stroke-linecap=\"round\" style=\"stroke:green;stroke-width:4\"/><line x1=\"748.076\" y1=\"97.869\" x2=\"758.052\" y2=\"97.171\" stroke-linecap=\"round\" style=\"stroke:green;stroke-width:4\"/><line x1=\"758.052\" y1=\"97.171\" x2=\"768.028\" y2=\"96.473\" stroke-linecap=\"round\" style=\"stroke:green;stroke-width:4\"/><line x1=\"768.028\" y1=\"96.473\" x2=\"778.004\" y2=\"95.775\" stroke-linecap=\"round\" style=\"stroke:green;stroke-width:4\"/><line x1=\"778.004\" y1=\"95.775\" x2=\"787.98\" y2=\"95.077\" stroke-linecap=\"round\" style=\"stroke:green;stroke-width:4\"/><line x1=\"787.98\" y1=\"95.077\" x2=\"780\" y2=\"95.077\" stroke-linecap=\"round\" style=\"stroke:green;stroke-width:4\"/><line x1=\"780\" y1=\"95.077\" x2=\"782.0\" y2=\"95.077\" stroke-linecap=\"round\" style=\"stroke:red;stroke-width:4\"/><line x1=\"782.0\" y1=\"95.077\" x2=\"780\" y2=\"95.077\" stroke-linecap=\"round\" style=\"stroke:red;stroke-width:4\"/><line x1=\"780\" y1=\"95.077\" x2=\"781.439\" y2=\"96.466\" stroke-linecap=\"round\" style=\"stroke:red;stroke-width:4\"/><line x1=\"781.439\" y1=\"96.466\" x2=\"780\" y2=\"96.466\" stroke-linecap=\"round\" style=\"stroke:red;stroke-width:4\"/><line x1=\"780\" y1=\"96.466\" x2=\"780.07\" y2=\"98.465\" stroke-linecap=\"round\" style=\"stroke:red;stroke-width:4\"/><line x1=\"780.07\" y1=\"98.465\" x2=\"780\" y2=\"98.465\" stroke-linecap=\"round\" style=\"stroke:red;stroke-width:4\"/><line x1=\"780\" y1=\"98.465\" x2=\"778.882\" y2=\"100.123\" stroke-linecap=\"round\" style=\"stroke:red;stroke-width:4\"/><line x1=\"778.882\" y1=\"100.123\" x2=\"777.882\" y2=\"101.855\" stroke-linecap=\"round\" style=\"stroke:green;stroke-width:4\"/><line x1=\"777.882\" y1=\"101.855\" x2=\"777.005\" y2=\"103.653\" stroke-linecap=\"round\" style=\"stroke:green;stroke-width:4\"/><line x1=\"777.005\" y1=\"103.653\" x2=\"776.256\" y2=\"105.507\" stroke-linecap=\"round\" style=\"stroke:green;stroke-width:4\"/><line x1=\"776.256\" y1=\"105.507\" x2=\"775.638\" y2=\"107.409\" stroke-linecap=\"round\" style=\"stroke:green;stroke-width:4\"/><line x1=\"775.638\" y1=\"107.409\" x2=\"775.154\" y2=\"109.35\" stroke-linecap=\"round\" style=\"stroke:green;stroke-width:4\"/><line x1=\"775.154\" y1=\"109.35\" x2=\"774.807\" y2=\"111.32\" stroke-linecap=\"round\" style=\"stroke:green;stroke-width:4\"/><line x1=\"774.807\" y1=\"111.32\" x2=\"774.598\" y2=\"113.309\" stroke-linecap=\"round\" style=\"stroke:green;stroke-width:4\"/><line x1=\"774.598\" y1=\"113.309\" x2=\"774.528\" y2=\"115.308\" stroke-linecap=\"round\" style=\"stroke:green;stroke-width:4\"/><line x1=\"774.528\" y1=\"115.308\" x2=\"774.598\" y2=\"117.307\" stroke-linecap=\"round\" style=\"stroke:green;stroke-width:4\"/><line x1=\"774.598\" y1=\"117.307\" x2=\"774.807\" y2=\"119.296\" stroke-linecap=\"round\" style=\"stroke:green;stroke-width:4\"/><line x1=\"774.807\" y1=\"119.296\" x2=\"775.154\" y2=\"121.266\" stroke-linecap=\"round\" style=\"stroke:green;stroke-width:4\"/><line x1=\"775.154\" y1=\"121.266\" x2=\"775.638\" y2=\"123.207\" stroke-linecap=\"round\" style=\"stroke:green;stroke-width:4\"/><line x1=\"775.638\" y1=\"123.207\" x2=\"776.256\" y2=\"125.109\" stroke-linecap=\"round\" style=\"stroke:green;stroke-width:4\"/><line x1=\"776.256\" y1=\"125.109\" x2=\"777.005\" y2=\"126.963\" stroke-linecap=\"round\" style=\"stroke:green;stroke-width:4\"/><line x1=\"777.005\" y1=\"126.963\" x2=\"777.882\" y2=\"128.761\" stroke-linecap=\"round\" style=\"stroke:green;stroke-width:4\"/><line x1=\"777.882\" y1=\"128.761\" x2=\"778.882\" y2=\"130.493\" stroke-linecap=\"round\" style=\"stroke:green;stroke-width:4\"/><line x1=\"778.882\" y1=\"130.493\" x2=\"780.0\" y2=\"132.151\" stroke-linecap=\"round\" style=\"stroke:green;stroke-width:4\"/><line x1=\"780.0\" y1=\"132.151\" x2=\"781.231\" y2=\"133.727\" stroke-linecap=\"round\" style=\"stroke:green;stroke-width:4\"/><line x1=\"781.231\" y1=\"133.727\" x2=\"780\" y2=\"133.727\" stroke-linecap=\"round\" style=\"stroke:green;stroke-width:4\"/><line x1=\"780\" y1=\"133.727\" x2=\"789.781\" y2=\"135.806\" stroke-linecap=\"round\" style=\"stroke:red;stroke-width:4\"/><line x1=\"789.781\" y1=\"135.806\" x2=\"780\" y2=\"135.806\" stroke-linecap=\"round\" style=\"stroke:red;stroke-width:4\"/><line x1=\"780\" y1=\"135.806\" x2=\"781.981\" y2=\"136.084\" stroke-linecap=\"round\" style=\"stroke:red;stroke-width:4\"/><line x1=\"781.981\" y1=\"136.084\" x2=\"780\" y2=\"136.084\" stroke-linecap=\"round\" style=\"stroke:red;stroke-width:4\"/><line x1=\"780\" y1=\"136.084\" x2=\"781.618\" y2=\"134.908\" stroke-linecap=\"round\" style=\"stroke:red;stroke-width:4\"/><line x1=\"781.618\" y1=\"134.908\" x2=\"780\" y2=\"134.908\" stroke-linecap=\"round\" style=\"stroke:red;stroke-width:4\"/><line x1=\"780\" y1=\"134.908\" x2=\"780.347\" y2=\"132.938\" stroke-linecap=\"round\" style=\"stroke:red;stroke-width:4\"/><line x1=\"780.347\" y1=\"132.938\" x2=\"780\" y2=\"132.938\" stroke-linecap=\"round\" style=\"stroke:red;stroke-width:4\"/><line x1=\"780\" y1=\"132.938\" x2=\"779.123\" y2=\"131.14\" stroke-linecap=\"round\" style=\"stroke:red;stroke-width:4\"/><line x1=\"779.123\" y1=\"131.14\" x2=\"778.374\" y2=\"129.286\" stroke-linecap=\"round\" style=\"stroke:green;stroke-width:4\"/><line x1=\"778.374\" y1=\"129.286\" x2=\"777.756\" y2=\"127.384\" stroke-linecap=\"round\" style=\"stroke:green;stroke-width:4\"/><line x1=\"777.756\" y1=\"127.384\" x2=\"777.272\" y2=\"125.443\" stroke-linecap=\"round\" style=\"stroke:green;stroke-width:4\"/><line x1=\"777.272\" y1=\"125.443\" x2=\"776.925\" y2=\"123.473\" stroke-linecap=\"round\" style=\"stroke:green;stroke-width:4\"/><line x1=\"776.925\" y1=\"123.473\" x2=\"776.716\" y2=\"121.484\" stroke-linecap=\"round\" style=\"stroke:green;stroke-width:4\"/><line x1=\"776.716\" y1=\"121.484\" x2=\"776.646\" y2=\"119.485\" stroke-linecap=\"round\" style=\"stroke:green;stroke-width:4\"/><line x1=\"776.646\" y1=\"119.485\" x2=\"776.716\" y2=\"117.486\" stroke-linecap=\"round\" style=\"stroke:green;stroke-width:4\"/><line x1=\"776.716\" y1=\"117.486\" x2=\"776.925\" y2=\"115.497\" stroke-linecap=\"round\" style=\"stroke:green;stroke-width:4\"/><line x1=\"776.925\" y1=\"115.497\" x2=\"777.272\" y2=\"113.527\" stroke-linecap=\"round\" style=\"stroke:green;stroke-width:4\"/><line x1=\"777.272\" y1=\"113.527\" x2=\"777.481\" y2=\"111.538\" stroke-linecap=\"round\" style=\"stroke:green;stroke-width:4\"/><line x1=\"777.481\" y1=\"111.538\" x2=\"777.551\" y2=\"109.539\" stroke-linecap=\"round\" style=\"stroke:green;stroke-width:4\"/><line x1=\"777.551\" y1=\"109.539\" x2=\"777.481\" y2=\"107.54\" stroke-linecap=\"round\" style=\"stroke:green;stroke-width:4\"/><line x1=\"777.481\" y1=\"107.54\" x2=\"777.272\" y2=\"105.551\" stroke-linecap=\"round\" style=\"stroke:green;stroke-width:4\"/><line x1=\"777.272\" y1=\"105.551\" x2=\"776.925\" y2=\"103.581\" stroke-linecap=\"round\" style=\"stroke:green;stroke-width:4\"/><line x1=\"776.925\" y1=\"103.581\" x2=\"776.441\" y2=\"101.64\" stroke-linecap=\"round\" style=\"stroke:green;stroke-width:4\"/><line x1=\"776.441\" y1=\"101.64\" x2=\"775.823\" y2=\"99.738\" stroke-linecap=\"round\" style=\"stroke:green;stroke-width:4\"/><line x1=\"775.823\" y1=\"99.738\" x2=\"775.074\" y2=\"97.884\" stroke-linecap=\"round\" style=\"stroke:green;stroke-width:4\"/><line x1=\"775.074\" y1=\"97.884\" x2=\"774.197\" y2=\"96.086\" stroke-linecap=\"round\" style=\"stroke:green;stroke-width:4\"/><line x1=\"774.197\" y1=\"96.086\" x2=\"773.197\" y2=\"94.354\" stroke-linecap=\"round\" style=\"stroke:green;stroke-width:4\"/><line x1=\"773.197\" y1=\"94.354\" x2=\"772.32\" y2=\"92.556\" stroke-linecap=\"round\" style=\"stroke:green;stroke-width:4\"/><line x1=\"772.32\" y1=\"92.556\" x2=\"771.571\" y2=\"90.702\" stroke-linecap=\"round\" style=\"stroke:green;stroke-width:4\"/><line x1=\"771.571\" y1=\"90.702\" x2=\"770.953\" y2=\"88.8\" stroke-linecap=\"round\" style=\"stroke:green;stroke-width:4\"/><line x1=\"770.953\" y1=\"88.8\" x2=\"770.469\" y2=\"86.859\" stroke-linecap=\"round\" style=\"stroke:green;stroke-width:4\"/><line x1=\"770.469\" y1=\"86.859\" x2=\"770.122\" y2=\"84.889\" stroke-linecap=\"round\" style=\"stroke:green;stroke-width:4\"/><line x1=\"770.122\" y1=\"84.889\" x2=\"769.913\" y2=\"82.9\" stroke-linecap=\"round\" style=\"stroke:green;stroke-width:4\"/><line x1=\"769.913\" y1=\"82.9\" x2=\"769.843\" y2=\"80.901\" stroke-linecap=\"round\" style=\"stroke:green;stroke-width:4\"/><line x1=\"769.843\" y1=\"80.901\" x2=\"769.913\" y2=\"78.902\" stroke-linecap=\"round\" style=\"stroke:green;stroke-width:4\"/><line x1=\"769.913\" y1=\"78.902\" x2=\"770.122\" y2=\"76.913\" stroke-linecap=\"round\" style=\"stroke:green;stroke-width:4\"/><line x1=\"770.122\" y1=\"76.913\" x2=\"770.469\" y2=\"74.943\" stroke-linecap=\"round\" style=\"stroke:green;stroke-width:4\"/><line x1=\"770.469\" y1=\"74.943\" x2=\"772.205\" y2=\"65.095\" stroke-linecap=\"round\" style=\"stroke:green;stroke-width:4\"/><line x1=\"772.205\" y1=\"65.095\" x2=\"773.941\" y2=\"55.247\" stroke-linecap=\"round\" style=\"stroke:green;stroke-width:4\"/><line x1=\"773.941\" y1=\"55.247\" x2=\"775.677\" y2=\"45.399\" stroke-linecap=\"round\" style=\"stroke:green;stroke-width:4\"/><line x1=\"775.677\" y1=\"45.399\" x2=\"777.413\" y2=\"35.551\" stroke-linecap=\"round\" style=\"stroke:green;stroke-width:4\"/><line x1=\"777.413\" y1=\"35.551\" x2=\"779.149\" y2=\"25.703\" stroke-linecap=\"round\" style=\"stroke:green;stroke-width:4\"/><line x1=\"779.149\" y1=\"25.703\" x2=\"780.885\" y2=\"15.855\" stroke-linecap=\"round\" style=\"stroke:green;stroke-width:4\"/><line x1=\"780.885\" y1=\"15.855\" x2=\"780\" y2=\"15.855\" stroke-linecap=\"round\" style=\"stroke:green;stroke-width:4\"/><line x1=\"780\" y1=\"15.855\" x2=\"780\" y2=\"20\" stroke-linecap=\"round\" style=\"stroke:green;stroke-width:4\"/><line x1=\"780\" y1=\"20\" x2=\"780.209\" y2=\"18.011\" stroke-linecap=\"round\" style=\"stroke:red;stroke-width:4\"/><line x1=\"780.209\" y1=\"18.011\" x2=\"780\" y2=\"18.011\" stroke-linecap=\"round\" style=\"stroke:red;stroke-width:4\"/><line x1=\"780\" y1=\"18.011\" x2=\"780\" y2=\"20\" stroke-linecap=\"round\" style=\"stroke:red;stroke-width:4\"/><line x1=\"780\" y1=\"20\" x2=\"778.769\" y2=\"18.424\" stroke-linecap=\"round\" style=\"stroke:red;stroke-width:4\"/><line x1=\"778.769\" y1=\"18.424\" x2=\"778.769\" y2=\"20\" stroke-linecap=\"round\" style=\"stroke:red;stroke-width:4\"/><line x1=\"778.769\" y1=\"20\" x2=\"776.788\" y2=\"19.722\" stroke-linecap=\"round\" style=\"stroke:red;stroke-width:4\"/><line x1=\"776.788\" y1=\"19.722\" x2=\"776.788\" y2=\"20\" stroke-linecap=\"round\" style=\"stroke:red;stroke-width:4\"/><line x1=\"776.788\" y1=\"20\" x2=\"775.17\" y2=\"21.176\" stroke-linecap=\"round\" style=\"stroke:red;stroke-width:4\"/><line x1=\"775.17\" y1=\"21.176\" x2=\"773.638\" y2=\"22.462\" stroke-linecap=\"round\" style=\"stroke:green;stroke-width:4\"/><line x1=\"773.638\" y1=\"22.462\" x2=\"772.199\" y2=\"23.851\" stroke-linecap=\"round\" style=\"stroke:green;stroke-width:4\"/><line x1=\"772.199\" y1=\"23.851\" x2=\"770.861\" y2=\"25.337\" stroke-linecap=\"round\" style=\"stroke:green;stroke-width:4\"/><line x1=\"770.861\" y1=\"25.337\" x2=\"769.63\" y2=\"26.913\" stroke-linecap=\"round\" style=\"stroke:green;stroke-width:4\"/><line x1=\"769.63\" y1=\"26.913\" x2=\"768.512\" y2=\"28.571\" stroke-linecap=\"round\" style=\"stroke:green;stroke-width:4\"/><line x1=\"768.512\" y1=\"28.571\" x2=\"767.512\" y2=\"30.303\" stroke-linecap=\"round\" style=\"stroke:green;stroke-width:4\"/><line x1=\"767.512\" y1=\"30.303\" x2=\"766.635\" y2=\"32.101\" stroke-linecap=\"round\" style=\"stroke:green;stroke-width:4\"/><line x1=\"766.635\" y1=\"32.101\" x2=\"765.886\" y2=\"33.955\" stroke-linecap=\"round\" style=\"stroke:green;stroke-width:4\"/><line x1=\"765.886\" y1=\"33.955\" x2=\"765.268\" y2=\"35.857\" stroke-linecap=\"round\" style=\"stroke:green;stroke-width:4\"/><line x1=\"765.268\" y1=\"35.857\" x2=\"764.519\" y2=\"37.711\" stroke-linecap=\"round\" style=\"stroke:green;stroke-width:4\"/><line x1=\"764.519\" y1=\"37.711\" x2=\"763.642\" y2=\"39.509\" stroke-linecap=\"round\" style=\"stroke:green;stroke-width:4\"/><line x1=\"763.642\" y1=\"39.509\" x2=\"762.642\" y2=\"41.241\" stroke-linecap=\"round\" style=\"stroke:green;stroke-width:4\"/><line x1=\"762.642\" y1=\"41.241\" x2=\"761.524\" y2=\"42.899\" stroke-linecap=\"round\" style=\"stroke:green;stroke-width:4\"/><line x1=\"761.524\" y1=\"42.899\" x2=\"760.293\" y2=\"44.475\" stroke-linecap=\"round\" style=\"stroke:green;stroke-width:4\"/><line x1=\"760.293\" y1=\"44.475\" x2=\"758.955\" y2=\"45.961\" stroke-linecap=\"round\" style=\"stroke:green;stroke-width:4\"/><line x1=\"758.955\" y1=\"45.961\" x2=\"757.516\" y2=\"47.35\" stroke-linecap=\"round\" style=\"stroke:green;stroke-width:4\"/><line x1=\"757.516\" y1=\"47.35\" x2=\"755.984\" y2=\"48.636\" stroke-linecap=\"round\" style=\"stroke:green;stroke-width:4\"/><line x1=\"755.984\" y1=\"48.636\" x2=\"754.366\" y2=\"49.812\" stroke-linecap=\"round\" style=\"stroke:green;stroke-width:4\"/><line x1=\"754.366\" y1=\"49.812\" x2=\"752.67\" y2=\"50.872\" stroke-linecap=\"round\" style=\"stroke:green;stroke-width:4\"/><line x1=\"752.67\" y1=\"50.872\" x2=\"744.19\" y2=\"56.171\" stroke-linecap=\"round\" style=\"stroke:green;stroke-width:4\"/><line x1=\"744.19\" y1=\"56.171\" x2=\"735.71\" y2=\"61.47\" stroke-linecap=\"round\" style=\"stroke:green;stroke-width:4\"/><line x1=\"735.71\" y1=\"61.47\" x2=\"727.23\" y2=\"66.769\" stroke-linecap=\"round\" style=\"stroke:green;stroke-width:4\"/><line x1=\"727.23\" y1=\"66.769\" x2=\"718.75\" y2=\"72.068\" stroke-linecap=\"round\" style=\"stroke:green;stroke-width:4\"/><line x1=\"718.75\" y1=\"72.068\" x2=\"710.27\" y2=\"77.367\" stroke-linecap=\"round\" style=\"stroke:green;stroke-width:4\"/><line x1=\"710.27\" y1=\"77.367\" x2=\"701.79\" y2=\"82.666\" stroke-linecap=\"round\" style=\"stroke:green;stroke-width:4\"/><line x1=\"701.79\" y1=\"82.666\" x2=\"693.31\" y2=\"87.965\" stroke-linecap=\"round\" style=\"stroke:green;stroke-width:4\"/><line x1=\"693.31\" y1=\"87.965\" x2=\"684.83\" y2=\"93.264\" stroke-linecap=\"round\" style=\"stroke:green;stroke-width:4\"/><line x1=\"684.83\" y1=\"93.264\" x2=\"676.35\" y2=\"98.563\" stroke-linecap=\"round\" style=\"stroke:green;stroke-width:4\"/><line x1=\"676.35\" y1=\"98.563\" x2=\"667.87\" y2=\"103.862\" stroke-linecap=\"round\" style=\"stroke:green;stroke-width:4\"/><line x1=\"667.87\" y1=\"103.862\" x2=\"659.39\" y2=\"109.161\" stroke-linecap=\"round\" style=\"stroke:green;stroke-width:4\"/><line x1=\"659.39\" y1=\"109.161\" x2=\"650.91\" y2=\"114.46\" stroke-linecap=\"round\" style=\"stroke:green;stroke-width:4\"/><line x1=\"650.91\" y1=\"114.46\" x2=\"642.43\" y2=\"119.759\" stroke-linecap=\"round\" style=\"stroke:green;stroke-width:4\"/><line x1=\"642.43\" y1=\"119.759\" x2=\"633.95\" y2=\"125.058\" stroke-linecap=\"round\" style=\"stroke:green;stroke-width:4\"/><line x1=\"633.95\" y1=\"125.058\" x2=\"625.47\" y2=\"130.357\" stroke-linecap=\"round\" style=\"stroke:green;stroke-width:4\"/><line x1=\"625.47\" y1=\"130.357\" x2=\"616.99\" y2=\"135.656\" stroke-linecap=\"round\" style=\"stroke:green;stroke-width:4\"/><line x1=\"616.99\" y1=\"135.656\" x2=\"608.51\" y2=\"140.955\" stroke-linecap=\"round\" style=\"stroke:green;stroke-width:4\"/><line x1=\"608.51\" y1=\"140.955\" x2=\"600.03\" y2=\"146.254\" stroke-linecap=\"round\" style=\"stroke:green;stroke-width:4\"/><line x1=\"600.03\" y1=\"146.254\" x2=\"591.55\" y2=\"151.553\" stroke-linecap=\"round\" style=\"stroke:green;stroke-width:4\"/><line x1=\"591.55\" y1=\"151.553\" x2=\"583.07\" y2=\"156.852\" stroke-linecap=\"round\" style=\"stroke:green;stroke-width:4\"/><line x1=\"583.07\" y1=\"156.852\" x2=\"574.59\" y2=\"162.151\" stroke-linecap=\"round\" style=\"stroke:green;stroke-width:4\"/><line x1=\"574.59\" y1=\"162.151\" x2=\"566.11\" y2=\"167.45\" stroke-linecap=\"round\" style=\"stroke:green;stroke-width:4\"/><line x1=\"566.11\" y1=\"167.45\" x2=\"557.63\" y2=\"172.749\" stroke-linecap=\"round\" style=\"stroke:green;stroke-width:4\"/><line x1=\"557.63\" y1=\"172.749\" x2=\"549.15\" y2=\"178.048\" stroke-linecap=\"round\" style=\"stroke:green;stroke-width:4\"/><line x1=\"549.15\" y1=\"178.048\" x2=\"540.67\" y2=\"183.347\" stroke-linecap=\"round\" style=\"stroke:green;stroke-width:4\"/><line x1=\"540.67\" y1=\"183.347\" x2=\"532.19\" y2=\"188.646\" stroke-linecap=\"round\" style=\"stroke:green;stroke-width:4\"/><line x1=\"532.19\" y1=\"188.646\" x2=\"523.71\" y2=\"193.945\" stroke-linecap=\"round\" style=\"stroke:green;stroke-width:4\"/><line x1=\"523.71\" y1=\"193.945\" x2=\"515.23\" y2=\"199.244\" stroke-linecap=\"round\" style=\"stroke:green;stroke-width:4\"/><line x1=\"515.23\" y1=\"199.244\" x2=\"506.75\" y2=\"204.543\" stroke-linecap=\"round\" style=\"stroke:green;stroke-width:4\"/><line x1=\"506.75\" y1=\"204.543\" x2=\"498.27\" y2=\"209.842\" stroke-linecap=\"round\" style=\"stroke:green;stroke-width:4\"/><line x1=\"498.27\" y1=\"209.842\" x2=\"489.79\" y2=\"215.141\" stroke-linecap=\"round\" style=\"stroke:green;stroke-width:4\"/><line x1=\"489.79\" y1=\"215.141\" x2=\"481.31\" y2=\"220.44\" stroke-linecap=\"round\" style=\"stroke:green;stroke-width:4\"/><line x1=\"481.31\" y1=\"220.44\" x2=\"472.83\" y2=\"225.739\" stroke-linecap=\"round\" style=\"stroke:green;stroke-width:4\"/><line x1=\"472.83\" y1=\"225.739\" x2=\"464.35\" y2=\"231.038\" stroke-linecap=\"round\" style=\"stroke:green;stroke-width:4\"/><line x1=\"464.35\" y1=\"231.038\" x2=\"455.87\" y2=\"236.337\" stroke-linecap=\"round\" style=\"stroke:green;stroke-width:4\"/><line x1=\"455.87\" y1=\"236.337\" x2=\"447.39\" y2=\"241.636\" stroke-linecap=\"round\" style=\"stroke:green;stroke-width:4\"/><line x1=\"447.39\" y1=\"241.636\" x2=\"438.91\" y2=\"246.935\" stroke-linecap=\"round\" style=\"stroke:green;stroke-width:4\"/><line x1=\"438.91\" y1=\"246.935\" x2=\"430.43\" y2=\"252.234\" stroke-linecap=\"round\" style=\"stroke:green;stroke-width:4\"/><line x1=\"430.43\" y1=\"252.234\" x2=\"421.95\" y2=\"257.533\" stroke-linecap=\"round\" style=\"stroke:green;stroke-width:4\"/><line x1=\"421.95\" y1=\"257.533\" x2=\"413.47\" y2=\"262.832\" stroke-linecap=\"round\" style=\"stroke:green;stroke-width:4\"/><line x1=\"413.47\" y1=\"262.832\" x2=\"404.99\" y2=\"268.131\" stroke-linecap=\"round\" style=\"stroke:green;stroke-width:4\"/><line x1=\"404.99\" y1=\"268.131\" x2=\"396.51\" y2=\"273.43\" stroke-linecap=\"round\" style=\"stroke:green;stroke-width:4\"/><line x1=\"396.51\" y1=\"273.43\" x2=\"388.03\" y2=\"278.729\" stroke-linecap=\"round\" style=\"stroke:green;stroke-width:4\"/><line x1=\"388.03\" y1=\"278.729\" x2=\"379.55\" y2=\"284.028\" stroke-linecap=\"round\" style=\"stroke:green;stroke-width:4\"/><line x1=\"379.55\" y1=\"284.028\" x2=\"371.07\" y2=\"289.327\" stroke-linecap=\"round\" style=\"stroke:green;stroke-width:4\"/><line x1=\"371.07\" y1=\"289.327\" x2=\"362.59\" y2=\"294.626\" stroke-linecap=\"round\" style=\"stroke:green;stroke-width:4\"/><line x1=\"362.59\" y1=\"294.626\" x2=\"354.11\" y2=\"299.925\" stroke-linecap=\"round\" style=\"stroke:green;stroke-width:4\"/><line x1=\"354.11\" y1=\"299.925\" x2=\"345.63\" y2=\"305.224\" stroke-linecap=\"round\" style=\"stroke:green;stroke-width:4\"/><line x1=\"345.63\" y1=\"305.224\" x2=\"337.15\" y2=\"310.523\" stroke-linecap=\"round\" style=\"stroke:green;stroke-width:4\"/><line x1=\"337.15\" y1=\"310.523\" x2=\"328.67\" y2=\"315.822\" stroke-linecap=\"round\" style=\"stroke:green;stroke-width:4\"/>\n",
       "        <g visibility=visible transform=\"rotate(238,328.67,315.822) translate(310.67, 297.822)\">\n",
       "<path style=\" stroke:none;fill-rule:evenodd;fill:green;fill-opacity:1;\" d=\"M 18.214844 0.632812 C 16.109375 1.800781 15.011719 4.074219 15.074219 7.132812 L 15.085938 7.652344 L 14.785156 7.496094 C 13.476562 6.824219 11.957031 6.671875 10.40625 7.066406 C 8.46875 7.550781 6.515625 9.15625 4.394531 11.992188 C 3.0625 13.777344 2.679688 14.636719 3.042969 15.027344 L 3.15625 15.152344 L 3.519531 15.152344 C 4.238281 15.152344 4.828125 14.886719 8.1875 13.039062 C 9.386719 12.378906 10.371094 11.839844 10.378906 11.839844 C 10.386719 11.839844 10.355469 11.929688 10.304688 12.035156 C 9.832031 13.09375 9.257812 14.820312 8.96875 16.078125 C 7.914062 20.652344 8.617188 24.53125 11.070312 27.660156 C 11.351562 28.015625 11.363281 27.914062 10.972656 28.382812 C 8.925781 30.84375 7.945312 33.28125 8.238281 35.1875 C 8.289062 35.527344 8.28125 35.523438 8.917969 35.523438 C 10.941406 35.523438 13.074219 34.207031 15.136719 31.6875 C 15.359375 31.417969 15.328125 31.425781 15.5625 31.574219 C 16.292969 32.042969 18.023438 32.964844 18.175781 32.964844 C 18.335938 32.964844 19.941406 32.210938 20.828125 31.71875 C 20.996094 31.625 21.136719 31.554688 21.136719 31.558594 C 21.203125 31.664062 21.898438 32.414062 22.222656 32.730469 C 23.835938 34.300781 25.5625 35.132812 27.582031 35.300781 C 27.90625 35.328125 27.9375 35.308594 28.007812 34.984375 C 28.382812 33.242188 27.625 30.925781 25.863281 28.425781 L 25.542969 27.96875 L 25.699219 27.785156 C 28.945312 23.960938 29.132812 18.699219 26.257812 11.96875 L 26.207031 11.84375 L 27.945312 12.703125 C 31.53125 14.476562 32.316406 14.800781 33.03125 14.800781 C 33.976562 14.800781 33.78125 13.9375 32.472656 12.292969 C 28.519531 7.355469 25.394531 5.925781 21.921875 7.472656 L 21.558594 7.636719 L 21.578125 7.542969 C 21.699219 6.992188 21.761719 5.742188 21.699219 5.164062 C 21.496094 3.296875 20.664062 1.964844 19.003906 0.855469 C 18.480469 0.503906 18.457031 0.5 18.214844 0.632812\"/>\n",
       "</g>\n",
       "      </svg>\n",
       "    "
      ],
      "text/plain": [
       "<IPython.core.display.HTML object>"
      ]
     },
     "metadata": {},
     "output_type": "display_data"
    },
    {
     "name": "stdout",
     "output_type": "stream",
     "text": [
      "Action: 0, Prediction: 0, Outcome: 0, Prediction: True, Valence: 1\n",
      "Action: 0, Prediction: 0, Outcome: 0, Prediction: True, Valence: 1\n",
      "Action: 0, Prediction: 0, Outcome: 0, Prediction: True, Valence: 1\n",
      "Action: 0, Prediction: 0, Outcome: 1, Prediction: False, Valence: -1\n",
      "Action: 0, Prediction: 1, Outcome: 1, Prediction: True, Valence: -1\n",
      "Action: 0, Prediction: 1, Outcome: 1, Prediction: True, Valence: -1\n",
      "Action: 0, Prediction: 1, Outcome: 1, Prediction: True, Valence: -1\n",
      "Action: 0, Prediction: 1, Outcome: 1, Prediction: True, Valence: -1\n",
      "Action: 1, Prediction: 0, Outcome: 1, Prediction: False, Valence: 1\n",
      "Action: 0, Prediction: 1, Outcome: 1, Prediction: True, Valence: -1\n",
      "Action: 1, Prediction: 1, Outcome: 1, Prediction: True, Valence: 1\n",
      "Action: 1, Prediction: 1, Outcome: 0, Prediction: False, Valence: -1\n",
      "Action: 0, Prediction: 1, Outcome: 0, Prediction: False, Valence: 1\n",
      "Action: 0, Prediction: 0, Outcome: 0, Prediction: True, Valence: 1\n",
      "Action: 0, Prediction: 0, Outcome: 1, Prediction: False, Valence: -1\n",
      "Action: 0, Prediction: 1, Outcome: 1, Prediction: True, Valence: -1\n",
      "Action: 1, Prediction: 0, Outcome: 1, Prediction: False, Valence: 1\n",
      "Action: 0, Prediction: 1, Outcome: 1, Prediction: True, Valence: -1\n",
      "Action: 1, Prediction: 1, Outcome: 1, Prediction: True, Valence: 1\n",
      "Action: 1, Prediction: 1, Outcome: 0, Prediction: False, Valence: -1\n",
      "Action: 1, Prediction: 0, Outcome: 0, Prediction: True, Valence: -1\n",
      "Action: 1, Prediction: 0, Outcome: 0, Prediction: True, Valence: -1\n",
      "Action: 0, Prediction: 1, Outcome: 0, Prediction: False, Valence: 1\n",
      "Action: 0, Prediction: 0, Outcome: 1, Prediction: False, Valence: -1\n",
      "Action: 1, Prediction: 0, Outcome: 1, Prediction: False, Valence: 1\n",
      "Action: 0, Prediction: 1, Outcome: 1, Prediction: True, Valence: -1\n",
      "Action: 1, Prediction: 1, Outcome: 1, Prediction: True, Valence: 1\n",
      "Action: 1, Prediction: 1, Outcome: 1, Prediction: True, Valence: 1\n",
      "Action: 1, Prediction: 1, Outcome: 0, Prediction: False, Valence: -1\n",
      "Action: 0, Prediction: 1, Outcome: 0, Prediction: False, Valence: 1\n",
      "Action: 0, Prediction: 0, Outcome: 0, Prediction: True, Valence: 1\n",
      "Action: 0, Prediction: 0, Outcome: 1, Prediction: False, Valence: -1\n",
      "Action: 0, Prediction: 1, Outcome: 1, Prediction: True, Valence: -1\n",
      "Action: 0, Prediction: 1, Outcome: 1, Prediction: True, Valence: -1\n",
      "Action: 0, Prediction: 1, Outcome: 1, Prediction: True, Valence: -1\n",
      "Action: 1, Prediction: 0, Outcome: 1, Prediction: False, Valence: 1\n",
      "Action: 0, Prediction: 1, Outcome: 0, Prediction: False, Valence: 1\n",
      "Action: 0, Prediction: 0, Outcome: 0, Prediction: True, Valence: 1\n",
      "Action: 0, Prediction: 0, Outcome: 0, Prediction: True, Valence: 1\n",
      "Action: 1, Prediction: 1, Outcome: 0, Prediction: False, Valence: -1\n",
      "Action: 1, Prediction: 0, Outcome: 0, Prediction: True, Valence: -1\n",
      "Action: 0, Prediction: 0, Outcome: 0, Prediction: True, Valence: 1\n",
      "Action: 0, Prediction: 0, Outcome: 0, Prediction: True, Valence: 1\n",
      "Action: 0, Prediction: 0, Outcome: 0, Prediction: True, Valence: 1\n",
      "Action: 2, Prediction: 0, Outcome: 0, Prediction: True, Valence: -1\n",
      "Action: 0, Prediction: 0, Outcome: 1, Prediction: False, Valence: -1\n",
      "Action: 2, Prediction: 0, Outcome: 1, Prediction: False, Valence: -1\n",
      "Action: 0, Prediction: 1, Outcome: 1, Prediction: True, Valence: -1\n",
      "Action: 2, Prediction: 1, Outcome: 1, Prediction: True, Valence: -1\n",
      "Action: 0, Prediction: 1, Outcome: 0, Prediction: False, Valence: 1\n",
      "Action: 0, Prediction: 0, Outcome: 0, Prediction: True, Valence: 1\n",
      "Action: 0, Prediction: 0, Outcome: 1, Prediction: False, Valence: -1\n",
      "Action: 1, Prediction: 0, Outcome: 1, Prediction: False, Valence: 1\n",
      "Action: 0, Prediction: 1, Outcome: 1, Prediction: True, Valence: -1\n",
      "Action: 1, Prediction: 1, Outcome: 1, Prediction: True, Valence: 1\n",
      "Action: 1, Prediction: 1, Outcome: 1, Prediction: True, Valence: 1\n",
      "Action: 1, Prediction: 1, Outcome: 0, Prediction: False, Valence: -1\n",
      "Action: 1, Prediction: 0, Outcome: 0, Prediction: True, Valence: -1\n",
      "Action: 2, Prediction: 1, Outcome: 0, Prediction: False, Valence: -1\n",
      "Action: 2, Prediction: 0, Outcome: 0, Prediction: True, Valence: -1\n",
      "Action: 0, Prediction: 1, Outcome: 1, Prediction: True, Valence: -1\n",
      "Action: 0, Prediction: 1, Outcome: 1, Prediction: True, Valence: -1\n",
      "Action: 2, Prediction: 0, Outcome: 1, Prediction: False, Valence: -1\n",
      "Action: 1, Prediction: 0, Outcome: 1, Prediction: False, Valence: 1\n",
      "Action: 1, Prediction: 1, Outcome: 1, Prediction: True, Valence: 1\n",
      "Action: 1, Prediction: 1, Outcome: 1, Prediction: True, Valence: 1\n",
      "Action: 1, Prediction: 1, Outcome: 0, Prediction: False, Valence: -1\n",
      "Action: 0, Prediction: 1, Outcome: 0, Prediction: False, Valence: 1\n",
      "Action: 0, Prediction: 0, Outcome: 0, Prediction: True, Valence: 1\n",
      "Action: 0, Prediction: 0, Outcome: 0, Prediction: True, Valence: 1\n",
      "Action: 0, Prediction: 0, Outcome: 0, Prediction: True, Valence: 1\n",
      "Action: 0, Prediction: 0, Outcome: 0, Prediction: True, Valence: 1\n",
      "Action: 2, Prediction: 1, Outcome: 0, Prediction: False, Valence: -1\n",
      "Action: 0, Prediction: 0, Outcome: 0, Prediction: True, Valence: 1\n",
      "Action: 0, Prediction: 0, Outcome: 0, Prediction: True, Valence: 1\n",
      "Action: 0, Prediction: 0, Outcome: 0, Prediction: True, Valence: 1\n",
      "Action: 0, Prediction: 0, Outcome: 1, Prediction: False, Valence: -1\n",
      "Action: 2, Prediction: 0, Outcome: 1, Prediction: False, Valence: -1\n",
      "Action: 2, Prediction: 1, Outcome: 1, Prediction: True, Valence: -1\n",
      "Action: 2, Prediction: 1, Outcome: 1, Prediction: True, Valence: -1\n",
      "Action: 1, Prediction: 0, Outcome: 0, Prediction: True, Valence: -1\n",
      "Action: 1, Prediction: 0, Outcome: 1, Prediction: False, Valence: 1\n",
      "Action: 0, Prediction: 1, Outcome: 1, Prediction: True, Valence: -1\n",
      "Action: 1, Prediction: 1, Outcome: 1, Prediction: True, Valence: 1\n",
      "Action: 1, Prediction: 1, Outcome: 1, Prediction: True, Valence: 1\n",
      "Action: 1, Prediction: 1, Outcome: 1, Prediction: True, Valence: 1\n",
      "Action: 2, Prediction: 1, Outcome: 0, Prediction: False, Valence: -1\n",
      "Action: 1, Prediction: 1, Outcome: 0, Prediction: False, Valence: -1\n",
      "Action: 2, Prediction: 0, Outcome: 0, Prediction: True, Valence: -1\n",
      "Action: 0, Prediction: 1, Outcome: 1, Prediction: True, Valence: -1\n",
      "Action: 1, Prediction: 0, Outcome: 1, Prediction: False, Valence: 1\n",
      "Action: 1, Prediction: 1, Outcome: 1, Prediction: True, Valence: 1\n",
      "Action: 1, Prediction: 1, Outcome: 1, Prediction: True, Valence: 1\n",
      "Action: 1, Prediction: 1, Outcome: 0, Prediction: False, Valence: -1\n",
      "Action: 2, Prediction: 0, Outcome: 0, Prediction: True, Valence: -1\n",
      "Action: 0, Prediction: 1, Outcome: 0, Prediction: False, Valence: 1\n",
      "Action: 0, Prediction: 0, Outcome: 0, Prediction: True, Valence: 1\n",
      "Action: 0, Prediction: 0, Outcome: 0, Prediction: True, Valence: 1\n",
      "Action: 0, Prediction: 0, Outcome: 0, Prediction: True, Valence: 1\n"
     ]
    }
   ],
   "source": [
    "initializeTurtle()\n",
    "\n",
    "# Parameterize the rendering\n",
    "bgcolor(\"lightGray\")\n",
    "penup()\n",
    "goto(window_width() / 2, window_height()/2)\n",
    "face(0)\n",
    "pendown()\n",
    "color(\"green\")\n",
    "speed(10)\n",
    "\n",
    "a = Agent3(valences)\n",
    "e = ColabTurtleEnvironment()\n",
    "\n",
    "outcome = 0\n",
    "for i in range(100):\n",
    "    action = a.action(outcome)\n",
    "    outcome = e.outcome(action)"
   ]
  },
  {
   "cell_type": "markdown",
   "id": "ce02f401-3a78-4ced-9b8c-3b602c7be482",
   "metadata": {},
   "source": [
    "## Improve your agent's code"
   ]
  },
  {
   "cell_type": "markdown",
   "id": "3079e9cc-411c-483b-9858-20d53b3dbd7b",
   "metadata": {},
   "source": [
    "If your agent gets stuck against a border or in a corner, modify the valences or the code. \n",
    "Try different ways to handle boredome or to select random actions. \n",
    "In the next lab, you will see how to design an agent that can adapt to the context. "
   ]
  },
  {
   "cell_type": "markdown",
   "id": "ac15a134-34a6-4039-9b43-f8fd76d93b5e",
   "metadata": {},
   "source": [
    "## Report "
   ]
  },
  {
   "cell_type": "markdown",
   "id": "2e661c15-c1ed-4512-a1d9-0fbdb8f91879",
   "metadata": {},
   "source": [
    "Explain what you programmed and what results you observed. Export this document as PDF including your code, the traces you obtained, and your explanations below (no more than a few paragraphs):"
   ]
  },
  {
   "cell_type": "code",
   "execution_count": null,
   "id": "2bbc0899-eee2-404a-baf6-47741067e7d9",
   "metadata": {},
   "outputs": [],
   "source": []
  }
 ],
 "metadata": {
  "kernelspec": {
   "display_name": "p311",
   "language": "python",
   "name": "python3"
  },
  "language_info": {
   "codemirror_mode": {
    "name": "ipython",
    "version": 3
   },
   "file_extension": ".py",
   "mimetype": "text/x-python",
   "name": "python",
   "nbconvert_exporter": "python",
   "pygments_lexer": "ipython3",
   "version": "3.11.9"
  }
 },
 "nbformat": 4,
 "nbformat_minor": 5
}
