{
 "cells": [
  {
   "cell_type": "markdown",
   "id": "74eb8609-bd0c-4a26-94be-5cf56d9f58cb",
   "metadata": {},
   "source": [
    "[![Open In Colab](https://colab.research.google.com/assets/colab-badge.svg)](https://colab.research.google.com/github/OlivierGeorgeon/Developmental-AI-Lab/blob/master/docs/agent3.ipynb)"
   ]
  },
  {
   "cell_type": "markdown",
   "id": "0bec58b3-e210-4a78-9610-f6615254de29",
   "metadata": {},
   "source": [
    "# THE AGENT WHO TAMED THE TURTLE"
   ]
  },
  {
   "cell_type": "markdown",
   "id": "158ddba6-0466-42c0-9ced-629b34a41c65",
   "metadata": {},
   "source": [
    "In this lab, you will implement the most simple agent that learns to enact interactions that have a positive valence."
   ]
  },
  {
   "cell_type": "markdown",
   "id": "152512a3-ef97-473a-91a7-9a36fe70ba33",
   "metadata": {},
   "source": [
    "# Setup\n",
    "## Import the turtle environment"
   ]
  },
  {
   "cell_type": "code",
   "execution_count": 1,
   "id": "cf88b7d1-a826-48ff-ba4c-941318495e5f",
   "metadata": {},
   "outputs": [
    {
     "name": "stdout",
     "output_type": "stream",
     "text": [
      "Requirement already satisfied: ColabTurtle in c:\\users\\josephir\\anaconda3\\envs\\p311\\lib\\site-packages (2.1.0)\n"
     ]
    }
   ],
   "source": [
    "!pip3 install ColabTurtle\n",
    "from ColabTurtle.Turtle import *"
   ]
  },
  {
   "cell_type": "markdown",
   "id": "3c493fa3-3725-4832-ae8e-54fe92971c87",
   "metadata": {},
   "source": [
    "## Define the Agent class"
   ]
  },
  {
   "cell_type": "code",
   "execution_count": 2,
   "id": "3f0bf369-48ef-48d7-a92b-3c7ef8dc1daf",
   "metadata": {},
   "outputs": [],
   "source": [
    "class Agent:\n",
    "    def __init__(self, _valences):\n",
    "        \"\"\" Creating our agent \"\"\"\n",
    "        self._valences = _valences\n",
    "        self._action = None\n",
    "        self._predicted_outcome = None\n",
    "\n",
    "    def action(self, _outcome):\n",
    "        \"\"\" tracing the previous cycle \"\"\"\n",
    "        if self._action is not None:\n",
    "            print(f\"Action: {self._action}, Prediction: {self._predicted_outcome}, Outcome: {_outcome}, \" \n",
    "                  f\"Prediction: {self._predicted_outcome == _outcome}, Valence: {self._valences[self._action][_outcome]}\")\n",
    "\n",
    "        \"\"\" Computing the next action to enact \"\"\"\n",
    "        # TODO: Implement the agent's decision mechanism\n",
    "        self._action = 0\n",
    "        # TODO: Implement the agent's anticipation mechanism\n",
    "        self._predicted_outcome = 0\n",
    "        return self._action\n"
   ]
  },
  {
   "cell_type": "markdown",
   "id": "77698bff-5b57-4982-8b61-41b7a6d1286b",
   "metadata": {},
   "source": [
    "## Define the tutle environment class"
   ]
  },
  {
   "cell_type": "markdown",
   "id": "a657998c-4f0c-49b8-acd0-2c0f73590d3f",
   "metadata": {},
   "source": [
    "You don't need to worry about the code of the ColabTurtleEnvironment below.\n",
    "\n",
    "Just know that this environment:\n",
    "* interprets the agent's actions as follows  `0`: move forward, `1`: turn left, `2`: turn right.\n",
    "* returns outcome `1` when the turtle bumps into the border of the window, and `0` otherwise."
   ]
  },
  {
   "cell_type": "code",
   "execution_count": 3,
   "id": "3e9f50cd-19ae-485b-9ef2-53c0e014093d",
   "metadata": {
    "jupyter": {
     "source_hidden": true
    }
   },
   "outputs": [],
   "source": [
    "# @title Initialize the turtle environment\n",
    "\n",
    "BORDER_WIDTH = 20\n",
    "\n",
    "class ColabTurtleEnvironment:\n",
    "\n",
    "    def __init__(self):\n",
    "        \"\"\" Creating the Turtle window \"\"\"\n",
    "        bgcolor(\"lightGray\")\n",
    "        penup()\n",
    "        goto(window_width() / 2, window_height()/2)\n",
    "        face(0)\n",
    "        pendown()\n",
    "        color(\"green\")\n",
    "\n",
    "    def outcome(self, action):\n",
    "        \"\"\" Enacting an action and returning the outcome \"\"\"\n",
    "        _outcome = 0\n",
    "        for i in range(10):\n",
    "            # _outcome = 0\n",
    "            if action == 0:\n",
    "                # move forward\n",
    "                forward(10)\n",
    "            elif action == 1:\n",
    "                # rotate left\n",
    "                left(4)\n",
    "                forward(2)\n",
    "            elif action == 2:\n",
    "                # rotate right\n",
    "                right(4)\n",
    "                forward(2)\n",
    "\n",
    "            # Bump on screen edge and return outcome 1\n",
    "            if xcor() < BORDER_WIDTH:\n",
    "                goto(BORDER_WIDTH, ycor())\n",
    "                _outcome = 1\n",
    "            if xcor() > window_width() - BORDER_WIDTH:\n",
    "                goto(window_width() - BORDER_WIDTH, ycor())\n",
    "                _outcome = 1\n",
    "            if ycor() < BORDER_WIDTH:\n",
    "                goto(xcor(), BORDER_WIDTH)\n",
    "                _outcome = 1\n",
    "            if ycor() > window_height() - BORDER_WIDTH:\n",
    "                goto(xcor(), window_height() -BORDER_WIDTH)\n",
    "                _outcome = 1\n",
    "\n",
    "            # Change color\n",
    "            if _outcome == 0:\n",
    "                color(\"green\")\n",
    "            else:\n",
    "                # Finit l'interaction\n",
    "                color(\"red\")\n",
    "                # if action == 0:\n",
    "                #     break\n",
    "                if action == 1:\n",
    "                    for j in range(10):\n",
    "                        left(4)\n",
    "                elif action == 2:\n",
    "                    for j in range(10):\n",
    "                        right(4)\n",
    "                break\n",
    "\n",
    "        return _outcome"
   ]
  },
  {
   "cell_type": "markdown",
   "id": "64a16db8-1bd6-4e82-9cf6-2b37d996ffe8",
   "metadata": {},
   "source": [
    "## Define the valence of interactions"
   ]
  },
  {
   "cell_type": "code",
   "execution_count": 4,
   "id": "59da5f51-d5db-4cf4-8bd0-036ec11eaad2",
   "metadata": {},
   "outputs": [],
   "source": [
    "valences = [[1, -1], \n",
    "            [-1, -1],\n",
    "            [-1, -1]]"
   ]
  },
  {
   "cell_type": "markdown",
   "id": "b8d25cea-a183-45c5-a624-1345aace245a",
   "metadata": {},
   "source": [
    "The valence table specifies the valence of each interaction. An interaction is a tuple (action, outcome):\n",
    "\n",
    "|| 0 Not bump | 1 Bump|\n",
    "|---|---|---|\n",
    "| 0 Forward| 1 | -1 |\n",
    "| 1 Left | -1 | -1 |\n",
    "| 2 Right| -1 | -1 |"
   ]
  },
  {
   "cell_type": "markdown",
   "id": "f095ec84-3fcd-455c-bb3b-f9a72980048e",
   "metadata": {},
   "source": [
    "## Instantiate the agent"
   ]
  },
  {
   "cell_type": "code",
   "execution_count": 5,
   "id": "180453e4-128a-4f68-bb5f-2d4daf888d86",
   "metadata": {},
   "outputs": [],
   "source": [
    "a = Agent(valences)"
   ]
  },
  {
   "cell_type": "markdown",
   "id": "c16279c4-936b-4f37-a0c9-ca4b77609adf",
   "metadata": {},
   "source": [
    "## Run the simulation "
   ]
  },
  {
   "cell_type": "code",
   "execution_count": 6,
   "id": "17b3c8c8-0cbd-4f64-a97c-61519ad24dd1",
   "metadata": {
    "jupyter": {
     "source_hidden": true
    }
   },
   "outputs": [
    {
     "data": {
      "text/html": [
       "\n",
       "      <svg width=\"800\" height=\"500\">\n",
       "        <rect width=\"100%\" height=\"100%\" fill=\"lightgray\"/>\n",
       "        <line x1=\"400.0\" y1=\"250.0\" x2=\"410.0\" y2=\"250.0\" stroke-linecap=\"round\" style=\"stroke:green;stroke-width:4\"/><line x1=\"410.0\" y1=\"250.0\" x2=\"420.0\" y2=\"250.0\" stroke-linecap=\"round\" style=\"stroke:green;stroke-width:4\"/><line x1=\"420.0\" y1=\"250.0\" x2=\"430.0\" y2=\"250.0\" stroke-linecap=\"round\" style=\"stroke:green;stroke-width:4\"/><line x1=\"430.0\" y1=\"250.0\" x2=\"440.0\" y2=\"250.0\" stroke-linecap=\"round\" style=\"stroke:green;stroke-width:4\"/><line x1=\"440.0\" y1=\"250.0\" x2=\"450.0\" y2=\"250.0\" stroke-linecap=\"round\" style=\"stroke:green;stroke-width:4\"/><line x1=\"450.0\" y1=\"250.0\" x2=\"460.0\" y2=\"250.0\" stroke-linecap=\"round\" style=\"stroke:green;stroke-width:4\"/><line x1=\"460.0\" y1=\"250.0\" x2=\"470.0\" y2=\"250.0\" stroke-linecap=\"round\" style=\"stroke:green;stroke-width:4\"/><line x1=\"470.0\" y1=\"250.0\" x2=\"480.0\" y2=\"250.0\" stroke-linecap=\"round\" style=\"stroke:green;stroke-width:4\"/><line x1=\"480.0\" y1=\"250.0\" x2=\"490.0\" y2=\"250.0\" stroke-linecap=\"round\" style=\"stroke:green;stroke-width:4\"/><line x1=\"490.0\" y1=\"250.0\" x2=\"500.0\" y2=\"250.0\" stroke-linecap=\"round\" style=\"stroke:green;stroke-width:4\"/><line x1=\"500.0\" y1=\"250.0\" x2=\"510.0\" y2=\"250.0\" stroke-linecap=\"round\" style=\"stroke:green;stroke-width:4\"/><line x1=\"510.0\" y1=\"250.0\" x2=\"520.0\" y2=\"250.0\" stroke-linecap=\"round\" style=\"stroke:green;stroke-width:4\"/><line x1=\"520.0\" y1=\"250.0\" x2=\"530.0\" y2=\"250.0\" stroke-linecap=\"round\" style=\"stroke:green;stroke-width:4\"/><line x1=\"530.0\" y1=\"250.0\" x2=\"540.0\" y2=\"250.0\" stroke-linecap=\"round\" style=\"stroke:green;stroke-width:4\"/><line x1=\"540.0\" y1=\"250.0\" x2=\"550.0\" y2=\"250.0\" stroke-linecap=\"round\" style=\"stroke:green;stroke-width:4\"/><line x1=\"550.0\" y1=\"250.0\" x2=\"560.0\" y2=\"250.0\" stroke-linecap=\"round\" style=\"stroke:green;stroke-width:4\"/><line x1=\"560.0\" y1=\"250.0\" x2=\"570.0\" y2=\"250.0\" stroke-linecap=\"round\" style=\"stroke:green;stroke-width:4\"/><line x1=\"570.0\" y1=\"250.0\" x2=\"580.0\" y2=\"250.0\" stroke-linecap=\"round\" style=\"stroke:green;stroke-width:4\"/><line x1=\"580.0\" y1=\"250.0\" x2=\"590.0\" y2=\"250.0\" stroke-linecap=\"round\" style=\"stroke:green;stroke-width:4\"/><line x1=\"590.0\" y1=\"250.0\" x2=\"600.0\" y2=\"250.0\" stroke-linecap=\"round\" style=\"stroke:green;stroke-width:4\"/><line x1=\"600.0\" y1=\"250.0\" x2=\"610.0\" y2=\"250.0\" stroke-linecap=\"round\" style=\"stroke:green;stroke-width:4\"/><line x1=\"610.0\" y1=\"250.0\" x2=\"620.0\" y2=\"250.0\" stroke-linecap=\"round\" style=\"stroke:green;stroke-width:4\"/><line x1=\"620.0\" y1=\"250.0\" x2=\"630.0\" y2=\"250.0\" stroke-linecap=\"round\" style=\"stroke:green;stroke-width:4\"/><line x1=\"630.0\" y1=\"250.0\" x2=\"640.0\" y2=\"250.0\" stroke-linecap=\"round\" style=\"stroke:green;stroke-width:4\"/><line x1=\"640.0\" y1=\"250.0\" x2=\"650.0\" y2=\"250.0\" stroke-linecap=\"round\" style=\"stroke:green;stroke-width:4\"/><line x1=\"650.0\" y1=\"250.0\" x2=\"660.0\" y2=\"250.0\" stroke-linecap=\"round\" style=\"stroke:green;stroke-width:4\"/><line x1=\"660.0\" y1=\"250.0\" x2=\"670.0\" y2=\"250.0\" stroke-linecap=\"round\" style=\"stroke:green;stroke-width:4\"/><line x1=\"670.0\" y1=\"250.0\" x2=\"680.0\" y2=\"250.0\" stroke-linecap=\"round\" style=\"stroke:green;stroke-width:4\"/><line x1=\"680.0\" y1=\"250.0\" x2=\"690.0\" y2=\"250.0\" stroke-linecap=\"round\" style=\"stroke:green;stroke-width:4\"/><line x1=\"690.0\" y1=\"250.0\" x2=\"700.0\" y2=\"250.0\" stroke-linecap=\"round\" style=\"stroke:green;stroke-width:4\"/><line x1=\"700.0\" y1=\"250.0\" x2=\"710.0\" y2=\"250.0\" stroke-linecap=\"round\" style=\"stroke:green;stroke-width:4\"/><line x1=\"710.0\" y1=\"250.0\" x2=\"720.0\" y2=\"250.0\" stroke-linecap=\"round\" style=\"stroke:green;stroke-width:4\"/><line x1=\"720.0\" y1=\"250.0\" x2=\"730.0\" y2=\"250.0\" stroke-linecap=\"round\" style=\"stroke:green;stroke-width:4\"/><line x1=\"730.0\" y1=\"250.0\" x2=\"740.0\" y2=\"250.0\" stroke-linecap=\"round\" style=\"stroke:green;stroke-width:4\"/><line x1=\"740.0\" y1=\"250.0\" x2=\"750.0\" y2=\"250.0\" stroke-linecap=\"round\" style=\"stroke:green;stroke-width:4\"/><line x1=\"750.0\" y1=\"250.0\" x2=\"760.0\" y2=\"250.0\" stroke-linecap=\"round\" style=\"stroke:green;stroke-width:4\"/><line x1=\"760.0\" y1=\"250.0\" x2=\"770.0\" y2=\"250.0\" stroke-linecap=\"round\" style=\"stroke:green;stroke-width:4\"/><line x1=\"770.0\" y1=\"250.0\" x2=\"780.0\" y2=\"250.0\" stroke-linecap=\"round\" style=\"stroke:green;stroke-width:4\"/><line x1=\"780.0\" y1=\"250.0\" x2=\"790.0\" y2=\"250.0\" stroke-linecap=\"round\" style=\"stroke:green;stroke-width:4\"/><line x1=\"790.0\" y1=\"250.0\" x2=\"780\" y2=\"250.0\" stroke-linecap=\"round\" style=\"stroke:green;stroke-width:4\"/><line x1=\"780\" y1=\"250.0\" x2=\"790.0\" y2=\"250.0\" stroke-linecap=\"round\" style=\"stroke:red;stroke-width:4\"/><line x1=\"790.0\" y1=\"250.0\" x2=\"780\" y2=\"250.0\" stroke-linecap=\"round\" style=\"stroke:red;stroke-width:4\"/><line x1=\"780\" y1=\"250.0\" x2=\"790.0\" y2=\"250.0\" stroke-linecap=\"round\" style=\"stroke:red;stroke-width:4\"/><line x1=\"790.0\" y1=\"250.0\" x2=\"780\" y2=\"250.0\" stroke-linecap=\"round\" style=\"stroke:red;stroke-width:4\"/><line x1=\"780\" y1=\"250.0\" x2=\"790.0\" y2=\"250.0\" stroke-linecap=\"round\" style=\"stroke:red;stroke-width:4\"/><line x1=\"790.0\" y1=\"250.0\" x2=\"780\" y2=\"250.0\" stroke-linecap=\"round\" style=\"stroke:red;stroke-width:4\"/><line x1=\"780\" y1=\"250.0\" x2=\"790.0\" y2=\"250.0\" stroke-linecap=\"round\" style=\"stroke:red;stroke-width:4\"/><line x1=\"790.0\" y1=\"250.0\" x2=\"780\" y2=\"250.0\" stroke-linecap=\"round\" style=\"stroke:red;stroke-width:4\"/><line x1=\"780\" y1=\"250.0\" x2=\"790.0\" y2=\"250.0\" stroke-linecap=\"round\" style=\"stroke:red;stroke-width:4\"/><line x1=\"790.0\" y1=\"250.0\" x2=\"780\" y2=\"250.0\" stroke-linecap=\"round\" style=\"stroke:red;stroke-width:4\"/><line x1=\"780\" y1=\"250.0\" x2=\"790.0\" y2=\"250.0\" stroke-linecap=\"round\" style=\"stroke:red;stroke-width:4\"/><line x1=\"790.0\" y1=\"250.0\" x2=\"780\" y2=\"250.0\" stroke-linecap=\"round\" style=\"stroke:red;stroke-width:4\"/>\n",
       "        <g visibility=visible transform=\"rotate(90,780,250.0) translate(762, 232.0)\">\n",
       "<path style=\" stroke:none;fill-rule:evenodd;fill:red;fill-opacity:1;\" d=\"M 18.214844 0.632812 C 16.109375 1.800781 15.011719 4.074219 15.074219 7.132812 L 15.085938 7.652344 L 14.785156 7.496094 C 13.476562 6.824219 11.957031 6.671875 10.40625 7.066406 C 8.46875 7.550781 6.515625 9.15625 4.394531 11.992188 C 3.0625 13.777344 2.679688 14.636719 3.042969 15.027344 L 3.15625 15.152344 L 3.519531 15.152344 C 4.238281 15.152344 4.828125 14.886719 8.1875 13.039062 C 9.386719 12.378906 10.371094 11.839844 10.378906 11.839844 C 10.386719 11.839844 10.355469 11.929688 10.304688 12.035156 C 9.832031 13.09375 9.257812 14.820312 8.96875 16.078125 C 7.914062 20.652344 8.617188 24.53125 11.070312 27.660156 C 11.351562 28.015625 11.363281 27.914062 10.972656 28.382812 C 8.925781 30.84375 7.945312 33.28125 8.238281 35.1875 C 8.289062 35.527344 8.28125 35.523438 8.917969 35.523438 C 10.941406 35.523438 13.074219 34.207031 15.136719 31.6875 C 15.359375 31.417969 15.328125 31.425781 15.5625 31.574219 C 16.292969 32.042969 18.023438 32.964844 18.175781 32.964844 C 18.335938 32.964844 19.941406 32.210938 20.828125 31.71875 C 20.996094 31.625 21.136719 31.554688 21.136719 31.558594 C 21.203125 31.664062 21.898438 32.414062 22.222656 32.730469 C 23.835938 34.300781 25.5625 35.132812 27.582031 35.300781 C 27.90625 35.328125 27.9375 35.308594 28.007812 34.984375 C 28.382812 33.242188 27.625 30.925781 25.863281 28.425781 L 25.542969 27.96875 L 25.699219 27.785156 C 28.945312 23.960938 29.132812 18.699219 26.257812 11.96875 L 26.207031 11.84375 L 27.945312 12.703125 C 31.53125 14.476562 32.316406 14.800781 33.03125 14.800781 C 33.976562 14.800781 33.78125 13.9375 32.472656 12.292969 C 28.519531 7.355469 25.394531 5.925781 21.921875 7.472656 L 21.558594 7.636719 L 21.578125 7.542969 C 21.699219 6.992188 21.761719 5.742188 21.699219 5.164062 C 21.496094 3.296875 20.664062 1.964844 19.003906 0.855469 C 18.480469 0.503906 18.457031 0.5 18.214844 0.632812\"/>\n",
       "</g>\n",
       "      </svg>\n",
       "    "
      ],
      "text/plain": [
       "<IPython.core.display.HTML object>"
      ]
     },
     "metadata": {},
     "output_type": "display_data"
    },
    {
     "name": "stdout",
     "output_type": "stream",
     "text": [
      "Action: 0, Prediction: 0, Outcome: 0, Prediction: True, Valence: 1\n",
      "Action: 0, Prediction: 0, Outcome: 0, Prediction: True, Valence: 1\n",
      "Action: 0, Prediction: 0, Outcome: 0, Prediction: True, Valence: 1\n",
      "Action: 0, Prediction: 0, Outcome: 1, Prediction: False, Valence: -1\n",
      "Action: 0, Prediction: 0, Outcome: 1, Prediction: False, Valence: -1\n",
      "Action: 0, Prediction: 0, Outcome: 1, Prediction: False, Valence: -1\n",
      "Action: 0, Prediction: 0, Outcome: 1, Prediction: False, Valence: -1\n",
      "Action: 0, Prediction: 0, Outcome: 1, Prediction: False, Valence: -1\n",
      "Action: 0, Prediction: 0, Outcome: 1, Prediction: False, Valence: -1\n"
     ]
    }
   ],
   "source": [
    "# @title Run the simulation\n",
    "\n",
    "initializeTurtle()\n",
    "\n",
    "# Parameterize the rendering\n",
    "bgcolor(\"lightGray\")\n",
    "penup()\n",
    "goto(window_width() / 2, window_height()/2)\n",
    "face(0)\n",
    "pendown()\n",
    "color(\"green\")\n",
    "speed(10)\n",
    "\n",
    "e = ColabTurtleEnvironment()\n",
    "\n",
    "outcome = 0\n",
    "for i in range(10):\n",
    "    action = a.action(outcome)\n",
    "    outcome = e.outcome(action)"
   ]
  },
  {
   "cell_type": "markdown",
   "id": "febad285-e8e5-4c24-a46e-e9519a27581c",
   "metadata": {},
   "source": [
    "Observe the turtle moving in a straigt line until it bumps into the border of the window"
   ]
  },
  {
   "cell_type": "markdown",
   "id": "3019f138-a218-44b2-964a-8095fbe891a7",
   "metadata": {},
   "source": [
    "# PRELIMINARY EXERCISE"
   ]
  },
  {
   "cell_type": "markdown",
   "id": "f9daa278-434e-43ce-8520-8fabef69cd83",
   "metadata": {},
   "source": [
    "Copy Agent2 that you designed in your previous assignment to this notebook. \n",
    "\n",
    "Observe how your Agent2 behaves in this environment "
   ]
  },
  {
   "cell_type": "markdown",
   "id": "0d50d96e-4f12-4531-a122-9d13d8bd8639",
   "metadata": {},
   "source": [
    "# ASSIGNMENT"
   ]
  },
  {
   "cell_type": "markdown",
   "id": "199faee9-a546-4d86-8e09-484bf2212523",
   "metadata": {},
   "source": [
    "Implement Agent3 by modifying your previous Agent2 such that it can select 3 possible actions: `0`, `1`, or `2`.\n",
    "\n",
    "Choose the valences of interactions so that the agent does not remain stuck in a corner of the environment. "
   ]
  },
  {
   "cell_type": "markdown",
   "id": "c82b9a28-121c-4379-8701-1d49ad197b8d",
   "metadata": {},
   "source": [
    "## Create Agent3 by overriding the class Agent or your previous class Agent2"
   ]
  },
  {
   "cell_type": "code",
   "execution_count": 7,
   "id": "85b966d4-aca5-4a08-8413-d4906fdbbae8",
   "metadata": {},
   "outputs": [],
   "source": [
    "import random\n",
    "\n",
    "class Agent3(Agent):\n",
    "    def __init__(self, _valences):\n",
    "        super().__init__(_valences)\n",
    "        self.memory = dict()\n",
    "        self._compteur = 0\n",
    "        self._best_action = None\n",
    "        self._tab_best_action = list()\n",
    "        self._test_action =list()\n",
    "        for i in range(len(_valences)):\n",
    "            self._test_action.append(False)\n",
    "        \n",
    "    def action(self, _outcome):\n",
    "        \"\"\" tracing the previous cycle \"\"\"\n",
    "        if self._action is not None:\n",
    "            print(f\"Action: {self._action}, Prediction: {self._predicted_outcome}, Outcome: {_outcome}, \"\n",
    "                  f\"Prediction: {self._predicted_outcome == _outcome}, Valence: {self._valences[self._action][_outcome]}\")\n",
    "        else :\n",
    "            self._action = 0\n",
    "            self._test_action[self._action] = True\n",
    "            self._predicted_outcome = 0\n",
    "            self._compteur += 0\n",
    "            self._best_action = 0\n",
    "            self._best_outcome = _outcome\n",
    "            return self._action\n",
    "        self._tab_best_action = list()\n",
    "        if self._predicted_outcome == outcome:\n",
    "            self._compteur += 1\n",
    "        else:\n",
    "            self._compteur = 0\n",
    "        if self._predicted_outcome != _outcome or self.action not in self.memory:\n",
    "            self.memory[self._action] = _outcome\n",
    "            self._predicted_outcome = _outcome\n",
    "            \n",
    "        if self._best_action is None:\n",
    "            self._best_action = self._action\n",
    "        else :\n",
    "            for i in self.memory:\n",
    "                if self._valences[self._best_action][self.memory[self._best_action]] < self._valences[i][self.memory[i]]:\n",
    "                    self._best_action = i\n",
    "                elif self._valences[self._best_action][self.memory[self._best_action]] == self._valences[i][self.memory[i]]:\n",
    "                    self._tab_best_action.append(i)\n",
    "            \n",
    "        if len(self._tab_best_action) > 0:\n",
    "            self._action = self._tab_best_action[random.randint(0,len(self._tab_best_action)-1)]\n",
    "        \n",
    "        if self._compteur == 4:\n",
    "            for i in range(len(self._test_action)):\n",
    "                find = False\n",
    "                if self._test_action[i] == False:\n",
    "                    self._action = i\n",
    "                    self._test_action[i] = True\n",
    "                    self._compteur = 0\n",
    "                    find = True\n",
    "                    break\n",
    "            if find == False:\n",
    "                self._action = random.randint(0,len(self._valences)-1)\n",
    "                self._compteur = 0\n",
    "        \n",
    "        \"\"\" Computing the next action to enact \"\"\"\n",
    "        if self._action not in self.memory:\n",
    "            self._predicted_outcome = 0\n",
    "        else:\n",
    "            self._predicted_outcome = self.memory[self._action]\n",
    "            \n",
    "        return self._action"
   ]
  },
  {
   "cell_type": "markdown",
   "id": "5777dcc2-a3f4-4cfe-bc94-ea1ca1843b7c",
   "metadata": {},
   "source": [
    "## Choose the valence table"
   ]
  },
  {
   "cell_type": "markdown",
   "id": "82b6d2b2-d815-4440-9669-846f317a61d6",
   "metadata": {},
   "source": [
    "Replace the `valences` table by your choice in the code below"
   ]
  },
  {
   "cell_type": "code",
   "execution_count": 8,
   "id": "0f6d0d8f-42bc-4277-bc27-53e604393b49",
   "metadata": {},
   "outputs": [],
   "source": [
    "valences = [[1, -1],\n",
    "            [-1, 1],\n",
    "            [1, -1]]"
   ]
  },
  {
   "cell_type": "markdown",
   "id": "a07b3f5c-f48c-45ad-bf1d-4a703bac64af",
   "metadata": {},
   "source": [
    "## Test your agent in the TurtleEnvironment"
   ]
  },
  {
   "cell_type": "code",
   "execution_count": 9,
   "id": "d8025780-7d39-442d-9600-b40641e6d6c4",
   "metadata": {},
   "outputs": [
    {
     "data": {
      "text/html": [
       "\n",
       "      <svg width=\"800\" height=\"500\">\n",
       "        <rect width=\"100%\" height=\"100%\" fill=\"lightgray\"/>\n",
       "        <line x1=\"400.0\" y1=\"250.0\" x2=\"410.0\" y2=\"250.0\" stroke-linecap=\"round\" style=\"stroke:green;stroke-width:4\"/><line x1=\"410.0\" y1=\"250.0\" x2=\"420.0\" y2=\"250.0\" stroke-linecap=\"round\" style=\"stroke:green;stroke-width:4\"/><line x1=\"420.0\" y1=\"250.0\" x2=\"430.0\" y2=\"250.0\" stroke-linecap=\"round\" style=\"stroke:green;stroke-width:4\"/><line x1=\"430.0\" y1=\"250.0\" x2=\"440.0\" y2=\"250.0\" stroke-linecap=\"round\" style=\"stroke:green;stroke-width:4\"/><line x1=\"440.0\" y1=\"250.0\" x2=\"450.0\" y2=\"250.0\" stroke-linecap=\"round\" style=\"stroke:green;stroke-width:4\"/><line x1=\"450.0\" y1=\"250.0\" x2=\"460.0\" y2=\"250.0\" stroke-linecap=\"round\" style=\"stroke:green;stroke-width:4\"/><line x1=\"460.0\" y1=\"250.0\" x2=\"470.0\" y2=\"250.0\" stroke-linecap=\"round\" style=\"stroke:green;stroke-width:4\"/><line x1=\"470.0\" y1=\"250.0\" x2=\"480.0\" y2=\"250.0\" stroke-linecap=\"round\" style=\"stroke:green;stroke-width:4\"/><line x1=\"480.0\" y1=\"250.0\" x2=\"490.0\" y2=\"250.0\" stroke-linecap=\"round\" style=\"stroke:green;stroke-width:4\"/><line x1=\"490.0\" y1=\"250.0\" x2=\"500.0\" y2=\"250.0\" stroke-linecap=\"round\" style=\"stroke:green;stroke-width:4\"/><line x1=\"500.0\" y1=\"250.0\" x2=\"510.0\" y2=\"250.0\" stroke-linecap=\"round\" style=\"stroke:green;stroke-width:4\"/><line x1=\"510.0\" y1=\"250.0\" x2=\"520.0\" y2=\"250.0\" stroke-linecap=\"round\" style=\"stroke:green;stroke-width:4\"/><line x1=\"520.0\" y1=\"250.0\" x2=\"530.0\" y2=\"250.0\" stroke-linecap=\"round\" style=\"stroke:green;stroke-width:4\"/><line x1=\"530.0\" y1=\"250.0\" x2=\"540.0\" y2=\"250.0\" stroke-linecap=\"round\" style=\"stroke:green;stroke-width:4\"/><line x1=\"540.0\" y1=\"250.0\" x2=\"550.0\" y2=\"250.0\" stroke-linecap=\"round\" style=\"stroke:green;stroke-width:4\"/><line x1=\"550.0\" y1=\"250.0\" x2=\"560.0\" y2=\"250.0\" stroke-linecap=\"round\" style=\"stroke:green;stroke-width:4\"/><line x1=\"560.0\" y1=\"250.0\" x2=\"570.0\" y2=\"250.0\" stroke-linecap=\"round\" style=\"stroke:green;stroke-width:4\"/><line x1=\"570.0\" y1=\"250.0\" x2=\"580.0\" y2=\"250.0\" stroke-linecap=\"round\" style=\"stroke:green;stroke-width:4\"/><line x1=\"580.0\" y1=\"250.0\" x2=\"590.0\" y2=\"250.0\" stroke-linecap=\"round\" style=\"stroke:green;stroke-width:4\"/><line x1=\"590.0\" y1=\"250.0\" x2=\"600.0\" y2=\"250.0\" stroke-linecap=\"round\" style=\"stroke:green;stroke-width:4\"/><line x1=\"600.0\" y1=\"250.0\" x2=\"610.0\" y2=\"250.0\" stroke-linecap=\"round\" style=\"stroke:green;stroke-width:4\"/><line x1=\"610.0\" y1=\"250.0\" x2=\"620.0\" y2=\"250.0\" stroke-linecap=\"round\" style=\"stroke:green;stroke-width:4\"/><line x1=\"620.0\" y1=\"250.0\" x2=\"630.0\" y2=\"250.0\" stroke-linecap=\"round\" style=\"stroke:green;stroke-width:4\"/><line x1=\"630.0\" y1=\"250.0\" x2=\"640.0\" y2=\"250.0\" stroke-linecap=\"round\" style=\"stroke:green;stroke-width:4\"/><line x1=\"640.0\" y1=\"250.0\" x2=\"650.0\" y2=\"250.0\" stroke-linecap=\"round\" style=\"stroke:green;stroke-width:4\"/><line x1=\"650.0\" y1=\"250.0\" x2=\"660.0\" y2=\"250.0\" stroke-linecap=\"round\" style=\"stroke:green;stroke-width:4\"/><line x1=\"660.0\" y1=\"250.0\" x2=\"670.0\" y2=\"250.0\" stroke-linecap=\"round\" style=\"stroke:green;stroke-width:4\"/><line x1=\"670.0\" y1=\"250.0\" x2=\"680.0\" y2=\"250.0\" stroke-linecap=\"round\" style=\"stroke:green;stroke-width:4\"/><line x1=\"680.0\" y1=\"250.0\" x2=\"690.0\" y2=\"250.0\" stroke-linecap=\"round\" style=\"stroke:green;stroke-width:4\"/><line x1=\"690.0\" y1=\"250.0\" x2=\"700.0\" y2=\"250.0\" stroke-linecap=\"round\" style=\"stroke:green;stroke-width:4\"/><line x1=\"700.0\" y1=\"250.0\" x2=\"710.0\" y2=\"250.0\" stroke-linecap=\"round\" style=\"stroke:green;stroke-width:4\"/><line x1=\"710.0\" y1=\"250.0\" x2=\"720.0\" y2=\"250.0\" stroke-linecap=\"round\" style=\"stroke:green;stroke-width:4\"/><line x1=\"720.0\" y1=\"250.0\" x2=\"730.0\" y2=\"250.0\" stroke-linecap=\"round\" style=\"stroke:green;stroke-width:4\"/><line x1=\"730.0\" y1=\"250.0\" x2=\"740.0\" y2=\"250.0\" stroke-linecap=\"round\" style=\"stroke:green;stroke-width:4\"/><line x1=\"740.0\" y1=\"250.0\" x2=\"750.0\" y2=\"250.0\" stroke-linecap=\"round\" style=\"stroke:green;stroke-width:4\"/><line x1=\"750.0\" y1=\"250.0\" x2=\"760.0\" y2=\"250.0\" stroke-linecap=\"round\" style=\"stroke:green;stroke-width:4\"/><line x1=\"760.0\" y1=\"250.0\" x2=\"770.0\" y2=\"250.0\" stroke-linecap=\"round\" style=\"stroke:green;stroke-width:4\"/><line x1=\"770.0\" y1=\"250.0\" x2=\"780.0\" y2=\"250.0\" stroke-linecap=\"round\" style=\"stroke:green;stroke-width:4\"/><line x1=\"780.0\" y1=\"250.0\" x2=\"790.0\" y2=\"250.0\" stroke-linecap=\"round\" style=\"stroke:green;stroke-width:4\"/><line x1=\"790.0\" y1=\"250.0\" x2=\"780\" y2=\"250.0\" stroke-linecap=\"round\" style=\"stroke:green;stroke-width:4\"/><line x1=\"780\" y1=\"250.0\" x2=\"790.0\" y2=\"250.0\" stroke-linecap=\"round\" style=\"stroke:red;stroke-width:4\"/><line x1=\"790.0\" y1=\"250.0\" x2=\"780\" y2=\"250.0\" stroke-linecap=\"round\" style=\"stroke:red;stroke-width:4\"/><line x1=\"780\" y1=\"250.0\" x2=\"790.0\" y2=\"250.0\" stroke-linecap=\"round\" style=\"stroke:red;stroke-width:4\"/><line x1=\"790.0\" y1=\"250.0\" x2=\"780\" y2=\"250.0\" stroke-linecap=\"round\" style=\"stroke:red;stroke-width:4\"/><line x1=\"780\" y1=\"250.0\" x2=\"790.0\" y2=\"250.0\" stroke-linecap=\"round\" style=\"stroke:red;stroke-width:4\"/><line x1=\"790.0\" y1=\"250.0\" x2=\"780\" y2=\"250.0\" stroke-linecap=\"round\" style=\"stroke:red;stroke-width:4\"/><line x1=\"780\" y1=\"250.0\" x2=\"790.0\" y2=\"250.0\" stroke-linecap=\"round\" style=\"stroke:red;stroke-width:4\"/><line x1=\"790.0\" y1=\"250.0\" x2=\"780\" y2=\"250.0\" stroke-linecap=\"round\" style=\"stroke:red;stroke-width:4\"/><line x1=\"780\" y1=\"250.0\" x2=\"781.995\" y2=\"249.86\" stroke-linecap=\"round\" style=\"stroke:red;stroke-width:4\"/><line x1=\"781.995\" y1=\"249.86\" x2=\"780\" y2=\"249.86\" stroke-linecap=\"round\" style=\"stroke:red;stroke-width:4\"/><line x1=\"780\" y1=\"249.86\" x2=\"787.193\" y2=\"242.913\" stroke-linecap=\"round\" style=\"stroke:red;stroke-width:4\"/><line x1=\"787.193\" y1=\"242.913\" x2=\"780\" y2=\"242.913\" stroke-linecap=\"round\" style=\"stroke:red;stroke-width:4\"/><line x1=\"780\" y1=\"242.913\" x2=\"781.338\" y2=\"241.427\" stroke-linecap=\"round\" style=\"stroke:red;stroke-width:4\"/><line x1=\"781.338\" y1=\"241.427\" x2=\"780\" y2=\"241.427\" stroke-linecap=\"round\" style=\"stroke:red;stroke-width:4\"/><line x1=\"780\" y1=\"241.427\" x2=\"779.93\" y2=\"239.428\" stroke-linecap=\"round\" style=\"stroke:red;stroke-width:4\"/><line x1=\"779.93\" y1=\"239.428\" x2=\"779.721\" y2=\"237.439\" stroke-linecap=\"round\" style=\"stroke:green;stroke-width:4\"/><line x1=\"779.721\" y1=\"237.439\" x2=\"779.374\" y2=\"235.469\" stroke-linecap=\"round\" style=\"stroke:green;stroke-width:4\"/><line x1=\"779.374\" y1=\"235.469\" x2=\"778.89\" y2=\"233.528\" stroke-linecap=\"round\" style=\"stroke:green;stroke-width:4\"/><line x1=\"778.89\" y1=\"233.528\" x2=\"778.272\" y2=\"231.626\" stroke-linecap=\"round\" style=\"stroke:green;stroke-width:4\"/><line x1=\"778.272\" y1=\"231.626\" x2=\"777.523\" y2=\"229.772\" stroke-linecap=\"round\" style=\"stroke:green;stroke-width:4\"/><line x1=\"777.523\" y1=\"229.772\" x2=\"776.646\" y2=\"227.974\" stroke-linecap=\"round\" style=\"stroke:green;stroke-width:4\"/><line x1=\"776.646\" y1=\"227.974\" x2=\"775.646\" y2=\"226.242\" stroke-linecap=\"round\" style=\"stroke:green;stroke-width:4\"/><line x1=\"775.646\" y1=\"226.242\" x2=\"774.528\" y2=\"224.584\" stroke-linecap=\"round\" style=\"stroke:green;stroke-width:4\"/><line x1=\"774.528\" y1=\"224.584\" x2=\"773.297\" y2=\"223.008\" stroke-linecap=\"round\" style=\"stroke:green;stroke-width:4\"/><line x1=\"773.297\" y1=\"223.008\" x2=\"771.959\" y2=\"221.522\" stroke-linecap=\"round\" style=\"stroke:green;stroke-width:4\"/><line x1=\"771.959\" y1=\"221.522\" x2=\"770.52\" y2=\"220.133\" stroke-linecap=\"round\" style=\"stroke:green;stroke-width:4\"/><line x1=\"770.52\" y1=\"220.133\" x2=\"768.988\" y2=\"218.847\" stroke-linecap=\"round\" style=\"stroke:green;stroke-width:4\"/><line x1=\"768.988\" y1=\"218.847\" x2=\"767.37\" y2=\"217.671\" stroke-linecap=\"round\" style=\"stroke:green;stroke-width:4\"/><line x1=\"767.37\" y1=\"217.671\" x2=\"765.674\" y2=\"216.611\" stroke-linecap=\"round\" style=\"stroke:green;stroke-width:4\"/><line x1=\"765.674\" y1=\"216.611\" x2=\"763.908\" y2=\"215.672\" stroke-linecap=\"round\" style=\"stroke:green;stroke-width:4\"/><line x1=\"763.908\" y1=\"215.672\" x2=\"762.081\" y2=\"214.859\" stroke-linecap=\"round\" style=\"stroke:green;stroke-width:4\"/><line x1=\"762.081\" y1=\"214.859\" x2=\"760.202\" y2=\"214.175\" stroke-linecap=\"round\" style=\"stroke:green;stroke-width:4\"/><line x1=\"760.202\" y1=\"214.175\" x2=\"758.279\" y2=\"213.624\" stroke-linecap=\"round\" style=\"stroke:green;stroke-width:4\"/><line x1=\"758.279\" y1=\"213.624\" x2=\"756.323\" y2=\"213.208\" stroke-linecap=\"round\" style=\"stroke:green;stroke-width:4\"/><line x1=\"756.323\" y1=\"213.208\" x2=\"754.342\" y2=\"212.93\" stroke-linecap=\"round\" style=\"stroke:green;stroke-width:4\"/><line x1=\"754.342\" y1=\"212.93\" x2=\"752.347\" y2=\"212.79\" stroke-linecap=\"round\" style=\"stroke:green;stroke-width:4\"/><line x1=\"752.347\" y1=\"212.79\" x2=\"750.347\" y2=\"212.79\" stroke-linecap=\"round\" style=\"stroke:green;stroke-width:4\"/><line x1=\"750.347\" y1=\"212.79\" x2=\"748.352\" y2=\"212.93\" stroke-linecap=\"round\" style=\"stroke:green;stroke-width:4\"/><line x1=\"748.352\" y1=\"212.93\" x2=\"746.371\" y2=\"213.208\" stroke-linecap=\"round\" style=\"stroke:green;stroke-width:4\"/><line x1=\"746.371\" y1=\"213.208\" x2=\"744.415\" y2=\"213.624\" stroke-linecap=\"round\" style=\"stroke:green;stroke-width:4\"/><line x1=\"744.415\" y1=\"213.624\" x2=\"742.492\" y2=\"214.175\" stroke-linecap=\"round\" style=\"stroke:green;stroke-width:4\"/><line x1=\"742.492\" y1=\"214.175\" x2=\"740.613\" y2=\"214.859\" stroke-linecap=\"round\" style=\"stroke:green;stroke-width:4\"/><line x1=\"740.613\" y1=\"214.859\" x2=\"738.786\" y2=\"215.672\" stroke-linecap=\"round\" style=\"stroke:green;stroke-width:4\"/><line x1=\"738.786\" y1=\"215.672\" x2=\"737.02\" y2=\"216.611\" stroke-linecap=\"round\" style=\"stroke:green;stroke-width:4\"/><line x1=\"737.02\" y1=\"216.611\" x2=\"735.324\" y2=\"217.671\" stroke-linecap=\"round\" style=\"stroke:green;stroke-width:4\"/><line x1=\"735.324\" y1=\"217.671\" x2=\"733.706\" y2=\"218.847\" stroke-linecap=\"round\" style=\"stroke:green;stroke-width:4\"/><line x1=\"733.706\" y1=\"218.847\" x2=\"732.174\" y2=\"220.133\" stroke-linecap=\"round\" style=\"stroke:green;stroke-width:4\"/><line x1=\"732.174\" y1=\"220.133\" x2=\"730.735\" y2=\"221.522\" stroke-linecap=\"round\" style=\"stroke:green;stroke-width:4\"/><line x1=\"730.735\" y1=\"221.522\" x2=\"729.397\" y2=\"223.008\" stroke-linecap=\"round\" style=\"stroke:green;stroke-width:4\"/><line x1=\"729.397\" y1=\"223.008\" x2=\"728.166\" y2=\"224.584\" stroke-linecap=\"round\" style=\"stroke:green;stroke-width:4\"/><line x1=\"728.166\" y1=\"224.584\" x2=\"727.048\" y2=\"226.242\" stroke-linecap=\"round\" style=\"stroke:green;stroke-width:4\"/><line x1=\"727.048\" y1=\"226.242\" x2=\"726.048\" y2=\"227.974\" stroke-linecap=\"round\" style=\"stroke:green;stroke-width:4\"/><line x1=\"726.048\" y1=\"227.974\" x2=\"725.171\" y2=\"229.772\" stroke-linecap=\"round\" style=\"stroke:green;stroke-width:4\"/><line x1=\"725.171\" y1=\"229.772\" x2=\"724.422\" y2=\"231.626\" stroke-linecap=\"round\" style=\"stroke:green;stroke-width:4\"/><line x1=\"724.422\" y1=\"231.626\" x2=\"720.676\" y2=\"240.898\" stroke-linecap=\"round\" style=\"stroke:green;stroke-width:4\"/><line x1=\"720.676\" y1=\"240.898\" x2=\"716.93\" y2=\"250.17\" stroke-linecap=\"round\" style=\"stroke:green;stroke-width:4\"/><line x1=\"716.93\" y1=\"250.17\" x2=\"713.184\" y2=\"259.442\" stroke-linecap=\"round\" style=\"stroke:green;stroke-width:4\"/><line x1=\"713.184\" y1=\"259.442\" x2=\"709.438\" y2=\"268.714\" stroke-linecap=\"round\" style=\"stroke:green;stroke-width:4\"/><line x1=\"709.438\" y1=\"268.714\" x2=\"705.692\" y2=\"277.986\" stroke-linecap=\"round\" style=\"stroke:green;stroke-width:4\"/><line x1=\"705.692\" y1=\"277.986\" x2=\"701.946\" y2=\"287.258\" stroke-linecap=\"round\" style=\"stroke:green;stroke-width:4\"/><line x1=\"701.946\" y1=\"287.258\" x2=\"698.2\" y2=\"296.53\" stroke-linecap=\"round\" style=\"stroke:green;stroke-width:4\"/><line x1=\"698.2\" y1=\"296.53\" x2=\"694.454\" y2=\"305.802\" stroke-linecap=\"round\" style=\"stroke:green;stroke-width:4\"/><line x1=\"694.454\" y1=\"305.802\" x2=\"690.708\" y2=\"315.074\" stroke-linecap=\"round\" style=\"stroke:green;stroke-width:4\"/><line x1=\"690.708\" y1=\"315.074\" x2=\"686.962\" y2=\"324.346\" stroke-linecap=\"round\" style=\"stroke:green;stroke-width:4\"/><line x1=\"686.962\" y1=\"324.346\" x2=\"683.216\" y2=\"333.618\" stroke-linecap=\"round\" style=\"stroke:green;stroke-width:4\"/><line x1=\"683.216\" y1=\"333.618\" x2=\"679.47\" y2=\"342.89\" stroke-linecap=\"round\" style=\"stroke:green;stroke-width:4\"/><line x1=\"679.47\" y1=\"342.89\" x2=\"675.724\" y2=\"352.162\" stroke-linecap=\"round\" style=\"stroke:green;stroke-width:4\"/><line x1=\"675.724\" y1=\"352.162\" x2=\"671.978\" y2=\"361.434\" stroke-linecap=\"round\" style=\"stroke:green;stroke-width:4\"/><line x1=\"671.978\" y1=\"361.434\" x2=\"668.232\" y2=\"370.706\" stroke-linecap=\"round\" style=\"stroke:green;stroke-width:4\"/><line x1=\"668.232\" y1=\"370.706\" x2=\"664.486\" y2=\"379.978\" stroke-linecap=\"round\" style=\"stroke:green;stroke-width:4\"/><line x1=\"664.486\" y1=\"379.978\" x2=\"660.74\" y2=\"389.25\" stroke-linecap=\"round\" style=\"stroke:green;stroke-width:4\"/><line x1=\"660.74\" y1=\"389.25\" x2=\"656.994\" y2=\"398.522\" stroke-linecap=\"round\" style=\"stroke:green;stroke-width:4\"/><line x1=\"656.994\" y1=\"398.522\" x2=\"653.248\" y2=\"407.794\" stroke-linecap=\"round\" style=\"stroke:green;stroke-width:4\"/><line x1=\"653.248\" y1=\"407.794\" x2=\"649.502\" y2=\"417.066\" stroke-linecap=\"round\" style=\"stroke:green;stroke-width:4\"/><line x1=\"649.502\" y1=\"417.066\" x2=\"645.756\" y2=\"426.338\" stroke-linecap=\"round\" style=\"stroke:green;stroke-width:4\"/><line x1=\"645.756\" y1=\"426.338\" x2=\"642.01\" y2=\"435.61\" stroke-linecap=\"round\" style=\"stroke:green;stroke-width:4\"/><line x1=\"642.01\" y1=\"435.61\" x2=\"638.264\" y2=\"444.882\" stroke-linecap=\"round\" style=\"stroke:green;stroke-width:4\"/><line x1=\"638.264\" y1=\"444.882\" x2=\"634.518\" y2=\"454.154\" stroke-linecap=\"round\" style=\"stroke:green;stroke-width:4\"/><line x1=\"634.518\" y1=\"454.154\" x2=\"630.772\" y2=\"463.426\" stroke-linecap=\"round\" style=\"stroke:green;stroke-width:4\"/><line x1=\"630.772\" y1=\"463.426\" x2=\"627.026\" y2=\"472.698\" stroke-linecap=\"round\" style=\"stroke:green;stroke-width:4\"/><line x1=\"627.026\" y1=\"472.698\" x2=\"623.28\" y2=\"481.97\" stroke-linecap=\"round\" style=\"stroke:green;stroke-width:4\"/><line x1=\"623.28\" y1=\"481.97\" x2=\"623.28\" y2=\"480\" stroke-linecap=\"round\" style=\"stroke:green;stroke-width:4\"/><line x1=\"623.28\" y1=\"480\" x2=\"619.534\" y2=\"489.272\" stroke-linecap=\"round\" style=\"stroke:red;stroke-width:4\"/><line x1=\"619.534\" y1=\"489.272\" x2=\"619.534\" y2=\"480\" stroke-linecap=\"round\" style=\"stroke:red;stroke-width:4\"/><line x1=\"619.534\" y1=\"480\" x2=\"618.916\" y2=\"481.902\" stroke-linecap=\"round\" style=\"stroke:red;stroke-width:4\"/><line x1=\"618.916\" y1=\"481.902\" x2=\"618.916\" y2=\"480\" stroke-linecap=\"round\" style=\"stroke:red;stroke-width:4\"/><line x1=\"618.916\" y1=\"480\" x2=\"622.662\" y2=\"489.272\" stroke-linecap=\"round\" style=\"stroke:red;stroke-width:4\"/><line x1=\"622.662\" y1=\"489.272\" x2=\"622.662\" y2=\"480\" stroke-linecap=\"round\" style=\"stroke:red;stroke-width:4\"/><line x1=\"622.662\" y1=\"480\" x2=\"623.539\" y2=\"481.798\" stroke-linecap=\"round\" style=\"stroke:red;stroke-width:4\"/><line x1=\"623.539\" y1=\"481.798\" x2=\"623.539\" y2=\"480\" stroke-linecap=\"round\" style=\"stroke:red;stroke-width:4\"/><line x1=\"623.539\" y1=\"480\" x2=\"625.418\" y2=\"480.684\" stroke-linecap=\"round\" style=\"stroke:red;stroke-width:4\"/><line x1=\"625.418\" y1=\"480.684\" x2=\"625.418\" y2=\"480\" stroke-linecap=\"round\" style=\"stroke:red;stroke-width:4\"/><line x1=\"625.418\" y1=\"480\" x2=\"627.245\" y2=\"479.187\" stroke-linecap=\"round\" style=\"stroke:red;stroke-width:4\"/><line x1=\"627.245\" y1=\"479.187\" x2=\"629.011\" y2=\"478.248\" stroke-linecap=\"round\" style=\"stroke:green;stroke-width:4\"/><line x1=\"629.011\" y1=\"478.248\" x2=\"630.707\" y2=\"477.188\" stroke-linecap=\"round\" style=\"stroke:green;stroke-width:4\"/><line x1=\"630.707\" y1=\"477.188\" x2=\"632.325\" y2=\"476.012\" stroke-linecap=\"round\" style=\"stroke:green;stroke-width:4\"/><line x1=\"632.325\" y1=\"476.012\" x2=\"633.857\" y2=\"474.726\" stroke-linecap=\"round\" style=\"stroke:green;stroke-width:4\"/><line x1=\"633.857\" y1=\"474.726\" x2=\"635.296\" y2=\"473.337\" stroke-linecap=\"round\" style=\"stroke:green;stroke-width:4\"/><line x1=\"635.296\" y1=\"473.337\" x2=\"636.634\" y2=\"471.851\" stroke-linecap=\"round\" style=\"stroke:green;stroke-width:4\"/><line x1=\"636.634\" y1=\"471.851\" x2=\"637.865\" y2=\"470.275\" stroke-linecap=\"round\" style=\"stroke:green;stroke-width:4\"/><line x1=\"637.865\" y1=\"470.275\" x2=\"638.983\" y2=\"468.617\" stroke-linecap=\"round\" style=\"stroke:green;stroke-width:4\"/><line x1=\"638.983\" y1=\"468.617\" x2=\"639.983\" y2=\"466.885\" stroke-linecap=\"round\" style=\"stroke:green;stroke-width:4\"/><line x1=\"639.983\" y1=\"466.885\" x2=\"640.86\" y2=\"465.087\" stroke-linecap=\"round\" style=\"stroke:green;stroke-width:4\"/><line x1=\"640.86\" y1=\"465.087\" x2=\"641.609\" y2=\"463.233\" stroke-linecap=\"round\" style=\"stroke:green;stroke-width:4\"/><line x1=\"641.609\" y1=\"463.233\" x2=\"642.227\" y2=\"461.331\" stroke-linecap=\"round\" style=\"stroke:green;stroke-width:4\"/><line x1=\"642.227\" y1=\"461.331\" x2=\"642.711\" y2=\"459.39\" stroke-linecap=\"round\" style=\"stroke:green;stroke-width:4\"/><line x1=\"642.711\" y1=\"459.39\" x2=\"643.058\" y2=\"457.42\" stroke-linecap=\"round\" style=\"stroke:green;stroke-width:4\"/><line x1=\"643.058\" y1=\"457.42\" x2=\"643.267\" y2=\"455.431\" stroke-linecap=\"round\" style=\"stroke:green;stroke-width:4\"/><line x1=\"643.267\" y1=\"455.431\" x2=\"643.337\" y2=\"453.432\" stroke-linecap=\"round\" style=\"stroke:green;stroke-width:4\"/><line x1=\"643.337\" y1=\"453.432\" x2=\"643.267\" y2=\"451.433\" stroke-linecap=\"round\" style=\"stroke:green;stroke-width:4\"/><line x1=\"643.267\" y1=\"451.433\" x2=\"643.058\" y2=\"449.444\" stroke-linecap=\"round\" style=\"stroke:green;stroke-width:4\"/><line x1=\"643.058\" y1=\"449.444\" x2=\"642.711\" y2=\"447.474\" stroke-linecap=\"round\" style=\"stroke:green;stroke-width:4\"/><line x1=\"642.711\" y1=\"447.474\" x2=\"642.227\" y2=\"445.533\" stroke-linecap=\"round\" style=\"stroke:green;stroke-width:4\"/><line x1=\"642.227\" y1=\"445.533\" x2=\"641.609\" y2=\"443.631\" stroke-linecap=\"round\" style=\"stroke:green;stroke-width:4\"/><line x1=\"641.609\" y1=\"443.631\" x2=\"640.86\" y2=\"441.777\" stroke-linecap=\"round\" style=\"stroke:green;stroke-width:4\"/><line x1=\"640.86\" y1=\"441.777\" x2=\"639.983\" y2=\"439.979\" stroke-linecap=\"round\" style=\"stroke:green;stroke-width:4\"/><line x1=\"639.983\" y1=\"439.979\" x2=\"638.983\" y2=\"438.247\" stroke-linecap=\"round\" style=\"stroke:green;stroke-width:4\"/><line x1=\"638.983\" y1=\"438.247\" x2=\"637.865\" y2=\"436.589\" stroke-linecap=\"round\" style=\"stroke:green;stroke-width:4\"/><line x1=\"637.865\" y1=\"436.589\" x2=\"636.634\" y2=\"435.013\" stroke-linecap=\"round\" style=\"stroke:green;stroke-width:4\"/><line x1=\"636.634\" y1=\"435.013\" x2=\"635.296\" y2=\"433.527\" stroke-linecap=\"round\" style=\"stroke:green;stroke-width:4\"/><line x1=\"635.296\" y1=\"433.527\" x2=\"633.857\" y2=\"432.138\" stroke-linecap=\"round\" style=\"stroke:green;stroke-width:4\"/><line x1=\"633.857\" y1=\"432.138\" x2=\"632.325\" y2=\"430.852\" stroke-linecap=\"round\" style=\"stroke:green;stroke-width:4\"/><line x1=\"632.325\" y1=\"430.852\" x2=\"624.665\" y2=\"424.424\" stroke-linecap=\"round\" style=\"stroke:green;stroke-width:4\"/><line x1=\"624.665\" y1=\"424.424\" x2=\"617.005\" y2=\"417.996\" stroke-linecap=\"round\" style=\"stroke:green;stroke-width:4\"/><line x1=\"617.005\" y1=\"417.996\" x2=\"609.345\" y2=\"411.568\" stroke-linecap=\"round\" style=\"stroke:green;stroke-width:4\"/><line x1=\"609.345\" y1=\"411.568\" x2=\"601.685\" y2=\"405.14\" stroke-linecap=\"round\" style=\"stroke:green;stroke-width:4\"/><line x1=\"601.685\" y1=\"405.14\" x2=\"594.025\" y2=\"398.712\" stroke-linecap=\"round\" style=\"stroke:green;stroke-width:4\"/><line x1=\"594.025\" y1=\"398.712\" x2=\"586.365\" y2=\"392.284\" stroke-linecap=\"round\" style=\"stroke:green;stroke-width:4\"/><line x1=\"586.365\" y1=\"392.284\" x2=\"578.705\" y2=\"385.856\" stroke-linecap=\"round\" style=\"stroke:green;stroke-width:4\"/><line x1=\"578.705\" y1=\"385.856\" x2=\"571.045\" y2=\"379.428\" stroke-linecap=\"round\" style=\"stroke:green;stroke-width:4\"/><line x1=\"571.045\" y1=\"379.428\" x2=\"563.385\" y2=\"373.0\" stroke-linecap=\"round\" style=\"stroke:green;stroke-width:4\"/><line x1=\"563.385\" y1=\"373.0\" x2=\"555.725\" y2=\"366.572\" stroke-linecap=\"round\" style=\"stroke:green;stroke-width:4\"/><line x1=\"555.725\" y1=\"366.572\" x2=\"548.065\" y2=\"360.144\" stroke-linecap=\"round\" style=\"stroke:green;stroke-width:4\"/><line x1=\"548.065\" y1=\"360.144\" x2=\"540.405\" y2=\"353.716\" stroke-linecap=\"round\" style=\"stroke:green;stroke-width:4\"/><line x1=\"540.405\" y1=\"353.716\" x2=\"532.745\" y2=\"347.288\" stroke-linecap=\"round\" style=\"stroke:green;stroke-width:4\"/><line x1=\"532.745\" y1=\"347.288\" x2=\"525.085\" y2=\"340.86\" stroke-linecap=\"round\" style=\"stroke:green;stroke-width:4\"/><line x1=\"525.085\" y1=\"340.86\" x2=\"517.425\" y2=\"334.432\" stroke-linecap=\"round\" style=\"stroke:green;stroke-width:4\"/><line x1=\"517.425\" y1=\"334.432\" x2=\"509.765\" y2=\"328.004\" stroke-linecap=\"round\" style=\"stroke:green;stroke-width:4\"/><line x1=\"509.765\" y1=\"328.004\" x2=\"502.105\" y2=\"321.576\" stroke-linecap=\"round\" style=\"stroke:green;stroke-width:4\"/><line x1=\"502.105\" y1=\"321.576\" x2=\"494.445\" y2=\"315.148\" stroke-linecap=\"round\" style=\"stroke:green;stroke-width:4\"/><line x1=\"494.445\" y1=\"315.148\" x2=\"486.785\" y2=\"308.72\" stroke-linecap=\"round\" style=\"stroke:green;stroke-width:4\"/><line x1=\"486.785\" y1=\"308.72\" x2=\"479.125\" y2=\"302.292\" stroke-linecap=\"round\" style=\"stroke:green;stroke-width:4\"/><line x1=\"479.125\" y1=\"302.292\" x2=\"471.465\" y2=\"295.864\" stroke-linecap=\"round\" style=\"stroke:green;stroke-width:4\"/><line x1=\"471.465\" y1=\"295.864\" x2=\"463.805\" y2=\"289.436\" stroke-linecap=\"round\" style=\"stroke:green;stroke-width:4\"/><line x1=\"463.805\" y1=\"289.436\" x2=\"456.145\" y2=\"283.008\" stroke-linecap=\"round\" style=\"stroke:green;stroke-width:4\"/><line x1=\"456.145\" y1=\"283.008\" x2=\"448.485\" y2=\"276.58\" stroke-linecap=\"round\" style=\"stroke:green;stroke-width:4\"/><line x1=\"448.485\" y1=\"276.58\" x2=\"440.825\" y2=\"270.152\" stroke-linecap=\"round\" style=\"stroke:green;stroke-width:4\"/><line x1=\"440.825\" y1=\"270.152\" x2=\"433.165\" y2=\"263.724\" stroke-linecap=\"round\" style=\"stroke:green;stroke-width:4\"/><line x1=\"433.165\" y1=\"263.724\" x2=\"425.505\" y2=\"257.296\" stroke-linecap=\"round\" style=\"stroke:green;stroke-width:4\"/><line x1=\"425.505\" y1=\"257.296\" x2=\"417.845\" y2=\"250.868\" stroke-linecap=\"round\" style=\"stroke:green;stroke-width:4\"/><line x1=\"417.845\" y1=\"250.868\" x2=\"410.185\" y2=\"244.44\" stroke-linecap=\"round\" style=\"stroke:green;stroke-width:4\"/><line x1=\"410.185\" y1=\"244.44\" x2=\"402.525\" y2=\"238.012\" stroke-linecap=\"round\" style=\"stroke:green;stroke-width:4\"/><line x1=\"402.525\" y1=\"238.012\" x2=\"394.865\" y2=\"231.584\" stroke-linecap=\"round\" style=\"stroke:green;stroke-width:4\"/><line x1=\"394.865\" y1=\"231.584\" x2=\"387.205\" y2=\"225.156\" stroke-linecap=\"round\" style=\"stroke:green;stroke-width:4\"/><line x1=\"387.205\" y1=\"225.156\" x2=\"379.545\" y2=\"218.728\" stroke-linecap=\"round\" style=\"stroke:green;stroke-width:4\"/><line x1=\"379.545\" y1=\"218.728\" x2=\"371.885\" y2=\"212.3\" stroke-linecap=\"round\" style=\"stroke:green;stroke-width:4\"/><line x1=\"371.885\" y1=\"212.3\" x2=\"364.225\" y2=\"205.872\" stroke-linecap=\"round\" style=\"stroke:green;stroke-width:4\"/><line x1=\"364.225\" y1=\"205.872\" x2=\"356.565\" y2=\"199.444\" stroke-linecap=\"round\" style=\"stroke:green;stroke-width:4\"/><line x1=\"356.565\" y1=\"199.444\" x2=\"348.905\" y2=\"193.016\" stroke-linecap=\"round\" style=\"stroke:green;stroke-width:4\"/><line x1=\"348.905\" y1=\"193.016\" x2=\"341.245\" y2=\"186.588\" stroke-linecap=\"round\" style=\"stroke:green;stroke-width:4\"/><line x1=\"341.245\" y1=\"186.588\" x2=\"333.585\" y2=\"180.16\" stroke-linecap=\"round\" style=\"stroke:green;stroke-width:4\"/><line x1=\"333.585\" y1=\"180.16\" x2=\"325.925\" y2=\"173.732\" stroke-linecap=\"round\" style=\"stroke:green;stroke-width:4\"/><line x1=\"325.925\" y1=\"173.732\" x2=\"318.265\" y2=\"167.304\" stroke-linecap=\"round\" style=\"stroke:green;stroke-width:4\"/><line x1=\"318.265\" y1=\"167.304\" x2=\"310.605\" y2=\"160.876\" stroke-linecap=\"round\" style=\"stroke:green;stroke-width:4\"/><line x1=\"310.605\" y1=\"160.876\" x2=\"302.945\" y2=\"154.448\" stroke-linecap=\"round\" style=\"stroke:green;stroke-width:4\"/><line x1=\"302.945\" y1=\"154.448\" x2=\"295.285\" y2=\"148.02\" stroke-linecap=\"round\" style=\"stroke:green;stroke-width:4\"/><line x1=\"295.285\" y1=\"148.02\" x2=\"287.625\" y2=\"141.592\" stroke-linecap=\"round\" style=\"stroke:green;stroke-width:4\"/><line x1=\"287.625\" y1=\"141.592\" x2=\"279.965\" y2=\"135.164\" stroke-linecap=\"round\" style=\"stroke:green;stroke-width:4\"/><line x1=\"279.965\" y1=\"135.164\" x2=\"272.305\" y2=\"128.736\" stroke-linecap=\"round\" style=\"stroke:green;stroke-width:4\"/><line x1=\"272.305\" y1=\"128.736\" x2=\"264.645\" y2=\"122.308\" stroke-linecap=\"round\" style=\"stroke:green;stroke-width:4\"/><line x1=\"264.645\" y1=\"122.308\" x2=\"256.985\" y2=\"115.88\" stroke-linecap=\"round\" style=\"stroke:green;stroke-width:4\"/><line x1=\"256.985\" y1=\"115.88\" x2=\"249.325\" y2=\"109.452\" stroke-linecap=\"round\" style=\"stroke:green;stroke-width:4\"/><line x1=\"249.325\" y1=\"109.452\" x2=\"247.886\" y2=\"108.063\" stroke-linecap=\"round\" style=\"stroke:green;stroke-width:4\"/><line x1=\"247.886\" y1=\"108.063\" x2=\"246.548\" y2=\"106.577\" stroke-linecap=\"round\" style=\"stroke:green;stroke-width:4\"/><line x1=\"246.548\" y1=\"106.577\" x2=\"245.317\" y2=\"105.001\" stroke-linecap=\"round\" style=\"stroke:green;stroke-width:4\"/><line x1=\"245.317\" y1=\"105.001\" x2=\"244.199\" y2=\"103.343\" stroke-linecap=\"round\" style=\"stroke:green;stroke-width:4\"/><line x1=\"244.199\" y1=\"103.343\" x2=\"243.199\" y2=\"101.611\" stroke-linecap=\"round\" style=\"stroke:green;stroke-width:4\"/><line x1=\"243.199\" y1=\"101.611\" x2=\"242.322\" y2=\"99.813\" stroke-linecap=\"round\" style=\"stroke:green;stroke-width:4\"/><line x1=\"242.322\" y1=\"99.813\" x2=\"241.573\" y2=\"97.959\" stroke-linecap=\"round\" style=\"stroke:green;stroke-width:4\"/><line x1=\"241.573\" y1=\"97.959\" x2=\"240.955\" y2=\"96.057\" stroke-linecap=\"round\" style=\"stroke:green;stroke-width:4\"/><line x1=\"240.955\" y1=\"96.057\" x2=\"240.471\" y2=\"94.116\" stroke-linecap=\"round\" style=\"stroke:green;stroke-width:4\"/><line x1=\"240.471\" y1=\"94.116\" x2=\"240.124\" y2=\"92.146\" stroke-linecap=\"round\" style=\"stroke:green;stroke-width:4\"/><line x1=\"240.124\" y1=\"92.146\" x2=\"238.388\" y2=\"82.298\" stroke-linecap=\"round\" style=\"stroke:green;stroke-width:4\"/><line x1=\"238.388\" y1=\"82.298\" x2=\"236.652\" y2=\"72.45\" stroke-linecap=\"round\" style=\"stroke:green;stroke-width:4\"/><line x1=\"236.652\" y1=\"72.45\" x2=\"234.916\" y2=\"62.602\" stroke-linecap=\"round\" style=\"stroke:green;stroke-width:4\"/><line x1=\"234.916\" y1=\"62.602\" x2=\"233.18\" y2=\"52.754\" stroke-linecap=\"round\" style=\"stroke:green;stroke-width:4\"/><line x1=\"233.18\" y1=\"52.754\" x2=\"231.444\" y2=\"42.906\" stroke-linecap=\"round\" style=\"stroke:green;stroke-width:4\"/><line x1=\"231.444\" y1=\"42.906\" x2=\"229.708\" y2=\"33.058\" stroke-linecap=\"round\" style=\"stroke:green;stroke-width:4\"/><line x1=\"229.708\" y1=\"33.058\" x2=\"227.972\" y2=\"23.21\" stroke-linecap=\"round\" style=\"stroke:green;stroke-width:4\"/><line x1=\"227.972\" y1=\"23.21\" x2=\"226.236\" y2=\"13.362\" stroke-linecap=\"round\" style=\"stroke:green;stroke-width:4\"/><line x1=\"226.236\" y1=\"13.362\" x2=\"226.236\" y2=\"20\" stroke-linecap=\"round\" style=\"stroke:green;stroke-width:4\"/><line x1=\"226.236\" y1=\"20\" x2=\"225.752\" y2=\"18.059\" stroke-linecap=\"round\" style=\"stroke:red;stroke-width:4\"/><line x1=\"225.752\" y1=\"18.059\" x2=\"225.752\" y2=\"20\" stroke-linecap=\"round\" style=\"stroke:red;stroke-width:4\"/><line x1=\"225.752\" y1=\"20\" x2=\"224.22\" y2=\"18.714\" stroke-linecap=\"round\" style=\"stroke:red;stroke-width:4\"/><line x1=\"224.22\" y1=\"18.714\" x2=\"224.22\" y2=\"20\" stroke-linecap=\"round\" style=\"stroke:red;stroke-width:4\"/><line x1=\"224.22\" y1=\"20\" x2=\"222.484\" y2=\"10.152\" stroke-linecap=\"round\" style=\"stroke:red;stroke-width:4\"/><line x1=\"222.484\" y1=\"10.152\" x2=\"222.484\" y2=\"20\" stroke-linecap=\"round\" style=\"stroke:red;stroke-width:4\"/><line x1=\"222.484\" y1=\"20\" x2=\"222.0\" y2=\"18.059\" stroke-linecap=\"round\" style=\"stroke:red;stroke-width:4\"/><line x1=\"222.0\" y1=\"18.059\" x2=\"222.0\" y2=\"20\" stroke-linecap=\"round\" style=\"stroke:red;stroke-width:4\"/><line x1=\"222.0\" y1=\"20\" x2=\"220.304\" y2=\"18.94\" stroke-linecap=\"round\" style=\"stroke:red;stroke-width:4\"/><line x1=\"220.304\" y1=\"18.94\" x2=\"220.304\" y2=\"20\" stroke-linecap=\"round\" style=\"stroke:red;stroke-width:4\"/><line x1=\"220.304\" y1=\"20\" x2=\"218.348\" y2=\"20.416\" stroke-linecap=\"round\" style=\"stroke:red;stroke-width:4\"/><line x1=\"218.348\" y1=\"20.416\" x2=\"216.425\" y2=\"20.967\" stroke-linecap=\"round\" style=\"stroke:green;stroke-width:4\"/><line x1=\"216.425\" y1=\"20.967\" x2=\"214.546\" y2=\"21.651\" stroke-linecap=\"round\" style=\"stroke:green;stroke-width:4\"/><line x1=\"214.546\" y1=\"21.651\" x2=\"212.719\" y2=\"22.464\" stroke-linecap=\"round\" style=\"stroke:green;stroke-width:4\"/><line x1=\"212.719\" y1=\"22.464\" x2=\"210.953\" y2=\"23.403\" stroke-linecap=\"round\" style=\"stroke:green;stroke-width:4\"/><line x1=\"210.953\" y1=\"23.403\" x2=\"209.257\" y2=\"24.463\" stroke-linecap=\"round\" style=\"stroke:green;stroke-width:4\"/><line x1=\"209.257\" y1=\"24.463\" x2=\"207.639\" y2=\"25.639\" stroke-linecap=\"round\" style=\"stroke:green;stroke-width:4\"/><line x1=\"207.639\" y1=\"25.639\" x2=\"206.107\" y2=\"26.925\" stroke-linecap=\"round\" style=\"stroke:green;stroke-width:4\"/><line x1=\"206.107\" y1=\"26.925\" x2=\"204.668\" y2=\"28.314\" stroke-linecap=\"round\" style=\"stroke:green;stroke-width:4\"/><line x1=\"204.668\" y1=\"28.314\" x2=\"203.33\" y2=\"29.8\" stroke-linecap=\"round\" style=\"stroke:green;stroke-width:4\"/><line x1=\"203.33\" y1=\"29.8\" x2=\"196.639\" y2=\"37.231\" stroke-linecap=\"round\" style=\"stroke:green;stroke-width:4\"/><line x1=\"196.639\" y1=\"37.231\" x2=\"189.948\" y2=\"44.662\" stroke-linecap=\"round\" style=\"stroke:green;stroke-width:4\"/><line x1=\"189.948\" y1=\"44.662\" x2=\"183.257\" y2=\"52.093\" stroke-linecap=\"round\" style=\"stroke:green;stroke-width:4\"/><line x1=\"183.257\" y1=\"52.093\" x2=\"176.566\" y2=\"59.524\" stroke-linecap=\"round\" style=\"stroke:green;stroke-width:4\"/><line x1=\"176.566\" y1=\"59.524\" x2=\"169.875\" y2=\"66.955\" stroke-linecap=\"round\" style=\"stroke:green;stroke-width:4\"/><line x1=\"169.875\" y1=\"66.955\" x2=\"163.184\" y2=\"74.386\" stroke-linecap=\"round\" style=\"stroke:green;stroke-width:4\"/><line x1=\"163.184\" y1=\"74.386\" x2=\"156.493\" y2=\"81.817\" stroke-linecap=\"round\" style=\"stroke:green;stroke-width:4\"/><line x1=\"156.493\" y1=\"81.817\" x2=\"149.802\" y2=\"89.248\" stroke-linecap=\"round\" style=\"stroke:green;stroke-width:4\"/><line x1=\"149.802\" y1=\"89.248\" x2=\"143.111\" y2=\"96.679\" stroke-linecap=\"round\" style=\"stroke:green;stroke-width:4\"/><line x1=\"143.111\" y1=\"96.679\" x2=\"136.42\" y2=\"104.11\" stroke-linecap=\"round\" style=\"stroke:green;stroke-width:4\"/><line x1=\"136.42\" y1=\"104.11\" x2=\"129.729\" y2=\"111.541\" stroke-linecap=\"round\" style=\"stroke:green;stroke-width:4\"/><line x1=\"129.729\" y1=\"111.541\" x2=\"123.038\" y2=\"118.972\" stroke-linecap=\"round\" style=\"stroke:green;stroke-width:4\"/><line x1=\"123.038\" y1=\"118.972\" x2=\"116.347\" y2=\"126.403\" stroke-linecap=\"round\" style=\"stroke:green;stroke-width:4\"/><line x1=\"116.347\" y1=\"126.403\" x2=\"109.656\" y2=\"133.834\" stroke-linecap=\"round\" style=\"stroke:green;stroke-width:4\"/><line x1=\"109.656\" y1=\"133.834\" x2=\"102.965\" y2=\"141.265\" stroke-linecap=\"round\" style=\"stroke:green;stroke-width:4\"/><line x1=\"102.965\" y1=\"141.265\" x2=\"96.274\" y2=\"148.696\" stroke-linecap=\"round\" style=\"stroke:green;stroke-width:4\"/><line x1=\"96.274\" y1=\"148.696\" x2=\"89.583\" y2=\"156.127\" stroke-linecap=\"round\" style=\"stroke:green;stroke-width:4\"/><line x1=\"89.583\" y1=\"156.127\" x2=\"82.892\" y2=\"163.558\" stroke-linecap=\"round\" style=\"stroke:green;stroke-width:4\"/><line x1=\"82.892\" y1=\"163.558\" x2=\"76.201\" y2=\"170.989\" stroke-linecap=\"round\" style=\"stroke:green;stroke-width:4\"/><line x1=\"76.201\" y1=\"170.989\" x2=\"69.51\" y2=\"178.42\" stroke-linecap=\"round\" style=\"stroke:green;stroke-width:4\"/><line x1=\"69.51\" y1=\"178.42\" x2=\"62.819\" y2=\"185.851\" stroke-linecap=\"round\" style=\"stroke:green;stroke-width:4\"/><line x1=\"62.819\" y1=\"185.851\" x2=\"56.128\" y2=\"193.282\" stroke-linecap=\"round\" style=\"stroke:green;stroke-width:4\"/><line x1=\"56.128\" y1=\"193.282\" x2=\"49.437\" y2=\"200.713\" stroke-linecap=\"round\" style=\"stroke:green;stroke-width:4\"/><line x1=\"49.437\" y1=\"200.713\" x2=\"42.746\" y2=\"208.144\" stroke-linecap=\"round\" style=\"stroke:green;stroke-width:4\"/><line x1=\"42.746\" y1=\"208.144\" x2=\"36.055\" y2=\"215.575\" stroke-linecap=\"round\" style=\"stroke:green;stroke-width:4\"/><line x1=\"36.055\" y1=\"215.575\" x2=\"29.364\" y2=\"223.006\" stroke-linecap=\"round\" style=\"stroke:green;stroke-width:4\"/><line x1=\"29.364\" y1=\"223.006\" x2=\"22.673\" y2=\"230.437\" stroke-linecap=\"round\" style=\"stroke:green;stroke-width:4\"/><line x1=\"22.673\" y1=\"230.437\" x2=\"15.982\" y2=\"237.868\" stroke-linecap=\"round\" style=\"stroke:green;stroke-width:4\"/><line x1=\"15.982\" y1=\"237.868\" x2=\"20\" y2=\"237.868\" stroke-linecap=\"round\" style=\"stroke:green;stroke-width:4\"/><line x1=\"20\" y1=\"237.868\" x2=\"18.561\" y2=\"239.257\" stroke-linecap=\"round\" style=\"stroke:red;stroke-width:4\"/><line x1=\"18.561\" y1=\"239.257\" x2=\"20\" y2=\"239.257\" stroke-linecap=\"round\" style=\"stroke:red;stroke-width:4\"/><line x1=\"20\" y1=\"239.257\" x2=\"18.0\" y2=\"239.257\" stroke-linecap=\"round\" style=\"stroke:red;stroke-width:4\"/><line x1=\"18.0\" y1=\"239.257\" x2=\"20\" y2=\"239.257\" stroke-linecap=\"round\" style=\"stroke:red;stroke-width:4\"/><line x1=\"20\" y1=\"239.257\" x2=\"18.382\" y2=\"238.081\" stroke-linecap=\"round\" style=\"stroke:red;stroke-width:4\"/><line x1=\"18.382\" y1=\"238.081\" x2=\"20\" y2=\"238.081\" stroke-linecap=\"round\" style=\"stroke:red;stroke-width:4\"/><line x1=\"20\" y1=\"238.081\" x2=\"10.024\" y2=\"238.779\" stroke-linecap=\"round\" style=\"stroke:red;stroke-width:4\"/><line x1=\"10.024\" y1=\"238.779\" x2=\"20\" y2=\"238.779\" stroke-linecap=\"round\" style=\"stroke:red;stroke-width:4\"/><line x1=\"20\" y1=\"238.779\" x2=\"18.019\" y2=\"239.057\" stroke-linecap=\"round\" style=\"stroke:red;stroke-width:4\"/><line x1=\"18.019\" y1=\"239.057\" x2=\"20\" y2=\"239.057\" stroke-linecap=\"round\" style=\"stroke:red;stroke-width:4\"/><line x1=\"20\" y1=\"239.057\" x2=\"18.769\" y2=\"240.633\" stroke-linecap=\"round\" style=\"stroke:red;stroke-width:4\"/><line x1=\"18.769\" y1=\"240.633\" x2=\"20\" y2=\"240.633\" stroke-linecap=\"round\" style=\"stroke:red;stroke-width:4\"/><line x1=\"20\" y1=\"240.633\" x2=\"20.209\" y2=\"242.622\" stroke-linecap=\"round\" style=\"stroke:red;stroke-width:4\"/><line x1=\"20.209\" y1=\"242.622\" x2=\"20.556\" y2=\"244.592\" stroke-linecap=\"round\" style=\"stroke:green;stroke-width:4\"/><line x1=\"20.556\" y1=\"244.592\" x2=\"21.04\" y2=\"246.533\" stroke-linecap=\"round\" style=\"stroke:green;stroke-width:4\"/><line x1=\"21.04\" y1=\"246.533\" x2=\"21.658\" y2=\"248.435\" stroke-linecap=\"round\" style=\"stroke:green;stroke-width:4\"/><line x1=\"21.658\" y1=\"248.435\" x2=\"22.407\" y2=\"250.289\" stroke-linecap=\"round\" style=\"stroke:green;stroke-width:4\"/><line x1=\"22.407\" y1=\"250.289\" x2=\"23.284\" y2=\"252.087\" stroke-linecap=\"round\" style=\"stroke:green;stroke-width:4\"/><line x1=\"23.284\" y1=\"252.087\" x2=\"24.284\" y2=\"253.819\" stroke-linecap=\"round\" style=\"stroke:green;stroke-width:4\"/><line x1=\"24.284\" y1=\"253.819\" x2=\"25.402\" y2=\"255.477\" stroke-linecap=\"round\" style=\"stroke:green;stroke-width:4\"/><line x1=\"25.402\" y1=\"255.477\" x2=\"26.633\" y2=\"257.053\" stroke-linecap=\"round\" style=\"stroke:green;stroke-width:4\"/><line x1=\"26.633\" y1=\"257.053\" x2=\"27.971\" y2=\"258.539\" stroke-linecap=\"round\" style=\"stroke:green;stroke-width:4\"/><line x1=\"27.971\" y1=\"258.539\" x2=\"29.202\" y2=\"260.115\" stroke-linecap=\"round\" style=\"stroke:green;stroke-width:4\"/><line x1=\"29.202\" y1=\"260.115\" x2=\"30.32\" y2=\"261.773\" stroke-linecap=\"round\" style=\"stroke:green;stroke-width:4\"/><line x1=\"30.32\" y1=\"261.773\" x2=\"31.32\" y2=\"263.505\" stroke-linecap=\"round\" style=\"stroke:green;stroke-width:4\"/><line x1=\"31.32\" y1=\"263.505\" x2=\"32.197\" y2=\"265.303\" stroke-linecap=\"round\" style=\"stroke:green;stroke-width:4\"/><line x1=\"32.197\" y1=\"265.303\" x2=\"32.946\" y2=\"267.157\" stroke-linecap=\"round\" style=\"stroke:green;stroke-width:4\"/><line x1=\"32.946\" y1=\"267.157\" x2=\"33.564\" y2=\"269.059\" stroke-linecap=\"round\" style=\"stroke:green;stroke-width:4\"/><line x1=\"33.564\" y1=\"269.059\" x2=\"34.048\" y2=\"271.0\" stroke-linecap=\"round\" style=\"stroke:green;stroke-width:4\"/><line x1=\"34.048\" y1=\"271.0\" x2=\"34.395\" y2=\"272.97\" stroke-linecap=\"round\" style=\"stroke:green;stroke-width:4\"/><line x1=\"34.395\" y1=\"272.97\" x2=\"34.604\" y2=\"274.959\" stroke-linecap=\"round\" style=\"stroke:green;stroke-width:4\"/><line x1=\"34.604\" y1=\"274.959\" x2=\"34.674\" y2=\"276.958\" stroke-linecap=\"round\" style=\"stroke:green;stroke-width:4\"/><line x1=\"34.674\" y1=\"276.958\" x2=\"34.883\" y2=\"278.947\" stroke-linecap=\"round\" style=\"stroke:green;stroke-width:4\"/><line x1=\"34.883\" y1=\"278.947\" x2=\"35.23\" y2=\"280.917\" stroke-linecap=\"round\" style=\"stroke:green;stroke-width:4\"/><line x1=\"35.23\" y1=\"280.917\" x2=\"35.714\" y2=\"282.858\" stroke-linecap=\"round\" style=\"stroke:green;stroke-width:4\"/><line x1=\"35.714\" y1=\"282.858\" x2=\"36.332\" y2=\"284.76\" stroke-linecap=\"round\" style=\"stroke:green;stroke-width:4\"/><line x1=\"36.332\" y1=\"284.76\" x2=\"37.081\" y2=\"286.614\" stroke-linecap=\"round\" style=\"stroke:green;stroke-width:4\"/><line x1=\"37.081\" y1=\"286.614\" x2=\"37.958\" y2=\"288.412\" stroke-linecap=\"round\" style=\"stroke:green;stroke-width:4\"/><line x1=\"37.958\" y1=\"288.412\" x2=\"38.958\" y2=\"290.144\" stroke-linecap=\"round\" style=\"stroke:green;stroke-width:4\"/><line x1=\"38.958\" y1=\"290.144\" x2=\"40.076\" y2=\"291.802\" stroke-linecap=\"round\" style=\"stroke:green;stroke-width:4\"/><line x1=\"40.076\" y1=\"291.802\" x2=\"41.307\" y2=\"293.378\" stroke-linecap=\"round\" style=\"stroke:green;stroke-width:4\"/><line x1=\"41.307\" y1=\"293.378\" x2=\"42.645\" y2=\"294.864\" stroke-linecap=\"round\" style=\"stroke:green;stroke-width:4\"/><line x1=\"42.645\" y1=\"294.864\" x2=\"43.876\" y2=\"296.44\" stroke-linecap=\"round\" style=\"stroke:green;stroke-width:4\"/><line x1=\"43.876\" y1=\"296.44\" x2=\"44.994\" y2=\"298.098\" stroke-linecap=\"round\" style=\"stroke:green;stroke-width:4\"/><line x1=\"44.994\" y1=\"298.098\" x2=\"45.994\" y2=\"299.83\" stroke-linecap=\"round\" style=\"stroke:green;stroke-width:4\"/><line x1=\"45.994\" y1=\"299.83\" x2=\"46.871\" y2=\"301.628\" stroke-linecap=\"round\" style=\"stroke:green;stroke-width:4\"/><line x1=\"46.871\" y1=\"301.628\" x2=\"47.62\" y2=\"303.482\" stroke-linecap=\"round\" style=\"stroke:green;stroke-width:4\"/><line x1=\"47.62\" y1=\"303.482\" x2=\"48.238\" y2=\"305.384\" stroke-linecap=\"round\" style=\"stroke:green;stroke-width:4\"/><line x1=\"48.238\" y1=\"305.384\" x2=\"48.722\" y2=\"307.325\" stroke-linecap=\"round\" style=\"stroke:green;stroke-width:4\"/><line x1=\"48.722\" y1=\"307.325\" x2=\"49.069\" y2=\"309.295\" stroke-linecap=\"round\" style=\"stroke:green;stroke-width:4\"/><line x1=\"49.069\" y1=\"309.295\" x2=\"49.278\" y2=\"311.284\" stroke-linecap=\"round\" style=\"stroke:green;stroke-width:4\"/><line x1=\"49.278\" y1=\"311.284\" x2=\"49.348\" y2=\"313.283\" stroke-linecap=\"round\" style=\"stroke:green;stroke-width:4\"/><line x1=\"49.348\" y1=\"313.283\" x2=\"49.278\" y2=\"315.282\" stroke-linecap=\"round\" style=\"stroke:green;stroke-width:4\"/><line x1=\"49.278\" y1=\"315.282\" x2=\"49.069\" y2=\"317.271\" stroke-linecap=\"round\" style=\"stroke:green;stroke-width:4\"/><line x1=\"49.069\" y1=\"317.271\" x2=\"48.722\" y2=\"319.241\" stroke-linecap=\"round\" style=\"stroke:green;stroke-width:4\"/><line x1=\"48.722\" y1=\"319.241\" x2=\"48.238\" y2=\"321.182\" stroke-linecap=\"round\" style=\"stroke:green;stroke-width:4\"/><line x1=\"48.238\" y1=\"321.182\" x2=\"47.62\" y2=\"323.084\" stroke-linecap=\"round\" style=\"stroke:green;stroke-width:4\"/><line x1=\"47.62\" y1=\"323.084\" x2=\"46.871\" y2=\"324.938\" stroke-linecap=\"round\" style=\"stroke:green;stroke-width:4\"/><line x1=\"46.871\" y1=\"324.938\" x2=\"45.994\" y2=\"326.736\" stroke-linecap=\"round\" style=\"stroke:green;stroke-width:4\"/><line x1=\"45.994\" y1=\"326.736\" x2=\"44.994\" y2=\"328.468\" stroke-linecap=\"round\" style=\"stroke:green;stroke-width:4\"/><line x1=\"44.994\" y1=\"328.468\" x2=\"43.876\" y2=\"330.126\" stroke-linecap=\"round\" style=\"stroke:green;stroke-width:4\"/><line x1=\"43.876\" y1=\"330.126\" x2=\"42.645\" y2=\"331.702\" stroke-linecap=\"round\" style=\"stroke:green;stroke-width:4\"/><line x1=\"42.645\" y1=\"331.702\" x2=\"41.307\" y2=\"333.188\" stroke-linecap=\"round\" style=\"stroke:green;stroke-width:4\"/><line x1=\"41.307\" y1=\"333.188\" x2=\"39.868\" y2=\"334.577\" stroke-linecap=\"round\" style=\"stroke:green;stroke-width:4\"/><line x1=\"39.868\" y1=\"334.577\" x2=\"38.336\" y2=\"335.863\" stroke-linecap=\"round\" style=\"stroke:green;stroke-width:4\"/><line x1=\"38.336\" y1=\"335.863\" x2=\"36.718\" y2=\"337.039\" stroke-linecap=\"round\" style=\"stroke:green;stroke-width:4\"/><line x1=\"36.718\" y1=\"337.039\" x2=\"35.022\" y2=\"338.099\" stroke-linecap=\"round\" style=\"stroke:green;stroke-width:4\"/><line x1=\"35.022\" y1=\"338.099\" x2=\"33.256\" y2=\"339.038\" stroke-linecap=\"round\" style=\"stroke:green;stroke-width:4\"/><line x1=\"33.256\" y1=\"339.038\" x2=\"31.429\" y2=\"339.851\" stroke-linecap=\"round\" style=\"stroke:green;stroke-width:4\"/><line x1=\"31.429\" y1=\"339.851\" x2=\"29.55\" y2=\"340.535\" stroke-linecap=\"round\" style=\"stroke:green;stroke-width:4\"/><line x1=\"29.55\" y1=\"340.535\" x2=\"27.627\" y2=\"341.086\" stroke-linecap=\"round\" style=\"stroke:green;stroke-width:4\"/><line x1=\"27.627\" y1=\"341.086\" x2=\"25.671\" y2=\"341.502\" stroke-linecap=\"round\" style=\"stroke:green;stroke-width:4\"/><line x1=\"25.671\" y1=\"341.502\" x2=\"23.748\" y2=\"342.053\" stroke-linecap=\"round\" style=\"stroke:green;stroke-width:4\"/><line x1=\"23.748\" y1=\"342.053\" x2=\"21.869\" y2=\"342.737\" stroke-linecap=\"round\" style=\"stroke:green;stroke-width:4\"/><line x1=\"21.869\" y1=\"342.737\" x2=\"20.042\" y2=\"343.55\" stroke-linecap=\"round\" style=\"stroke:green;stroke-width:4\"/><line x1=\"20.042\" y1=\"343.55\" x2=\"18.276\" y2=\"344.489\" stroke-linecap=\"round\" style=\"stroke:green;stroke-width:4\"/><line x1=\"18.276\" y1=\"344.489\" x2=\"20\" y2=\"344.489\" stroke-linecap=\"round\" style=\"stroke:green;stroke-width:4\"/><line x1=\"20\" y1=\"344.489\" x2=\"19.382\" y2=\"346.391\" stroke-linecap=\"round\" style=\"stroke:red;stroke-width:4\"/><line x1=\"19.382\" y1=\"346.391\" x2=\"20\" y2=\"346.391\" stroke-linecap=\"round\" style=\"stroke:red;stroke-width:4\"/><line x1=\"20\" y1=\"346.391\" x2=\"20.618\" y2=\"348.293\" stroke-linecap=\"round\" style=\"stroke:red;stroke-width:4\"/><line x1=\"20.618\" y1=\"348.293\" x2=\"21.102\" y2=\"350.234\" stroke-linecap=\"round\" style=\"stroke:green;stroke-width:4\"/><line x1=\"21.102\" y1=\"350.234\" x2=\"21.449\" y2=\"352.204\" stroke-linecap=\"round\" style=\"stroke:green;stroke-width:4\"/><line x1=\"21.449\" y1=\"352.204\" x2=\"21.658\" y2=\"354.193\" stroke-linecap=\"round\" style=\"stroke:green;stroke-width:4\"/><line x1=\"21.658\" y1=\"354.193\" x2=\"21.728\" y2=\"356.192\" stroke-linecap=\"round\" style=\"stroke:green;stroke-width:4\"/><line x1=\"21.728\" y1=\"356.192\" x2=\"21.658\" y2=\"358.191\" stroke-linecap=\"round\" style=\"stroke:green;stroke-width:4\"/><line x1=\"21.658\" y1=\"358.191\" x2=\"21.449\" y2=\"360.18\" stroke-linecap=\"round\" style=\"stroke:green;stroke-width:4\"/><line x1=\"21.449\" y1=\"360.18\" x2=\"21.102\" y2=\"362.15\" stroke-linecap=\"round\" style=\"stroke:green;stroke-width:4\"/><line x1=\"21.102\" y1=\"362.15\" x2=\"20.618\" y2=\"364.091\" stroke-linecap=\"round\" style=\"stroke:green;stroke-width:4\"/><line x1=\"20.618\" y1=\"364.091\" x2=\"20.0\" y2=\"365.993\" stroke-linecap=\"round\" style=\"stroke:green;stroke-width:4\"/><line x1=\"20.0\" y1=\"365.993\" x2=\"19.516\" y2=\"367.934\" stroke-linecap=\"round\" style=\"stroke:green;stroke-width:4\"/><line x1=\"19.516\" y1=\"367.934\" x2=\"20\" y2=\"367.934\" stroke-linecap=\"round\" style=\"stroke:green;stroke-width:4\"/><line x1=\"20\" y1=\"367.934\" x2=\"21.0\" y2=\"369.666\" stroke-linecap=\"round\" style=\"stroke:red;stroke-width:4\"/><line x1=\"21.0\" y1=\"369.666\" x2=\"22.118\" y2=\"371.324\" stroke-linecap=\"round\" style=\"stroke:green;stroke-width:4\"/><line x1=\"22.118\" y1=\"371.324\" x2=\"23.349\" y2=\"372.9\" stroke-linecap=\"round\" style=\"stroke:green;stroke-width:4\"/><line x1=\"23.349\" y1=\"372.9\" x2=\"24.687\" y2=\"374.386\" stroke-linecap=\"round\" style=\"stroke:green;stroke-width:4\"/><line x1=\"24.687\" y1=\"374.386\" x2=\"26.126\" y2=\"375.775\" stroke-linecap=\"round\" style=\"stroke:green;stroke-width:4\"/><line x1=\"26.126\" y1=\"375.775\" x2=\"27.658\" y2=\"377.061\" stroke-linecap=\"round\" style=\"stroke:green;stroke-width:4\"/><line x1=\"27.658\" y1=\"377.061\" x2=\"29.276\" y2=\"378.237\" stroke-linecap=\"round\" style=\"stroke:green;stroke-width:4\"/><line x1=\"29.276\" y1=\"378.237\" x2=\"30.972\" y2=\"379.297\" stroke-linecap=\"round\" style=\"stroke:green;stroke-width:4\"/><line x1=\"30.972\" y1=\"379.297\" x2=\"32.738\" y2=\"380.236\" stroke-linecap=\"round\" style=\"stroke:green;stroke-width:4\"/><line x1=\"32.738\" y1=\"380.236\" x2=\"34.565\" y2=\"381.049\" stroke-linecap=\"round\" style=\"stroke:green;stroke-width:4\"/><line x1=\"34.565\" y1=\"381.049\" x2=\"36.331\" y2=\"381.988\" stroke-linecap=\"round\" style=\"stroke:green;stroke-width:4\"/><line x1=\"36.331\" y1=\"381.988\" x2=\"38.027\" y2=\"383.048\" stroke-linecap=\"round\" style=\"stroke:green;stroke-width:4\"/><line x1=\"38.027\" y1=\"383.048\" x2=\"39.645\" y2=\"384.224\" stroke-linecap=\"round\" style=\"stroke:green;stroke-width:4\"/><line x1=\"39.645\" y1=\"384.224\" x2=\"41.177\" y2=\"385.51\" stroke-linecap=\"round\" style=\"stroke:green;stroke-width:4\"/><line x1=\"41.177\" y1=\"385.51\" x2=\"42.616\" y2=\"386.899\" stroke-linecap=\"round\" style=\"stroke:green;stroke-width:4\"/><line x1=\"42.616\" y1=\"386.899\" x2=\"43.954\" y2=\"388.385\" stroke-linecap=\"round\" style=\"stroke:green;stroke-width:4\"/><line x1=\"43.954\" y1=\"388.385\" x2=\"45.185\" y2=\"389.961\" stroke-linecap=\"round\" style=\"stroke:green;stroke-width:4\"/><line x1=\"45.185\" y1=\"389.961\" x2=\"46.303\" y2=\"391.619\" stroke-linecap=\"round\" style=\"stroke:green;stroke-width:4\"/><line x1=\"46.303\" y1=\"391.619\" x2=\"47.303\" y2=\"393.351\" stroke-linecap=\"round\" style=\"stroke:green;stroke-width:4\"/><line x1=\"47.303\" y1=\"393.351\" x2=\"48.18\" y2=\"395.149\" stroke-linecap=\"round\" style=\"stroke:green;stroke-width:4\"/><line x1=\"48.18\" y1=\"395.149\" x2=\"48.929\" y2=\"397.003\" stroke-linecap=\"round\" style=\"stroke:green;stroke-width:4\"/><line x1=\"48.929\" y1=\"397.003\" x2=\"49.547\" y2=\"398.905\" stroke-linecap=\"round\" style=\"stroke:green;stroke-width:4\"/><line x1=\"49.547\" y1=\"398.905\" x2=\"50.031\" y2=\"400.846\" stroke-linecap=\"round\" style=\"stroke:green;stroke-width:4\"/><line x1=\"50.031\" y1=\"400.846\" x2=\"50.378\" y2=\"402.816\" stroke-linecap=\"round\" style=\"stroke:green;stroke-width:4\"/><line x1=\"50.378\" y1=\"402.816\" x2=\"50.587\" y2=\"404.805\" stroke-linecap=\"round\" style=\"stroke:green;stroke-width:4\"/><line x1=\"50.587\" y1=\"404.805\" x2=\"50.657\" y2=\"406.804\" stroke-linecap=\"round\" style=\"stroke:green;stroke-width:4\"/><line x1=\"50.657\" y1=\"406.804\" x2=\"50.587\" y2=\"408.803\" stroke-linecap=\"round\" style=\"stroke:green;stroke-width:4\"/><line x1=\"50.587\" y1=\"408.803\" x2=\"50.378\" y2=\"410.792\" stroke-linecap=\"round\" style=\"stroke:green;stroke-width:4\"/><line x1=\"50.378\" y1=\"410.792\" x2=\"50.031\" y2=\"412.762\" stroke-linecap=\"round\" style=\"stroke:green;stroke-width:4\"/><line x1=\"50.031\" y1=\"412.762\" x2=\"49.547\" y2=\"414.703\" stroke-linecap=\"round\" style=\"stroke:green;stroke-width:4\"/><line x1=\"49.547\" y1=\"414.703\" x2=\"48.929\" y2=\"416.605\" stroke-linecap=\"round\" style=\"stroke:green;stroke-width:4\"/><line x1=\"48.929\" y1=\"416.605\" x2=\"48.18\" y2=\"418.459\" stroke-linecap=\"round\" style=\"stroke:green;stroke-width:4\"/><line x1=\"48.18\" y1=\"418.459\" x2=\"47.303\" y2=\"420.257\" stroke-linecap=\"round\" style=\"stroke:green;stroke-width:4\"/><line x1=\"47.303\" y1=\"420.257\" x2=\"46.303\" y2=\"421.989\" stroke-linecap=\"round\" style=\"stroke:green;stroke-width:4\"/><line x1=\"46.303\" y1=\"421.989\" x2=\"45.185\" y2=\"423.647\" stroke-linecap=\"round\" style=\"stroke:green;stroke-width:4\"/><line x1=\"45.185\" y1=\"423.647\" x2=\"43.954\" y2=\"425.223\" stroke-linecap=\"round\" style=\"stroke:green;stroke-width:4\"/><line x1=\"43.954\" y1=\"425.223\" x2=\"42.616\" y2=\"426.709\" stroke-linecap=\"round\" style=\"stroke:green;stroke-width:4\"/><line x1=\"42.616\" y1=\"426.709\" x2=\"41.177\" y2=\"428.098\" stroke-linecap=\"round\" style=\"stroke:green;stroke-width:4\"/><line x1=\"41.177\" y1=\"428.098\" x2=\"39.645\" y2=\"429.384\" stroke-linecap=\"round\" style=\"stroke:green;stroke-width:4\"/><line x1=\"39.645\" y1=\"429.384\" x2=\"38.027\" y2=\"430.56\" stroke-linecap=\"round\" style=\"stroke:green;stroke-width:4\"/><line x1=\"38.027\" y1=\"430.56\" x2=\"36.331\" y2=\"431.62\" stroke-linecap=\"round\" style=\"stroke:green;stroke-width:4\"/><line x1=\"36.331\" y1=\"431.62\" x2=\"34.565\" y2=\"432.559\" stroke-linecap=\"round\" style=\"stroke:green;stroke-width:4\"/><line x1=\"34.565\" y1=\"432.559\" x2=\"32.738\" y2=\"433.372\" stroke-linecap=\"round\" style=\"stroke:green;stroke-width:4\"/><line x1=\"32.738\" y1=\"433.372\" x2=\"30.859\" y2=\"434.056\" stroke-linecap=\"round\" style=\"stroke:green;stroke-width:4\"/><line x1=\"30.859\" y1=\"434.056\" x2=\"28.936\" y2=\"434.607\" stroke-linecap=\"round\" style=\"stroke:green;stroke-width:4\"/><line x1=\"28.936\" y1=\"434.607\" x2=\"26.98\" y2=\"435.023\" stroke-linecap=\"round\" style=\"stroke:green;stroke-width:4\"/><line x1=\"26.98\" y1=\"435.023\" x2=\"24.999\" y2=\"435.301\" stroke-linecap=\"round\" style=\"stroke:green;stroke-width:4\"/><line x1=\"24.999\" y1=\"435.301\" x2=\"23.004\" y2=\"435.441\" stroke-linecap=\"round\" style=\"stroke:green;stroke-width:4\"/><line x1=\"23.004\" y1=\"435.441\" x2=\"21.004\" y2=\"435.441\" stroke-linecap=\"round\" style=\"stroke:green;stroke-width:4\"/><line x1=\"21.004\" y1=\"435.441\" x2=\"19.009\" y2=\"435.301\" stroke-linecap=\"round\" style=\"stroke:green;stroke-width:4\"/><line x1=\"19.009\" y1=\"435.301\" x2=\"20\" y2=\"435.301\" stroke-linecap=\"round\" style=\"stroke:green;stroke-width:4\"/><line x1=\"20\" y1=\"435.301\" x2=\"18.662\" y2=\"433.815\" stroke-linecap=\"round\" style=\"stroke:red;stroke-width:4\"/><line x1=\"18.662\" y1=\"433.815\" x2=\"20\" y2=\"433.815\" stroke-linecap=\"round\" style=\"stroke:red;stroke-width:4\"/><line x1=\"20\" y1=\"433.815\" x2=\"19.791\" y2=\"431.826\" stroke-linecap=\"round\" style=\"stroke:red;stroke-width:4\"/><line x1=\"19.791\" y1=\"431.826\" x2=\"20\" y2=\"431.826\" stroke-linecap=\"round\" style=\"stroke:red;stroke-width:4\"/><line x1=\"20\" y1=\"431.826\" x2=\"12.807\" y2=\"424.879\" stroke-linecap=\"round\" style=\"stroke:red;stroke-width:4\"/><line x1=\"12.807\" y1=\"424.879\" x2=\"20\" y2=\"424.879\" stroke-linecap=\"round\" style=\"stroke:red;stroke-width:4\"/><line x1=\"20\" y1=\"424.879\" x2=\"18.468\" y2=\"423.593\" stroke-linecap=\"round\" style=\"stroke:red;stroke-width:4\"/><line x1=\"18.468\" y1=\"423.593\" x2=\"20\" y2=\"423.593\" stroke-linecap=\"round\" style=\"stroke:red;stroke-width:4\"/><line x1=\"20\" y1=\"423.593\" x2=\"18.005\" y2=\"423.733\" stroke-linecap=\"round\" style=\"stroke:red;stroke-width:4\"/><line x1=\"18.005\" y1=\"423.733\" x2=\"20\" y2=\"423.733\" stroke-linecap=\"round\" style=\"stroke:red;stroke-width:4\"/><line x1=\"20\" y1=\"423.733\" x2=\"18.662\" y2=\"425.219\" stroke-linecap=\"round\" style=\"stroke:red;stroke-width:4\"/><line x1=\"18.662\" y1=\"425.219\" x2=\"20\" y2=\"425.219\" stroke-linecap=\"round\" style=\"stroke:red;stroke-width:4\"/><line x1=\"20\" y1=\"425.219\" x2=\"19.651\" y2=\"435.213\" stroke-linecap=\"round\" style=\"stroke:red;stroke-width:4\"/><line x1=\"19.651\" y1=\"435.213\" x2=\"20\" y2=\"435.213\" stroke-linecap=\"round\" style=\"stroke:red;stroke-width:4\"/><line x1=\"20\" y1=\"435.213\" x2=\"20.07\" y2=\"437.212\" stroke-linecap=\"round\" style=\"stroke:red;stroke-width:4\"/><line x1=\"20.07\" y1=\"437.212\" x2=\"20.279\" y2=\"439.201\" stroke-linecap=\"round\" style=\"stroke:green;stroke-width:4\"/><line x1=\"20.279\" y1=\"439.201\" x2=\"20.626\" y2=\"441.171\" stroke-linecap=\"round\" style=\"stroke:green;stroke-width:4\"/><line x1=\"20.626\" y1=\"441.171\" x2=\"21.11\" y2=\"443.112\" stroke-linecap=\"round\" style=\"stroke:green;stroke-width:4\"/><line x1=\"21.11\" y1=\"443.112\" x2=\"21.728\" y2=\"445.014\" stroke-linecap=\"round\" style=\"stroke:green;stroke-width:4\"/><line x1=\"21.728\" y1=\"445.014\" x2=\"22.477\" y2=\"446.868\" stroke-linecap=\"round\" style=\"stroke:green;stroke-width:4\"/><line x1=\"22.477\" y1=\"446.868\" x2=\"23.354\" y2=\"448.666\" stroke-linecap=\"round\" style=\"stroke:green;stroke-width:4\"/><line x1=\"23.354\" y1=\"448.666\" x2=\"24.354\" y2=\"450.398\" stroke-linecap=\"round\" style=\"stroke:green;stroke-width:4\"/><line x1=\"24.354\" y1=\"450.398\" x2=\"25.472\" y2=\"452.056\" stroke-linecap=\"round\" style=\"stroke:green;stroke-width:4\"/><line x1=\"25.472\" y1=\"452.056\" x2=\"26.703\" y2=\"453.632\" stroke-linecap=\"round\" style=\"stroke:green;stroke-width:4\"/><line x1=\"26.703\" y1=\"453.632\" x2=\"28.041\" y2=\"455.118\" stroke-linecap=\"round\" style=\"stroke:green;stroke-width:4\"/><line x1=\"28.041\" y1=\"455.118\" x2=\"29.48\" y2=\"456.507\" stroke-linecap=\"round\" style=\"stroke:green;stroke-width:4\"/><line x1=\"29.48\" y1=\"456.507\" x2=\"31.012\" y2=\"457.793\" stroke-linecap=\"round\" style=\"stroke:green;stroke-width:4\"/><line x1=\"31.012\" y1=\"457.793\" x2=\"32.63\" y2=\"458.969\" stroke-linecap=\"round\" style=\"stroke:green;stroke-width:4\"/><line x1=\"32.63\" y1=\"458.969\" x2=\"34.326\" y2=\"460.029\" stroke-linecap=\"round\" style=\"stroke:green;stroke-width:4\"/><line x1=\"34.326\" y1=\"460.029\" x2=\"36.092\" y2=\"460.968\" stroke-linecap=\"round\" style=\"stroke:green;stroke-width:4\"/><line x1=\"36.092\" y1=\"460.968\" x2=\"37.919\" y2=\"461.781\" stroke-linecap=\"round\" style=\"stroke:green;stroke-width:4\"/><line x1=\"37.919\" y1=\"461.781\" x2=\"39.798\" y2=\"462.465\" stroke-linecap=\"round\" style=\"stroke:green;stroke-width:4\"/><line x1=\"39.798\" y1=\"462.465\" x2=\"41.721\" y2=\"463.016\" stroke-linecap=\"round\" style=\"stroke:green;stroke-width:4\"/><line x1=\"41.721\" y1=\"463.016\" x2=\"43.677\" y2=\"463.432\" stroke-linecap=\"round\" style=\"stroke:green;stroke-width:4\"/><line x1=\"43.677\" y1=\"463.432\" x2=\"45.658\" y2=\"463.71\" stroke-linecap=\"round\" style=\"stroke:green;stroke-width:4\"/><line x1=\"45.658\" y1=\"463.71\" x2=\"47.653\" y2=\"463.85\" stroke-linecap=\"round\" style=\"stroke:green;stroke-width:4\"/><line x1=\"47.653\" y1=\"463.85\" x2=\"49.653\" y2=\"463.85\" stroke-linecap=\"round\" style=\"stroke:green;stroke-width:4\"/><line x1=\"49.653\" y1=\"463.85\" x2=\"51.648\" y2=\"463.71\" stroke-linecap=\"round\" style=\"stroke:green;stroke-width:4\"/><line x1=\"51.648\" y1=\"463.71\" x2=\"53.629\" y2=\"463.432\" stroke-linecap=\"round\" style=\"stroke:green;stroke-width:4\"/><line x1=\"53.629\" y1=\"463.432\" x2=\"55.585\" y2=\"463.016\" stroke-linecap=\"round\" style=\"stroke:green;stroke-width:4\"/><line x1=\"55.585\" y1=\"463.016\" x2=\"57.508\" y2=\"462.465\" stroke-linecap=\"round\" style=\"stroke:green;stroke-width:4\"/><line x1=\"57.508\" y1=\"462.465\" x2=\"59.387\" y2=\"461.781\" stroke-linecap=\"round\" style=\"stroke:green;stroke-width:4\"/><line x1=\"59.387\" y1=\"461.781\" x2=\"61.214\" y2=\"460.968\" stroke-linecap=\"round\" style=\"stroke:green;stroke-width:4\"/><line x1=\"61.214\" y1=\"460.968\" x2=\"62.98\" y2=\"460.029\" stroke-linecap=\"round\" style=\"stroke:green;stroke-width:4\"/><line x1=\"62.98\" y1=\"460.029\" x2=\"64.807\" y2=\"459.216\" stroke-linecap=\"round\" style=\"stroke:green;stroke-width:4\"/><line x1=\"64.807\" y1=\"459.216\" x2=\"66.686\" y2=\"458.532\" stroke-linecap=\"round\" style=\"stroke:green;stroke-width:4\"/><line x1=\"66.686\" y1=\"458.532\" x2=\"68.609\" y2=\"457.981\" stroke-linecap=\"round\" style=\"stroke:green;stroke-width:4\"/><line x1=\"68.609\" y1=\"457.981\" x2=\"70.565\" y2=\"457.565\" stroke-linecap=\"round\" style=\"stroke:green;stroke-width:4\"/><line x1=\"70.565\" y1=\"457.565\" x2=\"72.546\" y2=\"457.287\" stroke-linecap=\"round\" style=\"stroke:green;stroke-width:4\"/><line x1=\"72.546\" y1=\"457.287\" x2=\"74.541\" y2=\"457.147\" stroke-linecap=\"round\" style=\"stroke:green;stroke-width:4\"/><line x1=\"74.541\" y1=\"457.147\" x2=\"76.541\" y2=\"457.147\" stroke-linecap=\"round\" style=\"stroke:green;stroke-width:4\"/><line x1=\"76.541\" y1=\"457.147\" x2=\"78.536\" y2=\"457.287\" stroke-linecap=\"round\" style=\"stroke:green;stroke-width:4\"/><line x1=\"78.536\" y1=\"457.287\" x2=\"80.517\" y2=\"457.565\" stroke-linecap=\"round\" style=\"stroke:green;stroke-width:4\"/><line x1=\"80.517\" y1=\"457.565\" x2=\"82.473\" y2=\"457.981\" stroke-linecap=\"round\" style=\"stroke:green;stroke-width:4\"/><line x1=\"82.473\" y1=\"457.981\" x2=\"84.454\" y2=\"458.259\" stroke-linecap=\"round\" style=\"stroke:green;stroke-width:4\"/><line x1=\"84.454\" y1=\"458.259\" x2=\"86.449\" y2=\"458.399\" stroke-linecap=\"round\" style=\"stroke:green;stroke-width:4\"/><line x1=\"86.449\" y1=\"458.399\" x2=\"88.449\" y2=\"458.399\" stroke-linecap=\"round\" style=\"stroke:green;stroke-width:4\"/><line x1=\"88.449\" y1=\"458.399\" x2=\"90.444\" y2=\"458.259\" stroke-linecap=\"round\" style=\"stroke:green;stroke-width:4\"/><line x1=\"90.444\" y1=\"458.259\" x2=\"92.425\" y2=\"457.981\" stroke-linecap=\"round\" style=\"stroke:green;stroke-width:4\"/><line x1=\"92.425\" y1=\"457.981\" x2=\"94.381\" y2=\"457.565\" stroke-linecap=\"round\" style=\"stroke:green;stroke-width:4\"/><line x1=\"94.381\" y1=\"457.565\" x2=\"96.304\" y2=\"457.014\" stroke-linecap=\"round\" style=\"stroke:green;stroke-width:4\"/><line x1=\"96.304\" y1=\"457.014\" x2=\"98.183\" y2=\"456.33\" stroke-linecap=\"round\" style=\"stroke:green;stroke-width:4\"/><line x1=\"98.183\" y1=\"456.33\" x2=\"100.01\" y2=\"455.517\" stroke-linecap=\"round\" style=\"stroke:green;stroke-width:4\"/><line x1=\"100.01\" y1=\"455.517\" x2=\"101.776\" y2=\"454.578\" stroke-linecap=\"round\" style=\"stroke:green;stroke-width:4\"/><line x1=\"101.776\" y1=\"454.578\" x2=\"103.603\" y2=\"453.765\" stroke-linecap=\"round\" style=\"stroke:green;stroke-width:4\"/><line x1=\"103.603\" y1=\"453.765\" x2=\"105.482\" y2=\"453.081\" stroke-linecap=\"round\" style=\"stroke:green;stroke-width:4\"/><line x1=\"105.482\" y1=\"453.081\" x2=\"107.405\" y2=\"452.53\" stroke-linecap=\"round\" style=\"stroke:green;stroke-width:4\"/><line x1=\"107.405\" y1=\"452.53\" x2=\"109.361\" y2=\"452.114\" stroke-linecap=\"round\" style=\"stroke:green;stroke-width:4\"/><line x1=\"109.361\" y1=\"452.114\" x2=\"111.342\" y2=\"451.836\" stroke-linecap=\"round\" style=\"stroke:green;stroke-width:4\"/><line x1=\"111.342\" y1=\"451.836\" x2=\"113.337\" y2=\"451.696\" stroke-linecap=\"round\" style=\"stroke:green;stroke-width:4\"/><line x1=\"113.337\" y1=\"451.696\" x2=\"115.337\" y2=\"451.696\" stroke-linecap=\"round\" style=\"stroke:green;stroke-width:4\"/><line x1=\"115.337\" y1=\"451.696\" x2=\"117.332\" y2=\"451.836\" stroke-linecap=\"round\" style=\"stroke:green;stroke-width:4\"/><line x1=\"117.332\" y1=\"451.836\" x2=\"119.313\" y2=\"452.114\" stroke-linecap=\"round\" style=\"stroke:green;stroke-width:4\"/><line x1=\"119.313\" y1=\"452.114\" x2=\"121.269\" y2=\"452.53\" stroke-linecap=\"round\" style=\"stroke:green;stroke-width:4\"/><line x1=\"121.269\" y1=\"452.53\" x2=\"123.192\" y2=\"453.081\" stroke-linecap=\"round\" style=\"stroke:green;stroke-width:4\"/><line x1=\"123.192\" y1=\"453.081\" x2=\"125.071\" y2=\"453.765\" stroke-linecap=\"round\" style=\"stroke:green;stroke-width:4\"/><line x1=\"125.071\" y1=\"453.765\" x2=\"126.898\" y2=\"454.578\" stroke-linecap=\"round\" style=\"stroke:green;stroke-width:4\"/><line x1=\"126.898\" y1=\"454.578\" x2=\"128.664\" y2=\"455.517\" stroke-linecap=\"round\" style=\"stroke:green;stroke-width:4\"/><line x1=\"128.664\" y1=\"455.517\" x2=\"130.36\" y2=\"456.577\" stroke-linecap=\"round\" style=\"stroke:green;stroke-width:4\"/><line x1=\"130.36\" y1=\"456.577\" x2=\"131.978\" y2=\"457.753\" stroke-linecap=\"round\" style=\"stroke:green;stroke-width:4\"/><line x1=\"131.978\" y1=\"457.753\" x2=\"133.51\" y2=\"459.039\" stroke-linecap=\"round\" style=\"stroke:green;stroke-width:4\"/><line x1=\"133.51\" y1=\"459.039\" x2=\"134.949\" y2=\"460.428\" stroke-linecap=\"round\" style=\"stroke:green;stroke-width:4\"/><line x1=\"134.949\" y1=\"460.428\" x2=\"136.287\" y2=\"461.914\" stroke-linecap=\"round\" style=\"stroke:green;stroke-width:4\"/><line x1=\"136.287\" y1=\"461.914\" x2=\"137.518\" y2=\"463.49\" stroke-linecap=\"round\" style=\"stroke:green;stroke-width:4\"/><line x1=\"137.518\" y1=\"463.49\" x2=\"138.636\" y2=\"465.148\" stroke-linecap=\"round\" style=\"stroke:green;stroke-width:4\"/><line x1=\"138.636\" y1=\"465.148\" x2=\"139.636\" y2=\"466.88\" stroke-linecap=\"round\" style=\"stroke:green;stroke-width:4\"/><line x1=\"139.636\" y1=\"466.88\" x2=\"140.513\" y2=\"468.678\" stroke-linecap=\"round\" style=\"stroke:green;stroke-width:4\"/><line x1=\"140.513\" y1=\"468.678\" x2=\"141.262\" y2=\"470.532\" stroke-linecap=\"round\" style=\"stroke:green;stroke-width:4\"/><line x1=\"141.262\" y1=\"470.532\" x2=\"141.88\" y2=\"472.434\" stroke-linecap=\"round\" style=\"stroke:green;stroke-width:4\"/><line x1=\"141.88\" y1=\"472.434\" x2=\"142.364\" y2=\"474.375\" stroke-linecap=\"round\" style=\"stroke:green;stroke-width:4\"/><line x1=\"142.364\" y1=\"474.375\" x2=\"142.711\" y2=\"476.345\" stroke-linecap=\"round\" style=\"stroke:green;stroke-width:4\"/><line x1=\"142.711\" y1=\"476.345\" x2=\"142.92\" y2=\"478.334\" stroke-linecap=\"round\" style=\"stroke:green;stroke-width:4\"/><line x1=\"142.92\" y1=\"478.334\" x2=\"142.99\" y2=\"480.333\" stroke-linecap=\"round\" style=\"stroke:green;stroke-width:4\"/><line x1=\"142.99\" y1=\"480.333\" x2=\"142.99\" y2=\"480\" stroke-linecap=\"round\" style=\"stroke:green;stroke-width:4\"/><line x1=\"142.99\" y1=\"480\" x2=\"136.833\" y2=\"487.88\" stroke-linecap=\"round\" style=\"stroke:red;stroke-width:4\"/><line x1=\"136.833\" y1=\"487.88\" x2=\"136.833\" y2=\"480\" stroke-linecap=\"round\" style=\"stroke:red;stroke-width:4\"/><line x1=\"136.833\" y1=\"480\" x2=\"135.495\" y2=\"481.486\" stroke-linecap=\"round\" style=\"stroke:red;stroke-width:4\"/><line x1=\"135.495\" y1=\"481.486\" x2=\"135.495\" y2=\"480\" stroke-linecap=\"round\" style=\"stroke:red;stroke-width:4\"/><line x1=\"135.495\" y1=\"480\" x2=\"133.539\" y2=\"480.416\" stroke-linecap=\"round\" style=\"stroke:red;stroke-width:4\"/><line x1=\"133.539\" y1=\"480.416\" x2=\"133.539\" y2=\"480\" stroke-linecap=\"round\" style=\"stroke:red;stroke-width:4\"/><line x1=\"133.539\" y1=\"480\" x2=\"127.382\" y2=\"487.88\" stroke-linecap=\"round\" style=\"stroke:red;stroke-width:4\"/><line x1=\"127.382\" y1=\"487.88\" x2=\"127.382\" y2=\"480\" stroke-linecap=\"round\" style=\"stroke:red;stroke-width:4\"/><line x1=\"127.382\" y1=\"480\" x2=\"126.264\" y2=\"481.658\" stroke-linecap=\"round\" style=\"stroke:red;stroke-width:4\"/><line x1=\"126.264\" y1=\"481.658\" x2=\"126.264\" y2=\"480\" stroke-linecap=\"round\" style=\"stroke:red;stroke-width:4\"/><line x1=\"126.264\" y1=\"480\" x2=\"126.611\" y2=\"481.97\" stroke-linecap=\"round\" style=\"stroke:red;stroke-width:4\"/><line x1=\"126.611\" y1=\"481.97\" x2=\"126.611\" y2=\"480\" stroke-linecap=\"round\" style=\"stroke:red;stroke-width:4\"/><line x1=\"126.611\" y1=\"480\" x2=\"128.229\" y2=\"481.176\" stroke-linecap=\"round\" style=\"stroke:red;stroke-width:4\"/><line x1=\"128.229\" y1=\"481.176\" x2=\"128.229\" y2=\"480\" stroke-linecap=\"round\" style=\"stroke:red;stroke-width:4\"/><line x1=\"128.229\" y1=\"480\" x2=\"130.21\" y2=\"479.722\" stroke-linecap=\"round\" style=\"stroke:red;stroke-width:4\"/><line x1=\"130.21\" y1=\"479.722\" x2=\"132.166\" y2=\"479.306\" stroke-linecap=\"round\" style=\"stroke:green;stroke-width:4\"/><line x1=\"132.166\" y1=\"479.306\" x2=\"134.089\" y2=\"478.755\" stroke-linecap=\"round\" style=\"stroke:green;stroke-width:4\"/><line x1=\"134.089\" y1=\"478.755\" x2=\"135.968\" y2=\"478.071\" stroke-linecap=\"round\" style=\"stroke:green;stroke-width:4\"/><line x1=\"135.968\" y1=\"478.071\" x2=\"137.795\" y2=\"477.258\" stroke-linecap=\"round\" style=\"stroke:green;stroke-width:4\"/><line x1=\"137.795\" y1=\"477.258\" x2=\"139.561\" y2=\"476.319\" stroke-linecap=\"round\" style=\"stroke:green;stroke-width:4\"/><line x1=\"139.561\" y1=\"476.319\" x2=\"141.257\" y2=\"475.259\" stroke-linecap=\"round\" style=\"stroke:green;stroke-width:4\"/><line x1=\"141.257\" y1=\"475.259\" x2=\"142.875\" y2=\"474.083\" stroke-linecap=\"round\" style=\"stroke:green;stroke-width:4\"/><line x1=\"142.875\" y1=\"474.083\" x2=\"144.407\" y2=\"472.797\" stroke-linecap=\"round\" style=\"stroke:green;stroke-width:4\"/><line x1=\"144.407\" y1=\"472.797\" x2=\"145.846\" y2=\"471.408\" stroke-linecap=\"round\" style=\"stroke:green;stroke-width:4\"/><line x1=\"145.846\" y1=\"471.408\" x2=\"153.039\" y2=\"464.461\" stroke-linecap=\"round\" style=\"stroke:green;stroke-width:4\"/><line x1=\"153.039\" y1=\"464.461\" x2=\"160.232\" y2=\"457.514\" stroke-linecap=\"round\" style=\"stroke:green;stroke-width:4\"/><line x1=\"160.232\" y1=\"457.514\" x2=\"167.425\" y2=\"450.567\" stroke-linecap=\"round\" style=\"stroke:green;stroke-width:4\"/><line x1=\"167.425\" y1=\"450.567\" x2=\"174.618\" y2=\"443.62\" stroke-linecap=\"round\" style=\"stroke:green;stroke-width:4\"/><line x1=\"174.618\" y1=\"443.62\" x2=\"181.811\" y2=\"436.673\" stroke-linecap=\"round\" style=\"stroke:green;stroke-width:4\"/><line x1=\"181.811\" y1=\"436.673\" x2=\"189.004\" y2=\"429.726\" stroke-linecap=\"round\" style=\"stroke:green;stroke-width:4\"/><line x1=\"189.004\" y1=\"429.726\" x2=\"196.197\" y2=\"422.779\" stroke-linecap=\"round\" style=\"stroke:green;stroke-width:4\"/><line x1=\"196.197\" y1=\"422.779\" x2=\"203.39\" y2=\"415.832\" stroke-linecap=\"round\" style=\"stroke:green;stroke-width:4\"/><line x1=\"203.39\" y1=\"415.832\" x2=\"210.583\" y2=\"408.885\" stroke-linecap=\"round\" style=\"stroke:green;stroke-width:4\"/><line x1=\"210.583\" y1=\"408.885\" x2=\"217.776\" y2=\"401.938\" stroke-linecap=\"round\" style=\"stroke:green;stroke-width:4\"/><line x1=\"217.776\" y1=\"401.938\" x2=\"224.969\" y2=\"394.991\" stroke-linecap=\"round\" style=\"stroke:green;stroke-width:4\"/><line x1=\"224.969\" y1=\"394.991\" x2=\"232.162\" y2=\"388.044\" stroke-linecap=\"round\" style=\"stroke:green;stroke-width:4\"/><line x1=\"232.162\" y1=\"388.044\" x2=\"239.355\" y2=\"381.097\" stroke-linecap=\"round\" style=\"stroke:green;stroke-width:4\"/><line x1=\"239.355\" y1=\"381.097\" x2=\"246.548\" y2=\"374.15\" stroke-linecap=\"round\" style=\"stroke:green;stroke-width:4\"/><line x1=\"246.548\" y1=\"374.15\" x2=\"253.741\" y2=\"367.203\" stroke-linecap=\"round\" style=\"stroke:green;stroke-width:4\"/><line x1=\"253.741\" y1=\"367.203\" x2=\"260.934\" y2=\"360.256\" stroke-linecap=\"round\" style=\"stroke:green;stroke-width:4\"/><line x1=\"260.934\" y1=\"360.256\" x2=\"268.127\" y2=\"353.309\" stroke-linecap=\"round\" style=\"stroke:green;stroke-width:4\"/><line x1=\"268.127\" y1=\"353.309\" x2=\"275.32\" y2=\"346.362\" stroke-linecap=\"round\" style=\"stroke:green;stroke-width:4\"/><line x1=\"275.32\" y1=\"346.362\" x2=\"282.513\" y2=\"339.415\" stroke-linecap=\"round\" style=\"stroke:green;stroke-width:4\"/><line x1=\"282.513\" y1=\"339.415\" x2=\"289.706\" y2=\"332.468\" stroke-linecap=\"round\" style=\"stroke:green;stroke-width:4\"/><line x1=\"289.706\" y1=\"332.468\" x2=\"296.899\" y2=\"325.521\" stroke-linecap=\"round\" style=\"stroke:green;stroke-width:4\"/><line x1=\"296.899\" y1=\"325.521\" x2=\"304.092\" y2=\"318.574\" stroke-linecap=\"round\" style=\"stroke:green;stroke-width:4\"/><line x1=\"304.092\" y1=\"318.574\" x2=\"311.285\" y2=\"311.627\" stroke-linecap=\"round\" style=\"stroke:green;stroke-width:4\"/><line x1=\"311.285\" y1=\"311.627\" x2=\"318.478\" y2=\"304.68\" stroke-linecap=\"round\" style=\"stroke:green;stroke-width:4\"/><line x1=\"318.478\" y1=\"304.68\" x2=\"325.671\" y2=\"297.733\" stroke-linecap=\"round\" style=\"stroke:green;stroke-width:4\"/><line x1=\"325.671\" y1=\"297.733\" x2=\"332.864\" y2=\"290.786\" stroke-linecap=\"round\" style=\"stroke:green;stroke-width:4\"/><line x1=\"332.864\" y1=\"290.786\" x2=\"340.057\" y2=\"283.839\" stroke-linecap=\"round\" style=\"stroke:green;stroke-width:4\"/><line x1=\"340.057\" y1=\"283.839\" x2=\"347.25\" y2=\"276.892\" stroke-linecap=\"round\" style=\"stroke:green;stroke-width:4\"/><line x1=\"347.25\" y1=\"276.892\" x2=\"354.443\" y2=\"269.945\" stroke-linecap=\"round\" style=\"stroke:green;stroke-width:4\"/><line x1=\"354.443\" y1=\"269.945\" x2=\"361.636\" y2=\"262.998\" stroke-linecap=\"round\" style=\"stroke:green;stroke-width:4\"/><line x1=\"361.636\" y1=\"262.998\" x2=\"368.829\" y2=\"256.051\" stroke-linecap=\"round\" style=\"stroke:green;stroke-width:4\"/><line x1=\"368.829\" y1=\"256.051\" x2=\"376.022\" y2=\"249.104\" stroke-linecap=\"round\" style=\"stroke:green;stroke-width:4\"/><line x1=\"376.022\" y1=\"249.104\" x2=\"383.215\" y2=\"242.157\" stroke-linecap=\"round\" style=\"stroke:green;stroke-width:4\"/><line x1=\"383.215\" y1=\"242.157\" x2=\"390.408\" y2=\"235.21\" stroke-linecap=\"round\" style=\"stroke:green;stroke-width:4\"/><line x1=\"390.408\" y1=\"235.21\" x2=\"397.601\" y2=\"228.263\" stroke-linecap=\"round\" style=\"stroke:green;stroke-width:4\"/><line x1=\"397.601\" y1=\"228.263\" x2=\"404.794\" y2=\"221.316\" stroke-linecap=\"round\" style=\"stroke:green;stroke-width:4\"/><line x1=\"404.794\" y1=\"221.316\" x2=\"411.987\" y2=\"214.369\" stroke-linecap=\"round\" style=\"stroke:green;stroke-width:4\"/><line x1=\"411.987\" y1=\"214.369\" x2=\"419.18\" y2=\"207.422\" stroke-linecap=\"round\" style=\"stroke:green;stroke-width:4\"/><line x1=\"419.18\" y1=\"207.422\" x2=\"426.373\" y2=\"200.475\" stroke-linecap=\"round\" style=\"stroke:green;stroke-width:4\"/><line x1=\"426.373\" y1=\"200.475\" x2=\"433.566\" y2=\"193.528\" stroke-linecap=\"round\" style=\"stroke:green;stroke-width:4\"/><line x1=\"433.566\" y1=\"193.528\" x2=\"440.759\" y2=\"186.581\" stroke-linecap=\"round\" style=\"stroke:green;stroke-width:4\"/><line x1=\"440.759\" y1=\"186.581\" x2=\"447.952\" y2=\"179.634\" stroke-linecap=\"round\" style=\"stroke:green;stroke-width:4\"/><line x1=\"447.952\" y1=\"179.634\" x2=\"455.145\" y2=\"172.687\" stroke-linecap=\"round\" style=\"stroke:green;stroke-width:4\"/><line x1=\"455.145\" y1=\"172.687\" x2=\"462.338\" y2=\"165.74\" stroke-linecap=\"round\" style=\"stroke:green;stroke-width:4\"/><line x1=\"462.338\" y1=\"165.74\" x2=\"469.531\" y2=\"158.793\" stroke-linecap=\"round\" style=\"stroke:green;stroke-width:4\"/><line x1=\"469.531\" y1=\"158.793\" x2=\"476.724\" y2=\"151.846\" stroke-linecap=\"round\" style=\"stroke:green;stroke-width:4\"/><line x1=\"476.724\" y1=\"151.846\" x2=\"483.917\" y2=\"144.899\" stroke-linecap=\"round\" style=\"stroke:green;stroke-width:4\"/><line x1=\"483.917\" y1=\"144.899\" x2=\"491.11\" y2=\"137.952\" stroke-linecap=\"round\" style=\"stroke:green;stroke-width:4\"/><line x1=\"491.11\" y1=\"137.952\" x2=\"498.303\" y2=\"131.005\" stroke-linecap=\"round\" style=\"stroke:green;stroke-width:4\"/><line x1=\"498.303\" y1=\"131.005\" x2=\"505.496\" y2=\"124.058\" stroke-linecap=\"round\" style=\"stroke:green;stroke-width:4\"/><line x1=\"505.496\" y1=\"124.058\" x2=\"507.028\" y2=\"122.772\" stroke-linecap=\"round\" style=\"stroke:green;stroke-width:4\"/><line x1=\"507.028\" y1=\"122.772\" x2=\"508.646\" y2=\"121.596\" stroke-linecap=\"round\" style=\"stroke:green;stroke-width:4\"/><line x1=\"508.646\" y1=\"121.596\" x2=\"510.342\" y2=\"120.536\" stroke-linecap=\"round\" style=\"stroke:green;stroke-width:4\"/><line x1=\"510.342\" y1=\"120.536\" x2=\"512.108\" y2=\"119.597\" stroke-linecap=\"round\" style=\"stroke:green;stroke-width:4\"/><line x1=\"512.108\" y1=\"119.597\" x2=\"513.935\" y2=\"118.784\" stroke-linecap=\"round\" style=\"stroke:green;stroke-width:4\"/><line x1=\"513.935\" y1=\"118.784\" x2=\"515.814\" y2=\"118.1\" stroke-linecap=\"round\" style=\"stroke:green;stroke-width:4\"/><line x1=\"515.814\" y1=\"118.1\" x2=\"517.737\" y2=\"117.549\" stroke-linecap=\"round\" style=\"stroke:green;stroke-width:4\"/><line x1=\"517.737\" y1=\"117.549\" x2=\"519.693\" y2=\"117.133\" stroke-linecap=\"round\" style=\"stroke:green;stroke-width:4\"/><line x1=\"519.693\" y1=\"117.133\" x2=\"521.674\" y2=\"116.855\" stroke-linecap=\"round\" style=\"stroke:green;stroke-width:4\"/><line x1=\"521.674\" y1=\"116.855\" x2=\"523.669\" y2=\"116.715\" stroke-linecap=\"round\" style=\"stroke:green;stroke-width:4\"/><line x1=\"523.669\" y1=\"116.715\" x2=\"533.645\" y2=\"116.017\" stroke-linecap=\"round\" style=\"stroke:green;stroke-width:4\"/><line x1=\"533.645\" y1=\"116.017\" x2=\"543.621\" y2=\"115.319\" stroke-linecap=\"round\" style=\"stroke:green;stroke-width:4\"/><line x1=\"543.621\" y1=\"115.319\" x2=\"553.597\" y2=\"114.621\" stroke-linecap=\"round\" style=\"stroke:green;stroke-width:4\"/><line x1=\"553.597\" y1=\"114.621\" x2=\"563.573\" y2=\"113.923\" stroke-linecap=\"round\" style=\"stroke:green;stroke-width:4\"/><line x1=\"563.573\" y1=\"113.923\" x2=\"573.549\" y2=\"113.225\" stroke-linecap=\"round\" style=\"stroke:green;stroke-width:4\"/><line x1=\"573.549\" y1=\"113.225\" x2=\"583.525\" y2=\"112.527\" stroke-linecap=\"round\" style=\"stroke:green;stroke-width:4\"/><line x1=\"583.525\" y1=\"112.527\" x2=\"593.501\" y2=\"111.829\" stroke-linecap=\"round\" style=\"stroke:green;stroke-width:4\"/><line x1=\"593.501\" y1=\"111.829\" x2=\"603.477\" y2=\"111.131\" stroke-linecap=\"round\" style=\"stroke:green;stroke-width:4\"/><line x1=\"603.477\" y1=\"111.131\" x2=\"613.453\" y2=\"110.433\" stroke-linecap=\"round\" style=\"stroke:green;stroke-width:4\"/><line x1=\"613.453\" y1=\"110.433\" x2=\"623.429\" y2=\"109.735\" stroke-linecap=\"round\" style=\"stroke:green;stroke-width:4\"/><line x1=\"623.429\" y1=\"109.735\" x2=\"625.429\" y2=\"109.735\" stroke-linecap=\"round\" style=\"stroke:green;stroke-width:4\"/><line x1=\"625.429\" y1=\"109.735\" x2=\"627.424\" y2=\"109.875\" stroke-linecap=\"round\" style=\"stroke:green;stroke-width:4\"/><line x1=\"627.424\" y1=\"109.875\" x2=\"629.405\" y2=\"110.153\" stroke-linecap=\"round\" style=\"stroke:green;stroke-width:4\"/><line x1=\"629.405\" y1=\"110.153\" x2=\"631.361\" y2=\"110.569\" stroke-linecap=\"round\" style=\"stroke:green;stroke-width:4\"/><line x1=\"631.361\" y1=\"110.569\" x2=\"633.284\" y2=\"111.12\" stroke-linecap=\"round\" style=\"stroke:green;stroke-width:4\"/><line x1=\"633.284\" y1=\"111.12\" x2=\"635.163\" y2=\"111.804\" stroke-linecap=\"round\" style=\"stroke:green;stroke-width:4\"/><line x1=\"635.163\" y1=\"111.804\" x2=\"636.99\" y2=\"112.617\" stroke-linecap=\"round\" style=\"stroke:green;stroke-width:4\"/><line x1=\"636.99\" y1=\"112.617\" x2=\"638.756\" y2=\"113.556\" stroke-linecap=\"round\" style=\"stroke:green;stroke-width:4\"/><line x1=\"638.756\" y1=\"113.556\" x2=\"640.452\" y2=\"114.616\" stroke-linecap=\"round\" style=\"stroke:green;stroke-width:4\"/><line x1=\"640.452\" y1=\"114.616\" x2=\"642.07\" y2=\"115.792\" stroke-linecap=\"round\" style=\"stroke:green;stroke-width:4\"/><line x1=\"642.07\" y1=\"115.792\" x2=\"650.16\" y2=\"121.67\" stroke-linecap=\"round\" style=\"stroke:green;stroke-width:4\"/><line x1=\"650.16\" y1=\"121.67\" x2=\"658.25\" y2=\"127.548\" stroke-linecap=\"round\" style=\"stroke:green;stroke-width:4\"/><line x1=\"658.25\" y1=\"127.548\" x2=\"666.34\" y2=\"133.426\" stroke-linecap=\"round\" style=\"stroke:green;stroke-width:4\"/><line x1=\"666.34\" y1=\"133.426\" x2=\"674.43\" y2=\"139.304\" stroke-linecap=\"round\" style=\"stroke:green;stroke-width:4\"/><line x1=\"674.43\" y1=\"139.304\" x2=\"682.52\" y2=\"145.182\" stroke-linecap=\"round\" style=\"stroke:green;stroke-width:4\"/><line x1=\"682.52\" y1=\"145.182\" x2=\"690.61\" y2=\"151.06\" stroke-linecap=\"round\" style=\"stroke:green;stroke-width:4\"/><line x1=\"690.61\" y1=\"151.06\" x2=\"698.7\" y2=\"156.938\" stroke-linecap=\"round\" style=\"stroke:green;stroke-width:4\"/><line x1=\"698.7\" y1=\"156.938\" x2=\"706.79\" y2=\"162.816\" stroke-linecap=\"round\" style=\"stroke:green;stroke-width:4\"/><line x1=\"706.79\" y1=\"162.816\" x2=\"714.88\" y2=\"168.694\" stroke-linecap=\"round\" style=\"stroke:green;stroke-width:4\"/><line x1=\"714.88\" y1=\"168.694\" x2=\"722.97\" y2=\"174.572\" stroke-linecap=\"round\" style=\"stroke:green;stroke-width:4\"/><line x1=\"722.97\" y1=\"174.572\" x2=\"731.06\" y2=\"180.45\" stroke-linecap=\"round\" style=\"stroke:green;stroke-width:4\"/><line x1=\"731.06\" y1=\"180.45\" x2=\"739.15\" y2=\"186.328\" stroke-linecap=\"round\" style=\"stroke:green;stroke-width:4\"/><line x1=\"739.15\" y1=\"186.328\" x2=\"747.24\" y2=\"192.206\" stroke-linecap=\"round\" style=\"stroke:green;stroke-width:4\"/><line x1=\"747.24\" y1=\"192.206\" x2=\"755.33\" y2=\"198.084\" stroke-linecap=\"round\" style=\"stroke:green;stroke-width:4\"/><line x1=\"755.33\" y1=\"198.084\" x2=\"763.42\" y2=\"203.962\" stroke-linecap=\"round\" style=\"stroke:green;stroke-width:4\"/><line x1=\"763.42\" y1=\"203.962\" x2=\"771.51\" y2=\"209.84\" stroke-linecap=\"round\" style=\"stroke:green;stroke-width:4\"/><line x1=\"771.51\" y1=\"209.84\" x2=\"779.6\" y2=\"215.718\" stroke-linecap=\"round\" style=\"stroke:green;stroke-width:4\"/><line x1=\"779.6\" y1=\"215.718\" x2=\"787.69\" y2=\"221.596\" stroke-linecap=\"round\" style=\"stroke:green;stroke-width:4\"/><line x1=\"787.69\" y1=\"221.596\" x2=\"780\" y2=\"221.596\" stroke-linecap=\"round\" style=\"stroke:green;stroke-width:4\"/><line x1=\"780\" y1=\"221.596\" x2=\"788.09\" y2=\"227.474\" stroke-linecap=\"round\" style=\"stroke:red;stroke-width:4\"/><line x1=\"788.09\" y1=\"227.474\" x2=\"780\" y2=\"227.474\" stroke-linecap=\"round\" style=\"stroke:red;stroke-width:4\"/><line x1=\"780\" y1=\"227.474\" x2=\"781.532\" y2=\"228.76\" stroke-linecap=\"round\" style=\"stroke:red;stroke-width:4\"/><line x1=\"781.532\" y1=\"228.76\" x2=\"780\" y2=\"228.76\" stroke-linecap=\"round\" style=\"stroke:red;stroke-width:4\"/><line x1=\"780\" y1=\"228.76\" x2=\"780.209\" y2=\"230.749\" stroke-linecap=\"round\" style=\"stroke:red;stroke-width:4\"/><line x1=\"780.209\" y1=\"230.749\" x2=\"780\" y2=\"230.749\" stroke-linecap=\"round\" style=\"stroke:red;stroke-width:4\"/><line x1=\"780\" y1=\"230.749\" x2=\"774.408\" y2=\"239.039\" stroke-linecap=\"round\" style=\"stroke:red;stroke-width:4\"/><line x1=\"774.408\" y1=\"239.039\" x2=\"768.816\" y2=\"247.329\" stroke-linecap=\"round\" style=\"stroke:green;stroke-width:4\"/><line x1=\"768.816\" y1=\"247.329\" x2=\"763.224\" y2=\"255.619\" stroke-linecap=\"round\" style=\"stroke:green;stroke-width:4\"/><line x1=\"763.224\" y1=\"255.619\" x2=\"757.632\" y2=\"263.909\" stroke-linecap=\"round\" style=\"stroke:green;stroke-width:4\"/><line x1=\"757.632\" y1=\"263.909\" x2=\"752.04\" y2=\"272.199\" stroke-linecap=\"round\" style=\"stroke:green;stroke-width:4\"/><line x1=\"752.04\" y1=\"272.199\" x2=\"746.448\" y2=\"280.489\" stroke-linecap=\"round\" style=\"stroke:green;stroke-width:4\"/><line x1=\"746.448\" y1=\"280.489\" x2=\"740.856\" y2=\"288.779\" stroke-linecap=\"round\" style=\"stroke:green;stroke-width:4\"/><line x1=\"740.856\" y1=\"288.779\" x2=\"735.264\" y2=\"297.069\" stroke-linecap=\"round\" style=\"stroke:green;stroke-width:4\"/><line x1=\"735.264\" y1=\"297.069\" x2=\"729.672\" y2=\"305.359\" stroke-linecap=\"round\" style=\"stroke:green;stroke-width:4\"/><line x1=\"729.672\" y1=\"305.359\" x2=\"724.08\" y2=\"313.649\" stroke-linecap=\"round\" style=\"stroke:green;stroke-width:4\"/>\n",
       "        <g visibility=visible transform=\"rotate(214,724.08,313.649) translate(706.08, 295.649)\">\n",
       "<path style=\" stroke:none;fill-rule:evenodd;fill:green;fill-opacity:1;\" d=\"M 18.214844 0.632812 C 16.109375 1.800781 15.011719 4.074219 15.074219 7.132812 L 15.085938 7.652344 L 14.785156 7.496094 C 13.476562 6.824219 11.957031 6.671875 10.40625 7.066406 C 8.46875 7.550781 6.515625 9.15625 4.394531 11.992188 C 3.0625 13.777344 2.679688 14.636719 3.042969 15.027344 L 3.15625 15.152344 L 3.519531 15.152344 C 4.238281 15.152344 4.828125 14.886719 8.1875 13.039062 C 9.386719 12.378906 10.371094 11.839844 10.378906 11.839844 C 10.386719 11.839844 10.355469 11.929688 10.304688 12.035156 C 9.832031 13.09375 9.257812 14.820312 8.96875 16.078125 C 7.914062 20.652344 8.617188 24.53125 11.070312 27.660156 C 11.351562 28.015625 11.363281 27.914062 10.972656 28.382812 C 8.925781 30.84375 7.945312 33.28125 8.238281 35.1875 C 8.289062 35.527344 8.28125 35.523438 8.917969 35.523438 C 10.941406 35.523438 13.074219 34.207031 15.136719 31.6875 C 15.359375 31.417969 15.328125 31.425781 15.5625 31.574219 C 16.292969 32.042969 18.023438 32.964844 18.175781 32.964844 C 18.335938 32.964844 19.941406 32.210938 20.828125 31.71875 C 20.996094 31.625 21.136719 31.554688 21.136719 31.558594 C 21.203125 31.664062 21.898438 32.414062 22.222656 32.730469 C 23.835938 34.300781 25.5625 35.132812 27.582031 35.300781 C 27.90625 35.328125 27.9375 35.308594 28.007812 34.984375 C 28.382812 33.242188 27.625 30.925781 25.863281 28.425781 L 25.542969 27.96875 L 25.699219 27.785156 C 28.945312 23.960938 29.132812 18.699219 26.257812 11.96875 L 26.207031 11.84375 L 27.945312 12.703125 C 31.53125 14.476562 32.316406 14.800781 33.03125 14.800781 C 33.976562 14.800781 33.78125 13.9375 32.472656 12.292969 C 28.519531 7.355469 25.394531 5.925781 21.921875 7.472656 L 21.558594 7.636719 L 21.578125 7.542969 C 21.699219 6.992188 21.761719 5.742188 21.699219 5.164062 C 21.496094 3.296875 20.664062 1.964844 19.003906 0.855469 C 18.480469 0.503906 18.457031 0.5 18.214844 0.632812\"/>\n",
       "</g>\n",
       "      </svg>\n",
       "    "
      ],
      "text/plain": [
       "<IPython.core.display.HTML object>"
      ]
     },
     "metadata": {},
     "output_type": "display_data"
    },
    {
     "name": "stdout",
     "output_type": "stream",
     "text": [
      "Action: 0, Prediction: 0, Outcome: 0, Prediction: True, Valence: 1\n",
      "Action: 0, Prediction: 0, Outcome: 0, Prediction: True, Valence: 1\n",
      "Action: 0, Prediction: 0, Outcome: 0, Prediction: True, Valence: 1\n",
      "Action: 0, Prediction: 0, Outcome: 1, Prediction: False, Valence: -1\n",
      "Action: 0, Prediction: 1, Outcome: 1, Prediction: True, Valence: -1\n",
      "Action: 0, Prediction: 1, Outcome: 1, Prediction: True, Valence: -1\n",
      "Action: 0, Prediction: 1, Outcome: 1, Prediction: True, Valence: -1\n",
      "Action: 0, Prediction: 1, Outcome: 1, Prediction: True, Valence: -1\n",
      "Action: 1, Prediction: 0, Outcome: 1, Prediction: False, Valence: 1\n",
      "Action: 0, Prediction: 1, Outcome: 1, Prediction: True, Valence: -1\n",
      "Action: 1, Prediction: 1, Outcome: 1, Prediction: True, Valence: 1\n",
      "Action: 1, Prediction: 1, Outcome: 0, Prediction: False, Valence: -1\n",
      "Action: 1, Prediction: 0, Outcome: 0, Prediction: True, Valence: -1\n",
      "Action: 1, Prediction: 0, Outcome: 0, Prediction: True, Valence: -1\n",
      "Action: 1, Prediction: 0, Outcome: 0, Prediction: True, Valence: -1\n",
      "Action: 0, Prediction: 1, Outcome: 0, Prediction: False, Valence: 1\n",
      "Action: 0, Prediction: 0, Outcome: 0, Prediction: True, Valence: 1\n",
      "Action: 0, Prediction: 0, Outcome: 1, Prediction: False, Valence: -1\n",
      "Action: 0, Prediction: 1, Outcome: 1, Prediction: True, Valence: -1\n",
      "Action: 1, Prediction: 0, Outcome: 1, Prediction: False, Valence: 1\n",
      "Action: 0, Prediction: 1, Outcome: 1, Prediction: True, Valence: -1\n",
      "Action: 1, Prediction: 1, Outcome: 1, Prediction: True, Valence: 1\n",
      "Action: 1, Prediction: 1, Outcome: 1, Prediction: True, Valence: 1\n",
      "Action: 1, Prediction: 1, Outcome: 0, Prediction: False, Valence: -1\n",
      "Action: 1, Prediction: 0, Outcome: 0, Prediction: True, Valence: -1\n",
      "Action: 1, Prediction: 0, Outcome: 0, Prediction: True, Valence: -1\n",
      "Action: 0, Prediction: 1, Outcome: 0, Prediction: False, Valence: 1\n",
      "Action: 0, Prediction: 0, Outcome: 0, Prediction: True, Valence: 1\n",
      "Action: 0, Prediction: 0, Outcome: 0, Prediction: True, Valence: 1\n",
      "Action: 0, Prediction: 0, Outcome: 0, Prediction: True, Valence: 1\n",
      "Action: 0, Prediction: 0, Outcome: 0, Prediction: True, Valence: 1\n",
      "Action: 2, Prediction: 0, Outcome: 0, Prediction: True, Valence: 1\n",
      "Action: 0, Prediction: 0, Outcome: 1, Prediction: False, Valence: -1\n",
      "Action: 1, Prediction: 0, Outcome: 1, Prediction: False, Valence: 1\n",
      "Action: 2, Prediction: 0, Outcome: 1, Prediction: False, Valence: -1\n",
      "Action: 0, Prediction: 1, Outcome: 1, Prediction: True, Valence: -1\n",
      "Action: 1, Prediction: 1, Outcome: 1, Prediction: True, Valence: 1\n",
      "Action: 1, Prediction: 1, Outcome: 1, Prediction: True, Valence: 1\n",
      "Action: 1, Prediction: 1, Outcome: 0, Prediction: False, Valence: -1\n",
      "Action: 0, Prediction: 1, Outcome: 0, Prediction: False, Valence: 1\n",
      "Action: 0, Prediction: 0, Outcome: 0, Prediction: True, Valence: 1\n",
      "Action: 0, Prediction: 0, Outcome: 1, Prediction: False, Valence: -1\n",
      "Action: 2, Prediction: 1, Outcome: 1, Prediction: True, Valence: -1\n",
      "Action: 2, Prediction: 1, Outcome: 1, Prediction: True, Valence: -1\n",
      "Action: 1, Prediction: 0, Outcome: 1, Prediction: False, Valence: 1\n",
      "Action: 0, Prediction: 1, Outcome: 1, Prediction: True, Valence: -1\n",
      "Action: 1, Prediction: 1, Outcome: 1, Prediction: True, Valence: 1\n",
      "Action: 1, Prediction: 1, Outcome: 1, Prediction: True, Valence: 1\n",
      "Action: 1, Prediction: 1, Outcome: 0, Prediction: False, Valence: -1\n",
      "Action: 2, Prediction: 1, Outcome: 0, Prediction: False, Valence: 1\n",
      "Action: 1, Prediction: 0, Outcome: 0, Prediction: True, Valence: -1\n",
      "Action: 2, Prediction: 0, Outcome: 0, Prediction: True, Valence: 1\n",
      "Action: 2, Prediction: 0, Outcome: 0, Prediction: True, Valence: 1\n",
      "Action: 2, Prediction: 0, Outcome: 0, Prediction: True, Valence: 1\n",
      "Action: 1, Prediction: 0, Outcome: 1, Prediction: False, Valence: 1\n",
      "Action: 1, Prediction: 1, Outcome: 1, Prediction: True, Valence: 1\n",
      "Action: 2, Prediction: 0, Outcome: 0, Prediction: True, Valence: 1\n",
      "Action: 1, Prediction: 1, Outcome: 1, Prediction: True, Valence: 1\n",
      "Action: 1, Prediction: 1, Outcome: 0, Prediction: False, Valence: -1\n",
      "Action: 2, Prediction: 0, Outcome: 0, Prediction: True, Valence: 1\n",
      "Action: 2, Prediction: 0, Outcome: 0, Prediction: True, Valence: 1\n",
      "Action: 2, Prediction: 0, Outcome: 0, Prediction: True, Valence: 1\n",
      "Action: 2, Prediction: 0, Outcome: 1, Prediction: False, Valence: -1\n",
      "Action: 2, Prediction: 1, Outcome: 1, Prediction: True, Valence: -1\n",
      "Action: 1, Prediction: 0, Outcome: 1, Prediction: False, Valence: 1\n",
      "Action: 0, Prediction: 1, Outcome: 1, Prediction: True, Valence: -1\n",
      "Action: 1, Prediction: 1, Outcome: 1, Prediction: True, Valence: 1\n",
      "Action: 1, Prediction: 1, Outcome: 1, Prediction: True, Valence: 1\n",
      "Action: 1, Prediction: 1, Outcome: 1, Prediction: True, Valence: 1\n",
      "Action: 0, Prediction: 1, Outcome: 1, Prediction: True, Valence: -1\n",
      "Action: 1, Prediction: 1, Outcome: 0, Prediction: False, Valence: -1\n",
      "Action: 1, Prediction: 0, Outcome: 0, Prediction: True, Valence: -1\n",
      "Action: 1, Prediction: 0, Outcome: 0, Prediction: True, Valence: -1\n",
      "Action: 2, Prediction: 1, Outcome: 0, Prediction: False, Valence: 1\n",
      "Action: 1, Prediction: 0, Outcome: 0, Prediction: True, Valence: -1\n",
      "Action: 2, Prediction: 0, Outcome: 0, Prediction: True, Valence: 1\n",
      "Action: 2, Prediction: 0, Outcome: 0, Prediction: True, Valence: 1\n",
      "Action: 2, Prediction: 0, Outcome: 1, Prediction: False, Valence: -1\n",
      "Action: 0, Prediction: 1, Outcome: 1, Prediction: True, Valence: -1\n",
      "Action: 2, Prediction: 1, Outcome: 1, Prediction: True, Valence: -1\n",
      "Action: 1, Prediction: 0, Outcome: 1, Prediction: False, Valence: 1\n",
      "Action: 0, Prediction: 1, Outcome: 1, Prediction: True, Valence: -1\n",
      "Action: 1, Prediction: 1, Outcome: 1, Prediction: True, Valence: 1\n",
      "Action: 1, Prediction: 1, Outcome: 1, Prediction: True, Valence: 1\n",
      "Action: 1, Prediction: 1, Outcome: 1, Prediction: True, Valence: 1\n",
      "Action: 1, Prediction: 1, Outcome: 0, Prediction: False, Valence: -1\n",
      "Action: 0, Prediction: 1, Outcome: 0, Prediction: False, Valence: 1\n",
      "Action: 0, Prediction: 0, Outcome: 0, Prediction: True, Valence: 1\n",
      "Action: 0, Prediction: 0, Outcome: 0, Prediction: True, Valence: 1\n",
      "Action: 0, Prediction: 0, Outcome: 0, Prediction: True, Valence: 1\n",
      "Action: 0, Prediction: 0, Outcome: 0, Prediction: True, Valence: 1\n",
      "Action: 2, Prediction: 1, Outcome: 0, Prediction: False, Valence: 1\n",
      "Action: 0, Prediction: 0, Outcome: 0, Prediction: True, Valence: 1\n",
      "Action: 2, Prediction: 0, Outcome: 0, Prediction: True, Valence: 1\n",
      "Action: 0, Prediction: 0, Outcome: 0, Prediction: True, Valence: 1\n",
      "Action: 0, Prediction: 0, Outcome: 1, Prediction: False, Valence: -1\n",
      "Action: 0, Prediction: 1, Outcome: 1, Prediction: True, Valence: -1\n",
      "Action: 2, Prediction: 0, Outcome: 1, Prediction: False, Valence: -1\n",
      "Action: 2, Prediction: 1, Outcome: 1, Prediction: True, Valence: -1\n"
     ]
    }
   ],
   "source": [
    "initializeTurtle()\n",
    "\n",
    "# Parameterize the rendering\n",
    "bgcolor(\"lightGray\")\n",
    "penup()\n",
    "goto(window_width() / 2, window_height()/2)\n",
    "face(0)\n",
    "pendown()\n",
    "color(\"green\")\n",
    "speed(10)\n",
    "\n",
    "a = Agent3(valences)\n",
    "e = ColabTurtleEnvironment()\n",
    "\n",
    "outcome = 0\n",
    "for i in range(100):\n",
    "    action = a.action(outcome)\n",
    "    outcome = e.outcome(action)"
   ]
  },
  {
   "cell_type": "markdown",
   "id": "ce02f401-3a78-4ced-9b8c-3b602c7be482",
   "metadata": {},
   "source": [
    "## Improve your agent's code"
   ]
  },
  {
   "cell_type": "markdown",
   "id": "3079e9cc-411c-483b-9858-20d53b3dbd7b",
   "metadata": {},
   "source": [
    "If your agent gets stuck against a border or in a corner, modify the valences or the code. \n",
    "Try different ways to handle boredome or to select random actions. \n",
    "In the next lab, you will see how to design an agent that can adapt to the context. "
   ]
  },
  {
   "cell_type": "markdown",
   "id": "ac15a134-34a6-4039-9b43-f8fd76d93b5e",
   "metadata": {},
   "source": [
    "## Report "
   ]
  },
  {
   "cell_type": "markdown",
   "id": "2e661c15-c1ed-4512-a1d9-0fbdb8f91879",
   "metadata": {},
   "source": [
    "Explain what you programmed and what results you observed. Export this document as PDF including your code, the traces you obtained, and your explanations below (no more than a few paragraphs):"
   ]
  },
  {
   "cell_type": "markdown",
   "id": "e490daf7",
   "metadata": {},
   "source": [
    "Dans la classe `Agent3`, on reprend les mêmes principes que pour `l'Agent 2`. De plus, l'agent a un tableau de booléens qui lui permet de savoir si une action a déjà été testée ou non. Ce tableau est utilisé pour choisir une action non testée lorsqu'il est ennuyé.\n",
    "\n",
    "L'agent 3 sert à apprendre à naviguer notre tortue (*l'agent*) dans un `ColabTurtleEnvironment`. Dans cette environnement, possède 3 actions possibles : avancer, tourner à gauche et tourner à droite. L'agent doit apprendre à naviguer dans l'environnement en evitant les murs.\n",
    "\n",
    "- L'agent commence par choisir l'action 0 et anticipe un outcome par défaut de 0.\n",
    "\n",
    "- Lorsqu'une action produit un outcome différent de ce qui était anticipé, l'agent met à jour sa mémoire pour associer cet outcome à l'action correcte. Il met à jour sa prédiction et le compteur d'ennui se réinitialise.\n",
    "\n",
    "- Pour choisir la meilleur action, l'agent compare les valences de chaque action et choisit celle qui a la valence la plus élevée. Si plusieurs actions ont la même valence, l'agent choisit aléatoirement parmi ces actions.\n",
    "\n",
    "- Pour simuler l'ennui, l'agent change d'action après 4 cycles de bonnes prédictions d'outcome. Lorsqu'il est ennuyé, l'agent choisit une action non testée.\n",
    "\n",
    "Les valences définies pour l'environnement 3 sont les suivantes :\n",
    "\n",
    "|| 0 Not bump | 1 Bump|\n",
    "|---|---|---|\n",
    "| 0 Forward| 1 | -1 |\n",
    "| 1 Left | -1 | -1 |\n",
    "| 2 Right| -1 | -1 |\n",
    "\n",
    "### Résultats de 100 actions de l'agent 3 dans un ColabTurtleEnvironment\n",
    "\n",
    "![Agent3 tortue.](../ReportImages/Agent3/Agent3_tortue.png)\n",
    "\n",
    "![Agent3 100 actions.](../ReportImages/Agent3/Agent3_100_actions.png)\n"
   ]
  }
 ],
 "metadata": {
  "kernelspec": {
   "display_name": "p311",
   "language": "python",
   "name": "python3"
  },
  "language_info": {
   "codemirror_mode": {
    "name": "ipython",
    "version": 3
   },
   "file_extension": ".py",
   "mimetype": "text/x-python",
   "name": "python",
   "nbconvert_exporter": "python",
   "pygments_lexer": "ipython3",
   "version": "3.11.10"
  }
 },
 "nbformat": 4,
 "nbformat_minor": 5
}
