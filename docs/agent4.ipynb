{
 "cells": [
  {
   "cell_type": "markdown",
   "id": "74eb8609-bd0c-4a26-94be-5cf56d9f58cb",
   "metadata": {},
   "source": [
    "[![Open In Colab](https://colab.research.google.com/assets/colab-badge.svg)](https://colab.research.google.com/github/OlivierGeorgeon/Developmental-AI-Lab/blob/master/docs/agent4.ipynb)"
   ]
  },
  {
   "cell_type": "markdown",
   "id": "0bec58b3-e210-4a78-9610-f6615254de29",
   "metadata": {},
   "source": [
    "# THE AGENT WHO SHIFTED WITH THE CONTEXT"
   ]
  },
  {
   "cell_type": "markdown",
   "id": "158ddba6-0466-42c0-9ced-629b34a41c65",
   "metadata": {},
   "source": [
    "In this lab, you will implement the most simple agent that adapts its next interaction to the context of the previous interaction."
   ]
  },
  {
   "cell_type": "markdown",
   "id": "64a16db8-1bd6-4e82-9cf6-2b37d996ffe8",
   "metadata": {},
   "source": [
    "## Define the Interaction class"
   ]
  },
  {
   "cell_type": "markdown",
   "id": "44155c4a-d038-40b3-be33-e8cf77c5f976",
   "metadata": {},
   "source": [
    "Let's define an Interaction class that will be useful to intitialize the agent and to memorize the context"
   ]
  },
  {
   "cell_type": "code",
   "execution_count": 211,
   "id": "e96c3637-4161-49aa-9f1d-0d3342de92d4",
   "metadata": {},
   "outputs": [],
   "source": [
    "class Interaction:\n",
    "    \"\"\"An interaction is a tuple (action, outcome) with a valence\"\"\"\n",
    "    def __init__(self, action, outcome, valence):\n",
    "        self.action = action\n",
    "        self.outcome = outcome\n",
    "        self.valence = valence\n",
    "\n",
    "    def key(self):\n",
    "        \"\"\" The key to find this interaction in the dictinary is the string '<action><outcome>'. \"\"\"\n",
    "        return f\"{self.action}{self.outcome}\"\n",
    "\n",
    "    def __str__(self):\n",
    "        \"\"\" Print interaction in the form '<action><outcome:<valence>' for debug.\"\"\"\n",
    "        return f\"{self.action}{self.outcome}:{self.valence}\"\n",
    "\n",
    "    def __eq__(self, other):\n",
    "        \"\"\" Interactions are equal if they have the same key \"\"\"\n",
    "        return self.key() == other.key()"
   ]
  },
  {
   "cell_type": "markdown",
   "id": "152512a3-ef97-473a-91a7-9a36fe70ba33",
   "metadata": {},
   "source": [
    "## Define the Agent class"
   ]
  },
  {
   "cell_type": "markdown",
   "id": "5d0b81c3-5671-4ec6-bb7d-9db4f99c7c0b",
   "metadata": {},
   "source": [
    "The agent is initialized with the list of interactions \n",
    "\n",
    "The previous action and the predicted outcome are memorized in the attribute `_intended_interaction`."
   ]
  },
  {
   "cell_type": "code",
   "execution_count": 212,
   "id": "3f0bf369-48ef-48d7-a92b-3c7ef8dc1daf",
   "metadata": {},
   "outputs": [],
   "source": [
    "class Agent:\n",
    "    \"\"\"Creating our agent\"\"\"\n",
    "    def __init__(self, _interactions):\n",
    "        \"\"\" Initialize the dictionary of interactions\"\"\"\n",
    "        self._interactions = {interaction.key(): interaction for interaction in _interactions}\n",
    "        self._intended_interaction = self._interactions[\"00\"]\n",
    "\n",
    "    def action(self, _outcome):\n",
    "        \"\"\" Tracing the previous cycle \"\"\"\n",
    "        previous_interaction = self._interactions[f\"{self._intended_interaction.action}{_outcome}\"]\n",
    "        print(f\"Action: {self._intended_interaction.action}, Prediction: {self._intended_interaction.outcome}, Outcome: {_outcome}, \" \n",
    "              f\"Prediction: {self._intended_interaction.outcome == _outcome}, Valence: {previous_interaction.valence})\")\n",
    "\n",
    "        \"\"\" Computing the next interaction to try to enact \"\"\"\n",
    "        # TODO: Implement the agent's decision mechanism\n",
    "        intended_action = 0\n",
    "        # TODO: Implement the agent's prediction mechanism\n",
    "        intended_outcome = 0\n",
    "        # Memorize the intended interaction\n",
    "        self._intended_interaction = self._interactions[f\"{intended_action}{intended_outcome}\"]\n",
    "        return intended_action"
   ]
  },
  {
   "cell_type": "markdown",
   "id": "21f1c38f-c8ed-48e5-bc6a-e7078ed3e5e4",
   "metadata": {},
   "source": [
    "## Environment1 class"
   ]
  },
  {
   "cell_type": "code",
   "execution_count": 213,
   "id": "8d65ca61-9386-4260-a406-ec766063569c",
   "metadata": {},
   "outputs": [],
   "source": [
    "class Environment1:\n",
    "    \"\"\" In Environment 1, action 0 yields outcome 0, action 1 yields outcome 1 \"\"\"\n",
    "    def outcome(self, _action):\n",
    "        # return int(input(\"entre 0 1 ou 2\"))\n",
    "        if _action == 0:\n",
    "            return 0\n",
    "        else:\n",
    "            return 1"
   ]
  },
  {
   "cell_type": "markdown",
   "id": "17b6d7d6-5444-4778-b97a-cc5bd34c6cd2",
   "metadata": {},
   "source": [
    "## Environment2 class"
   ]
  },
  {
   "cell_type": "code",
   "execution_count": 214,
   "id": "91ae8fba-72aa-4194-be5a-2f27a1637e3c",
   "metadata": {},
   "outputs": [],
   "source": [
    "class Environment2:\n",
    "    \"\"\" In Environment 2, action 0 yields outcome 1, action 1 yields outcome 0 \"\"\"\n",
    "    def outcome(self, _action):\n",
    "        if _action == 0:\n",
    "            return 1\n",
    "        else:\n",
    "            return 0"
   ]
  },
  {
   "cell_type": "markdown",
   "id": "3dab7280-a559-4fc2-8668-4285aac82d8d",
   "metadata": {},
   "source": [
    "## Environment3 class"
   ]
  },
  {
   "cell_type": "markdown",
   "id": "31df2375-680e-4df9-a0ed-e84802aac1a4",
   "metadata": {},
   "source": [
    "Environment 3 yields outcome 1 only when the agent alternates actions 0 and 1"
   ]
  },
  {
   "cell_type": "code",
   "execution_count": 215,
   "id": "5bf9a4ba-2703-49e9-a63f-b72c08b8663c",
   "metadata": {},
   "outputs": [],
   "source": [
    "class Environment3:\n",
    "    \"\"\" Environment 3 yields outcome 1 only when the agent alternates actions 0 and 1 \"\"\"\n",
    "    def __init__(self):\n",
    "        \"\"\" Initializing Environment3 \"\"\"\n",
    "        self.previous_action = 0\n",
    "\n",
    "    def outcome(self, _action):\n",
    "        if _action == self.previous_action:\n",
    "            _outcome = 0\n",
    "        else:\n",
    "            _outcome = 1\n",
    "        self.previous_action = _action\n",
    "        return _outcome"
   ]
  },
  {
   "cell_type": "markdown",
   "id": "fe2f49f7-9352-4938-9ee2-7d8a7bb5065a",
   "metadata": {},
   "source": [
    "## Initialize the interactions "
   ]
  },
  {
   "cell_type": "code",
   "execution_count": 216,
   "id": "59da5f51-d5db-4cf4-8bd0-036ec11eaad2",
   "metadata": {},
   "outputs": [],
   "source": [
    "interactions = [\n",
    "    Interaction(0,0,-1),\n",
    "    Interaction(0,1,1),\n",
    "    Interaction(1,0,-1),\n",
    "    Interaction(1,1,1),\n",
    "    Interaction(2,0,-1),\n",
    "    Interaction(2,1,1)\n",
    "]"
   ]
  },
  {
   "cell_type": "markdown",
   "id": "b8d25cea-a183-45c5-a624-1345aace245a",
   "metadata": {},
   "source": [
    "Interactions are initialized with their action, their outcome, and their valence:\n",
    "\n",
    "|| outcome 0 | outcome 1|\n",
    "|---|---|---|\n",
    "| action 0| -1 | 1 |\n",
    "| action 1 | -1 | 1 |\n",
    "| action 2 | -1 | 1 |"
   ]
  },
  {
   "cell_type": "markdown",
   "id": "f095ec84-3fcd-455c-bb3b-f9a72980048e",
   "metadata": {},
   "source": [
    "## Instantiate the agent"
   ]
  },
  {
   "cell_type": "code",
   "execution_count": 217,
   "id": "33066d34-7f06-4b38-97b8-d7d5adbb237b",
   "metadata": {},
   "outputs": [],
   "source": [
    "a = Agent(interactions)"
   ]
  },
  {
   "cell_type": "markdown",
   "id": "c16279c4-936b-4f37-a0c9-ca4b77609adf",
   "metadata": {},
   "source": [
    "## Instantiate the environment "
   ]
  },
  {
   "cell_type": "code",
   "execution_count": 218,
   "id": "17b3c8c8-0cbd-4f64-a97c-61519ad24dd1",
   "metadata": {},
   "outputs": [],
   "source": [
    "e = Environment3()"
   ]
  },
  {
   "cell_type": "markdown",
   "id": "869ce510-9438-47d1-ac88-ab79c063d592",
   "metadata": {},
   "source": [
    "## Test run the simulation"
   ]
  },
  {
   "cell_type": "code",
   "execution_count": 219,
   "id": "6f6d76df-89e4-4ab3-a327-afa813a27325",
   "metadata": {},
   "outputs": [
    {
     "name": "stdout",
     "output_type": "stream",
     "text": [
      "Action: 0, Prediction: 0, Outcome: 0, Prediction: True, Valence: -1)\n",
      "Action: 0, Prediction: 0, Outcome: 0, Prediction: True, Valence: -1)\n",
      "Action: 0, Prediction: 0, Outcome: 0, Prediction: True, Valence: -1)\n",
      "Action: 0, Prediction: 0, Outcome: 0, Prediction: True, Valence: -1)\n",
      "Action: 0, Prediction: 0, Outcome: 0, Prediction: True, Valence: -1)\n",
      "Action: 0, Prediction: 0, Outcome: 0, Prediction: True, Valence: -1)\n",
      "Action: 0, Prediction: 0, Outcome: 0, Prediction: True, Valence: -1)\n",
      "Action: 0, Prediction: 0, Outcome: 0, Prediction: True, Valence: -1)\n",
      "Action: 0, Prediction: 0, Outcome: 0, Prediction: True, Valence: -1)\n",
      "Action: 0, Prediction: 0, Outcome: 0, Prediction: True, Valence: -1)\n"
     ]
    }
   ],
   "source": [
    "outcome = 0\n",
    "for i in range(10):\n",
    "    action = a.action(outcome)\n",
    "    outcome = e.outcome(action)"
   ]
  },
  {
   "cell_type": "markdown",
   "id": "febad285-e8e5-4c24-a46e-e9519a27581c",
   "metadata": {},
   "source": [
    "Observe that in Envirnment3, the agent obtains only negative valences. To obtain a positive valence, it must select a different action on each interaction cycle. "
   ]
  },
  {
   "cell_type": "markdown",
   "id": "3019f138-a218-44b2-964a-8095fbe891a7",
   "metadata": {},
   "source": [
    "# PRELIMINARY EXERCISE"
   ]
  },
  {
   "cell_type": "markdown",
   "id": "f9daa278-434e-43ce-8520-8fabef69cd83",
   "metadata": {},
   "source": [
    "Execute the agent in Environment1. Observe that it obtains a negative valence. \n",
    "\n",
    "Execute the agent in Environment2. Observe that it obtains a positive valence. \n",
    "\n",
    "Now you see the goal of this assignement: design an agent that can obtain positive valences when it is run either in Environment1 or in Environment2 or in Environment3."
   ]
  },
  {
   "cell_type": "markdown",
   "id": "0d50d96e-4f12-4531-a122-9d13d8bd8639",
   "metadata": {},
   "source": [
    "# ASSIGNMENT"
   ]
  },
  {
   "cell_type": "markdown",
   "id": "199faee9-a546-4d86-8e09-484bf2212523",
   "metadata": {},
   "source": [
    "Implement Agent4 that obtains positive valences in either Environment 1, 2, or 3. \n",
    "\n",
    "Agent4 must be able to predict the outcome resulting from its next action depending on the context of the previous interaction. \n",
    "Based on this prediction, it must select the action that will yield the heighest valence. \n",
    "\n",
    "To do so, at the end of cycle `t`, Agent4 must memorize `interaction_t = (action_t, outcome_t)` that was just enacted. \n",
    "The agent must choose the next `interaction_t+1` based on `interaction_t` (the context).\n",
    "For each possible `action_t+1`, the agent must predict the expected `outcome_t+1`. \n",
    "Based on this prediction, it must select the action that yields the highest `valence_t+1`."
   ]
  },
  {
   "cell_type": "markdown",
   "id": "c82b9a28-121c-4379-8701-1d49ad197b8d",
   "metadata": {},
   "source": [
    "## Create Agent4 by overriding the class Agent"
   ]
  },
  {
   "cell_type": "markdown",
   "id": "30b9ba2b-8129-4bf7-82dc-074803f95bdf",
   "metadata": {},
   "source": [
    "You may add any attribute and method you deem usefull to the class Agent4"
   ]
  },
  {
   "cell_type": "code",
   "execution_count": 220,
   "id": "85b966d4-aca5-4a08-8413-d4906fdbbae8",
   "metadata": {},
   "outputs": [],
   "source": [
    "import random\n",
    "class Agent4(Agent):\n",
    "    \"\"\"Creating our agent\"\"\"\n",
    "    def __init__(self, _interactions):\n",
    "        \"\"\" Initialize the dictionary of interactions\"\"\"\n",
    "        self._interactions = {interaction.key(): interaction for interaction in _interactions}\n",
    "        self._intended_interaction = self._interactions[\"00\"]\n",
    "        self._memory = {}\n",
    "        self._action_possible = [0, 1, 2]\n",
    "        self.compteur = 0\n",
    "        \n",
    "    \n",
    "    \n",
    "    def action(self, _outcome):\n",
    "        \"\"\" Tracing the previous cycle \"\"\"\n",
    "        previous_interaction = self._interactions[f\"{self._intended_interaction.action}{_outcome}\"]\n",
    "        print(f\"Action: {self._intended_interaction.action}, Prediction: {self._intended_interaction.outcome}, Outcome: {_outcome}, \"\n",
    "              f\"Prediction: {self._intended_interaction.outcome == _outcome}, Valence: {previous_interaction.valence},\")        \n",
    "        if self._intended_interaction.outcome == _outcome:\n",
    "            self.compteur += 1\n",
    "            temp = self._memory.copy()\n",
    "            for key in temp:\n",
    "                if key[1] == previous_interaction.key():\n",
    "                    if self._memory[key] == None:\n",
    "                        # print(\"ajout de la valeur\",key[0],key[1][0] + str(_outcome),\" \",_outcome,\" car true\")\n",
    "                        self._memory[(key[0],key[1][0] + str(_outcome))] = _outcome\n",
    "                        if self._memory[key] == None:\n",
    "                            self._memory.pop(key)\n",
    "        else:\n",
    "            temp = self._memory.copy()\n",
    "            for key in temp:\n",
    "                if self._memory[key] == None:\n",
    "                    # print(\"ajout de la valeur\",key[0],key[1][0] + str(_outcome),\" \",_outcome,\" car false\")\n",
    "                    self._memory[(key[0],key[1][0] + str(_outcome))] = _outcome\n",
    "                    if self._memory[key] == None:\n",
    "                        self._memory.pop(key)\n",
    "            self.compteur = 0\n",
    "        \n",
    "        if self.compteur <= 3:\n",
    "            for key in self._memory:\n",
    "                if key[0] == previous_interaction.key():\n",
    "                    if self._memory[key] != None and self._memory[key] > 0:\n",
    "                        self._intended_interaction = self._interactions[key[1]]\n",
    "                        self._intended_interaction.outcome = self._memory[key]\n",
    "                        return self._intended_interaction.action\n",
    "        \n",
    "        intended_action = 0\n",
    "        best_valence = float('-inf')\n",
    "        for action in self._action_possible:\n",
    "            interaction_key = f\"{action}{_outcome}\"\n",
    "            interaction = self._interactions[interaction_key]\n",
    "            if interaction.valence > best_valence:\n",
    "                best_valence = interaction.valence\n",
    "                intended_action = action\n",
    "        \n",
    "        if self.compteur > 3:\n",
    "            while intended_action == self._intended_interaction.action:\n",
    "                intended_action = random.choice(self._action_possible)\n",
    "            self.compteur = 0\n",
    "            # print(\"changement d'action\")\n",
    "        \"\"\" Computing the next interaction to try to enact \"\"\"\n",
    "        intended_outcome = None\n",
    "        for key in self._memory:\n",
    "            if key[0] == previous_interaction.key() and key[1][0] == str(intended_action):\n",
    "                if self._memory[key] != None:\n",
    "                    intended_outcome = key[1][1]\n",
    "        if intended_outcome == None:\n",
    "            intended_outcome = 0\n",
    "        \n",
    "        \n",
    "        \n",
    "        # TODO: Implement the agent's prediction mechanism\n",
    "        # Memorize the intended interaction\n",
    "        self._intended_interaction = self._interactions[f\"{intended_action}{intended_outcome}\"]\n",
    "        if (previous_interaction.key(),self._intended_interaction.key()) not in self._memory:\n",
    "            self._memory[(previous_interaction.key(),self._intended_interaction.key())] = None\n",
    "        return intended_action"
   ]
  },
  {
   "cell_type": "markdown",
   "id": "a07b3f5c-f48c-45ad-bf1d-4a703bac64af",
   "metadata": {},
   "source": [
    "## Test your Agent4 in Environment1"
   ]
  },
  {
   "cell_type": "code",
   "execution_count": 221,
   "id": "d8025780-7d39-442d-9600-b40641e6d6c4",
   "metadata": {},
   "outputs": [
    {
     "name": "stdout",
     "output_type": "stream",
     "text": [
      "Action: 0, Prediction: 0, Outcome: 0, Prediction: True, Valence: -1,\n",
      "Action: 0, Prediction: 0, Outcome: 0, Prediction: True, Valence: -1,\n",
      "Action: 0, Prediction: 0, Outcome: 0, Prediction: True, Valence: -1,\n",
      "Action: 0, Prediction: 0, Outcome: 0, Prediction: True, Valence: -1,\n",
      "Action: 2, Prediction: 0, Outcome: 1, Prediction: False, Valence: 1,\n",
      "Action: 0, Prediction: 0, Outcome: 0, Prediction: True, Valence: -1,\n",
      "Action: 2, Prediction: 1, Outcome: 1, Prediction: True, Valence: 1,\n",
      "Action: 0, Prediction: 0, Outcome: 0, Prediction: True, Valence: -1,\n",
      "Action: 2, Prediction: 1, Outcome: 1, Prediction: True, Valence: 1,\n",
      "Action: 0, Prediction: 0, Outcome: 0, Prediction: True, Valence: -1,\n",
      "Action: 2, Prediction: 1, Outcome: 1, Prediction: True, Valence: 1,\n",
      "Action: 0, Prediction: 0, Outcome: 0, Prediction: True, Valence: -1,\n",
      "Action: 2, Prediction: 1, Outcome: 1, Prediction: True, Valence: 1,\n",
      "Action: 0, Prediction: 0, Outcome: 0, Prediction: True, Valence: -1,\n",
      "Action: 2, Prediction: 1, Outcome: 1, Prediction: True, Valence: 1,\n",
      "Action: 0, Prediction: 0, Outcome: 0, Prediction: True, Valence: -1,\n",
      "Action: 2, Prediction: 1, Outcome: 1, Prediction: True, Valence: 1,\n",
      "Action: 0, Prediction: 0, Outcome: 0, Prediction: True, Valence: -1,\n",
      "Action: 2, Prediction: 1, Outcome: 1, Prediction: True, Valence: 1,\n",
      "Action: 0, Prediction: 0, Outcome: 0, Prediction: True, Valence: -1,\n",
      "Action: 2, Prediction: 1, Outcome: 1, Prediction: True, Valence: 1,\n",
      "Action: 0, Prediction: 0, Outcome: 0, Prediction: True, Valence: -1,\n",
      "Action: 2, Prediction: 1, Outcome: 1, Prediction: True, Valence: 1,\n",
      "Action: 0, Prediction: 0, Outcome: 0, Prediction: True, Valence: -1,\n",
      "Action: 2, Prediction: 1, Outcome: 1, Prediction: True, Valence: 1,\n",
      "Action: 0, Prediction: 0, Outcome: 0, Prediction: True, Valence: -1,\n",
      "Action: 2, Prediction: 1, Outcome: 1, Prediction: True, Valence: 1,\n",
      "Action: 0, Prediction: 0, Outcome: 0, Prediction: True, Valence: -1,\n",
      "Action: 2, Prediction: 1, Outcome: 1, Prediction: True, Valence: 1,\n",
      "Action: 0, Prediction: 0, Outcome: 0, Prediction: True, Valence: -1,\n"
     ]
    }
   ],
   "source": [
    "interactions = [\n",
    "    Interaction(0,0,-1),\n",
    "    Interaction(0,1,1),\n",
    "    Interaction(1,0,-1),\n",
    "    Interaction(1,1,1),\n",
    "    Interaction(2,0,-1),\n",
    "    Interaction(2,1,1)\n",
    "]\n",
    "\n",
    "a = Agent4(interactions)\n",
    "e = Environment1()\n",
    "outcome = 0\n",
    "for i in range(30):\n",
    "    action = a.action(outcome)\n",
    "    outcome = e.outcome(action)"
   ]
  },
  {
   "cell_type": "markdown",
   "id": "ce02f401-3a78-4ced-9b8c-3b602c7be482",
   "metadata": {},
   "source": [
    "## Test your Agent4 in Environment2"
   ]
  },
  {
   "cell_type": "code",
   "execution_count": 222,
   "id": "925fb5f1-1eb6-4dee-a59b-fd6384e123d6",
   "metadata": {},
   "outputs": [
    {
     "name": "stdout",
     "output_type": "stream",
     "text": [
      "Action: 0, Prediction: 0, Outcome: 0, Prediction: True, Valence: -1,\n",
      "Action: 0, Prediction: 0, Outcome: 1, Prediction: False, Valence: 1,\n",
      "Action: 0, Prediction: 0, Outcome: 1, Prediction: False, Valence: 1,\n",
      "Action: 0, Prediction: 1, Outcome: 1, Prediction: True, Valence: 1,\n",
      "Action: 0, Prediction: 1, Outcome: 1, Prediction: True, Valence: 1,\n",
      "Action: 0, Prediction: 1, Outcome: 1, Prediction: True, Valence: 1,\n",
      "Action: 0, Prediction: 1, Outcome: 1, Prediction: True, Valence: 1,\n",
      "Action: 1, Prediction: 0, Outcome: 0, Prediction: True, Valence: -1,\n",
      "Action: 0, Prediction: 0, Outcome: 1, Prediction: False, Valence: 1,\n",
      "Action: 0, Prediction: 1, Outcome: 1, Prediction: True, Valence: 1,\n",
      "Action: 0, Prediction: 1, Outcome: 1, Prediction: True, Valence: 1,\n",
      "Action: 0, Prediction: 1, Outcome: 1, Prediction: True, Valence: 1,\n",
      "Action: 0, Prediction: 1, Outcome: 1, Prediction: True, Valence: 1,\n",
      "Action: 2, Prediction: 0, Outcome: 0, Prediction: True, Valence: -1,\n",
      "Action: 0, Prediction: 0, Outcome: 1, Prediction: False, Valence: 1,\n",
      "Action: 0, Prediction: 1, Outcome: 1, Prediction: True, Valence: 1,\n",
      "Action: 0, Prediction: 1, Outcome: 1, Prediction: True, Valence: 1,\n",
      "Action: 0, Prediction: 1, Outcome: 1, Prediction: True, Valence: 1,\n",
      "Action: 0, Prediction: 1, Outcome: 1, Prediction: True, Valence: 1,\n",
      "Action: 1, Prediction: 0, Outcome: 0, Prediction: True, Valence: -1,\n",
      "Action: 0, Prediction: 1, Outcome: 1, Prediction: True, Valence: 1,\n",
      "Action: 0, Prediction: 1, Outcome: 1, Prediction: True, Valence: 1,\n",
      "Action: 0, Prediction: 1, Outcome: 1, Prediction: True, Valence: 1,\n",
      "Action: 1, Prediction: 0, Outcome: 0, Prediction: True, Valence: -1,\n",
      "Action: 0, Prediction: 1, Outcome: 1, Prediction: True, Valence: 1,\n",
      "Action: 0, Prediction: 1, Outcome: 1, Prediction: True, Valence: 1,\n",
      "Action: 0, Prediction: 1, Outcome: 1, Prediction: True, Valence: 1,\n",
      "Action: 2, Prediction: 0, Outcome: 0, Prediction: True, Valence: -1,\n",
      "Action: 0, Prediction: 1, Outcome: 1, Prediction: True, Valence: 1,\n",
      "Action: 0, Prediction: 1, Outcome: 1, Prediction: True, Valence: 1,\n"
     ]
    }
   ],
   "source": [
    "interactions = [\n",
    "    Interaction(0,0,-1),\n",
    "    Interaction(0,1,1),\n",
    "    Interaction(1,0,-1),\n",
    "    Interaction(1,1,1),\n",
    "    Interaction(2,0,-1),\n",
    "    Interaction(2,1,1)\n",
    "]\n",
    "\n",
    "a = Agent4(interactions)\n",
    "e = Environment2()\n",
    "outcome = 0\n",
    "for i in range(30):\n",
    "    action = a.action(outcome)\n",
    "    outcome = e.outcome(action)"
   ]
  },
  {
   "cell_type": "markdown",
   "id": "3c4ebe13-605e-4068-ab57-06416f898790",
   "metadata": {},
   "source": [
    "## Test your Agent4 in Environment3"
   ]
  },
  {
   "cell_type": "code",
   "execution_count": 223,
   "id": "835595f7-512e-46aa-b140-3e2b6c43eea8",
   "metadata": {},
   "outputs": [
    {
     "name": "stdout",
     "output_type": "stream",
     "text": [
      "Action: 0, Prediction: 0, Outcome: 0, Prediction: True, Valence: -1,\n",
      "Action: 0, Prediction: 0, Outcome: 0, Prediction: True, Valence: -1,\n",
      "Action: 0, Prediction: 0, Outcome: 0, Prediction: True, Valence: -1,\n",
      "Action: 0, Prediction: 0, Outcome: 0, Prediction: True, Valence: -1,\n",
      "Action: 1, Prediction: 0, Outcome: 1, Prediction: False, Valence: 1,\n",
      "Action: 0, Prediction: 0, Outcome: 1, Prediction: False, Valence: 1,\n",
      "Action: 0, Prediction: 0, Outcome: 0, Prediction: True, Valence: -1,\n",
      "Action: 1, Prediction: 1, Outcome: 1, Prediction: True, Valence: 1,\n",
      "Action: 0, Prediction: 1, Outcome: 1, Prediction: True, Valence: 1,\n",
      "Action: 0, Prediction: 0, Outcome: 0, Prediction: True, Valence: -1,\n",
      "Action: 1, Prediction: 1, Outcome: 1, Prediction: True, Valence: 1,\n",
      "Action: 0, Prediction: 1, Outcome: 1, Prediction: True, Valence: 1,\n",
      "Action: 0, Prediction: 0, Outcome: 0, Prediction: True, Valence: -1,\n",
      "Action: 1, Prediction: 1, Outcome: 1, Prediction: True, Valence: 1,\n",
      "Action: 0, Prediction: 1, Outcome: 1, Prediction: True, Valence: 1,\n",
      "Action: 0, Prediction: 0, Outcome: 0, Prediction: True, Valence: -1,\n",
      "Action: 1, Prediction: 1, Outcome: 1, Prediction: True, Valence: 1,\n",
      "Action: 0, Prediction: 1, Outcome: 1, Prediction: True, Valence: 1,\n",
      "Action: 2, Prediction: 0, Outcome: 1, Prediction: False, Valence: 1,\n",
      "Action: 0, Prediction: 0, Outcome: 1, Prediction: False, Valence: 1,\n",
      "Action: 2, Prediction: 1, Outcome: 1, Prediction: True, Valence: 1,\n",
      "Action: 0, Prediction: 1, Outcome: 1, Prediction: True, Valence: 1,\n",
      "Action: 2, Prediction: 1, Outcome: 1, Prediction: True, Valence: 1,\n",
      "Action: 0, Prediction: 1, Outcome: 1, Prediction: True, Valence: 1,\n",
      "Action: 2, Prediction: 1, Outcome: 1, Prediction: True, Valence: 1,\n",
      "Action: 0, Prediction: 1, Outcome: 1, Prediction: True, Valence: 1,\n",
      "Action: 2, Prediction: 1, Outcome: 1, Prediction: True, Valence: 1,\n",
      "Action: 0, Prediction: 1, Outcome: 1, Prediction: True, Valence: 1,\n",
      "Action: 1, Prediction: 0, Outcome: 1, Prediction: False, Valence: 1,\n",
      "Action: 0, Prediction: 1, Outcome: 1, Prediction: True, Valence: 1,\n",
      "Action: 2, Prediction: 1, Outcome: 1, Prediction: True, Valence: 1,\n",
      "Action: 0, Prediction: 1, Outcome: 1, Prediction: True, Valence: 1,\n",
      "Action: 2, Prediction: 1, Outcome: 1, Prediction: True, Valence: 1,\n",
      "Action: 0, Prediction: 1, Outcome: 1, Prediction: True, Valence: 1,\n",
      "Action: 2, Prediction: 1, Outcome: 1, Prediction: True, Valence: 1,\n",
      "Action: 0, Prediction: 1, Outcome: 1, Prediction: True, Valence: 1,\n",
      "Action: 2, Prediction: 1, Outcome: 1, Prediction: True, Valence: 1,\n",
      "Action: 0, Prediction: 1, Outcome: 1, Prediction: True, Valence: 1,\n",
      "Action: 2, Prediction: 1, Outcome: 1, Prediction: True, Valence: 1,\n",
      "Action: 0, Prediction: 1, Outcome: 1, Prediction: True, Valence: 1,\n",
      "Action: 2, Prediction: 1, Outcome: 1, Prediction: True, Valence: 1,\n",
      "Action: 0, Prediction: 1, Outcome: 1, Prediction: True, Valence: 1,\n",
      "Action: 2, Prediction: 1, Outcome: 1, Prediction: True, Valence: 1,\n",
      "Action: 0, Prediction: 1, Outcome: 1, Prediction: True, Valence: 1,\n",
      "Action: 2, Prediction: 1, Outcome: 1, Prediction: True, Valence: 1,\n",
      "Action: 0, Prediction: 1, Outcome: 1, Prediction: True, Valence: 1,\n",
      "Action: 2, Prediction: 1, Outcome: 1, Prediction: True, Valence: 1,\n",
      "Action: 0, Prediction: 1, Outcome: 1, Prediction: True, Valence: 1,\n",
      "Action: 2, Prediction: 1, Outcome: 1, Prediction: True, Valence: 1,\n",
      "Action: 0, Prediction: 1, Outcome: 1, Prediction: True, Valence: 1,\n"
     ]
    }
   ],
   "source": [
    "interactions = [\n",
    "    Interaction(0,0,-1),\n",
    "    Interaction(0,1,1),\n",
    "    Interaction(1,0,-1),\n",
    "    Interaction(1,1,1),\n",
    "    Interaction(2,0,-1),\n",
    "    Interaction(2,1,1)\n",
    "]\n",
    "\n",
    "a = Agent4(interactions)\n",
    "e = Environment3()\n",
    "outcome = 0\n",
    "for i in range(50):\n",
    "    action = a.action(outcome)\n",
    "    outcome = e.outcome(action)"
   ]
  },
  {
   "cell_type": "markdown",
   "id": "9afc8226-b4ac-49c7-b1a8-9b17adc19964",
   "metadata": {},
   "source": [
    "## Test your Agent4 with interactions that have other valences"
   ]
  },
  {
   "cell_type": "markdown",
   "id": "01175431-ead3-480e-b8e3-e20ee9321379",
   "metadata": {},
   "source": [
    "Replace the valences of interactions with your choice in the code below"
   ]
  },
  {
   "cell_type": "code",
   "execution_count": 224,
   "id": "49fdfd38-0d4e-48a3-ab0f-87177c2da97c",
   "metadata": {},
   "outputs": [
    {
     "name": "stdout",
     "output_type": "stream",
     "text": [
      "Action: 0, Prediction: 0, Outcome: 0, Prediction: True, Valence: 1,\n",
      "Action: 0, Prediction: 0, Outcome: 0, Prediction: True, Valence: 1,\n",
      "Action: 0, Prediction: 0, Outcome: 0, Prediction: True, Valence: 1,\n",
      "Action: 0, Prediction: 0, Outcome: 0, Prediction: True, Valence: 1,\n",
      "Action: 1, Prediction: 0, Outcome: 1, Prediction: False, Valence: 1,\n",
      "Action: 1, Prediction: 0, Outcome: 0, Prediction: True, Valence: -1,\n",
      "Action: 0, Prediction: 0, Outcome: 1, Prediction: False, Valence: 0,\n",
      "Action: 1, Prediction: 0, Outcome: 1, Prediction: False, Valence: 1,\n",
      "Action: 1, Prediction: 0, Outcome: 0, Prediction: True, Valence: -1,\n",
      "Action: 0, Prediction: 1, Outcome: 1, Prediction: True, Valence: 0,\n",
      "Action: 1, Prediction: 1, Outcome: 1, Prediction: True, Valence: 1,\n",
      "Action: 1, Prediction: 0, Outcome: 0, Prediction: True, Valence: -1,\n",
      "Action: 0, Prediction: 1, Outcome: 1, Prediction: True, Valence: 0,\n",
      "Action: 1, Prediction: 1, Outcome: 1, Prediction: True, Valence: 1,\n",
      "Action: 1, Prediction: 0, Outcome: 0, Prediction: True, Valence: -1,\n",
      "Action: 0, Prediction: 1, Outcome: 1, Prediction: True, Valence: 0,\n",
      "Action: 1, Prediction: 1, Outcome: 1, Prediction: True, Valence: 1,\n",
      "Action: 1, Prediction: 0, Outcome: 0, Prediction: True, Valence: -1,\n",
      "Action: 0, Prediction: 1, Outcome: 1, Prediction: True, Valence: 0,\n",
      "Action: 1, Prediction: 1, Outcome: 1, Prediction: True, Valence: 1,\n",
      "Action: 2, Prediction: 0, Outcome: 1, Prediction: False, Valence: 1,\n",
      "Action: 1, Prediction: 0, Outcome: 1, Prediction: False, Valence: 1,\n",
      "Action: 2, Prediction: 1, Outcome: 1, Prediction: True, Valence: 1,\n",
      "Action: 1, Prediction: 1, Outcome: 1, Prediction: True, Valence: 1,\n",
      "Action: 2, Prediction: 1, Outcome: 1, Prediction: True, Valence: 1,\n",
      "Action: 1, Prediction: 1, Outcome: 1, Prediction: True, Valence: 1,\n",
      "Action: 0, Prediction: 0, Outcome: 1, Prediction: False, Valence: 0,\n",
      "Action: 1, Prediction: 1, Outcome: 1, Prediction: True, Valence: 1,\n",
      "Action: 2, Prediction: 1, Outcome: 1, Prediction: True, Valence: 1,\n",
      "Action: 1, Prediction: 1, Outcome: 1, Prediction: True, Valence: 1,\n",
      "Action: 2, Prediction: 1, Outcome: 1, Prediction: True, Valence: 1,\n",
      "Action: 1, Prediction: 1, Outcome: 1, Prediction: True, Valence: 1,\n",
      "Action: 2, Prediction: 1, Outcome: 1, Prediction: True, Valence: 1,\n",
      "Action: 1, Prediction: 1, Outcome: 1, Prediction: True, Valence: 1,\n",
      "Action: 2, Prediction: 1, Outcome: 1, Prediction: True, Valence: 1,\n",
      "Action: 1, Prediction: 1, Outcome: 1, Prediction: True, Valence: 1,\n",
      "Action: 2, Prediction: 1, Outcome: 1, Prediction: True, Valence: 1,\n",
      "Action: 1, Prediction: 1, Outcome: 1, Prediction: True, Valence: 1,\n",
      "Action: 2, Prediction: 1, Outcome: 1, Prediction: True, Valence: 1,\n",
      "Action: 1, Prediction: 1, Outcome: 1, Prediction: True, Valence: 1,\n",
      "Action: 2, Prediction: 1, Outcome: 1, Prediction: True, Valence: 1,\n",
      "Action: 1, Prediction: 1, Outcome: 1, Prediction: True, Valence: 1,\n",
      "Action: 2, Prediction: 1, Outcome: 1, Prediction: True, Valence: 1,\n",
      "Action: 1, Prediction: 1, Outcome: 1, Prediction: True, Valence: 1,\n",
      "Action: 2, Prediction: 1, Outcome: 1, Prediction: True, Valence: 1,\n",
      "Action: 1, Prediction: 1, Outcome: 1, Prediction: True, Valence: 1,\n",
      "Action: 2, Prediction: 1, Outcome: 1, Prediction: True, Valence: 1,\n",
      "Action: 1, Prediction: 1, Outcome: 1, Prediction: True, Valence: 1,\n",
      "Action: 2, Prediction: 1, Outcome: 1, Prediction: True, Valence: 1,\n",
      "Action: 1, Prediction: 1, Outcome: 1, Prediction: True, Valence: 1,\n"
     ]
    }
   ],
   "source": [
    "# Choose different valence of interactions\n",
    "interactions = [\n",
    "    Interaction(0,0,1),\n",
    "    Interaction(0,1,0),\n",
    "    Interaction(1,0,-1),\n",
    "    Interaction(1,1,1),\n",
    "    Interaction(2,0,-1),\n",
    "    Interaction(2,1,1)\n",
    "]\n",
    "# Run the agent\n",
    "a = Agent4(interactions)\n",
    "e = Environment3()\n",
    "outcome = 0\n",
    "for i in range(50):\n",
    "    action = a.action(outcome)\n",
    "    outcome = e.outcome(action)"
   ]
  },
  {
   "cell_type": "markdown",
   "id": "76a1c321-c33f-497e-8219-a0904ab6ebab",
   "metadata": {},
   "source": [
    "## Test your agent in the Turtle environment "
   ]
  },
  {
   "cell_type": "code",
   "execution_count": 225,
   "id": "71630824-e023-49b7-a143-6ffccae07209",
   "metadata": {
    "jupyter": {
     "source_hidden": true
    }
   },
   "outputs": [
    {
     "name": "stdout",
     "output_type": "stream",
     "text": [
      "Requirement already satisfied: ColabTurtle in /home/alex/miniconda3/envs/p311/lib/python3.11/site-packages (2.1.0)\n"
     ]
    }
   ],
   "source": [
    "# @title Install the turtle environment\n",
    "!pip3 install ColabTurtle\n",
    "from ColabTurtle.Turtle import *"
   ]
  },
  {
   "cell_type": "code",
   "execution_count": 226,
   "id": "f35913a4-4426-4e50-ba74-6790e579fb80",
   "metadata": {
    "jupyter": {
     "source_hidden": true
    }
   },
   "outputs": [],
   "source": [
    "# @title Initialize the turtle environment\n",
    "\n",
    "BORDER_WIDTH = 20\n",
    "\n",
    "class ColabTurtleEnvironment:\n",
    "\n",
    "    def __init__(self):\n",
    "        \"\"\" Creating the Turtle window \"\"\"\n",
    "        bgcolor(\"lightGray\")\n",
    "        penup()\n",
    "        goto(window_width() / 2, window_height()/2)\n",
    "        face(0)\n",
    "        pendown()\n",
    "        color(\"green\")\n",
    "\n",
    "    def outcome(self, action):\n",
    "        \"\"\" Enacting an action and returning the outcome \"\"\"\n",
    "        _outcome = 0\n",
    "        for i in range(10):\n",
    "            # _outcome = 0\n",
    "            if action == 0:\n",
    "                # move forward\n",
    "                forward(10)\n",
    "            elif action == 1:\n",
    "                # rotate left\n",
    "                left(4)\n",
    "                forward(2)\n",
    "            elif action == 2:\n",
    "                # rotate right\n",
    "                right(4)\n",
    "                forward(2)\n",
    "\n",
    "            # Bump on screen edge and return outcome 1\n",
    "            if xcor() < BORDER_WIDTH:\n",
    "                goto(BORDER_WIDTH, ycor())\n",
    "                _outcome = 1\n",
    "            if xcor() > window_width() - BORDER_WIDTH:\n",
    "                goto(window_width() - BORDER_WIDTH, ycor())\n",
    "                _outcome = 1\n",
    "            if ycor() < BORDER_WIDTH:\n",
    "                goto(xcor(), BORDER_WIDTH)\n",
    "                _outcome = 1\n",
    "            if ycor() > window_height() - BORDER_WIDTH:\n",
    "                goto(xcor(), window_height() -BORDER_WIDTH)\n",
    "                _outcome = 1\n",
    "\n",
    "            # Change color\n",
    "            if _outcome == 0:\n",
    "                color(\"green\")\n",
    "            else:\n",
    "                # Finit l'interaction\n",
    "                color(\"red\")\n",
    "                # if action == 0:\n",
    "                #     break\n",
    "                if action == 1:\n",
    "                    for j in range(10):\n",
    "                        left(4)\n",
    "                elif action == 2:\n",
    "                    for j in range(10):\n",
    "                        right(4)\n",
    "                break\n",
    "\n",
    "        return _outcome"
   ]
  },
  {
   "cell_type": "code",
   "execution_count": 227,
   "id": "5fb4b183-a761-47c8-a3a5-957467dd5675",
   "metadata": {},
   "outputs": [
    {
     "data": {
      "text/html": [
       "\n",
       "      <svg width=\"800\" height=\"500\">\n",
       "        <rect width=\"100%\" height=\"100%\" fill=\"lightgray\"/>\n",
       "        <line x1=\"400.0\" y1=\"250.0\" x2=\"410.0\" y2=\"250.0\" stroke-linecap=\"round\" style=\"stroke:green;stroke-width:4\"/><line x1=\"410.0\" y1=\"250.0\" x2=\"420.0\" y2=\"250.0\" stroke-linecap=\"round\" style=\"stroke:green;stroke-width:4\"/><line x1=\"420.0\" y1=\"250.0\" x2=\"430.0\" y2=\"250.0\" stroke-linecap=\"round\" style=\"stroke:green;stroke-width:4\"/><line x1=\"430.0\" y1=\"250.0\" x2=\"440.0\" y2=\"250.0\" stroke-linecap=\"round\" style=\"stroke:green;stroke-width:4\"/><line x1=\"440.0\" y1=\"250.0\" x2=\"450.0\" y2=\"250.0\" stroke-linecap=\"round\" style=\"stroke:green;stroke-width:4\"/><line x1=\"450.0\" y1=\"250.0\" x2=\"460.0\" y2=\"250.0\" stroke-linecap=\"round\" style=\"stroke:green;stroke-width:4\"/><line x1=\"460.0\" y1=\"250.0\" x2=\"470.0\" y2=\"250.0\" stroke-linecap=\"round\" style=\"stroke:green;stroke-width:4\"/><line x1=\"470.0\" y1=\"250.0\" x2=\"480.0\" y2=\"250.0\" stroke-linecap=\"round\" style=\"stroke:green;stroke-width:4\"/><line x1=\"480.0\" y1=\"250.0\" x2=\"490.0\" y2=\"250.0\" stroke-linecap=\"round\" style=\"stroke:green;stroke-width:4\"/><line x1=\"490.0\" y1=\"250.0\" x2=\"500.0\" y2=\"250.0\" stroke-linecap=\"round\" style=\"stroke:green;stroke-width:4\"/><line x1=\"500.0\" y1=\"250.0\" x2=\"510.0\" y2=\"250.0\" stroke-linecap=\"round\" style=\"stroke:green;stroke-width:4\"/><line x1=\"510.0\" y1=\"250.0\" x2=\"520.0\" y2=\"250.0\" stroke-linecap=\"round\" style=\"stroke:green;stroke-width:4\"/><line x1=\"520.0\" y1=\"250.0\" x2=\"530.0\" y2=\"250.0\" stroke-linecap=\"round\" style=\"stroke:green;stroke-width:4\"/><line x1=\"530.0\" y1=\"250.0\" x2=\"540.0\" y2=\"250.0\" stroke-linecap=\"round\" style=\"stroke:green;stroke-width:4\"/><line x1=\"540.0\" y1=\"250.0\" x2=\"550.0\" y2=\"250.0\" stroke-linecap=\"round\" style=\"stroke:green;stroke-width:4\"/><line x1=\"550.0\" y1=\"250.0\" x2=\"560.0\" y2=\"250.0\" stroke-linecap=\"round\" style=\"stroke:green;stroke-width:4\"/><line x1=\"560.0\" y1=\"250.0\" x2=\"570.0\" y2=\"250.0\" stroke-linecap=\"round\" style=\"stroke:green;stroke-width:4\"/><line x1=\"570.0\" y1=\"250.0\" x2=\"580.0\" y2=\"250.0\" stroke-linecap=\"round\" style=\"stroke:green;stroke-width:4\"/><line x1=\"580.0\" y1=\"250.0\" x2=\"590.0\" y2=\"250.0\" stroke-linecap=\"round\" style=\"stroke:green;stroke-width:4\"/><line x1=\"590.0\" y1=\"250.0\" x2=\"600.0\" y2=\"250.0\" stroke-linecap=\"round\" style=\"stroke:green;stroke-width:4\"/><line x1=\"600.0\" y1=\"250.0\" x2=\"610.0\" y2=\"250.0\" stroke-linecap=\"round\" style=\"stroke:green;stroke-width:4\"/><line x1=\"610.0\" y1=\"250.0\" x2=\"620.0\" y2=\"250.0\" stroke-linecap=\"round\" style=\"stroke:green;stroke-width:4\"/><line x1=\"620.0\" y1=\"250.0\" x2=\"630.0\" y2=\"250.0\" stroke-linecap=\"round\" style=\"stroke:green;stroke-width:4\"/><line x1=\"630.0\" y1=\"250.0\" x2=\"640.0\" y2=\"250.0\" stroke-linecap=\"round\" style=\"stroke:green;stroke-width:4\"/><line x1=\"640.0\" y1=\"250.0\" x2=\"650.0\" y2=\"250.0\" stroke-linecap=\"round\" style=\"stroke:green;stroke-width:4\"/><line x1=\"650.0\" y1=\"250.0\" x2=\"660.0\" y2=\"250.0\" stroke-linecap=\"round\" style=\"stroke:green;stroke-width:4\"/><line x1=\"660.0\" y1=\"250.0\" x2=\"670.0\" y2=\"250.0\" stroke-linecap=\"round\" style=\"stroke:green;stroke-width:4\"/><line x1=\"670.0\" y1=\"250.0\" x2=\"680.0\" y2=\"250.0\" stroke-linecap=\"round\" style=\"stroke:green;stroke-width:4\"/><line x1=\"680.0\" y1=\"250.0\" x2=\"690.0\" y2=\"250.0\" stroke-linecap=\"round\" style=\"stroke:green;stroke-width:4\"/><line x1=\"690.0\" y1=\"250.0\" x2=\"700.0\" y2=\"250.0\" stroke-linecap=\"round\" style=\"stroke:green;stroke-width:4\"/><line x1=\"700.0\" y1=\"250.0\" x2=\"701.995\" y2=\"250.14\" stroke-linecap=\"round\" style=\"stroke:green;stroke-width:4\"/><line x1=\"701.995\" y1=\"250.14\" x2=\"703.976\" y2=\"250.418\" stroke-linecap=\"round\" style=\"stroke:green;stroke-width:4\"/><line x1=\"703.976\" y1=\"250.418\" x2=\"705.932\" y2=\"250.834\" stroke-linecap=\"round\" style=\"stroke:green;stroke-width:4\"/><line x1=\"705.932\" y1=\"250.834\" x2=\"707.855\" y2=\"251.385\" stroke-linecap=\"round\" style=\"stroke:green;stroke-width:4\"/><line x1=\"707.855\" y1=\"251.385\" x2=\"709.734\" y2=\"252.069\" stroke-linecap=\"round\" style=\"stroke:green;stroke-width:4\"/><line x1=\"709.734\" y1=\"252.069\" x2=\"711.561\" y2=\"252.882\" stroke-linecap=\"round\" style=\"stroke:green;stroke-width:4\"/><line x1=\"711.561\" y1=\"252.882\" x2=\"713.327\" y2=\"253.821\" stroke-linecap=\"round\" style=\"stroke:green;stroke-width:4\"/><line x1=\"713.327\" y1=\"253.821\" x2=\"715.023\" y2=\"254.881\" stroke-linecap=\"round\" style=\"stroke:green;stroke-width:4\"/><line x1=\"715.023\" y1=\"254.881\" x2=\"716.641\" y2=\"256.057\" stroke-linecap=\"round\" style=\"stroke:green;stroke-width:4\"/><line x1=\"716.641\" y1=\"256.057\" x2=\"718.173\" y2=\"257.343\" stroke-linecap=\"round\" style=\"stroke:green;stroke-width:4\"/><line x1=\"718.173\" y1=\"257.343\" x2=\"725.833\" y2=\"263.771\" stroke-linecap=\"round\" style=\"stroke:green;stroke-width:4\"/><line x1=\"725.833\" y1=\"263.771\" x2=\"733.493\" y2=\"270.199\" stroke-linecap=\"round\" style=\"stroke:green;stroke-width:4\"/><line x1=\"733.493\" y1=\"270.199\" x2=\"741.153\" y2=\"276.627\" stroke-linecap=\"round\" style=\"stroke:green;stroke-width:4\"/><line x1=\"741.153\" y1=\"276.627\" x2=\"748.813\" y2=\"283.055\" stroke-linecap=\"round\" style=\"stroke:green;stroke-width:4\"/><line x1=\"748.813\" y1=\"283.055\" x2=\"756.473\" y2=\"289.483\" stroke-linecap=\"round\" style=\"stroke:green;stroke-width:4\"/><line x1=\"756.473\" y1=\"289.483\" x2=\"764.133\" y2=\"295.911\" stroke-linecap=\"round\" style=\"stroke:green;stroke-width:4\"/><line x1=\"764.133\" y1=\"295.911\" x2=\"771.793\" y2=\"302.339\" stroke-linecap=\"round\" style=\"stroke:green;stroke-width:4\"/><line x1=\"771.793\" y1=\"302.339\" x2=\"779.453\" y2=\"308.767\" stroke-linecap=\"round\" style=\"stroke:green;stroke-width:4\"/><line x1=\"779.453\" y1=\"308.767\" x2=\"787.113\" y2=\"315.195\" stroke-linecap=\"round\" style=\"stroke:green;stroke-width:4\"/><line x1=\"787.113\" y1=\"315.195\" x2=\"780\" y2=\"315.195\" stroke-linecap=\"round\" style=\"stroke:green;stroke-width:4\"/><line x1=\"780\" y1=\"315.195\" x2=\"781.618\" y2=\"316.371\" stroke-linecap=\"round\" style=\"stroke:red;stroke-width:4\"/><line x1=\"781.618\" y1=\"316.371\" x2=\"780\" y2=\"316.371\" stroke-linecap=\"round\" style=\"stroke:red;stroke-width:4\"/><line x1=\"780\" y1=\"316.371\" x2=\"781.981\" y2=\"316.093\" stroke-linecap=\"round\" style=\"stroke:red;stroke-width:4\"/><line x1=\"781.981\" y1=\"316.093\" x2=\"780\" y2=\"316.093\" stroke-linecap=\"round\" style=\"stroke:red;stroke-width:4\"/><line x1=\"780\" y1=\"316.093\" x2=\"781.231\" y2=\"314.517\" stroke-linecap=\"round\" style=\"stroke:red;stroke-width:4\"/><line x1=\"781.231\" y1=\"314.517\" x2=\"780\" y2=\"314.517\" stroke-linecap=\"round\" style=\"stroke:red;stroke-width:4\"/><line x1=\"780\" y1=\"314.517\" x2=\"779.791\" y2=\"312.528\" stroke-linecap=\"round\" style=\"stroke:red;stroke-width:4\"/><line x1=\"779.791\" y1=\"312.528\" x2=\"779.444\" y2=\"310.558\" stroke-linecap=\"round\" style=\"stroke:green;stroke-width:4\"/><line x1=\"779.444\" y1=\"310.558\" x2=\"778.96\" y2=\"308.617\" stroke-linecap=\"round\" style=\"stroke:green;stroke-width:4\"/><line x1=\"778.96\" y1=\"308.617\" x2=\"778.342\" y2=\"306.715\" stroke-linecap=\"round\" style=\"stroke:green;stroke-width:4\"/><line x1=\"778.342\" y1=\"306.715\" x2=\"777.593\" y2=\"304.861\" stroke-linecap=\"round\" style=\"stroke:green;stroke-width:4\"/><line x1=\"777.593\" y1=\"304.861\" x2=\"776.716\" y2=\"303.063\" stroke-linecap=\"round\" style=\"stroke:green;stroke-width:4\"/><line x1=\"776.716\" y1=\"303.063\" x2=\"775.716\" y2=\"301.331\" stroke-linecap=\"round\" style=\"stroke:green;stroke-width:4\"/><line x1=\"775.716\" y1=\"301.331\" x2=\"774.598\" y2=\"299.673\" stroke-linecap=\"round\" style=\"stroke:green;stroke-width:4\"/><line x1=\"774.598\" y1=\"299.673\" x2=\"773.367\" y2=\"298.097\" stroke-linecap=\"round\" style=\"stroke:green;stroke-width:4\"/><line x1=\"773.367\" y1=\"298.097\" x2=\"772.029\" y2=\"296.611\" stroke-linecap=\"round\" style=\"stroke:green;stroke-width:4\"/><line x1=\"772.029\" y1=\"296.611\" x2=\"765.338\" y2=\"289.18\" stroke-linecap=\"round\" style=\"stroke:green;stroke-width:4\"/><line x1=\"765.338\" y1=\"289.18\" x2=\"758.647\" y2=\"281.749\" stroke-linecap=\"round\" style=\"stroke:green;stroke-width:4\"/><line x1=\"758.647\" y1=\"281.749\" x2=\"751.956\" y2=\"274.318\" stroke-linecap=\"round\" style=\"stroke:green;stroke-width:4\"/><line x1=\"751.956\" y1=\"274.318\" x2=\"745.265\" y2=\"266.887\" stroke-linecap=\"round\" style=\"stroke:green;stroke-width:4\"/><line x1=\"745.265\" y1=\"266.887\" x2=\"738.574\" y2=\"259.456\" stroke-linecap=\"round\" style=\"stroke:green;stroke-width:4\"/><line x1=\"738.574\" y1=\"259.456\" x2=\"731.883\" y2=\"252.025\" stroke-linecap=\"round\" style=\"stroke:green;stroke-width:4\"/><line x1=\"731.883\" y1=\"252.025\" x2=\"725.192\" y2=\"244.594\" stroke-linecap=\"round\" style=\"stroke:green;stroke-width:4\"/><line x1=\"725.192\" y1=\"244.594\" x2=\"718.501\" y2=\"237.163\" stroke-linecap=\"round\" style=\"stroke:green;stroke-width:4\"/><line x1=\"718.501\" y1=\"237.163\" x2=\"711.81\" y2=\"229.732\" stroke-linecap=\"round\" style=\"stroke:green;stroke-width:4\"/><line x1=\"711.81\" y1=\"229.732\" x2=\"705.119\" y2=\"222.301\" stroke-linecap=\"round\" style=\"stroke:green;stroke-width:4\"/><line x1=\"705.119\" y1=\"222.301\" x2=\"698.428\" y2=\"214.87\" stroke-linecap=\"round\" style=\"stroke:green;stroke-width:4\"/><line x1=\"698.428\" y1=\"214.87\" x2=\"691.737\" y2=\"207.439\" stroke-linecap=\"round\" style=\"stroke:green;stroke-width:4\"/><line x1=\"691.737\" y1=\"207.439\" x2=\"685.046\" y2=\"200.008\" stroke-linecap=\"round\" style=\"stroke:green;stroke-width:4\"/><line x1=\"685.046\" y1=\"200.008\" x2=\"678.355\" y2=\"192.577\" stroke-linecap=\"round\" style=\"stroke:green;stroke-width:4\"/><line x1=\"678.355\" y1=\"192.577\" x2=\"671.664\" y2=\"185.146\" stroke-linecap=\"round\" style=\"stroke:green;stroke-width:4\"/><line x1=\"671.664\" y1=\"185.146\" x2=\"664.973\" y2=\"177.715\" stroke-linecap=\"round\" style=\"stroke:green;stroke-width:4\"/><line x1=\"664.973\" y1=\"177.715\" x2=\"658.282\" y2=\"170.284\" stroke-linecap=\"round\" style=\"stroke:green;stroke-width:4\"/><line x1=\"658.282\" y1=\"170.284\" x2=\"651.591\" y2=\"162.853\" stroke-linecap=\"round\" style=\"stroke:green;stroke-width:4\"/><line x1=\"651.591\" y1=\"162.853\" x2=\"644.9\" y2=\"155.422\" stroke-linecap=\"round\" style=\"stroke:green;stroke-width:4\"/><line x1=\"644.9\" y1=\"155.422\" x2=\"638.209\" y2=\"147.991\" stroke-linecap=\"round\" style=\"stroke:green;stroke-width:4\"/><line x1=\"638.209\" y1=\"147.991\" x2=\"631.518\" y2=\"140.56\" stroke-linecap=\"round\" style=\"stroke:green;stroke-width:4\"/><line x1=\"631.518\" y1=\"140.56\" x2=\"624.827\" y2=\"133.129\" stroke-linecap=\"round\" style=\"stroke:green;stroke-width:4\"/><line x1=\"624.827\" y1=\"133.129\" x2=\"618.136\" y2=\"125.698\" stroke-linecap=\"round\" style=\"stroke:green;stroke-width:4\"/><line x1=\"618.136\" y1=\"125.698\" x2=\"611.445\" y2=\"118.267\" stroke-linecap=\"round\" style=\"stroke:green;stroke-width:4\"/><line x1=\"611.445\" y1=\"118.267\" x2=\"604.754\" y2=\"110.836\" stroke-linecap=\"round\" style=\"stroke:green;stroke-width:4\"/><line x1=\"604.754\" y1=\"110.836\" x2=\"598.063\" y2=\"103.405\" stroke-linecap=\"round\" style=\"stroke:green;stroke-width:4\"/><line x1=\"598.063\" y1=\"103.405\" x2=\"591.372\" y2=\"95.974\" stroke-linecap=\"round\" style=\"stroke:green;stroke-width:4\"/><line x1=\"591.372\" y1=\"95.974\" x2=\"584.681\" y2=\"88.543\" stroke-linecap=\"round\" style=\"stroke:green;stroke-width:4\"/><line x1=\"584.681\" y1=\"88.543\" x2=\"577.99\" y2=\"81.112\" stroke-linecap=\"round\" style=\"stroke:green;stroke-width:4\"/><line x1=\"577.99\" y1=\"81.112\" x2=\"571.299\" y2=\"73.681\" stroke-linecap=\"round\" style=\"stroke:green;stroke-width:4\"/><line x1=\"571.299\" y1=\"73.681\" x2=\"564.608\" y2=\"66.25\" stroke-linecap=\"round\" style=\"stroke:green;stroke-width:4\"/><line x1=\"564.608\" y1=\"66.25\" x2=\"557.917\" y2=\"58.819\" stroke-linecap=\"round\" style=\"stroke:green;stroke-width:4\"/><line x1=\"557.917\" y1=\"58.819\" x2=\"551.226\" y2=\"51.388\" stroke-linecap=\"round\" style=\"stroke:green;stroke-width:4\"/><line x1=\"551.226\" y1=\"51.388\" x2=\"544.535\" y2=\"43.957\" stroke-linecap=\"round\" style=\"stroke:green;stroke-width:4\"/><line x1=\"544.535\" y1=\"43.957\" x2=\"537.844\" y2=\"36.526\" stroke-linecap=\"round\" style=\"stroke:green;stroke-width:4\"/><line x1=\"537.844\" y1=\"36.526\" x2=\"531.153\" y2=\"29.095\" stroke-linecap=\"round\" style=\"stroke:green;stroke-width:4\"/><line x1=\"531.153\" y1=\"29.095\" x2=\"524.462\" y2=\"21.664\" stroke-linecap=\"round\" style=\"stroke:green;stroke-width:4\"/><line x1=\"524.462\" y1=\"21.664\" x2=\"517.771\" y2=\"14.233\" stroke-linecap=\"round\" style=\"stroke:green;stroke-width:4\"/><line x1=\"517.771\" y1=\"14.233\" x2=\"517.771\" y2=\"20\" stroke-linecap=\"round\" style=\"stroke:green;stroke-width:4\"/><line x1=\"517.771\" y1=\"20\" x2=\"516.332\" y2=\"18.611\" stroke-linecap=\"round\" style=\"stroke:red;stroke-width:4\"/><line x1=\"516.332\" y1=\"18.611\" x2=\"516.332\" y2=\"20\" stroke-linecap=\"round\" style=\"stroke:red;stroke-width:4\"/><line x1=\"516.332\" y1=\"20\" x2=\"514.332\" y2=\"20.0\" stroke-linecap=\"round\" style=\"stroke:red;stroke-width:4\"/><line x1=\"514.332\" y1=\"20.0\" x2=\"512.337\" y2=\"20.14\" stroke-linecap=\"round\" style=\"stroke:green;stroke-width:4\"/><line x1=\"512.337\" y1=\"20.14\" x2=\"510.356\" y2=\"20.418\" stroke-linecap=\"round\" style=\"stroke:green;stroke-width:4\"/><line x1=\"510.356\" y1=\"20.418\" x2=\"508.4\" y2=\"20.834\" stroke-linecap=\"round\" style=\"stroke:green;stroke-width:4\"/><line x1=\"508.4\" y1=\"20.834\" x2=\"506.477\" y2=\"21.385\" stroke-linecap=\"round\" style=\"stroke:green;stroke-width:4\"/><line x1=\"506.477\" y1=\"21.385\" x2=\"504.598\" y2=\"22.069\" stroke-linecap=\"round\" style=\"stroke:green;stroke-width:4\"/><line x1=\"504.598\" y1=\"22.069\" x2=\"502.771\" y2=\"22.882\" stroke-linecap=\"round\" style=\"stroke:green;stroke-width:4\"/><line x1=\"502.771\" y1=\"22.882\" x2=\"501.005\" y2=\"23.821\" stroke-linecap=\"round\" style=\"stroke:green;stroke-width:4\"/><line x1=\"501.005\" y1=\"23.821\" x2=\"499.309\" y2=\"24.881\" stroke-linecap=\"round\" style=\"stroke:green;stroke-width:4\"/><line x1=\"499.309\" y1=\"24.881\" x2=\"497.691\" y2=\"26.057\" stroke-linecap=\"round\" style=\"stroke:green;stroke-width:4\"/><line x1=\"497.691\" y1=\"26.057\" x2=\"489.601\" y2=\"31.935\" stroke-linecap=\"round\" style=\"stroke:green;stroke-width:4\"/><line x1=\"489.601\" y1=\"31.935\" x2=\"481.511\" y2=\"37.813\" stroke-linecap=\"round\" style=\"stroke:green;stroke-width:4\"/><line x1=\"481.511\" y1=\"37.813\" x2=\"473.421\" y2=\"43.691\" stroke-linecap=\"round\" style=\"stroke:green;stroke-width:4\"/><line x1=\"473.421\" y1=\"43.691\" x2=\"465.331\" y2=\"49.569\" stroke-linecap=\"round\" style=\"stroke:green;stroke-width:4\"/><line x1=\"465.331\" y1=\"49.569\" x2=\"457.241\" y2=\"55.447\" stroke-linecap=\"round\" style=\"stroke:green;stroke-width:4\"/><line x1=\"457.241\" y1=\"55.447\" x2=\"449.151\" y2=\"61.325\" stroke-linecap=\"round\" style=\"stroke:green;stroke-width:4\"/><line x1=\"449.151\" y1=\"61.325\" x2=\"441.061\" y2=\"67.203\" stroke-linecap=\"round\" style=\"stroke:green;stroke-width:4\"/><line x1=\"441.061\" y1=\"67.203\" x2=\"432.971\" y2=\"73.081\" stroke-linecap=\"round\" style=\"stroke:green;stroke-width:4\"/><line x1=\"432.971\" y1=\"73.081\" x2=\"424.881\" y2=\"78.959\" stroke-linecap=\"round\" style=\"stroke:green;stroke-width:4\"/><line x1=\"424.881\" y1=\"78.959\" x2=\"416.791\" y2=\"84.837\" stroke-linecap=\"round\" style=\"stroke:green;stroke-width:4\"/><line x1=\"416.791\" y1=\"84.837\" x2=\"408.701\" y2=\"90.715\" stroke-linecap=\"round\" style=\"stroke:green;stroke-width:4\"/><line x1=\"408.701\" y1=\"90.715\" x2=\"400.611\" y2=\"96.593\" stroke-linecap=\"round\" style=\"stroke:green;stroke-width:4\"/><line x1=\"400.611\" y1=\"96.593\" x2=\"392.521\" y2=\"102.471\" stroke-linecap=\"round\" style=\"stroke:green;stroke-width:4\"/><line x1=\"392.521\" y1=\"102.471\" x2=\"384.431\" y2=\"108.349\" stroke-linecap=\"round\" style=\"stroke:green;stroke-width:4\"/><line x1=\"384.431\" y1=\"108.349\" x2=\"376.341\" y2=\"114.227\" stroke-linecap=\"round\" style=\"stroke:green;stroke-width:4\"/><line x1=\"376.341\" y1=\"114.227\" x2=\"368.251\" y2=\"120.105\" stroke-linecap=\"round\" style=\"stroke:green;stroke-width:4\"/><line x1=\"368.251\" y1=\"120.105\" x2=\"360.161\" y2=\"125.983\" stroke-linecap=\"round\" style=\"stroke:green;stroke-width:4\"/><line x1=\"360.161\" y1=\"125.983\" x2=\"352.071\" y2=\"131.861\" stroke-linecap=\"round\" style=\"stroke:green;stroke-width:4\"/><line x1=\"352.071\" y1=\"131.861\" x2=\"343.981\" y2=\"137.739\" stroke-linecap=\"round\" style=\"stroke:green;stroke-width:4\"/><line x1=\"343.981\" y1=\"137.739\" x2=\"335.891\" y2=\"143.617\" stroke-linecap=\"round\" style=\"stroke:green;stroke-width:4\"/><line x1=\"335.891\" y1=\"143.617\" x2=\"327.801\" y2=\"149.495\" stroke-linecap=\"round\" style=\"stroke:green;stroke-width:4\"/><line x1=\"327.801\" y1=\"149.495\" x2=\"319.711\" y2=\"155.373\" stroke-linecap=\"round\" style=\"stroke:green;stroke-width:4\"/><line x1=\"319.711\" y1=\"155.373\" x2=\"311.621\" y2=\"161.251\" stroke-linecap=\"round\" style=\"stroke:green;stroke-width:4\"/><line x1=\"311.621\" y1=\"161.251\" x2=\"303.531\" y2=\"167.129\" stroke-linecap=\"round\" style=\"stroke:green;stroke-width:4\"/><line x1=\"303.531\" y1=\"167.129\" x2=\"295.441\" y2=\"173.007\" stroke-linecap=\"round\" style=\"stroke:green;stroke-width:4\"/><line x1=\"295.441\" y1=\"173.007\" x2=\"287.351\" y2=\"178.885\" stroke-linecap=\"round\" style=\"stroke:green;stroke-width:4\"/><line x1=\"287.351\" y1=\"178.885\" x2=\"279.261\" y2=\"184.763\" stroke-linecap=\"round\" style=\"stroke:green;stroke-width:4\"/><line x1=\"279.261\" y1=\"184.763\" x2=\"271.171\" y2=\"190.641\" stroke-linecap=\"round\" style=\"stroke:green;stroke-width:4\"/><line x1=\"271.171\" y1=\"190.641\" x2=\"263.081\" y2=\"196.519\" stroke-linecap=\"round\" style=\"stroke:green;stroke-width:4\"/><line x1=\"263.081\" y1=\"196.519\" x2=\"254.991\" y2=\"202.397\" stroke-linecap=\"round\" style=\"stroke:green;stroke-width:4\"/><line x1=\"254.991\" y1=\"202.397\" x2=\"246.901\" y2=\"208.275\" stroke-linecap=\"round\" style=\"stroke:green;stroke-width:4\"/><line x1=\"246.901\" y1=\"208.275\" x2=\"238.811\" y2=\"214.153\" stroke-linecap=\"round\" style=\"stroke:green;stroke-width:4\"/><line x1=\"238.811\" y1=\"214.153\" x2=\"230.721\" y2=\"220.031\" stroke-linecap=\"round\" style=\"stroke:green;stroke-width:4\"/><line x1=\"230.721\" y1=\"220.031\" x2=\"222.631\" y2=\"225.909\" stroke-linecap=\"round\" style=\"stroke:green;stroke-width:4\"/><line x1=\"222.631\" y1=\"225.909\" x2=\"214.541\" y2=\"231.787\" stroke-linecap=\"round\" style=\"stroke:green;stroke-width:4\"/><line x1=\"214.541\" y1=\"231.787\" x2=\"206.451\" y2=\"237.665\" stroke-linecap=\"round\" style=\"stroke:green;stroke-width:4\"/><line x1=\"206.451\" y1=\"237.665\" x2=\"198.361\" y2=\"243.543\" stroke-linecap=\"round\" style=\"stroke:green;stroke-width:4\"/><line x1=\"198.361\" y1=\"243.543\" x2=\"190.271\" y2=\"249.421\" stroke-linecap=\"round\" style=\"stroke:green;stroke-width:4\"/><line x1=\"190.271\" y1=\"249.421\" x2=\"182.181\" y2=\"255.299\" stroke-linecap=\"round\" style=\"stroke:green;stroke-width:4\"/><line x1=\"182.181\" y1=\"255.299\" x2=\"174.091\" y2=\"261.177\" stroke-linecap=\"round\" style=\"stroke:green;stroke-width:4\"/><line x1=\"174.091\" y1=\"261.177\" x2=\"172.395\" y2=\"262.237\" stroke-linecap=\"round\" style=\"stroke:green;stroke-width:4\"/><line x1=\"172.395\" y1=\"262.237\" x2=\"170.629\" y2=\"263.176\" stroke-linecap=\"round\" style=\"stroke:green;stroke-width:4\"/><line x1=\"170.629\" y1=\"263.176\" x2=\"168.802\" y2=\"263.989\" stroke-linecap=\"round\" style=\"stroke:green;stroke-width:4\"/><line x1=\"168.802\" y1=\"263.989\" x2=\"166.923\" y2=\"264.673\" stroke-linecap=\"round\" style=\"stroke:green;stroke-width:4\"/><line x1=\"166.923\" y1=\"264.673\" x2=\"165.0\" y2=\"265.224\" stroke-linecap=\"round\" style=\"stroke:green;stroke-width:4\"/><line x1=\"165.0\" y1=\"265.224\" x2=\"163.044\" y2=\"265.64\" stroke-linecap=\"round\" style=\"stroke:green;stroke-width:4\"/><line x1=\"163.044\" y1=\"265.64\" x2=\"161.063\" y2=\"265.918\" stroke-linecap=\"round\" style=\"stroke:green;stroke-width:4\"/><line x1=\"161.063\" y1=\"265.918\" x2=\"159.068\" y2=\"266.058\" stroke-linecap=\"round\" style=\"stroke:green;stroke-width:4\"/><line x1=\"159.068\" y1=\"266.058\" x2=\"157.068\" y2=\"266.058\" stroke-linecap=\"round\" style=\"stroke:green;stroke-width:4\"/><line x1=\"157.068\" y1=\"266.058\" x2=\"155.073\" y2=\"265.918\" stroke-linecap=\"round\" style=\"stroke:green;stroke-width:4\"/><line x1=\"155.073\" y1=\"265.918\" x2=\"145.097\" y2=\"265.22\" stroke-linecap=\"round\" style=\"stroke:green;stroke-width:4\"/><line x1=\"145.097\" y1=\"265.22\" x2=\"135.121\" y2=\"264.522\" stroke-linecap=\"round\" style=\"stroke:green;stroke-width:4\"/><line x1=\"135.121\" y1=\"264.522\" x2=\"125.145\" y2=\"263.824\" stroke-linecap=\"round\" style=\"stroke:green;stroke-width:4\"/><line x1=\"125.145\" y1=\"263.824\" x2=\"115.169\" y2=\"263.126\" stroke-linecap=\"round\" style=\"stroke:green;stroke-width:4\"/><line x1=\"115.169\" y1=\"263.126\" x2=\"105.193\" y2=\"262.428\" stroke-linecap=\"round\" style=\"stroke:green;stroke-width:4\"/><line x1=\"105.193\" y1=\"262.428\" x2=\"95.217\" y2=\"261.73\" stroke-linecap=\"round\" style=\"stroke:green;stroke-width:4\"/><line x1=\"95.217\" y1=\"261.73\" x2=\"85.241\" y2=\"261.032\" stroke-linecap=\"round\" style=\"stroke:green;stroke-width:4\"/><line x1=\"85.241\" y1=\"261.032\" x2=\"75.265\" y2=\"260.334\" stroke-linecap=\"round\" style=\"stroke:green;stroke-width:4\"/><line x1=\"75.265\" y1=\"260.334\" x2=\"65.289\" y2=\"259.636\" stroke-linecap=\"round\" style=\"stroke:green;stroke-width:4\"/><line x1=\"65.289\" y1=\"259.636\" x2=\"55.313\" y2=\"258.938\" stroke-linecap=\"round\" style=\"stroke:green;stroke-width:4\"/><line x1=\"55.313\" y1=\"258.938\" x2=\"45.337\" y2=\"258.24\" stroke-linecap=\"round\" style=\"stroke:green;stroke-width:4\"/><line x1=\"45.337\" y1=\"258.24\" x2=\"35.361\" y2=\"257.542\" stroke-linecap=\"round\" style=\"stroke:green;stroke-width:4\"/><line x1=\"35.361\" y1=\"257.542\" x2=\"25.385\" y2=\"256.844\" stroke-linecap=\"round\" style=\"stroke:green;stroke-width:4\"/><line x1=\"25.385\" y1=\"256.844\" x2=\"15.409\" y2=\"256.146\" stroke-linecap=\"round\" style=\"stroke:green;stroke-width:4\"/><line x1=\"15.409\" y1=\"256.146\" x2=\"20\" y2=\"256.146\" stroke-linecap=\"round\" style=\"stroke:green;stroke-width:4\"/><line x1=\"20\" y1=\"256.146\" x2=\"18.0\" y2=\"256.146\" stroke-linecap=\"round\" style=\"stroke:red;stroke-width:4\"/><line x1=\"18.0\" y1=\"256.146\" x2=\"20\" y2=\"256.146\" stroke-linecap=\"round\" style=\"stroke:red;stroke-width:4\"/><line x1=\"20\" y1=\"256.146\" x2=\"18.561\" y2=\"257.535\" stroke-linecap=\"round\" style=\"stroke:red;stroke-width:4\"/><line x1=\"18.561\" y1=\"257.535\" x2=\"20\" y2=\"257.535\" stroke-linecap=\"round\" style=\"stroke:red;stroke-width:4\"/><line x1=\"20\" y1=\"257.535\" x2=\"19.93\" y2=\"259.534\" stroke-linecap=\"round\" style=\"stroke:red;stroke-width:4\"/><line x1=\"19.93\" y1=\"259.534\" x2=\"20\" y2=\"259.534\" stroke-linecap=\"round\" style=\"stroke:red;stroke-width:4\"/><line x1=\"20\" y1=\"259.534\" x2=\"21.338\" y2=\"261.02\" stroke-linecap=\"round\" style=\"stroke:red;stroke-width:4\"/><line x1=\"21.338\" y1=\"261.02\" x2=\"22.777\" y2=\"262.409\" stroke-linecap=\"round\" style=\"stroke:green;stroke-width:4\"/><line x1=\"22.777\" y1=\"262.409\" x2=\"24.309\" y2=\"263.695\" stroke-linecap=\"round\" style=\"stroke:green;stroke-width:4\"/><line x1=\"24.309\" y1=\"263.695\" x2=\"25.927\" y2=\"264.871\" stroke-linecap=\"round\" style=\"stroke:green;stroke-width:4\"/><line x1=\"25.927\" y1=\"264.871\" x2=\"27.623\" y2=\"265.931\" stroke-linecap=\"round\" style=\"stroke:green;stroke-width:4\"/><line x1=\"27.623\" y1=\"265.931\" x2=\"29.389\" y2=\"266.87\" stroke-linecap=\"round\" style=\"stroke:green;stroke-width:4\"/><line x1=\"29.389\" y1=\"266.87\" x2=\"31.216\" y2=\"267.683\" stroke-linecap=\"round\" style=\"stroke:green;stroke-width:4\"/><line x1=\"31.216\" y1=\"267.683\" x2=\"33.095\" y2=\"268.367\" stroke-linecap=\"round\" style=\"stroke:green;stroke-width:4\"/><line x1=\"33.095\" y1=\"268.367\" x2=\"35.018\" y2=\"268.918\" stroke-linecap=\"round\" style=\"stroke:green;stroke-width:4\"/><line x1=\"35.018\" y1=\"268.918\" x2=\"36.974\" y2=\"269.334\" stroke-linecap=\"round\" style=\"stroke:green;stroke-width:4\"/><line x1=\"36.974\" y1=\"269.334\" x2=\"46.755\" y2=\"271.413\" stroke-linecap=\"round\" style=\"stroke:green;stroke-width:4\"/><line x1=\"46.755\" y1=\"271.413\" x2=\"56.536\" y2=\"273.492\" stroke-linecap=\"round\" style=\"stroke:green;stroke-width:4\"/><line x1=\"56.536\" y1=\"273.492\" x2=\"66.317\" y2=\"275.571\" stroke-linecap=\"round\" style=\"stroke:green;stroke-width:4\"/><line x1=\"66.317\" y1=\"275.571\" x2=\"76.098\" y2=\"277.65\" stroke-linecap=\"round\" style=\"stroke:green;stroke-width:4\"/><line x1=\"76.098\" y1=\"277.65\" x2=\"85.879\" y2=\"279.729\" stroke-linecap=\"round\" style=\"stroke:green;stroke-width:4\"/><line x1=\"85.879\" y1=\"279.729\" x2=\"95.66\" y2=\"281.808\" stroke-linecap=\"round\" style=\"stroke:green;stroke-width:4\"/><line x1=\"95.66\" y1=\"281.808\" x2=\"105.441\" y2=\"283.887\" stroke-linecap=\"round\" style=\"stroke:green;stroke-width:4\"/><line x1=\"105.441\" y1=\"283.887\" x2=\"115.222\" y2=\"285.966\" stroke-linecap=\"round\" style=\"stroke:green;stroke-width:4\"/><line x1=\"115.222\" y1=\"285.966\" x2=\"125.003\" y2=\"288.045\" stroke-linecap=\"round\" style=\"stroke:green;stroke-width:4\"/><line x1=\"125.003\" y1=\"288.045\" x2=\"134.784\" y2=\"290.124\" stroke-linecap=\"round\" style=\"stroke:green;stroke-width:4\"/><line x1=\"134.784\" y1=\"290.124\" x2=\"144.565\" y2=\"292.203\" stroke-linecap=\"round\" style=\"stroke:green;stroke-width:4\"/><line x1=\"144.565\" y1=\"292.203\" x2=\"154.346\" y2=\"294.282\" stroke-linecap=\"round\" style=\"stroke:green;stroke-width:4\"/><line x1=\"154.346\" y1=\"294.282\" x2=\"164.127\" y2=\"296.361\" stroke-linecap=\"round\" style=\"stroke:green;stroke-width:4\"/><line x1=\"164.127\" y1=\"296.361\" x2=\"173.908\" y2=\"298.44\" stroke-linecap=\"round\" style=\"stroke:green;stroke-width:4\"/><line x1=\"173.908\" y1=\"298.44\" x2=\"183.689\" y2=\"300.519\" stroke-linecap=\"round\" style=\"stroke:green;stroke-width:4\"/><line x1=\"183.689\" y1=\"300.519\" x2=\"193.47\" y2=\"302.598\" stroke-linecap=\"round\" style=\"stroke:green;stroke-width:4\"/><line x1=\"193.47\" y1=\"302.598\" x2=\"203.251\" y2=\"304.677\" stroke-linecap=\"round\" style=\"stroke:green;stroke-width:4\"/><line x1=\"203.251\" y1=\"304.677\" x2=\"213.032\" y2=\"306.756\" stroke-linecap=\"round\" style=\"stroke:green;stroke-width:4\"/><line x1=\"213.032\" y1=\"306.756\" x2=\"222.813\" y2=\"308.835\" stroke-linecap=\"round\" style=\"stroke:green;stroke-width:4\"/><line x1=\"222.813\" y1=\"308.835\" x2=\"232.594\" y2=\"310.914\" stroke-linecap=\"round\" style=\"stroke:green;stroke-width:4\"/><line x1=\"232.594\" y1=\"310.914\" x2=\"242.375\" y2=\"312.993\" stroke-linecap=\"round\" style=\"stroke:green;stroke-width:4\"/><line x1=\"242.375\" y1=\"312.993\" x2=\"252.156\" y2=\"315.072\" stroke-linecap=\"round\" style=\"stroke:green;stroke-width:4\"/><line x1=\"252.156\" y1=\"315.072\" x2=\"261.937\" y2=\"317.151\" stroke-linecap=\"round\" style=\"stroke:green;stroke-width:4\"/><line x1=\"261.937\" y1=\"317.151\" x2=\"271.718\" y2=\"319.23\" stroke-linecap=\"round\" style=\"stroke:green;stroke-width:4\"/><line x1=\"271.718\" y1=\"319.23\" x2=\"281.499\" y2=\"321.309\" stroke-linecap=\"round\" style=\"stroke:green;stroke-width:4\"/><line x1=\"281.499\" y1=\"321.309\" x2=\"291.28\" y2=\"323.388\" stroke-linecap=\"round\" style=\"stroke:green;stroke-width:4\"/><line x1=\"291.28\" y1=\"323.388\" x2=\"301.061\" y2=\"325.467\" stroke-linecap=\"round\" style=\"stroke:green;stroke-width:4\"/><line x1=\"301.061\" y1=\"325.467\" x2=\"310.842\" y2=\"327.546\" stroke-linecap=\"round\" style=\"stroke:green;stroke-width:4\"/><line x1=\"310.842\" y1=\"327.546\" x2=\"320.623\" y2=\"329.625\" stroke-linecap=\"round\" style=\"stroke:green;stroke-width:4\"/><line x1=\"320.623\" y1=\"329.625\" x2=\"330.404\" y2=\"331.704\" stroke-linecap=\"round\" style=\"stroke:green;stroke-width:4\"/><line x1=\"330.404\" y1=\"331.704\" x2=\"340.185\" y2=\"333.783\" stroke-linecap=\"round\" style=\"stroke:green;stroke-width:4\"/><line x1=\"340.185\" y1=\"333.783\" x2=\"349.966\" y2=\"335.862\" stroke-linecap=\"round\" style=\"stroke:green;stroke-width:4\"/><line x1=\"349.966\" y1=\"335.862\" x2=\"359.747\" y2=\"337.941\" stroke-linecap=\"round\" style=\"stroke:green;stroke-width:4\"/><line x1=\"359.747\" y1=\"337.941\" x2=\"369.528\" y2=\"340.02\" stroke-linecap=\"round\" style=\"stroke:green;stroke-width:4\"/><line x1=\"369.528\" y1=\"340.02\" x2=\"379.309\" y2=\"342.099\" stroke-linecap=\"round\" style=\"stroke:green;stroke-width:4\"/><line x1=\"379.309\" y1=\"342.099\" x2=\"389.09\" y2=\"344.178\" stroke-linecap=\"round\" style=\"stroke:green;stroke-width:4\"/><line x1=\"389.09\" y1=\"344.178\" x2=\"398.871\" y2=\"346.257\" stroke-linecap=\"round\" style=\"stroke:green;stroke-width:4\"/><line x1=\"398.871\" y1=\"346.257\" x2=\"408.652\" y2=\"348.336\" stroke-linecap=\"round\" style=\"stroke:green;stroke-width:4\"/><line x1=\"408.652\" y1=\"348.336\" x2=\"418.433\" y2=\"350.415\" stroke-linecap=\"round\" style=\"stroke:green;stroke-width:4\"/><line x1=\"418.433\" y1=\"350.415\" x2=\"428.214\" y2=\"352.494\" stroke-linecap=\"round\" style=\"stroke:green;stroke-width:4\"/><line x1=\"428.214\" y1=\"352.494\" x2=\"430.137\" y2=\"353.045\" stroke-linecap=\"round\" style=\"stroke:green;stroke-width:4\"/><line x1=\"430.137\" y1=\"353.045\" x2=\"432.016\" y2=\"353.729\" stroke-linecap=\"round\" style=\"stroke:green;stroke-width:4\"/><line x1=\"432.016\" y1=\"353.729\" x2=\"433.843\" y2=\"354.542\" stroke-linecap=\"round\" style=\"stroke:green;stroke-width:4\"/><line x1=\"433.843\" y1=\"354.542\" x2=\"435.609\" y2=\"355.481\" stroke-linecap=\"round\" style=\"stroke:green;stroke-width:4\"/><line x1=\"435.609\" y1=\"355.481\" x2=\"437.305\" y2=\"356.541\" stroke-linecap=\"round\" style=\"stroke:green;stroke-width:4\"/><line x1=\"437.305\" y1=\"356.541\" x2=\"438.923\" y2=\"357.717\" stroke-linecap=\"round\" style=\"stroke:green;stroke-width:4\"/><line x1=\"438.923\" y1=\"357.717\" x2=\"440.455\" y2=\"359.003\" stroke-linecap=\"round\" style=\"stroke:green;stroke-width:4\"/><line x1=\"440.455\" y1=\"359.003\" x2=\"441.894\" y2=\"360.392\" stroke-linecap=\"round\" style=\"stroke:green;stroke-width:4\"/><line x1=\"441.894\" y1=\"360.392\" x2=\"443.232\" y2=\"361.878\" stroke-linecap=\"round\" style=\"stroke:green;stroke-width:4\"/><line x1=\"443.232\" y1=\"361.878\" x2=\"444.463\" y2=\"363.454\" stroke-linecap=\"round\" style=\"stroke:green;stroke-width:4\"/><line x1=\"444.463\" y1=\"363.454\" x2=\"450.62\" y2=\"371.334\" stroke-linecap=\"round\" style=\"stroke:green;stroke-width:4\"/><line x1=\"450.62\" y1=\"371.334\" x2=\"456.777\" y2=\"379.214\" stroke-linecap=\"round\" style=\"stroke:green;stroke-width:4\"/><line x1=\"456.777\" y1=\"379.214\" x2=\"462.934\" y2=\"387.094\" stroke-linecap=\"round\" style=\"stroke:green;stroke-width:4\"/><line x1=\"462.934\" y1=\"387.094\" x2=\"469.091\" y2=\"394.974\" stroke-linecap=\"round\" style=\"stroke:green;stroke-width:4\"/><line x1=\"469.091\" y1=\"394.974\" x2=\"475.248\" y2=\"402.854\" stroke-linecap=\"round\" style=\"stroke:green;stroke-width:4\"/><line x1=\"475.248\" y1=\"402.854\" x2=\"481.405\" y2=\"410.734\" stroke-linecap=\"round\" style=\"stroke:green;stroke-width:4\"/><line x1=\"481.405\" y1=\"410.734\" x2=\"487.562\" y2=\"418.614\" stroke-linecap=\"round\" style=\"stroke:green;stroke-width:4\"/><line x1=\"487.562\" y1=\"418.614\" x2=\"493.719\" y2=\"426.494\" stroke-linecap=\"round\" style=\"stroke:green;stroke-width:4\"/><line x1=\"493.719\" y1=\"426.494\" x2=\"499.876\" y2=\"434.374\" stroke-linecap=\"round\" style=\"stroke:green;stroke-width:4\"/><line x1=\"499.876\" y1=\"434.374\" x2=\"506.033\" y2=\"442.254\" stroke-linecap=\"round\" style=\"stroke:green;stroke-width:4\"/><line x1=\"506.033\" y1=\"442.254\" x2=\"512.19\" y2=\"450.134\" stroke-linecap=\"round\" style=\"stroke:green;stroke-width:4\"/><line x1=\"512.19\" y1=\"450.134\" x2=\"518.347\" y2=\"458.014\" stroke-linecap=\"round\" style=\"stroke:green;stroke-width:4\"/><line x1=\"518.347\" y1=\"458.014\" x2=\"524.504\" y2=\"465.894\" stroke-linecap=\"round\" style=\"stroke:green;stroke-width:4\"/><line x1=\"524.504\" y1=\"465.894\" x2=\"530.661\" y2=\"473.774\" stroke-linecap=\"round\" style=\"stroke:green;stroke-width:4\"/><line x1=\"530.661\" y1=\"473.774\" x2=\"536.818\" y2=\"481.654\" stroke-linecap=\"round\" style=\"stroke:green;stroke-width:4\"/><line x1=\"536.818\" y1=\"481.654\" x2=\"536.818\" y2=\"480\" stroke-linecap=\"round\" style=\"stroke:green;stroke-width:4\"/><line x1=\"536.818\" y1=\"480\" x2=\"538.156\" y2=\"481.486\" stroke-linecap=\"round\" style=\"stroke:red;stroke-width:4\"/><line x1=\"538.156\" y1=\"481.486\" x2=\"538.156\" y2=\"480\" stroke-linecap=\"round\" style=\"stroke:red;stroke-width:4\"/><line x1=\"538.156\" y1=\"480\" x2=\"540.151\" y2=\"480.14\" stroke-linecap=\"round\" style=\"stroke:red;stroke-width:4\"/><line x1=\"540.151\" y1=\"480.14\" x2=\"540.151\" y2=\"480\" stroke-linecap=\"round\" style=\"stroke:red;stroke-width:4\"/><line x1=\"540.151\" y1=\"480\" x2=\"541.683\" y2=\"478.714\" stroke-linecap=\"round\" style=\"stroke:red;stroke-width:4\"/><line x1=\"541.683\" y1=\"478.714\" x2=\"543.122\" y2=\"477.325\" stroke-linecap=\"round\" style=\"stroke:green;stroke-width:4\"/><line x1=\"543.122\" y1=\"477.325\" x2=\"544.46\" y2=\"475.839\" stroke-linecap=\"round\" style=\"stroke:green;stroke-width:4\"/><line x1=\"544.46\" y1=\"475.839\" x2=\"545.691\" y2=\"474.263\" stroke-linecap=\"round\" style=\"stroke:green;stroke-width:4\"/><line x1=\"545.691\" y1=\"474.263\" x2=\"546.809\" y2=\"472.605\" stroke-linecap=\"round\" style=\"stroke:green;stroke-width:4\"/><line x1=\"546.809\" y1=\"472.605\" x2=\"547.809\" y2=\"470.873\" stroke-linecap=\"round\" style=\"stroke:green;stroke-width:4\"/><line x1=\"547.809\" y1=\"470.873\" x2=\"548.686\" y2=\"469.075\" stroke-linecap=\"round\" style=\"stroke:green;stroke-width:4\"/><line x1=\"548.686\" y1=\"469.075\" x2=\"549.435\" y2=\"467.221\" stroke-linecap=\"round\" style=\"stroke:green;stroke-width:4\"/><line x1=\"549.435\" y1=\"467.221\" x2=\"550.053\" y2=\"465.319\" stroke-linecap=\"round\" style=\"stroke:green;stroke-width:4\"/><line x1=\"550.053\" y1=\"465.319\" x2=\"550.537\" y2=\"463.378\" stroke-linecap=\"round\" style=\"stroke:green;stroke-width:4\"/><line x1=\"550.537\" y1=\"463.378\" x2=\"552.956\" y2=\"453.675\" stroke-linecap=\"round\" style=\"stroke:green;stroke-width:4\"/><line x1=\"552.956\" y1=\"453.675\" x2=\"555.375\" y2=\"443.972\" stroke-linecap=\"round\" style=\"stroke:green;stroke-width:4\"/><line x1=\"555.375\" y1=\"443.972\" x2=\"557.794\" y2=\"434.269\" stroke-linecap=\"round\" style=\"stroke:green;stroke-width:4\"/><line x1=\"557.794\" y1=\"434.269\" x2=\"560.213\" y2=\"424.566\" stroke-linecap=\"round\" style=\"stroke:green;stroke-width:4\"/><line x1=\"560.213\" y1=\"424.566\" x2=\"562.632\" y2=\"414.863\" stroke-linecap=\"round\" style=\"stroke:green;stroke-width:4\"/><line x1=\"562.632\" y1=\"414.863\" x2=\"565.051\" y2=\"405.16\" stroke-linecap=\"round\" style=\"stroke:green;stroke-width:4\"/><line x1=\"565.051\" y1=\"405.16\" x2=\"567.47\" y2=\"395.457\" stroke-linecap=\"round\" style=\"stroke:green;stroke-width:4\"/><line x1=\"567.47\" y1=\"395.457\" x2=\"569.889\" y2=\"385.754\" stroke-linecap=\"round\" style=\"stroke:green;stroke-width:4\"/><line x1=\"569.889\" y1=\"385.754\" x2=\"572.308\" y2=\"376.051\" stroke-linecap=\"round\" style=\"stroke:green;stroke-width:4\"/><line x1=\"572.308\" y1=\"376.051\" x2=\"574.727\" y2=\"366.348\" stroke-linecap=\"round\" style=\"stroke:green;stroke-width:4\"/><line x1=\"574.727\" y1=\"366.348\" x2=\"577.146\" y2=\"356.645\" stroke-linecap=\"round\" style=\"stroke:green;stroke-width:4\"/><line x1=\"577.146\" y1=\"356.645\" x2=\"579.565\" y2=\"346.942\" stroke-linecap=\"round\" style=\"stroke:green;stroke-width:4\"/><line x1=\"579.565\" y1=\"346.942\" x2=\"581.984\" y2=\"337.239\" stroke-linecap=\"round\" style=\"stroke:green;stroke-width:4\"/><line x1=\"581.984\" y1=\"337.239\" x2=\"584.403\" y2=\"327.536\" stroke-linecap=\"round\" style=\"stroke:green;stroke-width:4\"/><line x1=\"584.403\" y1=\"327.536\" x2=\"586.822\" y2=\"317.833\" stroke-linecap=\"round\" style=\"stroke:green;stroke-width:4\"/><line x1=\"586.822\" y1=\"317.833\" x2=\"589.241\" y2=\"308.13\" stroke-linecap=\"round\" style=\"stroke:green;stroke-width:4\"/><line x1=\"589.241\" y1=\"308.13\" x2=\"591.66\" y2=\"298.427\" stroke-linecap=\"round\" style=\"stroke:green;stroke-width:4\"/><line x1=\"591.66\" y1=\"298.427\" x2=\"594.079\" y2=\"288.724\" stroke-linecap=\"round\" style=\"stroke:green;stroke-width:4\"/><line x1=\"594.079\" y1=\"288.724\" x2=\"596.498\" y2=\"279.021\" stroke-linecap=\"round\" style=\"stroke:green;stroke-width:4\"/><line x1=\"596.498\" y1=\"279.021\" x2=\"598.917\" y2=\"269.318\" stroke-linecap=\"round\" style=\"stroke:green;stroke-width:4\"/><line x1=\"598.917\" y1=\"269.318\" x2=\"601.336\" y2=\"259.615\" stroke-linecap=\"round\" style=\"stroke:green;stroke-width:4\"/><line x1=\"601.336\" y1=\"259.615\" x2=\"603.755\" y2=\"249.912\" stroke-linecap=\"round\" style=\"stroke:green;stroke-width:4\"/><line x1=\"603.755\" y1=\"249.912\" x2=\"606.174\" y2=\"240.209\" stroke-linecap=\"round\" style=\"stroke:green;stroke-width:4\"/><line x1=\"606.174\" y1=\"240.209\" x2=\"608.593\" y2=\"230.506\" stroke-linecap=\"round\" style=\"stroke:green;stroke-width:4\"/><line x1=\"608.593\" y1=\"230.506\" x2=\"611.012\" y2=\"220.803\" stroke-linecap=\"round\" style=\"stroke:green;stroke-width:4\"/><line x1=\"611.012\" y1=\"220.803\" x2=\"613.431\" y2=\"211.1\" stroke-linecap=\"round\" style=\"stroke:green;stroke-width:4\"/><line x1=\"613.431\" y1=\"211.1\" x2=\"615.85\" y2=\"201.397\" stroke-linecap=\"round\" style=\"stroke:green;stroke-width:4\"/><line x1=\"615.85\" y1=\"201.397\" x2=\"618.269\" y2=\"191.694\" stroke-linecap=\"round\" style=\"stroke:green;stroke-width:4\"/><line x1=\"618.269\" y1=\"191.694\" x2=\"620.688\" y2=\"181.991\" stroke-linecap=\"round\" style=\"stroke:green;stroke-width:4\"/><line x1=\"620.688\" y1=\"181.991\" x2=\"623.107\" y2=\"172.288\" stroke-linecap=\"round\" style=\"stroke:green;stroke-width:4\"/><line x1=\"623.107\" y1=\"172.288\" x2=\"625.526\" y2=\"162.585\" stroke-linecap=\"round\" style=\"stroke:green;stroke-width:4\"/><line x1=\"625.526\" y1=\"162.585\" x2=\"627.945\" y2=\"152.882\" stroke-linecap=\"round\" style=\"stroke:green;stroke-width:4\"/><line x1=\"627.945\" y1=\"152.882\" x2=\"630.364\" y2=\"143.179\" stroke-linecap=\"round\" style=\"stroke:green;stroke-width:4\"/><line x1=\"630.364\" y1=\"143.179\" x2=\"632.783\" y2=\"133.476\" stroke-linecap=\"round\" style=\"stroke:green;stroke-width:4\"/><line x1=\"632.783\" y1=\"133.476\" x2=\"635.202\" y2=\"123.773\" stroke-linecap=\"round\" style=\"stroke:green;stroke-width:4\"/><line x1=\"635.202\" y1=\"123.773\" x2=\"637.621\" y2=\"114.07\" stroke-linecap=\"round\" style=\"stroke:green;stroke-width:4\"/><line x1=\"637.621\" y1=\"114.07\" x2=\"640.04\" y2=\"104.367\" stroke-linecap=\"round\" style=\"stroke:green;stroke-width:4\"/><line x1=\"640.04\" y1=\"104.367\" x2=\"642.459\" y2=\"94.664\" stroke-linecap=\"round\" style=\"stroke:green;stroke-width:4\"/><line x1=\"642.459\" y1=\"94.664\" x2=\"644.878\" y2=\"84.961\" stroke-linecap=\"round\" style=\"stroke:green;stroke-width:4\"/><line x1=\"644.878\" y1=\"84.961\" x2=\"647.297\" y2=\"75.258\" stroke-linecap=\"round\" style=\"stroke:green;stroke-width:4\"/><line x1=\"647.297\" y1=\"75.258\" x2=\"647.915\" y2=\"73.356\" stroke-linecap=\"round\" style=\"stroke:green;stroke-width:4\"/><line x1=\"647.915\" y1=\"73.356\" x2=\"648.664\" y2=\"71.502\" stroke-linecap=\"round\" style=\"stroke:green;stroke-width:4\"/><line x1=\"648.664\" y1=\"71.502\" x2=\"649.541\" y2=\"69.704\" stroke-linecap=\"round\" style=\"stroke:green;stroke-width:4\"/><line x1=\"649.541\" y1=\"69.704\" x2=\"650.541\" y2=\"67.972\" stroke-linecap=\"round\" style=\"stroke:green;stroke-width:4\"/><line x1=\"650.541\" y1=\"67.972\" x2=\"651.659\" y2=\"66.314\" stroke-linecap=\"round\" style=\"stroke:green;stroke-width:4\"/><line x1=\"651.659\" y1=\"66.314\" x2=\"652.89\" y2=\"64.738\" stroke-linecap=\"round\" style=\"stroke:green;stroke-width:4\"/><line x1=\"652.89\" y1=\"64.738\" x2=\"654.228\" y2=\"63.252\" stroke-linecap=\"round\" style=\"stroke:green;stroke-width:4\"/><line x1=\"654.228\" y1=\"63.252\" x2=\"655.667\" y2=\"61.863\" stroke-linecap=\"round\" style=\"stroke:green;stroke-width:4\"/><line x1=\"655.667\" y1=\"61.863\" x2=\"657.199\" y2=\"60.577\" stroke-linecap=\"round\" style=\"stroke:green;stroke-width:4\"/><line x1=\"657.199\" y1=\"60.577\" x2=\"658.817\" y2=\"59.401\" stroke-linecap=\"round\" style=\"stroke:green;stroke-width:4\"/><line x1=\"658.817\" y1=\"59.401\" x2=\"666.907\" y2=\"53.523\" stroke-linecap=\"round\" style=\"stroke:green;stroke-width:4\"/><line x1=\"666.907\" y1=\"53.523\" x2=\"674.997\" y2=\"47.645\" stroke-linecap=\"round\" style=\"stroke:green;stroke-width:4\"/><line x1=\"674.997\" y1=\"47.645\" x2=\"683.087\" y2=\"41.767\" stroke-linecap=\"round\" style=\"stroke:green;stroke-width:4\"/><line x1=\"683.087\" y1=\"41.767\" x2=\"691.177\" y2=\"35.889\" stroke-linecap=\"round\" style=\"stroke:green;stroke-width:4\"/><line x1=\"691.177\" y1=\"35.889\" x2=\"699.267\" y2=\"30.011\" stroke-linecap=\"round\" style=\"stroke:green;stroke-width:4\"/><line x1=\"699.267\" y1=\"30.011\" x2=\"707.357\" y2=\"24.133\" stroke-linecap=\"round\" style=\"stroke:green;stroke-width:4\"/><line x1=\"707.357\" y1=\"24.133\" x2=\"715.447\" y2=\"18.255\" stroke-linecap=\"round\" style=\"stroke:green;stroke-width:4\"/><line x1=\"715.447\" y1=\"18.255\" x2=\"715.447\" y2=\"20\" stroke-linecap=\"round\" style=\"stroke:green;stroke-width:4\"/><line x1=\"715.447\" y1=\"20\" x2=\"716.979\" y2=\"18.714\" stroke-linecap=\"round\" style=\"stroke:red;stroke-width:4\"/><line x1=\"716.979\" y1=\"18.714\" x2=\"716.979\" y2=\"20\" stroke-linecap=\"round\" style=\"stroke:red;stroke-width:4\"/><line x1=\"716.979\" y1=\"20\" x2=\"717.188\" y2=\"18.011\" stroke-linecap=\"round\" style=\"stroke:red;stroke-width:4\"/><line x1=\"717.188\" y1=\"18.011\" x2=\"717.188\" y2=\"20\" stroke-linecap=\"round\" style=\"stroke:red;stroke-width:4\"/><line x1=\"717.188\" y1=\"20\" x2=\"711.596\" y2=\"11.71\" stroke-linecap=\"round\" style=\"stroke:red;stroke-width:4\"/><line x1=\"711.596\" y1=\"11.71\" x2=\"711.596\" y2=\"20\" stroke-linecap=\"round\" style=\"stroke:red;stroke-width:4\"/><line x1=\"711.596\" y1=\"20\" x2=\"710.365\" y2=\"18.424\" stroke-linecap=\"round\" style=\"stroke:red;stroke-width:4\"/><line x1=\"710.365\" y1=\"18.424\" x2=\"710.365\" y2=\"20\" stroke-linecap=\"round\" style=\"stroke:red;stroke-width:4\"/><line x1=\"710.365\" y1=\"20\" x2=\"708.384\" y2=\"19.722\" stroke-linecap=\"round\" style=\"stroke:red;stroke-width:4\"/><line x1=\"708.384\" y1=\"19.722\" x2=\"708.384\" y2=\"20\" stroke-linecap=\"round\" style=\"stroke:red;stroke-width:4\"/><line x1=\"708.384\" y1=\"20\" x2=\"706.766\" y2=\"21.176\" stroke-linecap=\"round\" style=\"stroke:red;stroke-width:4\"/><line x1=\"706.766\" y1=\"21.176\" x2=\"705.234\" y2=\"22.462\" stroke-linecap=\"round\" style=\"stroke:green;stroke-width:4\"/><line x1=\"705.234\" y1=\"22.462\" x2=\"703.795\" y2=\"23.851\" stroke-linecap=\"round\" style=\"stroke:green;stroke-width:4\"/><line x1=\"703.795\" y1=\"23.851\" x2=\"702.457\" y2=\"25.337\" stroke-linecap=\"round\" style=\"stroke:green;stroke-width:4\"/><line x1=\"702.457\" y1=\"25.337\" x2=\"701.226\" y2=\"26.913\" stroke-linecap=\"round\" style=\"stroke:green;stroke-width:4\"/><line x1=\"701.226\" y1=\"26.913\" x2=\"700.108\" y2=\"28.571\" stroke-linecap=\"round\" style=\"stroke:green;stroke-width:4\"/><line x1=\"700.108\" y1=\"28.571\" x2=\"699.108\" y2=\"30.303\" stroke-linecap=\"round\" style=\"stroke:green;stroke-width:4\"/><line x1=\"699.108\" y1=\"30.303\" x2=\"698.231\" y2=\"32.101\" stroke-linecap=\"round\" style=\"stroke:green;stroke-width:4\"/><line x1=\"698.231\" y1=\"32.101\" x2=\"697.482\" y2=\"33.955\" stroke-linecap=\"round\" style=\"stroke:green;stroke-width:4\"/><line x1=\"697.482\" y1=\"33.955\" x2=\"696.864\" y2=\"35.857\" stroke-linecap=\"round\" style=\"stroke:green;stroke-width:4\"/><line x1=\"696.864\" y1=\"35.857\" x2=\"693.774\" y2=\"45.368\" stroke-linecap=\"round\" style=\"stroke:green;stroke-width:4\"/><line x1=\"693.774\" y1=\"45.368\" x2=\"690.684\" y2=\"54.879\" stroke-linecap=\"round\" style=\"stroke:green;stroke-width:4\"/><line x1=\"690.684\" y1=\"54.879\" x2=\"687.594\" y2=\"64.39\" stroke-linecap=\"round\" style=\"stroke:green;stroke-width:4\"/><line x1=\"687.594\" y1=\"64.39\" x2=\"684.504\" y2=\"73.901\" stroke-linecap=\"round\" style=\"stroke:green;stroke-width:4\"/><line x1=\"684.504\" y1=\"73.901\" x2=\"681.414\" y2=\"83.412\" stroke-linecap=\"round\" style=\"stroke:green;stroke-width:4\"/><line x1=\"681.414\" y1=\"83.412\" x2=\"678.324\" y2=\"92.923\" stroke-linecap=\"round\" style=\"stroke:green;stroke-width:4\"/><line x1=\"678.324\" y1=\"92.923\" x2=\"675.234\" y2=\"102.434\" stroke-linecap=\"round\" style=\"stroke:green;stroke-width:4\"/><line x1=\"675.234\" y1=\"102.434\" x2=\"672.144\" y2=\"111.945\" stroke-linecap=\"round\" style=\"stroke:green;stroke-width:4\"/><line x1=\"672.144\" y1=\"111.945\" x2=\"669.054\" y2=\"121.456\" stroke-linecap=\"round\" style=\"stroke:green;stroke-width:4\"/><line x1=\"669.054\" y1=\"121.456\" x2=\"665.964\" y2=\"130.967\" stroke-linecap=\"round\" style=\"stroke:green;stroke-width:4\"/><line x1=\"665.964\" y1=\"130.967\" x2=\"662.874\" y2=\"140.478\" stroke-linecap=\"round\" style=\"stroke:green;stroke-width:4\"/><line x1=\"662.874\" y1=\"140.478\" x2=\"659.784\" y2=\"149.989\" stroke-linecap=\"round\" style=\"stroke:green;stroke-width:4\"/><line x1=\"659.784\" y1=\"149.989\" x2=\"656.694\" y2=\"159.5\" stroke-linecap=\"round\" style=\"stroke:green;stroke-width:4\"/><line x1=\"656.694\" y1=\"159.5\" x2=\"653.604\" y2=\"169.011\" stroke-linecap=\"round\" style=\"stroke:green;stroke-width:4\"/><line x1=\"653.604\" y1=\"169.011\" x2=\"650.514\" y2=\"178.522\" stroke-linecap=\"round\" style=\"stroke:green;stroke-width:4\"/><line x1=\"650.514\" y1=\"178.522\" x2=\"647.424\" y2=\"188.033\" stroke-linecap=\"round\" style=\"stroke:green;stroke-width:4\"/><line x1=\"647.424\" y1=\"188.033\" x2=\"644.334\" y2=\"197.544\" stroke-linecap=\"round\" style=\"stroke:green;stroke-width:4\"/><line x1=\"644.334\" y1=\"197.544\" x2=\"641.244\" y2=\"207.055\" stroke-linecap=\"round\" style=\"stroke:green;stroke-width:4\"/><line x1=\"641.244\" y1=\"207.055\" x2=\"638.154\" y2=\"216.566\" stroke-linecap=\"round\" style=\"stroke:green;stroke-width:4\"/><line x1=\"638.154\" y1=\"216.566\" x2=\"635.064\" y2=\"226.077\" stroke-linecap=\"round\" style=\"stroke:green;stroke-width:4\"/>\n",
       "        <g visibility=visible transform=\"rotate(198,635.064,226.077) translate(617.064, 208.077)\">\n",
       "<path style=\" stroke:none;fill-rule:evenodd;fill:green;fill-opacity:1;\" d=\"M 18.214844 0.632812 C 16.109375 1.800781 15.011719 4.074219 15.074219 7.132812 L 15.085938 7.652344 L 14.785156 7.496094 C 13.476562 6.824219 11.957031 6.671875 10.40625 7.066406 C 8.46875 7.550781 6.515625 9.15625 4.394531 11.992188 C 3.0625 13.777344 2.679688 14.636719 3.042969 15.027344 L 3.15625 15.152344 L 3.519531 15.152344 C 4.238281 15.152344 4.828125 14.886719 8.1875 13.039062 C 9.386719 12.378906 10.371094 11.839844 10.378906 11.839844 C 10.386719 11.839844 10.355469 11.929688 10.304688 12.035156 C 9.832031 13.09375 9.257812 14.820312 8.96875 16.078125 C 7.914062 20.652344 8.617188 24.53125 11.070312 27.660156 C 11.351562 28.015625 11.363281 27.914062 10.972656 28.382812 C 8.925781 30.84375 7.945312 33.28125 8.238281 35.1875 C 8.289062 35.527344 8.28125 35.523438 8.917969 35.523438 C 10.941406 35.523438 13.074219 34.207031 15.136719 31.6875 C 15.359375 31.417969 15.328125 31.425781 15.5625 31.574219 C 16.292969 32.042969 18.023438 32.964844 18.175781 32.964844 C 18.335938 32.964844 19.941406 32.210938 20.828125 31.71875 C 20.996094 31.625 21.136719 31.554688 21.136719 31.558594 C 21.203125 31.664062 21.898438 32.414062 22.222656 32.730469 C 23.835938 34.300781 25.5625 35.132812 27.582031 35.300781 C 27.90625 35.328125 27.9375 35.308594 28.007812 34.984375 C 28.382812 33.242188 27.625 30.925781 25.863281 28.425781 L 25.542969 27.96875 L 25.699219 27.785156 C 28.945312 23.960938 29.132812 18.699219 26.257812 11.96875 L 26.207031 11.84375 L 27.945312 12.703125 C 31.53125 14.476562 32.316406 14.800781 33.03125 14.800781 C 33.976562 14.800781 33.78125 13.9375 32.472656 12.292969 C 28.519531 7.355469 25.394531 5.925781 21.921875 7.472656 L 21.558594 7.636719 L 21.578125 7.542969 C 21.699219 6.992188 21.761719 5.742188 21.699219 5.164062 C 21.496094 3.296875 20.664062 1.964844 19.003906 0.855469 C 18.480469 0.503906 18.457031 0.5 18.214844 0.632812\"/>\n",
       "</g>\n",
       "      </svg>\n",
       "    "
      ],
      "text/plain": [
       "<IPython.core.display.HTML object>"
      ]
     },
     "metadata": {},
     "output_type": "display_data"
    },
    {
     "name": "stdout",
     "output_type": "stream",
     "text": [
      "Action: 0, Prediction: 0, Outcome: 0, Prediction: True, Valence: 1,\n",
      "Action: 0, Prediction: 0, Outcome: 0, Prediction: True, Valence: 1,\n",
      "Action: 0, Prediction: 0, Outcome: 0, Prediction: True, Valence: 1,\n",
      "Action: 0, Prediction: 0, Outcome: 0, Prediction: True, Valence: 1,\n",
      "Action: 2, Prediction: 0, Outcome: 0, Prediction: True, Valence: -1,\n",
      "Action: 0, Prediction: 0, Outcome: 1, Prediction: False, Valence: 0,\n",
      "Action: 1, Prediction: 0, Outcome: 1, Prediction: False, Valence: 1,\n",
      "Action: 1, Prediction: 0, Outcome: 1, Prediction: False, Valence: 1,\n",
      "Action: 1, Prediction: 1, Outcome: 1, Prediction: True, Valence: 1,\n",
      "Action: 1, Prediction: 1, Outcome: 0, Prediction: False, Valence: -1,\n",
      "Action: 0, Prediction: 0, Outcome: 0, Prediction: True, Valence: 1,\n",
      "Action: 0, Prediction: 0, Outcome: 0, Prediction: True, Valence: 1,\n",
      "Action: 0, Prediction: 0, Outcome: 0, Prediction: True, Valence: 1,\n",
      "Action: 0, Prediction: 0, Outcome: 1, Prediction: False, Valence: 0,\n",
      "Action: 1, Prediction: 1, Outcome: 1, Prediction: True, Valence: 1,\n",
      "Action: 1, Prediction: 1, Outcome: 0, Prediction: False, Valence: -1,\n",
      "Action: 0, Prediction: 0, Outcome: 0, Prediction: True, Valence: 1,\n",
      "Action: 0, Prediction: 0, Outcome: 0, Prediction: True, Valence: 1,\n",
      "Action: 0, Prediction: 0, Outcome: 0, Prediction: True, Valence: 1,\n",
      "Action: 0, Prediction: 0, Outcome: 0, Prediction: True, Valence: 1,\n",
      "Action: 2, Prediction: 0, Outcome: 0, Prediction: True, Valence: -1,\n",
      "Action: 0, Prediction: 1, Outcome: 0, Prediction: False, Valence: 1,\n",
      "Action: 0, Prediction: 0, Outcome: 1, Prediction: False, Valence: 0,\n",
      "Action: 1, Prediction: 1, Outcome: 1, Prediction: True, Valence: 1,\n",
      "Action: 1, Prediction: 1, Outcome: 1, Prediction: True, Valence: 1,\n",
      "Action: 1, Prediction: 1, Outcome: 1, Prediction: True, Valence: 1,\n",
      "Action: 1, Prediction: 1, Outcome: 0, Prediction: False, Valence: -1,\n",
      "Action: 0, Prediction: 0, Outcome: 0, Prediction: True, Valence: 1,\n",
      "Action: 0, Prediction: 0, Outcome: 0, Prediction: True, Valence: 1,\n",
      "Action: 0, Prediction: 0, Outcome: 0, Prediction: True, Valence: 1,\n",
      "Action: 0, Prediction: 0, Outcome: 0, Prediction: True, Valence: 1,\n",
      "Action: 2, Prediction: 0, Outcome: 0, Prediction: True, Valence: -1,\n",
      "Action: 0, Prediction: 1, Outcome: 0, Prediction: False, Valence: 1,\n",
      "Action: 0, Prediction: 0, Outcome: 1, Prediction: False, Valence: 0,\n",
      "Action: 1, Prediction: 1, Outcome: 1, Prediction: True, Valence: 1,\n",
      "Action: 1, Prediction: 1, Outcome: 1, Prediction: True, Valence: 1,\n",
      "Action: 1, Prediction: 1, Outcome: 0, Prediction: False, Valence: -1,\n",
      "Action: 0, Prediction: 0, Outcome: 0, Prediction: True, Valence: 1,\n",
      "Action: 0, Prediction: 0, Outcome: 0, Prediction: True, Valence: 1,\n",
      "Action: 0, Prediction: 0, Outcome: 0, Prediction: True, Valence: 1,\n",
      "Action: 0, Prediction: 0, Outcome: 0, Prediction: True, Valence: 1,\n",
      "Action: 2, Prediction: 0, Outcome: 0, Prediction: True, Valence: -1,\n",
      "Action: 0, Prediction: 1, Outcome: 1, Prediction: True, Valence: 0,\n",
      "Action: 1, Prediction: 1, Outcome: 1, Prediction: True, Valence: 1,\n",
      "Action: 1, Prediction: 1, Outcome: 1, Prediction: True, Valence: 1,\n",
      "Action: 0, Prediction: 0, Outcome: 1, Prediction: False, Valence: 0,\n",
      "Action: 1, Prediction: 1, Outcome: 1, Prediction: True, Valence: 1,\n",
      "Action: 1, Prediction: 1, Outcome: 1, Prediction: True, Valence: 1,\n",
      "Action: 1, Prediction: 1, Outcome: 0, Prediction: False, Valence: -1,\n",
      "Action: 0, Prediction: 0, Outcome: 0, Prediction: True, Valence: 1,\n"
     ]
    }
   ],
   "source": [
    "# @title Run the turtle environment\n",
    "initializeTurtle()\n",
    "\n",
    "# Parameterize the rendering\n",
    "bgcolor(\"lightGray\")\n",
    "penup()\n",
    "goto(window_width() / 2, window_height()/2)\n",
    "face(0)\n",
    "pendown()\n",
    "color(\"green\")\n",
    "speed(10)\n",
    "\n",
    "a = Agent4(interactions)\n",
    "e = ColabTurtleEnvironment()\n",
    "\n",
    "outcome = 0\n",
    "for i in range(50):\n",
    "    action = a.action(outcome)\n",
    "    outcome = e.outcome(action)"
   ]
  },
  {
   "cell_type": "markdown",
   "id": "ac15a134-34a6-4039-9b43-f8fd76d93b5e",
   "metadata": {},
   "source": [
    "## Report "
   ]
  },
  {
   "cell_type": "markdown",
   "id": "2e661c15-c1ed-4512-a1d9-0fbdb8f91879",
   "metadata": {},
   "source": [
    "Explain what you programmed and what results you observed. Export this document as PDF including your code, the traces you obtained, and your explanations below (no more than a few paragraphs):"
   ]
  },
  {
   "cell_type": "code",
   "execution_count": null,
   "id": "2bbc0899-eee2-404a-baf6-47741067e7d9",
   "metadata": {},
   "outputs": [],
   "source": []
  }
 ],
 "metadata": {
  "kernelspec": {
   "display_name": "p311",
   "language": "python",
   "name": "python3"
  },
  "language_info": {
   "codemirror_mode": {
    "name": "ipython",
    "version": 3
   },
   "file_extension": ".py",
   "mimetype": "text/x-python",
   "name": "python",
   "nbconvert_exporter": "python",
   "pygments_lexer": "ipython3",
   "version": "3.11.9"
  }
 },
 "nbformat": 4,
 "nbformat_minor": 5
}
